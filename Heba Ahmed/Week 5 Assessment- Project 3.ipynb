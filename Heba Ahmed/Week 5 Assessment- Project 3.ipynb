{
 "cells": [
  {
   "cell_type": "markdown",
   "metadata": {},
   "source": [
    "# Project 3: Exploring the UK's milk imports and exports"
   ]
  },
  {
   "cell_type": "markdown",
   "metadata": {},
   "source": [
    "A country's economy depends, sometimes heavily, on its exports and imports. The United Nations Comtrade database provides data on global trade. It will be used to analyse the UK's imports and exports of milk and cream in 2015:\n",
    "\n",
    "How much does the UK export and import and is the balance positive (more exports than imports)?\n",
    "Which are the main trading partners, i.e. from/to which countries does the UK import/export the most?\n",
    "Which are the regular customers, i.e. which countries buy milk from the UK every month?\n",
    "Which countries does the UK both import from and export to?"
   ]
  },
  {
   "cell_type": "code",
   "execution_count": 1,
   "metadata": {},
   "outputs": [],
   "source": [
    "import warnings\n",
    "warnings.simplefilter('ignore', FutureWarning)\n",
    "\n",
    "from pandas import *\n",
    "%matplotlib inline"
   ]
  },
  {
   "cell_type": "markdown",
   "metadata": {},
   "source": [
    "# Getting and preparing the data"
   ]
  },
  {
   "cell_type": "markdown",
   "metadata": {},
   "source": [
    "The data is obtained from the United Nations Comtrade website, by selecting the following configuration:\n",
    "\n",
    "Type of Product: goods\n",
    "Frequency: monthly\n",
    "Periods: January to May of 2015\n",
    "Reporter: United Kingdom\n",
    "Partners: all\n",
    "Flows: imports and exports\n",
    "HS (as reported) commodity codes: 0401 (Milk and cream, neither concentrated nor sweetened) and 0402 (Milk and cream, concentrated or sweetened)\n",
    "Clicking on 'Preview' results in a message that the data exceeds 500 rows. Data was downloaded using the Download CSV button and the download file renamed appropriately."
   ]
  },
  {
   "cell_type": "code",
   "execution_count": 2,
   "metadata": {},
   "outputs": [],
   "source": [
    "LOCATION = 'comtrade_milk_uk_jan_jul_15.csv'"
   ]
  },
  {
   "cell_type": "code",
   "execution_count": 3,
   "metadata": {},
   "outputs": [],
   "source": [
    "# LOCATION = 'http://comtrade.un.org/api/get?max=5000&type=C&freq=M&px=HS&ps=201505%2C201504%2C201503%2C201502%2C201501&r=826&p=all&rg=1%2C2&cc=0401%2C0402&fmt=csv'"
   ]
  },
  {
   "cell_type": "code",
   "execution_count": 4,
   "metadata": {},
   "outputs": [
    {
     "data": {
      "text/html": [
       "<div>\n",
       "<style scoped>\n",
       "    .dataframe tbody tr th:only-of-type {\n",
       "        vertical-align: middle;\n",
       "    }\n",
       "\n",
       "    .dataframe tbody tr th {\n",
       "        vertical-align: top;\n",
       "    }\n",
       "\n",
       "    .dataframe thead th {\n",
       "        text-align: right;\n",
       "    }\n",
       "</style>\n",
       "<table border=\"1\" class=\"dataframe\">\n",
       "  <thead>\n",
       "    <tr style=\"text-align: right;\">\n",
       "      <th></th>\n",
       "      <th>Classification</th>\n",
       "      <th>Year</th>\n",
       "      <th>Period</th>\n",
       "      <th>Period Desc.</th>\n",
       "      <th>Aggregate Level</th>\n",
       "      <th>Is Leaf Code</th>\n",
       "      <th>Trade Flow Code</th>\n",
       "      <th>Trade Flow</th>\n",
       "      <th>Reporter Code</th>\n",
       "      <th>Reporter</th>\n",
       "      <th>...</th>\n",
       "      <th>Qty</th>\n",
       "      <th>Alt Qty Unit Code</th>\n",
       "      <th>Alt Qty Unit</th>\n",
       "      <th>Alt Qty</th>\n",
       "      <th>Netweight (kg)</th>\n",
       "      <th>Gross weight (kg)</th>\n",
       "      <th>Trade Value (US$)</th>\n",
       "      <th>CIF Trade Value (US$)</th>\n",
       "      <th>FOB Trade Value (US$)</th>\n",
       "      <th>Flag</th>\n",
       "    </tr>\n",
       "  </thead>\n",
       "  <tbody>\n",
       "    <tr>\n",
       "      <th>635</th>\n",
       "      <td>HS</td>\n",
       "      <td>2015</td>\n",
       "      <td>201505</td>\n",
       "      <td>May 2015</td>\n",
       "      <td>4</td>\n",
       "      <td>0</td>\n",
       "      <td>2</td>\n",
       "      <td>Exports</td>\n",
       "      <td>826</td>\n",
       "      <td>United Kingdom</td>\n",
       "      <td>...</td>\n",
       "      <td>NaN</td>\n",
       "      <td>NaN</td>\n",
       "      <td>NaN</td>\n",
       "      <td>NaN</td>\n",
       "      <td>2213</td>\n",
       "      <td>NaN</td>\n",
       "      <td>37883</td>\n",
       "      <td>NaN</td>\n",
       "      <td>NaN</td>\n",
       "      <td>0</td>\n",
       "    </tr>\n",
       "    <tr>\n",
       "      <th>636</th>\n",
       "      <td>HS</td>\n",
       "      <td>2015</td>\n",
       "      <td>201505</td>\n",
       "      <td>May 2015</td>\n",
       "      <td>4</td>\n",
       "      <td>0</td>\n",
       "      <td>2</td>\n",
       "      <td>Exports</td>\n",
       "      <td>826</td>\n",
       "      <td>United Kingdom</td>\n",
       "      <td>...</td>\n",
       "      <td>NaN</td>\n",
       "      <td>NaN</td>\n",
       "      <td>NaN</td>\n",
       "      <td>NaN</td>\n",
       "      <td>1588</td>\n",
       "      <td>NaN</td>\n",
       "      <td>5676</td>\n",
       "      <td>NaN</td>\n",
       "      <td>NaN</td>\n",
       "      <td>0</td>\n",
       "    </tr>\n",
       "  </tbody>\n",
       "</table>\n",
       "<p>2 rows × 35 columns</p>\n",
       "</div>"
      ],
      "text/plain": [
       "    Classification  Year  Period Period Desc.  Aggregate Level  Is Leaf Code  \\\n",
       "635             HS  2015  201505     May 2015                4             0   \n",
       "636             HS  2015  201505     May 2015                4             0   \n",
       "\n",
       "     Trade Flow Code Trade Flow  Reporter Code        Reporter  ...  Qty  \\\n",
       "635                2    Exports            826  United Kingdom  ...  NaN   \n",
       "636                2    Exports            826  United Kingdom  ...  NaN   \n",
       "\n",
       "     Alt Qty Unit Code Alt Qty Unit  Alt Qty  Netweight (kg)  \\\n",
       "635                NaN          NaN      NaN            2213   \n",
       "636                NaN          NaN      NaN            1588   \n",
       "\n",
       "     Gross weight (kg)  Trade Value (US$)  CIF Trade Value (US$)  \\\n",
       "635                NaN              37883                    NaN   \n",
       "636                NaN               5676                    NaN   \n",
       "\n",
       "     FOB Trade Value (US$)  Flag  \n",
       "635                    NaN     0  \n",
       "636                    NaN     0  \n",
       "\n",
       "[2 rows x 35 columns]"
      ]
     },
     "execution_count": 4,
     "metadata": {},
     "output_type": "execute_result"
    }
   ],
   "source": [
    "milk = read_csv(LOCATION, dtype={'Commodity Code':str})\n",
    "milk.tail(2)"
   ]
  },
  {
   "cell_type": "code",
   "execution_count": 5,
   "metadata": {},
   "outputs": [
    {
     "data": {
      "text/html": [
       "<div>\n",
       "<style scoped>\n",
       "    .dataframe tbody tr th:only-of-type {\n",
       "        vertical-align: middle;\n",
       "    }\n",
       "\n",
       "    .dataframe tbody tr th {\n",
       "        vertical-align: top;\n",
       "    }\n",
       "\n",
       "    .dataframe thead th {\n",
       "        text-align: right;\n",
       "    }\n",
       "</style>\n",
       "<table border=\"1\" class=\"dataframe\">\n",
       "  <thead>\n",
       "    <tr style=\"text-align: right;\">\n",
       "      <th></th>\n",
       "      <th>Period</th>\n",
       "      <th>Partner</th>\n",
       "      <th>Trade Flow</th>\n",
       "      <th>Milk and cream</th>\n",
       "      <th>Trade Value (US$)</th>\n",
       "    </tr>\n",
       "  </thead>\n",
       "  <tbody>\n",
       "    <tr>\n",
       "      <th>0</th>\n",
       "      <td>201501</td>\n",
       "      <td>World</td>\n",
       "      <td>Imports</td>\n",
       "      <td>unprocessed</td>\n",
       "      <td>14104602</td>\n",
       "    </tr>\n",
       "    <tr>\n",
       "      <th>1</th>\n",
       "      <td>201501</td>\n",
       "      <td>World</td>\n",
       "      <td>Exports</td>\n",
       "      <td>unprocessed</td>\n",
       "      <td>26259792</td>\n",
       "    </tr>\n",
       "    <tr>\n",
       "      <th>2</th>\n",
       "      <td>201501</td>\n",
       "      <td>Australia</td>\n",
       "      <td>Exports</td>\n",
       "      <td>unprocessed</td>\n",
       "      <td>50331</td>\n",
       "    </tr>\n",
       "    <tr>\n",
       "      <th>3</th>\n",
       "      <td>201501</td>\n",
       "      <td>Austria</td>\n",
       "      <td>Exports</td>\n",
       "      <td>unprocessed</td>\n",
       "      <td>360</td>\n",
       "    </tr>\n",
       "    <tr>\n",
       "      <th>4</th>\n",
       "      <td>201501</td>\n",
       "      <td>Belgium</td>\n",
       "      <td>Imports</td>\n",
       "      <td>unprocessed</td>\n",
       "      <td>1424271</td>\n",
       "    </tr>\n",
       "  </tbody>\n",
       "</table>\n",
       "</div>"
      ],
      "text/plain": [
       "   Period    Partner Trade Flow Milk and cream  Trade Value (US$)\n",
       "0  201501      World    Imports    unprocessed           14104602\n",
       "1  201501      World    Exports    unprocessed           26259792\n",
       "2  201501  Australia    Exports    unprocessed              50331\n",
       "3  201501    Austria    Exports    unprocessed                360\n",
       "4  201501    Belgium    Imports    unprocessed            1424271"
      ]
     },
     "execution_count": 5,
     "metadata": {},
     "output_type": "execute_result"
    }
   ],
   "source": [
    "def milkType(code):\n",
    "    if code == '0401': # neither concentrated nor sweetened\n",
    "        return 'unprocessed'\n",
    "    if code == '0402': # concentrated or sweetened\n",
    "        return 'processed' \n",
    "    return 'unknown'\n",
    "\n",
    "COMMODITY = 'Milk and cream'\n",
    "milk[COMMODITY] = milk['Commodity Code'].apply(milkType)\n",
    "MONTH = 'Period'\n",
    "PARTNER = 'Partner'\n",
    "FLOW = 'Trade Flow'\n",
    "VALUE = 'Trade Value (US$)'\n",
    "headings = [MONTH, PARTNER, FLOW, COMMODITY, VALUE]\n",
    "milk = milk[headings]\n",
    "milk.head()"
   ]
  },
  {
   "cell_type": "code",
   "execution_count": 6,
   "metadata": {},
   "outputs": [
    {
     "data": {
      "text/html": [
       "<div>\n",
       "<style scoped>\n",
       "    .dataframe tbody tr th:only-of-type {\n",
       "        vertical-align: middle;\n",
       "    }\n",
       "\n",
       "    .dataframe tbody tr th {\n",
       "        vertical-align: top;\n",
       "    }\n",
       "\n",
       "    .dataframe thead th {\n",
       "        text-align: right;\n",
       "    }\n",
       "</style>\n",
       "<table border=\"1\" class=\"dataframe\">\n",
       "  <thead>\n",
       "    <tr style=\"text-align: right;\">\n",
       "      <th></th>\n",
       "      <th>Period</th>\n",
       "      <th>Partner</th>\n",
       "      <th>Trade Flow</th>\n",
       "      <th>Milk and cream</th>\n",
       "      <th>Trade Value (US$)</th>\n",
       "    </tr>\n",
       "  </thead>\n",
       "  <tbody>\n",
       "    <tr>\n",
       "      <th>2</th>\n",
       "      <td>201501</td>\n",
       "      <td>Australia</td>\n",
       "      <td>Exports</td>\n",
       "      <td>unprocessed</td>\n",
       "      <td>50331</td>\n",
       "    </tr>\n",
       "    <tr>\n",
       "      <th>3</th>\n",
       "      <td>201501</td>\n",
       "      <td>Austria</td>\n",
       "      <td>Exports</td>\n",
       "      <td>unprocessed</td>\n",
       "      <td>360</td>\n",
       "    </tr>\n",
       "    <tr>\n",
       "      <th>4</th>\n",
       "      <td>201501</td>\n",
       "      <td>Belgium</td>\n",
       "      <td>Imports</td>\n",
       "      <td>unprocessed</td>\n",
       "      <td>1424271</td>\n",
       "    </tr>\n",
       "    <tr>\n",
       "      <th>5</th>\n",
       "      <td>201501</td>\n",
       "      <td>Belgium</td>\n",
       "      <td>Exports</td>\n",
       "      <td>unprocessed</td>\n",
       "      <td>996031</td>\n",
       "    </tr>\n",
       "    <tr>\n",
       "      <th>6</th>\n",
       "      <td>201501</td>\n",
       "      <td>Bulgaria</td>\n",
       "      <td>Exports</td>\n",
       "      <td>unprocessed</td>\n",
       "      <td>191</td>\n",
       "    </tr>\n",
       "  </tbody>\n",
       "</table>\n",
       "</div>"
      ],
      "text/plain": [
       "   Period    Partner Trade Flow Milk and cream  Trade Value (US$)\n",
       "2  201501  Australia    Exports    unprocessed              50331\n",
       "3  201501    Austria    Exports    unprocessed                360\n",
       "4  201501    Belgium    Imports    unprocessed            1424271\n",
       "5  201501    Belgium    Exports    unprocessed             996031\n",
       "6  201501   Bulgaria    Exports    unprocessed                191"
      ]
     },
     "execution_count": 6,
     "metadata": {},
     "output_type": "execute_result"
    }
   ],
   "source": [
    "milk = milk[milk[PARTNER] != 'World']\n",
    "milk.head()"
   ]
  },
  {
   "cell_type": "code",
   "execution_count": 7,
   "metadata": {},
   "outputs": [
    {
     "data": {
      "text/plain": [
       "Trade Flow\n",
       "Exports    265029661\n",
       "Imports    156483978\n",
       "Name: Trade Value (US$), dtype: int64"
      ]
     },
     "execution_count": 7,
     "metadata": {},
     "output_type": "execute_result"
    }
   ],
   "source": [
    "grouped = milk.groupby([FLOW])\n",
    "grouped[VALUE].aggregate(sum)"
   ]
  },
  {
   "cell_type": "markdown",
   "metadata": {},
   "source": [
    "# Main trade partners¶"
   ]
  },
  {
   "cell_type": "markdown",
   "metadata": {},
   "source": [
    "To address the second question, 'Which are the main trading partners, i.e. from/to which countries does the UK import/export the most?', the dataframe is split by country instead, and then each group aggregated for the total trade value. This is done separately for imports and exports. The result is sorted in descending order so that the main partners are at the top."
   ]
  },
  {
   "cell_type": "code",
   "execution_count": 8,
   "metadata": {},
   "outputs": [
    {
     "name": "stdout",
     "output_type": "stream",
     "text": [
      "The UK imports from 21 countries.\n",
      "The 5 biggest exporters to the UK are:\n"
     ]
    },
    {
     "data": {
      "text/plain": [
       "Partner\n",
       "Ireland        46263897\n",
       "France         28314091\n",
       "Germany        21899123\n",
       "Netherlands    17658912\n",
       "Belgium        14325697\n",
       "Name: Trade Value (US$), dtype: int64"
      ]
     },
     "execution_count": 8,
     "metadata": {},
     "output_type": "execute_result"
    }
   ],
   "source": [
    "imports = milk[milk[FLOW] == 'Imports']\n",
    "grouped = imports.groupby([PARTNER])\n",
    "print('The UK imports from', len(grouped), 'countries.')\n",
    "print('The 5 biggest exporters to the UK are:')\n",
    "totalImports = grouped[VALUE].aggregate(sum).sort_values(inplace=False,ascending=False)\n",
    "totalImports.head()"
   ]
  },
  {
   "cell_type": "code",
   "execution_count": 11,
   "metadata": {},
   "outputs": [
    {
     "data": {
      "text/plain": [
       "<AxesSubplot:ylabel='Partner'>"
      ]
     },
     "execution_count": 11,
     "metadata": {},
     "output_type": "execute_result"
    },
    {
     "data": {
      "image/png": "[encoded data removed]",
      "text/plain": [
       "<Figure size 432x288 with 1 Axes>"
      ]
     },
     "metadata": {
      "needs_background": "light"
     },
     "output_type": "display_data"
    }
   ],
   "source": [
    "totalImports.head(10).plot(kind='barh')"
   ]
  },
  {
   "cell_type": "code",
   "execution_count": 10,
   "metadata": {},
   "outputs": [
    {
     "name": "stdout",
     "output_type": "stream",
     "text": [
      "The UK exports to 107 countries.\n",
      "The 5 biggest importers from the UK are:\n"
     ]
    },
    {
     "data": {
      "text/plain": [
       "Partner\n",
       "Ireland                 128155891\n",
       "Netherlands              18018603\n",
       "China                    14111163\n",
       "Germany                  10828464\n",
       "China, Hong Kong SAR      9482458\n",
       "Name: Trade Value (US$), dtype: int64"
      ]
     },
     "execution_count": 10,
     "metadata": {},
     "output_type": "execute_result"
    }
   ],
   "source": [
    "exports = milk[milk[FLOW] == 'Exports']\n",
    "grouped = exports.groupby([PARTNER])\n",
    "print('The UK exports to', len(grouped), 'countries.')\n",
    "print('The 5 biggest importers from the UK are:')\n",
    "grouped[VALUE].aggregate(sum).sort_values(ascending=False,inplace=False).head()"
   ]
  },
  {
   "cell_type": "markdown",
   "metadata": {},
   "source": [
    "# Regular importers"
   ]
  },
  {
   "cell_type": "code",
   "execution_count": 12,
   "metadata": {},
   "outputs": [
    {
     "data": {
      "text/html": [
       "<div>\n",
       "<style scoped>\n",
       "    .dataframe tbody tr th:only-of-type {\n",
       "        vertical-align: middle;\n",
       "    }\n",
       "\n",
       "    .dataframe tbody tr th {\n",
       "        vertical-align: top;\n",
       "    }\n",
       "\n",
       "    .dataframe thead th {\n",
       "        text-align: right;\n",
       "    }\n",
       "</style>\n",
       "<table border=\"1\" class=\"dataframe\">\n",
       "  <thead>\n",
       "    <tr style=\"text-align: right;\">\n",
       "      <th></th>\n",
       "      <th>Period</th>\n",
       "      <th>Partner</th>\n",
       "      <th>Trade Flow</th>\n",
       "      <th>Milk and cream</th>\n",
       "      <th>Trade Value (US$)</th>\n",
       "    </tr>\n",
       "  </thead>\n",
       "  <tbody>\n",
       "    <tr>\n",
       "      <th>268</th>\n",
       "      <td>201501</td>\n",
       "      <td>Belgium</td>\n",
       "      <td>Exports</td>\n",
       "      <td>processed</td>\n",
       "      <td>142610</td>\n",
       "    </tr>\n",
       "    <tr>\n",
       "      <th>271</th>\n",
       "      <td>201501</td>\n",
       "      <td>China</td>\n",
       "      <td>Exports</td>\n",
       "      <td>processed</td>\n",
       "      <td>1013141</td>\n",
       "    </tr>\n",
       "    <tr>\n",
       "      <th>275</th>\n",
       "      <td>201501</td>\n",
       "      <td>Cyprus</td>\n",
       "      <td>Exports</td>\n",
       "      <td>processed</td>\n",
       "      <td>6625</td>\n",
       "    </tr>\n",
       "    <tr>\n",
       "      <th>280</th>\n",
       "      <td>201501</td>\n",
       "      <td>Denmark</td>\n",
       "      <td>Exports</td>\n",
       "      <td>processed</td>\n",
       "      <td>107883</td>\n",
       "    </tr>\n",
       "    <tr>\n",
       "      <th>284</th>\n",
       "      <td>201501</td>\n",
       "      <td>France</td>\n",
       "      <td>Exports</td>\n",
       "      <td>processed</td>\n",
       "      <td>178262</td>\n",
       "    </tr>\n",
       "    <tr>\n",
       "      <th>287</th>\n",
       "      <td>201501</td>\n",
       "      <td>Germany</td>\n",
       "      <td>Exports</td>\n",
       "      <td>processed</td>\n",
       "      <td>2588380</td>\n",
       "    </tr>\n",
       "    <tr>\n",
       "      <th>292</th>\n",
       "      <td>201501</td>\n",
       "      <td>China, Hong Kong SAR</td>\n",
       "      <td>Exports</td>\n",
       "      <td>processed</td>\n",
       "      <td>1110086</td>\n",
       "    </tr>\n",
       "    <tr>\n",
       "      <th>294</th>\n",
       "      <td>201501</td>\n",
       "      <td>Hungary</td>\n",
       "      <td>Exports</td>\n",
       "      <td>processed</td>\n",
       "      <td>2119</td>\n",
       "    </tr>\n",
       "    <tr>\n",
       "      <th>298</th>\n",
       "      <td>201501</td>\n",
       "      <td>Ireland</td>\n",
       "      <td>Exports</td>\n",
       "      <td>processed</td>\n",
       "      <td>4020981</td>\n",
       "    </tr>\n",
       "    <tr>\n",
       "      <th>300</th>\n",
       "      <td>201501</td>\n",
       "      <td>Italy</td>\n",
       "      <td>Exports</td>\n",
       "      <td>processed</td>\n",
       "      <td>23267</td>\n",
       "    </tr>\n",
       "    <tr>\n",
       "      <th>311</th>\n",
       "      <td>201501</td>\n",
       "      <td>Malta</td>\n",
       "      <td>Exports</td>\n",
       "      <td>processed</td>\n",
       "      <td>1403</td>\n",
       "    </tr>\n",
       "    <tr>\n",
       "      <th>314</th>\n",
       "      <td>201501</td>\n",
       "      <td>Netherlands</td>\n",
       "      <td>Exports</td>\n",
       "      <td>processed</td>\n",
       "      <td>3788929</td>\n",
       "    </tr>\n",
       "    <tr>\n",
       "      <th>317</th>\n",
       "      <td>201501</td>\n",
       "      <td>Poland</td>\n",
       "      <td>Exports</td>\n",
       "      <td>processed</td>\n",
       "      <td>10145</td>\n",
       "    </tr>\n",
       "    <tr>\n",
       "      <th>319</th>\n",
       "      <td>201501</td>\n",
       "      <td>Portugal</td>\n",
       "      <td>Exports</td>\n",
       "      <td>processed</td>\n",
       "      <td>3165</td>\n",
       "    </tr>\n",
       "    <tr>\n",
       "      <th>327</th>\n",
       "      <td>201501</td>\n",
       "      <td>Spain</td>\n",
       "      <td>Exports</td>\n",
       "      <td>processed</td>\n",
       "      <td>10107</td>\n",
       "    </tr>\n",
       "    <tr>\n",
       "      <th>329</th>\n",
       "      <td>201501</td>\n",
       "      <td>Sweden</td>\n",
       "      <td>Exports</td>\n",
       "      <td>processed</td>\n",
       "      <td>1739</td>\n",
       "    </tr>\n",
       "    <tr>\n",
       "      <th>332</th>\n",
       "      <td>201501</td>\n",
       "      <td>United Arab Emirates</td>\n",
       "      <td>Exports</td>\n",
       "      <td>processed</td>\n",
       "      <td>417480</td>\n",
       "    </tr>\n",
       "  </tbody>\n",
       "</table>\n",
       "</div>"
      ],
      "text/plain": [
       "     Period               Partner Trade Flow Milk and cream  Trade Value (US$)\n",
       "268  201501               Belgium    Exports      processed             142610\n",
       "271  201501                 China    Exports      processed            1013141\n",
       "275  201501                Cyprus    Exports      processed               6625\n",
       "280  201501               Denmark    Exports      processed             107883\n",
       "284  201501                France    Exports      processed             178262\n",
       "287  201501               Germany    Exports      processed            2588380\n",
       "292  201501  China, Hong Kong SAR    Exports      processed            1110086\n",
       "294  201501               Hungary    Exports      processed               2119\n",
       "298  201501               Ireland    Exports      processed            4020981\n",
       "300  201501                 Italy    Exports      processed              23267\n",
       "311  201501                 Malta    Exports      processed               1403\n",
       "314  201501           Netherlands    Exports      processed            3788929\n",
       "317  201501                Poland    Exports      processed              10145\n",
       "319  201501              Portugal    Exports      processed               3165\n",
       "327  201501                 Spain    Exports      processed              10107\n",
       "329  201501                Sweden    Exports      processed               1739\n",
       "332  201501  United Arab Emirates    Exports      processed             417480"
      ]
     },
     "execution_count": 12,
     "metadata": {},
     "output_type": "execute_result"
    }
   ],
   "source": [
    "def buysEveryMonth(group):\n",
    "    return len(group) == 10\n",
    "\n",
    "grouped = exports.groupby([PARTNER])\n",
    "regular = grouped.filter(buysEveryMonth)\n",
    "regular[(regular[MONTH] == 201501) & (regular[COMMODITY] == 'processed')]"
   ]
  },
  {
   "cell_type": "code",
   "execution_count": 13,
   "metadata": {},
   "outputs": [
    {
     "data": {
      "text/plain": [
       "0.7583526396315317"
      ]
     },
     "execution_count": 13,
     "metadata": {},
     "output_type": "execute_result"
    }
   ],
   "source": [
    "regular[VALUE].sum() / exports[VALUE].sum()\n"
   ]
  },
  {
   "cell_type": "markdown",
   "metadata": {},
   "source": [
    "# Bi-directional trade"
   ]
  },
  {
   "cell_type": "code",
   "execution_count": 14,
   "metadata": {},
   "outputs": [
    {
     "data": {
      "text/html": [
       "<div>\n",
       "<style scoped>\n",
       "    .dataframe tbody tr th:only-of-type {\n",
       "        vertical-align: middle;\n",
       "    }\n",
       "\n",
       "    .dataframe tbody tr th {\n",
       "        vertical-align: top;\n",
       "    }\n",
       "\n",
       "    .dataframe thead th {\n",
       "        text-align: right;\n",
       "    }\n",
       "</style>\n",
       "<table border=\"1\" class=\"dataframe\">\n",
       "  <thead>\n",
       "    <tr style=\"text-align: right;\">\n",
       "      <th>Trade Flow</th>\n",
       "      <th>Exports</th>\n",
       "      <th>Imports</th>\n",
       "    </tr>\n",
       "    <tr>\n",
       "      <th>Partner</th>\n",
       "      <th></th>\n",
       "      <th></th>\n",
       "    </tr>\n",
       "  </thead>\n",
       "  <tbody>\n",
       "    <tr>\n",
       "      <th>Algeria</th>\n",
       "      <td>8087885.0</td>\n",
       "      <td>NaN</td>\n",
       "    </tr>\n",
       "    <tr>\n",
       "      <th>Angola</th>\n",
       "      <td>2416129.0</td>\n",
       "      <td>NaN</td>\n",
       "    </tr>\n",
       "    <tr>\n",
       "      <th>Antigua and Barbuda</th>\n",
       "      <td>22218.0</td>\n",
       "      <td>NaN</td>\n",
       "    </tr>\n",
       "    <tr>\n",
       "      <th>Areas, nes</th>\n",
       "      <td>51205.0</td>\n",
       "      <td>NaN</td>\n",
       "    </tr>\n",
       "    <tr>\n",
       "      <th>Australia</th>\n",
       "      <td>81644.0</td>\n",
       "      <td>NaN</td>\n",
       "    </tr>\n",
       "  </tbody>\n",
       "</table>\n",
       "</div>"
      ],
      "text/plain": [
       "Trade Flow             Exports  Imports\n",
       "Partner                                \n",
       "Algeria              8087885.0      NaN\n",
       "Angola               2416129.0      NaN\n",
       "Antigua and Barbuda    22218.0      NaN\n",
       "Areas, nes             51205.0      NaN\n",
       "Australia              81644.0      NaN"
      ]
     },
     "execution_count": 14,
     "metadata": {},
     "output_type": "execute_result"
    }
   ],
   "source": [
    "countries = pivot_table(milk, index=[PARTNER], columns=[FLOW], \n",
    "                        values=VALUE, aggfunc=sum)\n",
    "countries.head()"
   ]
  },
  {
   "cell_type": "code",
   "execution_count": 15,
   "metadata": {},
   "outputs": [
    {
     "data": {
      "text/html": [
       "<div>\n",
       "<style scoped>\n",
       "    .dataframe tbody tr th:only-of-type {\n",
       "        vertical-align: middle;\n",
       "    }\n",
       "\n",
       "    .dataframe tbody tr th {\n",
       "        vertical-align: top;\n",
       "    }\n",
       "\n",
       "    .dataframe thead th {\n",
       "        text-align: right;\n",
       "    }\n",
       "</style>\n",
       "<table border=\"1\" class=\"dataframe\">\n",
       "  <thead>\n",
       "    <tr style=\"text-align: right;\">\n",
       "      <th>Trade Flow</th>\n",
       "      <th>Exports</th>\n",
       "      <th>Imports</th>\n",
       "    </tr>\n",
       "    <tr>\n",
       "      <th>Partner</th>\n",
       "      <th></th>\n",
       "      <th></th>\n",
       "    </tr>\n",
       "  </thead>\n",
       "  <tbody>\n",
       "    <tr>\n",
       "      <th>Austria</th>\n",
       "      <td>56279.0</td>\n",
       "      <td>780.0</td>\n",
       "    </tr>\n",
       "    <tr>\n",
       "      <th>Belgium</th>\n",
       "      <td>7209121.0</td>\n",
       "      <td>14325697.0</td>\n",
       "    </tr>\n",
       "    <tr>\n",
       "      <th>Czech Rep.</th>\n",
       "      <td>2590.0</td>\n",
       "      <td>486889.0</td>\n",
       "    </tr>\n",
       "    <tr>\n",
       "      <th>Denmark</th>\n",
       "      <td>335068.0</td>\n",
       "      <td>13681759.0</td>\n",
       "    </tr>\n",
       "    <tr>\n",
       "      <th>France</th>\n",
       "      <td>9381762.0</td>\n",
       "      <td>28314091.0</td>\n",
       "    </tr>\n",
       "    <tr>\n",
       "      <th>Germany</th>\n",
       "      <td>10828464.0</td>\n",
       "      <td>21899123.0</td>\n",
       "    </tr>\n",
       "    <tr>\n",
       "      <th>Hungary</th>\n",
       "      <td>71378.0</td>\n",
       "      <td>4762.0</td>\n",
       "    </tr>\n",
       "    <tr>\n",
       "      <th>Ireland</th>\n",
       "      <td>128155891.0</td>\n",
       "      <td>46263897.0</td>\n",
       "    </tr>\n",
       "    <tr>\n",
       "      <th>Italy</th>\n",
       "      <td>173689.0</td>\n",
       "      <td>321635.0</td>\n",
       "    </tr>\n",
       "    <tr>\n",
       "      <th>Latvia</th>\n",
       "      <td>567.0</td>\n",
       "      <td>870.0</td>\n",
       "    </tr>\n",
       "    <tr>\n",
       "      <th>Lithuania</th>\n",
       "      <td>1172.0</td>\n",
       "      <td>318407.0</td>\n",
       "    </tr>\n",
       "    <tr>\n",
       "      <th>Netherlands</th>\n",
       "      <td>18018603.0</td>\n",
       "      <td>17658912.0</td>\n",
       "    </tr>\n",
       "    <tr>\n",
       "      <th>Poland</th>\n",
       "      <td>106659.0</td>\n",
       "      <td>4933917.0</td>\n",
       "    </tr>\n",
       "    <tr>\n",
       "      <th>Portugal</th>\n",
       "      <td>25855.0</td>\n",
       "      <td>308654.0</td>\n",
       "    </tr>\n",
       "    <tr>\n",
       "      <th>Romania</th>\n",
       "      <td>36.0</td>\n",
       "      <td>975996.0</td>\n",
       "    </tr>\n",
       "    <tr>\n",
       "      <th>Slovakia</th>\n",
       "      <td>65.0</td>\n",
       "      <td>39990.0</td>\n",
       "    </tr>\n",
       "    <tr>\n",
       "      <th>Spain</th>\n",
       "      <td>1229172.0</td>\n",
       "      <td>4910615.0</td>\n",
       "    </tr>\n",
       "    <tr>\n",
       "      <th>Sweden</th>\n",
       "      <td>34972.0</td>\n",
       "      <td>1962413.0</td>\n",
       "    </tr>\n",
       "    <tr>\n",
       "      <th>United Arab Emirates</th>\n",
       "      <td>1590593.0</td>\n",
       "      <td>27225.0</td>\n",
       "    </tr>\n",
       "    <tr>\n",
       "      <th>United States of America</th>\n",
       "      <td>548910.0</td>\n",
       "      <td>46044.0</td>\n",
       "    </tr>\n",
       "  </tbody>\n",
       "</table>\n",
       "</div>"
      ],
      "text/plain": [
       "Trade Flow                    Exports     Imports\n",
       "Partner                                          \n",
       "Austria                       56279.0       780.0\n",
       "Belgium                     7209121.0  14325697.0\n",
       "Czech Rep.                     2590.0    486889.0\n",
       "Denmark                      335068.0  13681759.0\n",
       "France                      9381762.0  28314091.0\n",
       "Germany                    10828464.0  21899123.0\n",
       "Hungary                       71378.0      4762.0\n",
       "Ireland                   128155891.0  46263897.0\n",
       "Italy                        173689.0    321635.0\n",
       "Latvia                          567.0       870.0\n",
       "Lithuania                      1172.0    318407.0\n",
       "Netherlands                18018603.0  17658912.0\n",
       "Poland                       106659.0   4933917.0\n",
       "Portugal                      25855.0    308654.0\n",
       "Romania                          36.0    975996.0\n",
       "Slovakia                         65.0     39990.0\n",
       "Spain                       1229172.0   4910615.0\n",
       "Sweden                        34972.0   1962413.0\n",
       "United Arab Emirates        1590593.0     27225.0\n",
       "United States of America     548910.0     46044.0"
      ]
     },
     "execution_count": 15,
     "metadata": {},
     "output_type": "execute_result"
    }
   ],
   "source": [
    "countries.dropna()"
   ]
  },
  {
   "cell_type": "markdown",
   "metadata": {},
   "source": [
    "# Conclusions\n",
    "The milk and cream trade of the UK from January to May 2015 was analysed in terms of which countries the UK mostly depends on for income (exports) and goods (imports). Over the period, the UK had a trade surplus of over 100 million US dollars.\n",
    "\n",
    "Ireland is the main partner, but it imported from the UK almost the triple in value than it exported to the UK.\n",
    "\n",
    "The UK exported to over 100 countries during the period, but only imported from 21 countries, the main ones (top five by trade value) being geographically close. China and Hong Kong are the main importers that are not also main exporters.\n",
    "\n",
    "The UK is heavily dependent on its regular customers, the 16 countries that buy all types of milk and cream every month. They contribute three quarters of the total export value.\n",
    "\n",
    "The UK has bi-directional trade (i.e. both exports and imports) with 20 countries, although for some the trade value (in US dollars) is suspiciously low, which raises questions about the data's accuracy."
   ]
  },
  {
   "cell_type": "code",
   "execution_count": null,
   "metadata": {},
   "outputs": [],
   "source": []
  }
 ],
 "metadata": {
  "kernelspec": {
   "display_name": "Python 3",
   "language": "python",
   "name": "python3"
  },
  "language_info": {
   "codemirror_mode": {
    "name": "ipython",
    "version": 3
   },
   "file_extension": ".py",
   "mimetype": "text/x-python",
   "name": "python",
   "nbconvert_exporter": "python",
   "pygments_lexer": "ipython3",
   "version": "3.8.5"
  }
 },
 "nbformat": 4,
 "nbformat_minor": 4
}
