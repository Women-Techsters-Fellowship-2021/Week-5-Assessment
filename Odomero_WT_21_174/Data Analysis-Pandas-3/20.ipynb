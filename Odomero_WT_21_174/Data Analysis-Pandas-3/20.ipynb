{
 "cells": [
  {
   "cell_type": "markdown",
   "metadata": {},
   "source": [
    "# Transforming and Combining Data\n",
    "\n",
    "In the previous module you worked on a dataset that combined two different `World Health\n",
    "Organization datasets: population and the number of deaths due to tuberculosis`.\n",
    "They could be combined because they share a `common attribute: the countries`. This\n",
    "week you will learn the techniques behind the creation of such a combined dataset."
   ]
  },
  {
   "cell_type": "code",
   "execution_count": 1,
   "metadata": {},
   "outputs": [],
   "source": [
    "import warnings\n",
    "warnings.simplefilter('ignore', FutureWarning)\n",
    "\n",
    "import pandas as pd"
   ]
  },
  {
   "cell_type": "markdown",
   "metadata": {},
   "source": [
    "## What if...?\n",
    "\n",
    "The third conversion, from abbreviated country names to full names, can’t be written as a\n",
    "simple formula, because each abbreviation is expanded differently.\n",
    "What I need is the Python code equivalent of:\n",
    "\n",
    "- if the name is ‘UK’, return ‘United Kingdom’,\n",
    "- otherwise if the name is ‘USA’, return ‘United States’,\n",
    "- otherwise return the name.\n",
    "\n",
    "The last part basically says that if the name is none of the known abbreviations, return it\n",
    "unchanged. Translating the English sentence to Python is straightforward.\n",
    "\n",
    "The next function uses the full form of the conditional statement to expand the abbreviated country names UK and USA and leave other names unchanged."
   ]
  },
  {
   "cell_type": "code",
   "execution_count": 2,
   "metadata": {},
   "outputs": [
    {
     "data": {
      "text/plain": [
       "True"
      ]
     },
     "execution_count": 2,
     "metadata": {},
     "output_type": "execute_result"
    }
   ],
   "source": [
    "def expandCountry (name):\n",
    "    if name == 'UK':\n",
    "        return 'United Kingdom'\n",
    "    elif name == 'USA':\n",
    "        return 'United States'\n",
    "    else:\n",
    "        return name\n",
    "\n",
    "expandCountry('India') == 'India'"
   ]
  },
  {
   "cell_type": "markdown",
   "metadata": {},
   "source": [
    "Note that ‘otherwise if’ is written `'elif'` in Python, not `'else if'`. As you might expect,\n",
    "‘if’, ‘elif’ and ‘else’ are reserved words.\n",
    "The computer will evaluate one condition at a time, from top to bottom, and execute only\n",
    "the instructions of the first condition that is true. Note that there is no condition after\n",
    "`'else'` , it is a ‘catch all’ in case all previous conditions fail.\n",
    "Note again the colons at the end of lines and that code after the colon must be indented.\n",
    "That is how Python distinguishes which lines of code belong to which condition."
   ]
  },
  {
   "cell_type": "markdown",
   "metadata": {},
   "source": [
    "There are almost always many ways to write the same function. A conditional statement\n",
    "does not need to have an 'elif' or 'else' part. In that case, if the condition is false,\n",
    "nothing happens.\n",
    "\n",
    "Here is the same function, written differently, using the simplest form of the conditional statement, without the `elif` and `else` parts."
   ]
  },
  {
   "cell_type": "code",
   "execution_count": 3,
   "metadata": {},
   "outputs": [],
   "source": [
    "def expandCountry (name):\n",
    "    if name == 'UK':\n",
    "        name = 'United Kingdom'\n",
    "    if name == 'USA':\n",
    "        name = 'United States'\n",
    "    return name"
   ]
  },
  {
   "cell_type": "markdown",
   "metadata": {},
   "source": [
    "### Tasks\n",
    "\n",
    "1. Write more tests.\n",
    "- Explain why the second version of the function works. Note how the code is indented.\n",
    "- Extend both versions to expand 'St. Lucia' to 'Saint Lucia'.\n",
    "- Write a function to translate some country names from their original language to English, e.g. 'Brasil' to 'Brazil', 'España' to 'Spain' and 'Deutschland' to 'Germany'.\n",
    "- Can you think of a different way of expanding abbreviated country names? You're not expected to write any code. Hint: this is a course about data tables."
   ]
  },
  {
   "cell_type": "markdown",
   "metadata": {},
   "source": [
    "'''\n",
    "The computer will evaluate one condition at a time, from top to bottom, \n",
    "and changes the value assigned to name variable based on which condition is true.\n",
    "If no condition is met, it returns the initial value we assigned to name parameter.\n",
    "'''"
   ]
  },
  {
   "cell_type": "code",
   "execution_count": 5,
   "metadata": {},
   "outputs": [
    {
     "data": {
      "text/plain": [
       "True"
      ]
     },
     "execution_count": 5,
     "metadata": {},
     "output_type": "execute_result"
    }
   ],
   "source": [
    "def expandCountry (name):\n",
    "    if name == 'UK':\n",
    "        return 'United Kingdom'\n",
    "    elif name == 'USA':\n",
    "        return 'United States'\n",
    "    elif name == 'St. Lucia':\n",
    "        return 'Saint Lucia'\n",
    "    else:\n",
    "        return name\n",
    "\n",
    "expandCountry('Nigeria') == 'Nigeria'"
   ]
  },
  {
   "cell_type": "code",
   "execution_count": 7,
   "metadata": {},
   "outputs": [
    {
     "data": {
      "text/plain": [
       "True"
      ]
     },
     "execution_count": 7,
     "metadata": {},
     "output_type": "execute_result"
    }
   ],
   "source": [
    "def expandCountry (name):\n",
    "    if name == 'UK':\n",
    "        name = 'United Kingdom'\n",
    "    if name == 'USA':\n",
    "        name = 'United States'\n",
    "    if name == 'St. Lucia':\n",
    "        name = 'Saint Lucia'\n",
    "    return name\n",
    "\n",
    "expandCountry('USA') == 'United States'"
   ]
  },
  {
   "cell_type": "code",
   "execution_count": 2,
   "metadata": {},
   "outputs": [
    {
     "data": {
      "text/plain": [
       "True"
      ]
     },
     "execution_count": 2,
     "metadata": {},
     "output_type": "execute_result"
    }
   ],
   "source": [
    "def changeCountryName (name):\n",
    "    if name == 'Brasil':\n",
    "        return 'Brazil'\n",
    "    elif name == 'España':\n",
    "        return 'Spain'\n",
    "    elif name == 'Deutschland':\n",
    "        return 'Germany'\n",
    "    else:\n",
    "        return name\n",
    "\n",
    "changeCountryName('Nigeria') == 'Nigeria'"
   ]
  },
  {
   "cell_type": "code",
   "execution_count": null,
   "metadata": {},
   "outputs": [],
   "source": []
  }
 ],
 "metadata": {
  "kernelspec": {
   "display_name": "Python 3",
   "language": "python",
   "name": "python3"
  },
  "language_info": {
   "codemirror_mode": {
    "name": "ipython",
    "version": 3
   },
   "file_extension": ".py",
   "mimetype": "text/x-python",
   "name": "python",
   "nbconvert_exporter": "python",
   "pygments_lexer": "ipython3",
   "version": "3.8.5"
  },
  "toc": {
   "base_numbering": 1,
   "nav_menu": {},
   "number_sections": true,
   "sideBar": true,
   "skip_h1_title": false,
   "title_cell": "Table of Contents",
   "title_sidebar": "Contents",
   "toc_cell": false,
   "toc_position": {},
   "toc_section_display": true,
   "toc_window_display": false
  }
 },
 "nbformat": 4,
 "nbformat_minor": 1
}
