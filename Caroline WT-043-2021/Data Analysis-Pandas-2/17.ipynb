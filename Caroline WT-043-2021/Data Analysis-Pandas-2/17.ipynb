{
 "cells": [
  {
   "cell_type": "markdown",
   "metadata": {},
   "source": [
    "# Exercise notebook :"
   ]
  },
  {
   "cell_type": "code",
   "execution_count": null,
   "metadata": {},
   "outputs": [],
   "source": [
    "import warnings\n",
    "warnings.simplefilter('ignore', FutureWarning)\n",
    "\n",
    "import pandas as pd\n",
    "from datetime import datetime"
   ]
  },
  {
   "cell_type": "code",
   "execution_count": null,
   "metadata": {},
   "outputs": [],
   "source": [
    "london = pd.read_csv('London_2014.csv', skipinitialspace=True)\n",
    "london.head()"
   ]
  },
  {
   "cell_type": "markdown",
   "metadata": {},
   "source": [
    "`Note that the right hand side of the table has been cropped to fit on the page.\n",
    "You’ll find out how to remove rogue spaces.`"
   ]
  },
  {
   "cell_type": "markdown",
   "metadata": {},
   "source": [
    "## Every picture tells a story\n",
    "\n",
    "It can be difficult and confusing to look at a table of rows of numbers and make any\n",
    "meaningful interpretation especially if there are many rows and columns.\n",
    "Handily, pandas has a method called **plot()** which will visualise data for us by producing\n",
    "a chart.\n",
    "\n",
    "The following line of code tells Jupyter to display inside this notebook any graph that is created."
   ]
  },
  {
   "cell_type": "code",
   "execution_count": null,
   "metadata": {},
   "outputs": [],
   "source": [
    "%matplotlib inline"
   ]
  },
  {
   "cell_type": "markdown",
   "metadata": {},
   "source": [
    "The `plot()` method can make a graph of the values in a column. Gridlines are turned on by the `grid` argument.\n",
    "\n",
    "To plot `‘Max Wind SpeedKm/h ’`, it’s as simple as this code:"
   ]
  },
  {
   "cell_type": "code",
   "execution_count": null,
   "metadata": {
    "scrolled": true
   },
   "outputs": [],
   "source": [
    "london['Max Wind SpeedKm/h'].plot(grid=True)"
   ]
  },
  {
   "cell_type": "markdown",
   "metadata": {},
   "source": [
    "The `grid=True` argument makes the gridlines (the dotted lines in the image above)\n",
    "appear, which make values easier to read on the chart. The chart comes out a bit small,\n",
    "so the graph can be made bigger by giving the method a `figsize=(x,y)` argument where `x` and `y` are integers that determine the length of the `x-axis` and `y-axis`."
   ]
  },
  {
   "cell_type": "code",
   "execution_count": null,
   "metadata": {},
   "outputs": [],
   "source": [
    "london['Max Wind SpeedKm/h'].plot(grid=True, figsize=(10,5))"
   ]
  },
  {
   "cell_type": "markdown",
   "metadata": {},
   "source": [
    "That’s better! The argument given to the `plot()` method, `figsize=(10,5)` simply tells\n",
    "`plot()` that the `x-axis` should be 10 units wide and the `y-axis` should be 5 units high. In\n",
    "the above graph the `x-axis` (the numbers at the bottom) shows the dataframe’s index, so 0\n",
    "is 1 January and 50 is 18 February.\n",
    "The `y-axis` (the numbers on the side) shows the range of wind speed in kilometres per\n",
    "hour. It is clear that the windiest day in 2014 was somewhere in mid-February and the\n",
    "wind reached about `66 kilometers per hour`.\n",
    "By default, the `plot()` method will try to generate a line, although as you’ll see in a later\n",
    "modules, it can produce other chart types too.\n",
    "\n",
    "Multiple lines can be plotted by selecting multiple columns."
   ]
  },
  {
   "cell_type": "code",
   "execution_count": null,
   "metadata": {},
   "outputs": [],
   "source": [
    "london[['Max Wind SpeedKm/h', 'Mean Wind SpeedKm/h']].plot(grid=True, figsize=(10,5))"
   ]
  },
  {
   "cell_type": "markdown",
   "metadata": {},
   "source": [
    "### Task\n",
    "\n",
    "In the cell below, write code to plot the minimum, mean, and maximum temperature during 2014 in London."
   ]
  },
  {
   "cell_type": "code",
   "execution_count": null,
   "metadata": {},
   "outputs": [],
   "source": []
  },
  {
   "cell_type": "markdown",
   "metadata": {},
   "source": [
    "## Changing a dataframe's index\n",
    "We have seen that by default every dataframe has an integer index for its rows which\n",
    "starts from `0`.\n",
    "The dataframe we’ve been using, london , has an index that goes from `0 to 364`. The\n",
    "row indexed by 0 holds data for the first day of the year and the row indexed by 364 holds\n",
    "data for the last day of the year. However, the column `'GMT' holds datetime64` values\n",
    "which would make a more intuitive index.\n",
    "Changing the index to `datetime64` values is as easy as assigning to the dataframe’s\n",
    "index attribute the contents of the `'GMT'` column, is done by assigning to the dataframe's `index` attribute the contents of the `'GMT`' column, like this:"
   ]
  },
  {
   "cell_type": "code",
   "execution_count": null,
   "metadata": {},
   "outputs": [],
   "source": [
    "london['GMT'] = pd.to_datetime(london['GMT'])"
   ]
  },
  {
   "cell_type": "code",
   "execution_count": null,
   "metadata": {},
   "outputs": [],
   "source": [
    "london.index = london['GMT']\n",
    "london.head(2)"
   ]
  },
  {
   "cell_type": "markdown",
   "metadata": {},
   "source": [
    "`Notice that the 'GMT' column still remains and that the index has been labelled to show\n",
    "that it has been derived from the 'GMT' column.`"
   ]
  },
  {
   "cell_type": "markdown",
   "metadata": {},
   "source": [
    "The `iloc` attribute can still be used to get and display rows by number, but now you can now also use the `datetime64` index to get a row by date, using the dataframe's `loc` attribute, like this:"
   ]
  },
  {
   "cell_type": "code",
   "execution_count": null,
   "metadata": {},
   "outputs": [],
   "source": [
    "london.loc[datetime(2014, 1, 1)]"
   ]
  },
  {
   "cell_type": "markdown",
   "metadata": {},
   "source": [
    "A query such as *'Return all the rows where the date is between December 8th and December 12th'* can now be done  succinctly like this:"
   ]
  },
  {
   "cell_type": "code",
   "execution_count": null,
   "metadata": {},
   "outputs": [],
   "source": [
    "london.loc[datetime(2014,12,8) : datetime(2014,12,12)]\n",
    "\n",
    "#The meaning of the above code is get the rows beween and including \n",
    "#the indices datetime(2014,12,8) and datetime(2014,12,12)"
   ]
  },
  {
   "cell_type": "markdown",
   "metadata": {},
   "source": [
    "Because the table is in date order, we can be confident that only the rows with dates\n",
    "between 8 December 2014 and 12 December 2014 (inclusive) will be returned. However if\n",
    "the table had not been in date order, we would have needed to sort it first, like this:"
   ]
  },
  {
   "cell_type": "code",
   "execution_count": null,
   "metadata": {},
   "outputs": [],
   "source": [
    "london = london.sort_index()\n",
    "london"
   ]
  },
  {
   "cell_type": "markdown",
   "metadata": {},
   "source": [
    "Now we have a `datetime64` index, let's plot `'Max Wind SpeedKm/h'` again:"
   ]
  },
  {
   "cell_type": "code",
   "execution_count": null,
   "metadata": {
    "scrolled": true
   },
   "outputs": [],
   "source": [
    "london['Max Wind SpeedKm/h'].plot(grid=True, figsize=(10,5))"
   ]
  },
  {
   "cell_type": "markdown",
   "metadata": {},
   "source": [
    "Now it is much clearer that the worst winds were in mid February.\n",
    "\n",
    "### Task\n",
    "Use the code cell below to plot the values of `'Mean Humidity'` during spring (full months of March, April and May)."
   ]
  },
  {
   "cell_type": "code",
   "execution_count": null,
   "metadata": {},
   "outputs": [],
   "source": []
  },
  {
   "cell_type": "markdown",
   "metadata": {},
   "source": [
    "Your project this week is to find out what would have been the best two weeks of weather\n",
    "for a 2014 vacation in a capital of a **BRICS** country."
   ]
  },
  {
   "cell_type": "markdown",
   "metadata": {},
   "source": [
    "I’ve written up my analysis of the best two weeks of weather in London, UK, which you can\n",
    "open in project notebook.\n",
    "The structure is very simple: besides the introduction and the conclusions, there is one\n",
    "section for each step of the analysis – obtaining, cleaning and visualising the data.\n",
    "Once you’ve worked through my analysis you should open a dataset for just one of the\n",
    "BRICS capitals: Brasilia, Moscow, Delhi, Beijing or Cape Town, the dataset has been downloade and can be found in the folder. The choice of capital is up\n",
    "to you. You should then work out the best two weeks, according to the weather, to choose\n",
    "for a two-week holiday in your chosen capital city.\n",
    "\n",
    "Once again, do not open the file with Excel , but you could take a look using a text\n",
    "editor.\n",
    "In my project, I was looking for a two\n",
    "week period that had relatively high temperatures and little rain. If you choose a capital in\n",
    "a particularly hot and dry country you will probably be looking for relatively cool weather\n",
    "and low humidity.\n",
    "\n",
    "Note that the London file has the dates in a column named ‘GMT’ whereas in the BRICS\n",
    "files they are in a column named ‘Date’. You will need to change the Python code\n",
    "accordingly. You should also change the name of the variable, London, according to the\n",
    "capital you choose.\n",
    "\n",
    "## GOOD LUCK!"
   ]
  },
  {
   "cell_type": "code",
   "execution_count": null,
   "metadata": {},
   "outputs": [],
   "source": []
  }
 ],
 "metadata": {
  "kernelspec": {
   "display_name": "Python 3",
   "language": "python",
   "name": "python3"
  },
  "language_info": {
   "codemirror_mode": {
    "name": "ipython",
    "version": 3
   },
   "file_extension": ".py",
   "mimetype": "text/x-python",
   "name": "python",
   "nbconvert_exporter": "python",
   "pygments_lexer": "ipython3",
   "version": "3.8.8"
  }
 },
 "nbformat": 4,
 "nbformat_minor": 1
}
