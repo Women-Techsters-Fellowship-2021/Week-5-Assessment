{
 "cells": [
  {
   "cell_type": "markdown",
   "metadata": {},
   "source": [
    "# Transforming and Combining Data\n",
    "\n",
    "In the previous module you worked on a dataset that combined two different `World Health\n",
    "Organization datasets: population and the number of deaths due to tuberculosis`.\n",
    "They could be combined because they share a `common attribute: the countries`. This\n",
    "week you will learn the techniques behind the creation of such a combined dataset."
   ]
  },
  {
   "cell_type": "code",
   "execution_count": null,
   "metadata": {},
   "outputs": [],
   "source": [
    "import pandas as pd"
   ]
  },
  {
   "cell_type": "code",
   "execution_count": null,
   "metadata": {},
   "outputs": [],
   "source": [
    "table = [\n",
    "  ['UK', 2678454886796.7],    # 1st row\n",
    "  ['USA', 16768100000000.0],  # 2nd row\n",
    "  ['China', 9240270452047.0], # and so on...\n",
    "  ['Brazil', 2245673032353.8],\n",
    "  ['South Africa', 366057913367.1]\n",
    "]"
   ]
  },
  {
   "cell_type": "code",
   "execution_count": null,
   "metadata": {},
   "outputs": [],
   "source": [
    "headings = ['Country', 'GDP (US$)']\n",
    "gdp = pd.DataFrame(columns=headings, data=table)"
   ]
  },
  {
   "cell_type": "code",
   "execution_count": null,
   "metadata": {},
   "outputs": [],
   "source": [
    "headings = ['Country name', 'Life expectancy (years)']\n",
    "table = [\n",
    "  ['China', 75],\n",
    "  ['Russia', 71],  \n",
    "  ['United States', 79],\n",
    "  ['India', 66],\n",
    "  ['United Kingdom', 81]\n",
    "]\n",
    "life = pd.DataFrame(columns=headings, data=table)"
   ]
  },
  {
   "cell_type": "code",
   "execution_count": null,
   "metadata": {},
   "outputs": [],
   "source": [
    "def roundToMillions (value):\n",
    "    return round(value / 1000000)"
   ]
  },
  {
   "cell_type": "code",
   "execution_count": null,
   "metadata": {},
   "outputs": [],
   "source": [
    "def usdToGBP (usd):\n",
    "    return usd / 1.564768 # average rate during 2013 "
   ]
  },
  {
   "cell_type": "code",
   "execution_count": null,
   "metadata": {},
   "outputs": [],
   "source": [
    "def expandCountry (name):\n",
    "    if name == 'UK':\n",
    "        return 'United Kingdom'\n",
    "    elif name == 'USA':\n",
    "        return 'United States'\n",
    "    else:\n",
    "        return name"
   ]
  },
  {
   "cell_type": "code",
   "execution_count": null,
   "metadata": {},
   "outputs": [],
   "source": [
    "def expandCountry (name):\n",
    "    if name == 'UK':\n",
    "        name = 'United Kingdom'\n",
    "    if name == 'USA':\n",
    "        name = 'United States'\n",
    "    return name"
   ]
  },
  {
   "cell_type": "code",
   "execution_count": null,
   "metadata": {},
   "outputs": [],
   "source": [
    "gdp['Country name'] = gdp['Country'].apply(expandCountry)\n",
    "gdp['GDP (£m)'] = gdp['GDP (US$)'].apply(usdToGBP).apply(roundToMillions)\n",
    "gdp['GDP (US$)'].apply(roundToMillions).apply(usdToGBP).apply(round)\n",
    "headings = ['Country name', 'GDP (£m)']\n",
    "gdp = gdp[headings]"
   ]
  },
  {
   "cell_type": "markdown",
   "metadata": {},
   "source": [
    "## Joining left, right and centre\n",
    "\n",
    "At this point, both tables have a common column, 'Country name', with fully expanded country names."
   ]
  },
  {
   "cell_type": "code",
   "execution_count": null,
   "metadata": {},
   "outputs": [],
   "source": [
    "Let’s take stock for a moment. There’s the original, unchanged table (with full country\n",
    "names) about the life expectancy:"
   ]
  },
  {
   "cell_type": "code",
   "execution_count": null,
   "metadata": {
    "scrolled": false
   },
   "outputs": [],
   "source": [
    "life"
   ]
  },
  {
   "cell_type": "markdown",
   "metadata": {},
   "source": [
    "… and a table with the GDP in millions of pounds and also full country names."
   ]
  },
  {
   "cell_type": "code",
   "execution_count": null,
   "metadata": {},
   "outputs": [],
   "source": [
    "gdp"
   ]
  },
  {
   "cell_type": "markdown",
   "metadata": {},
   "source": [
    "Both tables have a common column with a common name (‘Country name’). We can **join** the\n",
    "two tables on that common column, using the **merge()** function. Merging basically puts all columns of the two tables together, without duplicating the common column, and joins\n",
    "any rows that have the same value in the common column.\n",
    "There are four possible ways of joining, depending on which rows we want to include in the\n",
    "resulting table. If we want to include only those countries appearing in the GDP table, we call\n",
    "the **merge()** function."
   ]
  },
  {
   "cell_type": "markdown",
   "metadata": {},
   "source": [
    "A **left join** takes the rows of the left table and adds the columns of the right table. "
   ]
  },
  {
   "cell_type": "code",
   "execution_count": null,
   "metadata": {},
   "outputs": [],
   "source": [
    "pd.merge(gdp, life, on='Country name', how='left')"
   ]
  },
  {
   "cell_type": "markdown",
   "metadata": {},
   "source": [
    "The first two arguments are the tables to be merged, with the first table being called the\n",
    "‘left’ table and the second being the ‘right’ table. The on argument is the name of the\n",
    "common column, i.e. both tables must have a column with that name. The **how** argument\n",
    "states we want a **left join** , i.e. the resulting rows are dictated by the left (GDP) table. You\n",
    "can easily see that India and Russia, which appear only in the right (expectancy) table,\n",
    "don’t show up in the result. You can also see that Brazil and South Africa, which appear\n",
    "only in the left table, have an undefined life expectancy. (Remember that ‘NaN’ stands for\n",
    "‘not a number.)\n",
    "\n",
    "A **right join** will instead take the rows from the right table, and add the columns of the left\n",
    "table. Therefore, countries not appearing in the left table will have undefined values for the\n",
    "left table’s columns."
   ]
  },
  {
   "cell_type": "markdown",
   "metadata": {},
   "source": [
    "A **right join** takes the rows from the right table, and adds the columns of the left table."
   ]
  },
  {
   "cell_type": "code",
   "execution_count": null,
   "metadata": {},
   "outputs": [],
   "source": [
    "pd.merge(gdp, life, on='Country name', how='right')"
   ]
  },
  {
   "cell_type": "markdown",
   "metadata": {},
   "source": [
    "The third possibility is an **outer join** which takes all countries, i.e. whether they are in the\n",
    "left or right table. The result has all the rows of the left and right joins."
   ]
  },
  {
   "cell_type": "markdown",
   "metadata": {},
   "source": [
    "An **outer join** takes the union of the rows, i.e. it has all the rows of the left and right joins."
   ]
  },
  {
   "cell_type": "code",
   "execution_count": null,
   "metadata": {},
   "outputs": [],
   "source": [
    "pd.merge(gdp, life, on='Country name', how='outer')"
   ]
  },
  {
   "cell_type": "markdown",
   "metadata": {},
   "source": [
    "The last possibility is an **inner join** which takes only those countries common to both\n",
    "tables, i.e. for which I know the GDP and the life expectancy. That’s the join we want, to\n",
    "avoid any undefined values:"
   ]
  },
  {
   "cell_type": "markdown",
   "metadata": {},
   "source": [
    "An **inner join** takes the intersection of the rows (i.e. the common rows) of the left and right joins."
   ]
  },
  {
   "cell_type": "code",
   "execution_count": null,
   "metadata": {},
   "outputs": [],
   "source": [
    "gdpVsLife = pd.merge(gdp, life, on='Country name', how='inner')\n",
    "gdpVsLife"
   ]
  },
  {
   "cell_type": "markdown",
   "metadata": {},
   "source": [
    "### Task\n",
    "\n",
    "Join your population dataframe previous task with `gdpVsLife`, in four different ways, and note the differences."
   ]
  },
  {
   "cell_type": "code",
   "execution_count": null,
   "metadata": {},
   "outputs": [],
   "source": [
    "POP"
   ]
  },
  {
   "cell_type": "code",
   "execution_count": null,
   "metadata": {},
   "outputs": [],
   "source": [
    "gdpVsLife"
   ]
  },
  {
   "cell_type": "code",
   "execution_count": null,
   "metadata": {},
   "outputs": [],
   "source": [
    "pd.merge(POP, gdpVsLife, on='Country name', how='left')"
   ]
  },
  {
   "cell_type": "code",
   "execution_count": null,
   "metadata": {},
   "outputs": [],
   "source": [
    "pd.merge(POP, gdpVslife, on='Country name', how='right')"
   ]
  },
  {
   "cell_type": "code",
   "execution_count": null,
   "metadata": {},
   "outputs": [],
   "source": [
    "pd.merge(POP, gdpVslife, on='Country name', how='outer')"
   ]
  },
  {
   "cell_type": "code",
   "execution_count": 1,
   "metadata": {},
   "outputs": [
    {
     "ename": "NameError",
     "evalue": "name 'pd' is not defined",
     "output_type": "error",
     "traceback": [
      "\u001b[1;31m---------------------------------------------------------------------------\u001b[0m",
      "\u001b[1;31mNameError\u001b[0m                                 Traceback (most recent call last)",
      "\u001b[1;32m<ipython-input-1-bce48247fe97>\u001b[0m in \u001b[0;36m<module>\u001b[1;34m\u001b[0m\n\u001b[1;32m----> 1\u001b[1;33m \u001b[0mPOPVsgdpVsLife\u001b[0m \u001b[1;33m=\u001b[0m \u001b[0mpd\u001b[0m\u001b[1;33m.\u001b[0m\u001b[0mmerge\u001b[0m\u001b[1;33m(\u001b[0m\u001b[0mPOP\u001b[0m\u001b[1;33m,\u001b[0m \u001b[0mgdp\u001b[0m\u001b[1;33m,\u001b[0m \u001b[0mlife\u001b[0m\u001b[1;33m,\u001b[0m \u001b[0mon\u001b[0m\u001b[1;33m=\u001b[0m\u001b[1;34m'Country name'\u001b[0m\u001b[1;33m,\u001b[0m \u001b[0mhow\u001b[0m\u001b[1;33m=\u001b[0m\u001b[1;34m'inner'\u001b[0m\u001b[1;33m)\u001b[0m\u001b[1;33m\u001b[0m\u001b[1;33m\u001b[0m\u001b[0m\n\u001b[0m",
      "\u001b[1;31mNameError\u001b[0m: name 'pd' is not defined"
     ]
    }
   ],
   "source": [
    "POPVsgdpVsLife = pd.merge(POP, gdp, life, on='Country name', how='inner')"
   ]
  },
  {
   "cell_type": "markdown",
   "metadata": {},
   "source": [
    "## Constant variables\n",
    "\n",
    "You may have noticed that the same column names appear over and over in the code.\n",
    "\n",
    "If, someday, we decide one of the new columns should be called `‘GDP (million GBP)’`\n",
    "instead of `‘GDP (£m)’` to make clear which currency is meant (because various countries\n",
    "use the pound symbol), we need to change the string in every line of code it occurs.\n",
    "\n",
    "Laziness is the mother of invention. If we assign the string to a variable and then use the\n",
    "variable everywhere instead of the string, whenever we wish to change the string, we only\n",
    "have to edit one line of code, where it’s assigned to the variable. A second advantage of\n",
    "using names instead of values is that we can use the name completion facility of Jupyter\n",
    "notebooks by pressing **‘TAB’**. Writing code becomes much faster…"
   ]
  },
  {
   "cell_type": "markdown",
   "metadata": {},
   "source": [
    "gdpInGbp = 'GDP (million GBP)'\n",
    "gdpInUsd = 'GDP (US$)'\n",
    "country = 'Country name'\n",
    "gdp[gdpInGbp] = gdp[gdpInUsd].apply(usdToGbp)\n",
    "headings = [country, gdpInGbp]\n",
    "gdp = gdp[headings]"
   ]
  },
  {
   "cell_type": "markdown",
   "metadata": {},
   "source": [
    "Such variables are meant to be assigned once. They are called **constants** , because their\n",
    "value never changes. However, if someone else takes our code and wishes to adapt and\n",
    "extend it, they may not realise those variables are supposed to remain constant. Even we\n",
    "may forget it and try to assign a new value further down in the code! To help prevent such\n",
    "slip-ups the Python convention is to write names of constants in uppercase letters, with\n",
    "words separated by underscores. Thus, any further assignment to a variable in uppercase\n",
    "will ring an alarm bell `(in your head, the computer remains silent)`."
   ]
  },
  {
   "cell_type": "markdown",
   "metadata": {},
   "source": [
    "Constants are used to represent fixed values (e.g. strings and numbers) that occur frequently in a program. Constant names are conventionally written in uppercase, with underscores to separate multiple words."
   ]
  },
  {
   "cell_type": "code",
   "execution_count": null,
   "metadata": {},
   "outputs": [],
   "source": [
    "GDP_USD = 'GDP (US$)'\n",
    "GDP_GBP = 'GDP (£m)'\n",
    "GDP_USD"
   ]
  },
  {
   "cell_type": "code",
   "execution_count": null,
   "metadata": {},
   "outputs": [],
   "source": [
    "COUNTRY = 'Country name'\n",
    "gdp[GDP_GBP] = gdp[GDP_USD].apply(usdToGbp)\n",
    "headings = [COUNTRY, GDP_GBP]\n",
    "gdp = gdp[headings]"
   ]
  },
  {
   "cell_type": "markdown",
   "metadata": {},
   "source": [
    "Using constants is not just a matter of laziness. There are various advantages. First,\n",
    "constants stand out in the code.\n",
    "Second, when making changes to the repeated values throughout the code, it’s easy to\n",
    "miss an occurrence. Using constants means the code is always consistent throughout.\n",
    "Third, the name of the constant can help clarify what the value means. For example,\n",
    "instead of using the number 1995 throughout the code, define a constant that makes clear\n",
    "whether it’s a year, the cubic centimetres of a car engine or something else.\n",
    "\n",
    "To sum up, using constants makes the code clearer, easier to change, and less prone to\n",
    "silly (but hard to find) mistakes due to inconsistent values.\n",
    "Any value can be defined as a constant, whether it’s a string, a number or even a\n",
    "dataframe. For example, you could store the data you have loaded from the file into a\n",
    "constant, as a reminder to not change the original data. In the rest of the module, we will use\n",
    "constants mainly for the column names."
   ]
  },
  {
   "cell_type": "markdown",
   "metadata": {},
   "source": [
    "### Task\n",
    "\n",
    "Look through the code you wrote so far, and rewrite it using constants, when appropriate."
   ]
  },
  {
   "cell_type": "code",
   "execution_count": null,
   "metadata": {},
   "outputs": [],
   "source": []
  }
 ],
 "metadata": {
  "kernelspec": {
   "display_name": "Python 3",
   "language": "python",
   "name": "python3"
  },
  "language_info": {
   "codemirror_mode": {
    "name": "ipython",
    "version": 3
   },
   "file_extension": ".py",
   "mimetype": "text/x-python",
   "name": "python",
   "nbconvert_exporter": "python",
   "pygments_lexer": "ipython3",
   "version": "3.8.8"
  }
 },
 "nbformat": 4,
 "nbformat_minor": 1
}
