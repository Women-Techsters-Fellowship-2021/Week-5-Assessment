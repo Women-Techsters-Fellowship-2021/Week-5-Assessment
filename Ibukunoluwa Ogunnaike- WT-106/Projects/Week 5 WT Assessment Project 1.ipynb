{
 "cells": [
  {
   "cell_type": "markdown",
   "metadata": {},
   "source": [
    "# Analysis on France's Imports and Exports Of Pharmaceutical Goods\n",
    "\n",
    "A country's economy depends, sometimes heavily, on its exports and imports. The United Nations Comtrade database provides data on global trade for pharmaceutical goods for France in the year 2017. \n",
    "\n",
    "How much does France export and import cost and is the balanceof trade positive or negative (more exports than imports or vice versa)?\n",
    "\n",
    "Which are the main trading partners, i.e. from/to which countries does France import/export the most?\n",
    "\n",
    "Which are the regular customers, i.e. which countries buy Pharmaceutical Products from France every month?\n",
    "\n",
    "Which countries does France both import from and export to?"
   ]
  },
  {
   "cell_type": "markdown",
   "metadata": {},
   "source": [
    "# Importing The Dependencies"
   ]
  },
  {
   "cell_type": "code",
   "execution_count": 17,
   "metadata": {},
   "outputs": [],
   "source": [
    "import warnings\n",
    "warnings.simplefilter('ignore', FutureWarning)\n",
    "\n",
    "from pandas import *\n",
    "%matplotlib inline"
   ]
  },
  {
   "cell_type": "markdown",
   "metadata": {},
   "source": [
    "# Getting and preparing the data\n",
    "\n",
    "The data is obtained from the United Nations Comtrade website, by selecting the following configuration:\n",
    "\n",
    "Type of Product: goods\n",
    "\n",
    "Frequency: monthly\n",
    "\n",
    "Periods: All through 2017\n",
    "\n",
    "Reporter: France\n",
    "\n",
    "Partners: All the countries in the world\n",
    "\n",
    "Flows: imports and exports\n",
    "\n",
    "HS (as reported) commodity codes: 3006-Pharmaceutical goods\n",
    "\n",
    "Clicking on 'Preview' results in a message that the data has over 2000 rows. Data was downloaded using the Download CSV button and the download file renamed appropriately."
   ]
  },
  {
   "cell_type": "code",
   "execution_count": 18,
   "metadata": {},
   "outputs": [],
   "source": [
    "import pandas as pd\n",
    "import matplotlib.pyplot as plt\n",
    "%matplotlib inline"
   ]
  },
  {
   "cell_type": "code",
   "execution_count": 19,
   "metadata": {},
   "outputs": [],
   "source": [
    "#data=pd.read_csv('china_imex.csv')\n",
    "data1 ='france_imexp.csv'"
   ]
  },
  {
   "cell_type": "markdown",
   "metadata": {},
   "source": [
    "On reading in the data, the commodity code has to be read as a string, to not lose the leading zero"
   ]
  },
  {
   "cell_type": "code",
   "execution_count": 20,
   "metadata": {},
   "outputs": [
    {
     "data": {
      "text/html": [
       "<div>\n",
       "<style scoped>\n",
       "    .dataframe tbody tr th:only-of-type {\n",
       "        vertical-align: middle;\n",
       "    }\n",
       "\n",
       "    .dataframe tbody tr th {\n",
       "        vertical-align: top;\n",
       "    }\n",
       "\n",
       "    .dataframe thead th {\n",
       "        text-align: right;\n",
       "    }\n",
       "</style>\n",
       "<table border=\"1\" class=\"dataframe\">\n",
       "  <thead>\n",
       "    <tr style=\"text-align: right;\">\n",
       "      <th></th>\n",
       "      <th>Classification</th>\n",
       "      <th>Year</th>\n",
       "      <th>Period</th>\n",
       "      <th>Period Desc.</th>\n",
       "      <th>Aggregate Level</th>\n",
       "      <th>Is Leaf Code</th>\n",
       "      <th>Trade Flow Code</th>\n",
       "      <th>Trade Flow</th>\n",
       "      <th>Reporter Code</th>\n",
       "      <th>Reporter</th>\n",
       "      <th>...</th>\n",
       "      <th>Qty</th>\n",
       "      <th>Alt Qty Unit Code</th>\n",
       "      <th>Alt Qty Unit</th>\n",
       "      <th>Alt Qty</th>\n",
       "      <th>Netweight (kg)</th>\n",
       "      <th>Gross weight (kg)</th>\n",
       "      <th>Trade Value (US$)</th>\n",
       "      <th>CIF Trade Value (US$)</th>\n",
       "      <th>FOB Trade Value (US$)</th>\n",
       "      <th>Flag</th>\n",
       "    </tr>\n",
       "  </thead>\n",
       "  <tbody>\n",
       "    <tr>\n",
       "      <th>2082</th>\n",
       "      <td>HS</td>\n",
       "      <td>2017</td>\n",
       "      <td>201701</td>\n",
       "      <td>January 2017</td>\n",
       "      <td>4</td>\n",
       "      <td>0</td>\n",
       "      <td>1</td>\n",
       "      <td>Imports</td>\n",
       "      <td>251</td>\n",
       "      <td>France</td>\n",
       "      <td>...</td>\n",
       "      <td>NaN</td>\n",
       "      <td>NaN</td>\n",
       "      <td>NaN</td>\n",
       "      <td>NaN</td>\n",
       "      <td>743.0</td>\n",
       "      <td>NaN</td>\n",
       "      <td>76618</td>\n",
       "      <td>NaN</td>\n",
       "      <td>NaN</td>\n",
       "      <td>0</td>\n",
       "    </tr>\n",
       "    <tr>\n",
       "      <th>2083</th>\n",
       "      <td>HS</td>\n",
       "      <td>2017</td>\n",
       "      <td>201701</td>\n",
       "      <td>January 2017</td>\n",
       "      <td>4</td>\n",
       "      <td>0</td>\n",
       "      <td>1</td>\n",
       "      <td>Imports</td>\n",
       "      <td>251</td>\n",
       "      <td>France</td>\n",
       "      <td>...</td>\n",
       "      <td>NaN</td>\n",
       "      <td>NaN</td>\n",
       "      <td>NaN</td>\n",
       "      <td>NaN</td>\n",
       "      <td>2486.0</td>\n",
       "      <td>NaN</td>\n",
       "      <td>161752</td>\n",
       "      <td>NaN</td>\n",
       "      <td>NaN</td>\n",
       "      <td>0</td>\n",
       "    </tr>\n",
       "    <tr>\n",
       "      <th>2084</th>\n",
       "      <td>HS</td>\n",
       "      <td>2017</td>\n",
       "      <td>201701</td>\n",
       "      <td>January 2017</td>\n",
       "      <td>4</td>\n",
       "      <td>0</td>\n",
       "      <td>1</td>\n",
       "      <td>Imports</td>\n",
       "      <td>251</td>\n",
       "      <td>France</td>\n",
       "      <td>...</td>\n",
       "      <td>NaN</td>\n",
       "      <td>NaN</td>\n",
       "      <td>NaN</td>\n",
       "      <td>NaN</td>\n",
       "      <td>79.0</td>\n",
       "      <td>NaN</td>\n",
       "      <td>1770</td>\n",
       "      <td>NaN</td>\n",
       "      <td>NaN</td>\n",
       "      <td>0</td>\n",
       "    </tr>\n",
       "  </tbody>\n",
       "</table>\n",
       "<p>3 rows × 35 columns</p>\n",
       "</div>"
      ],
      "text/plain": [
       "     Classification  Year  Period  Period Desc.  Aggregate Level  \\\n",
       "2082             HS  2017  201701  January 2017                4   \n",
       "2083             HS  2017  201701  January 2017                4   \n",
       "2084             HS  2017  201701  January 2017                4   \n",
       "\n",
       "      Is Leaf Code  Trade Flow Code Trade Flow  Reporter Code Reporter  ...  \\\n",
       "2082             0                1    Imports            251   France  ...   \n",
       "2083             0                1    Imports            251   France  ...   \n",
       "2084             0                1    Imports            251   France  ...   \n",
       "\n",
       "      Qty  Alt Qty Unit Code Alt Qty Unit  Alt Qty  Netweight (kg)  \\\n",
       "2082  NaN                NaN          NaN      NaN           743.0   \n",
       "2083  NaN                NaN          NaN      NaN          2486.0   \n",
       "2084  NaN                NaN          NaN      NaN            79.0   \n",
       "\n",
       "      Gross weight (kg)  Trade Value (US$)  CIF Trade Value (US$)  \\\n",
       "2082                NaN              76618                    NaN   \n",
       "2083                NaN             161752                    NaN   \n",
       "2084                NaN               1770                    NaN   \n",
       "\n",
       "      FOB Trade Value (US$)  Flag  \n",
       "2082                    NaN     0  \n",
       "2083                    NaN     0  \n",
       "2084                    NaN     0  \n",
       "\n",
       "[3 rows x 35 columns]"
      ]
     },
     "execution_count": 20,
     "metadata": {},
     "output_type": "execute_result"
    }
   ],
   "source": [
    "data = pd.read_csv(data1, dtype={'Commodity Code':str})\n",
    "data.tail(3)\n"
   ]
  },
  {
   "cell_type": "code",
   "execution_count": 21,
   "metadata": {},
   "outputs": [
    {
     "name": "stdout",
     "output_type": "stream",
     "text": [
      "(2085, 35)\n"
     ]
    }
   ],
   "source": [
    "print(data.shape)"
   ]
  },
  {
   "cell_type": "code",
   "execution_count": 22,
   "metadata": {},
   "outputs": [
    {
     "data": {
      "text/plain": [
       "Index(['Classification', 'Year', 'Period', 'Period Desc.', 'Aggregate Level',\n",
       "       'Is Leaf Code', 'Trade Flow Code', 'Trade Flow', 'Reporter Code',\n",
       "       'Reporter', 'Reporter ISO', 'Partner Code', 'Partner', 'Partner ISO',\n",
       "       '2nd Partner Code', '2nd Partner', '2nd Partner ISO',\n",
       "       'Customs Proc. Code', 'Customs', 'Mode of Transport Code',\n",
       "       'Mode of Transport', 'Commodity Code', 'Commodity', 'Qty Unit Code',\n",
       "       'Qty Unit', 'Qty', 'Alt Qty Unit Code', 'Alt Qty Unit', 'Alt Qty',\n",
       "       'Netweight (kg)', 'Gross weight (kg)', 'Trade Value (US$)',\n",
       "       'CIF Trade Value (US$)', 'FOB Trade Value (US$)', 'Flag'],\n",
       "      dtype='object')"
      ]
     },
     "execution_count": 22,
     "metadata": {},
     "output_type": "execute_result"
    }
   ],
   "source": [
    "data.columns"
   ]
  },
  {
   "cell_type": "code",
   "execution_count": 7,
   "metadata": {},
   "outputs": [
    {
     "data": {
      "text/html": [
       "<div>\n",
       "<style scoped>\n",
       "    .dataframe tbody tr th:only-of-type {\n",
       "        vertical-align: middle;\n",
       "    }\n",
       "\n",
       "    .dataframe tbody tr th {\n",
       "        vertical-align: top;\n",
       "    }\n",
       "\n",
       "    .dataframe thead th {\n",
       "        text-align: right;\n",
       "    }\n",
       "</style>\n",
       "<table border=\"1\" class=\"dataframe\">\n",
       "  <thead>\n",
       "    <tr style=\"text-align: right;\">\n",
       "      <th></th>\n",
       "      <th>Period</th>\n",
       "      <th>Partner</th>\n",
       "      <th>Trade Flow</th>\n",
       "      <th>Commodity</th>\n",
       "      <th>Trade Value (US$)</th>\n",
       "    </tr>\n",
       "  </thead>\n",
       "  <tbody>\n",
       "    <tr>\n",
       "      <th>0</th>\n",
       "      <td>201703</td>\n",
       "      <td>Luxembourg</td>\n",
       "      <td>Exports</td>\n",
       "      <td>Pharmaceutical goods</td>\n",
       "      <td>32055</td>\n",
       "    </tr>\n",
       "    <tr>\n",
       "      <th>1</th>\n",
       "      <td>201706</td>\n",
       "      <td>Slovenia</td>\n",
       "      <td>Exports</td>\n",
       "      <td>Pharmaceutical goods</td>\n",
       "      <td>24712</td>\n",
       "    </tr>\n",
       "    <tr>\n",
       "      <th>2</th>\n",
       "      <td>201706</td>\n",
       "      <td>South Africa</td>\n",
       "      <td>Exports</td>\n",
       "      <td>Pharmaceutical goods</td>\n",
       "      <td>102777</td>\n",
       "    </tr>\n",
       "    <tr>\n",
       "      <th>3</th>\n",
       "      <td>201706</td>\n",
       "      <td>Finland</td>\n",
       "      <td>Exports</td>\n",
       "      <td>Pharmaceutical goods</td>\n",
       "      <td>101360</td>\n",
       "    </tr>\n",
       "    <tr>\n",
       "      <th>4</th>\n",
       "      <td>201703</td>\n",
       "      <td>Senegal</td>\n",
       "      <td>Exports</td>\n",
       "      <td>Pharmaceutical goods</td>\n",
       "      <td>29884</td>\n",
       "    </tr>\n",
       "  </tbody>\n",
       "</table>\n",
       "</div>"
      ],
      "text/plain": [
       "   Period       Partner Trade Flow             Commodity  Trade Value (US$)\n",
       "0  201703    Luxembourg    Exports  Pharmaceutical goods              32055\n",
       "1  201706      Slovenia    Exports  Pharmaceutical goods              24712\n",
       "2  201706  South Africa    Exports  Pharmaceutical goods             102777\n",
       "3  201706       Finland    Exports  Pharmaceutical goods             101360\n",
       "4  201703       Senegal    Exports  Pharmaceutical goods              29884"
      ]
     },
     "execution_count": 7,
     "metadata": {},
     "output_type": "execute_result"
    }
   ],
   "source": [
    "def product(code):\n",
    "    if code == '30': # Pharmaceuticals\n",
    "        return 'Pharmaceutical_Products'\n",
    "    return 'unknown'\n",
    "\n",
    "headings = [\"Period\", \"Partner\", \"Trade Flow\", \"Commodity\", \"Trade Value (US$)\"]\n",
    "Product=data[headings]\n",
    "Product.head()"
   ]
  },
  {
   "cell_type": "code",
   "execution_count": 23,
   "metadata": {},
   "outputs": [
    {
     "data": {
      "text/html": [
       "<div>\n",
       "<style scoped>\n",
       "    .dataframe tbody tr th:only-of-type {\n",
       "        vertical-align: middle;\n",
       "    }\n",
       "\n",
       "    .dataframe tbody tr th {\n",
       "        vertical-align: top;\n",
       "    }\n",
       "\n",
       "    .dataframe thead th {\n",
       "        text-align: right;\n",
       "    }\n",
       "</style>\n",
       "<table border=\"1\" class=\"dataframe\">\n",
       "  <thead>\n",
       "    <tr style=\"text-align: right;\">\n",
       "      <th></th>\n",
       "      <th>Period</th>\n",
       "      <th>Partner</th>\n",
       "      <th>Trade Flow</th>\n",
       "      <th>Commodity</th>\n",
       "      <th>Trade Value (US$)</th>\n",
       "    </tr>\n",
       "  </thead>\n",
       "  <tbody>\n",
       "    <tr>\n",
       "      <th>0</th>\n",
       "      <td>201703</td>\n",
       "      <td>Luxembourg</td>\n",
       "      <td>Exports</td>\n",
       "      <td>Pharmaceutical goods</td>\n",
       "      <td>32055</td>\n",
       "    </tr>\n",
       "    <tr>\n",
       "      <th>1</th>\n",
       "      <td>201706</td>\n",
       "      <td>Slovenia</td>\n",
       "      <td>Exports</td>\n",
       "      <td>Pharmaceutical goods</td>\n",
       "      <td>24712</td>\n",
       "    </tr>\n",
       "    <tr>\n",
       "      <th>2</th>\n",
       "      <td>201706</td>\n",
       "      <td>South Africa</td>\n",
       "      <td>Exports</td>\n",
       "      <td>Pharmaceutical goods</td>\n",
       "      <td>102777</td>\n",
       "    </tr>\n",
       "    <tr>\n",
       "      <th>3</th>\n",
       "      <td>201706</td>\n",
       "      <td>Finland</td>\n",
       "      <td>Exports</td>\n",
       "      <td>Pharmaceutical goods</td>\n",
       "      <td>101360</td>\n",
       "    </tr>\n",
       "    <tr>\n",
       "      <th>4</th>\n",
       "      <td>201703</td>\n",
       "      <td>Senegal</td>\n",
       "      <td>Exports</td>\n",
       "      <td>Pharmaceutical goods</td>\n",
       "      <td>29884</td>\n",
       "    </tr>\n",
       "  </tbody>\n",
       "</table>\n",
       "</div>"
      ],
      "text/plain": [
       "   Period       Partner Trade Flow             Commodity  Trade Value (US$)\n",
       "0  201703    Luxembourg    Exports  Pharmaceutical goods              32055\n",
       "1  201706      Slovenia    Exports  Pharmaceutical goods              24712\n",
       "2  201706  South Africa    Exports  Pharmaceutical goods             102777\n",
       "3  201706       Finland    Exports  Pharmaceutical goods             101360\n",
       "4  201703       Senegal    Exports  Pharmaceutical goods              29884"
      ]
     },
     "execution_count": 23,
     "metadata": {},
     "output_type": "execute_result"
    }
   ],
   "source": [
    "Product = Product[Product['Partner'] != 'World']\n",
    "Product.head()"
   ]
  },
  {
   "cell_type": "markdown",
   "metadata": {},
   "source": [
    "# Total trade flow\n",
    "To answer the first question, 'how much does France export and import and is the balance positive (more exports than imports)?', the dataframe is split into two groups: exports from France and imports into France. The trade values within each group are summed up to get the total trading."
   ]
  },
  {
   "cell_type": "code",
   "execution_count": 8,
   "metadata": {},
   "outputs": [
    {
     "data": {
      "text/plain": [
       "Trade Flow\n",
       "Exports     990290319\n",
       "Imports    1154930792\n",
       "Name: Trade Value (US$), dtype: int64"
      ]
     },
     "execution_count": 8,
     "metadata": {},
     "output_type": "execute_result"
    }
   ],
   "source": [
    "grouped = Product.groupby([\"Trade Flow\"])\n",
    "grouped[\"Trade Value (US$)\"].aggregate(sum)"
   ]
  },
  {
   "cell_type": "markdown",
   "metadata": {},
   "source": [
    "This shows a trade deficit of over 100 million dollars."
   ]
  },
  {
   "cell_type": "markdown",
   "metadata": {},
   "source": [
    "# Main trade partners\n",
    "To address the second question, 'Which are the main trading partners, i.e. from/to which countries does France import/export the most?', the dataframe is split by country instead, and then each group aggregated for the total trade value. This is done separately for imports and exports. The result is sorted in descending order so that the main partners are at the top."
   ]
  },
  {
   "cell_type": "code",
   "execution_count": 25,
   "metadata": {},
   "outputs": [
    {
     "name": "stdout",
     "output_type": "stream",
     "text": [
      "France imports from 83 countries.\n",
      "France imports the most from:\n"
     ]
    },
    {
     "data": {
      "text/plain": [
       "Partner\n",
       "Germany                     90067626\n",
       "Italy                       61410225\n",
       "Ireland                     54440826\n",
       "United States of America    52927685\n",
       "Netherlands                 52677779\n",
       "Name: Trade Value (US$), dtype: int64"
      ]
     },
     "execution_count": 25,
     "metadata": {},
     "output_type": "execute_result"
    }
   ],
   "source": [
    "imports = Product[Product['Trade Flow'] == 'Imports']\n",
    "grouped = imports.groupby(['Partner'])\n",
    "print('France imports from', len(grouped), 'countries.')\n",
    "print('France imports the most from:')\n",
    "totalImports = grouped['Trade Value (US$)'].aggregate(sum).sort_values(inplace=False,ascending=False)\n",
    "totalImports.head()"
   ]
  },
  {
   "cell_type": "markdown",
   "metadata": {},
   "source": [
    "The export values can be plotted as a bar chart, making differences between countries easier to see."
   ]
  },
  {
   "cell_type": "code",
   "execution_count": 27,
   "metadata": {},
   "outputs": [
    {
     "data": {
      "text/plain": [
       "<AxesSubplot:ylabel='Partner'>"
      ]
     },
     "execution_count": 27,
     "metadata": {},
     "output_type": "execute_result"
    },
    {
     "data": {
      "image/png": "[encoded data removed]",
      "text/plain": [
       "<Figure size 432x288 with 1 Axes>"
      ]
     },
     "metadata": {
      "needs_background": "light"
     },
     "output_type": "display_data"
    }
   ],
   "source": [
    "totalImports.head(10).plot(kind='barh')"
   ]
  },
  {
   "cell_type": "code",
   "execution_count": 28,
   "metadata": {},
   "outputs": [
    {
     "name": "stdout",
     "output_type": "stream",
     "text": [
      "France exports to 162 countries.\n",
      "France exports the most to:\n"
     ]
    },
    {
     "data": {
      "text/plain": [
       "Partner\n",
       "Spain                       72290567\n",
       "Germany                     53750510\n",
       "China, Hong Kong SAR        52532647\n",
       "United States of America    47504643\n",
       "Belgium                     39050144\n",
       "Name: Trade Value (US$), dtype: int64"
      ]
     },
     "execution_count": 28,
     "metadata": {},
     "output_type": "execute_result"
    }
   ],
   "source": [
    "exports = Product[Product['Trade Flow'] == 'Exports']\n",
    "grouped = exports.groupby(['Partner'])\n",
    "print('France exports to', len(grouped), 'countries.')\n",
    "print('France exports the most to:')\n",
    "totalExports=grouped['Trade Value (US$)'].aggregate(sum).sort_values(ascending=False,inplace=False).head()\n",
    "totalExports.head()"
   ]
  },
  {
   "cell_type": "code",
   "execution_count": 30,
   "metadata": {},
   "outputs": [
    {
     "data": {
      "text/plain": [
       "<AxesSubplot:ylabel='Partner'>"
      ]
     },
     "execution_count": 30,
     "metadata": {},
     "output_type": "execute_result"
    },
    {
     "data": {
      "image/png": "[encoded data removed]",
      "text/plain": [
       "<Figure size 432x288 with 1 Axes>"
      ]
     },
     "metadata": {
      "needs_background": "light"
     },
     "output_type": "display_data"
    }
   ],
   "source": [
    "totalExports.head(10).plot(kind='barh')"
   ]
  },
  {
   "cell_type": "markdown",
   "metadata": {},
   "source": [
    "# Regular importers\n",
    "Given that there are two commodities, the third question, 'Which are the regular customers, i.e. which countries buys Pharmaceutical Produts from France every month?', is meant in the sense that a regular customer imports both commodities every month. This means that if the exports dataframe is grouped by country, each group has exactly ten rows (two commodities bought each of the five months). To see the countries, only the first month of one commodity has to be listed, as by definition it's the same countries every month and for the other commodity."
   ]
  },
  {
   "cell_type": "code",
   "execution_count": 32,
   "metadata": {},
   "outputs": [
    {
     "data": {
      "text/html": [
       "<div>\n",
       "<style scoped>\n",
       "    .dataframe tbody tr th:only-of-type {\n",
       "        vertical-align: middle;\n",
       "    }\n",
       "\n",
       "    .dataframe tbody tr th {\n",
       "        vertical-align: top;\n",
       "    }\n",
       "\n",
       "    .dataframe thead th {\n",
       "        text-align: right;\n",
       "    }\n",
       "</style>\n",
       "<table border=\"1\" class=\"dataframe\">\n",
       "  <thead>\n",
       "    <tr style=\"text-align: right;\">\n",
       "      <th></th>\n",
       "      <th>Period</th>\n",
       "      <th>Partner</th>\n",
       "      <th>Trade Flow</th>\n",
       "      <th>Commodity</th>\n",
       "      <th>Trade Value (US$)</th>\n",
       "    </tr>\n",
       "  </thead>\n",
       "  <tbody>\n",
       "    <tr>\n",
       "      <th>1937</th>\n",
       "      <td>201701</td>\n",
       "      <td>El Salvador</td>\n",
       "      <td>Exports</td>\n",
       "      <td>Pharmaceutical goods</td>\n",
       "      <td>3360</td>\n",
       "    </tr>\n",
       "    <tr>\n",
       "      <th>2040</th>\n",
       "      <td>201701</td>\n",
       "      <td>Indonesia</td>\n",
       "      <td>Exports</td>\n",
       "      <td>Pharmaceutical goods</td>\n",
       "      <td>4949</td>\n",
       "    </tr>\n",
       "  </tbody>\n",
       "</table>\n",
       "</div>"
      ],
      "text/plain": [
       "      Period      Partner Trade Flow             Commodity  Trade Value (US$)\n",
       "1937  201701  El Salvador    Exports  Pharmaceutical goods               3360\n",
       "2040  201701    Indonesia    Exports  Pharmaceutical goods               4949"
      ]
     },
     "execution_count": 32,
     "metadata": {},
     "output_type": "execute_result"
    }
   ],
   "source": [
    "def buysEveryMonth(group):\n",
    "    return len(group) == 10\n",
    "\n",
    "\n",
    "grouped = exports.groupby(['Partner'])\n",
    "regular = grouped.filter(buysEveryMonth)\n",
    "regular[(regular['Period'] == 201701) & (regular['Commodity']== 'Pharmaceutical goods')]"
   ]
  },
  {
   "cell_type": "code",
   "execution_count": 33,
   "metadata": {},
   "outputs": [
    {
     "data": {
      "text/plain": [
       "0.0022120018209932546"
      ]
     },
     "execution_count": 33,
     "metadata": {},
     "output_type": "execute_result"
    }
   ],
   "source": [
    "regular['Trade Value (US$)'].sum() / exports['Trade Value (US$)'].sum()"
   ]
  },
  {
   "cell_type": "markdown",
   "metadata": {},
   "source": [
    "# Bi-directional trade\n",
    "To address the fourth question, 'Which countries does France both import from and export to?', a pivot table is used to list the total export and import value for each country."
   ]
  },
  {
   "cell_type": "code",
   "execution_count": 34,
   "metadata": {},
   "outputs": [
    {
     "data": {
      "text/html": [
       "<div>\n",
       "<style scoped>\n",
       "    .dataframe tbody tr th:only-of-type {\n",
       "        vertical-align: middle;\n",
       "    }\n",
       "\n",
       "    .dataframe tbody tr th {\n",
       "        vertical-align: top;\n",
       "    }\n",
       "\n",
       "    .dataframe thead th {\n",
       "        text-align: right;\n",
       "    }\n",
       "</style>\n",
       "<table border=\"1\" class=\"dataframe\">\n",
       "  <thead>\n",
       "    <tr style=\"text-align: right;\">\n",
       "      <th>Trade Flow</th>\n",
       "      <th>Exports</th>\n",
       "      <th>Imports</th>\n",
       "    </tr>\n",
       "    <tr>\n",
       "      <th>Partner</th>\n",
       "      <th></th>\n",
       "      <th></th>\n",
       "    </tr>\n",
       "  </thead>\n",
       "  <tbody>\n",
       "    <tr>\n",
       "      <th>Afghanistan</th>\n",
       "      <td>197.0</td>\n",
       "      <td>NaN</td>\n",
       "    </tr>\n",
       "    <tr>\n",
       "      <th>Albania</th>\n",
       "      <td>86673.0</td>\n",
       "      <td>NaN</td>\n",
       "    </tr>\n",
       "    <tr>\n",
       "      <th>Algeria</th>\n",
       "      <td>5469941.0</td>\n",
       "      <td>1827.0</td>\n",
       "    </tr>\n",
       "    <tr>\n",
       "      <th>Andorra</th>\n",
       "      <td>79192.0</td>\n",
       "      <td>NaN</td>\n",
       "    </tr>\n",
       "    <tr>\n",
       "      <th>Angola</th>\n",
       "      <td>8012.0</td>\n",
       "      <td>NaN</td>\n",
       "    </tr>\n",
       "  </tbody>\n",
       "</table>\n",
       "</div>"
      ],
      "text/plain": [
       "Trade Flow     Exports  Imports\n",
       "Partner                        \n",
       "Afghanistan      197.0      NaN\n",
       "Albania        86673.0      NaN\n",
       "Algeria      5469941.0   1827.0\n",
       "Andorra        79192.0      NaN\n",
       "Angola          8012.0      NaN"
      ]
     },
     "execution_count": 34,
     "metadata": {},
     "output_type": "execute_result"
    }
   ],
   "source": [
    "countries = pivot_table(Product, index=['Partner'], columns=['Trade Flow'], \n",
    "                        values='Trade Value (US$)', aggfunc=sum)\n",
    "countries.head()"
   ]
  },
  {
   "cell_type": "markdown",
   "metadata": {},
   "source": [
    "Removing the rows with a missing value will result in only those countries with bi-directional trade flow with France."
   ]
  },
  {
   "cell_type": "code",
   "execution_count": 35,
   "metadata": {},
   "outputs": [
    {
     "data": {
      "text/html": [
       "<div>\n",
       "<style scoped>\n",
       "    .dataframe tbody tr th:only-of-type {\n",
       "        vertical-align: middle;\n",
       "    }\n",
       "\n",
       "    .dataframe tbody tr th {\n",
       "        vertical-align: top;\n",
       "    }\n",
       "\n",
       "    .dataframe thead th {\n",
       "        text-align: right;\n",
       "    }\n",
       "</style>\n",
       "<table border=\"1\" class=\"dataframe\">\n",
       "  <thead>\n",
       "    <tr style=\"text-align: right;\">\n",
       "      <th>Trade Flow</th>\n",
       "      <th>Exports</th>\n",
       "      <th>Imports</th>\n",
       "    </tr>\n",
       "    <tr>\n",
       "      <th>Partner</th>\n",
       "      <th></th>\n",
       "      <th></th>\n",
       "    </tr>\n",
       "  </thead>\n",
       "  <tbody>\n",
       "    <tr>\n",
       "      <th>Algeria</th>\n",
       "      <td>5469941.0</td>\n",
       "      <td>1827.0</td>\n",
       "    </tr>\n",
       "    <tr>\n",
       "      <th>Argentina</th>\n",
       "      <td>1372935.0</td>\n",
       "      <td>2831558.0</td>\n",
       "    </tr>\n",
       "    <tr>\n",
       "      <th>Australia</th>\n",
       "      <td>2383276.0</td>\n",
       "      <td>2920.0</td>\n",
       "    </tr>\n",
       "    <tr>\n",
       "      <th>Austria</th>\n",
       "      <td>3275584.0</td>\n",
       "      <td>26605787.0</td>\n",
       "    </tr>\n",
       "    <tr>\n",
       "      <th>Bangladesh</th>\n",
       "      <td>47588.0</td>\n",
       "      <td>16.0</td>\n",
       "    </tr>\n",
       "    <tr>\n",
       "      <th>...</th>\n",
       "      <td>...</td>\n",
       "      <td>...</td>\n",
       "    </tr>\n",
       "    <tr>\n",
       "      <th>Tunisia</th>\n",
       "      <td>1586663.0</td>\n",
       "      <td>4994686.0</td>\n",
       "    </tr>\n",
       "    <tr>\n",
       "      <th>Turkey</th>\n",
       "      <td>8646304.0</td>\n",
       "      <td>532204.0</td>\n",
       "    </tr>\n",
       "    <tr>\n",
       "      <th>United Kingdom</th>\n",
       "      <td>12185065.0</td>\n",
       "      <td>17470032.0</td>\n",
       "    </tr>\n",
       "    <tr>\n",
       "      <th>United States of America</th>\n",
       "      <td>47504643.0</td>\n",
       "      <td>52927685.0</td>\n",
       "    </tr>\n",
       "    <tr>\n",
       "      <th>Viet Nam</th>\n",
       "      <td>1815386.0</td>\n",
       "      <td>42378.0</td>\n",
       "    </tr>\n",
       "  </tbody>\n",
       "</table>\n",
       "<p>78 rows × 2 columns</p>\n",
       "</div>"
      ],
      "text/plain": [
       "Trade Flow                   Exports     Imports\n",
       "Partner                                         \n",
       "Algeria                    5469941.0      1827.0\n",
       "Argentina                  1372935.0   2831558.0\n",
       "Australia                  2383276.0      2920.0\n",
       "Austria                    3275584.0  26605787.0\n",
       "Bangladesh                   47588.0        16.0\n",
       "...                              ...         ...\n",
       "Tunisia                    1586663.0   4994686.0\n",
       "Turkey                     8646304.0    532204.0\n",
       "United Kingdom            12185065.0  17470032.0\n",
       "United States of America  47504643.0  52927685.0\n",
       "Viet Nam                   1815386.0     42378.0\n",
       "\n",
       "[78 rows x 2 columns]"
      ]
     },
     "execution_count": 35,
     "metadata": {},
     "output_type": "execute_result"
    }
   ],
   "source": [
    "countries.dropna()"
   ]
  },
  {
   "cell_type": "markdown",
   "metadata": {},
   "source": [
    "# Conclusions\n",
    "The trade of pharmaceutical products of France form January to December 2017 was analysed in terms of which countries France mostly depends on for income (exports) and goods (imports). Over the period, France had a trade deficit of over 100 million US dollars.\n",
    "\n",
    "France imports the most from Gremany and exports the most to Spain.\n",
    "\n",
    "France exported to over 162 countries during the period, but only imported from 83 countries, the main ones (top five by trade value) being geographically close. China and Hong Kong are the main importers that are not also main exporters.\n",
    "\n",
    "France has bi-directional trade (i.e. both exports and imports) with 73 countries, although a few of the trade value (in US dollars) with some countries is suspiciously low, which raises questions about the data's accuracy.\n"
   ]
  },
  {
   "cell_type": "code",
   "execution_count": null,
   "metadata": {},
   "outputs": [],
   "source": []
  }
 ],
 "metadata": {
  "kernelspec": {
   "display_name": "Python 3",
   "language": "python",
   "name": "python3"
  },
  "language_info": {
   "codemirror_mode": {
    "name": "ipython",
    "version": 3
   },
   "file_extension": ".py",
   "mimetype": "text/x-python",
   "name": "python",
   "nbconvert_exporter": "python",
   "pygments_lexer": "ipython3",
   "version": "3.8.5"
  }
 },
 "nbformat": 4,
 "nbformat_minor": 4
}
