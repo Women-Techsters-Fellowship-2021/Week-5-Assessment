{
 "cells": [
  {
   "cell_type": "markdown",
   "id": "6bacb6e4",
   "metadata": {},
   "source": [
    "# Project : Holiday weather for Moscow in 2014\n",
    "There is nothing I like better than taking a holiday. In this project I am going to use the historic weather data from the Weather Underground for moscow to try to predict two good weather weeks to take off as holiday. Of course the weather in the summer of 2016 may be very different to 2014 but it should give some indication of when would be a good time to take a summer break.\n",
    "\n",
    "Getting the data\n",
    "Weather Underground keeps historical weather data collected in many airports around the world. Right-click on the following URL and choose 'Open Link in New Window' (or similar, depending on your browser):\n",
    "\n",
    "http://www.wunderground.com/history\n",
    "\n",
    "When the new page opens start typing 'LHR' in the 'Location' input box and when the pop up menu comes up with the option 'LHR, United Kingdom' select it and then click on 'Submit'.\n",
    "\n",
    "When the next page opens with moscow Heathrow data, click on the 'Custom' tab and select the time period From: 1 January 2014 to: 31 December 2014 and then click on 'Get History'. The data for that year should then be displayed further down the page.\n",
    "\n",
    "You can copy each month's data directly from the browser to a text editor like Notepad or TextEdit, to obtain a single file with as many months as you wish.\n",
    "\n",
    "Weather Underground has changed in the past the way it provides data and may do so again in the future. I have therefore collated the whole 2014 data in the provided 'Moscow_SVO_2014.csv' file which can be found in the project folder.\n",
    "\n",
    "Now load the CSV file into a dataframe making sure that any extra spaces are skipped:"
   ]
  },
  {
   "cell_type": "code",
   "execution_count": 1,
   "id": "06755c54",
   "metadata": {},
   "outputs": [],
   "source": [
    "import warnings\n",
    "warnings.simplefilter('ignore', FutureWarning)\n",
    "\n",
    "import pandas as pd\n",
    "moscow = pd.read_csv('Moscow_SVO_2014.csv', skipinitialspace=True)\n",
    "\n",
    "from datetime import datetime"
   ]
  },
  {
   "cell_type": "markdown",
   "id": "75442c29",
   "metadata": {},
   "source": [
    "# Cleaning the data\n",
    "First we need to clean up the data. I'm not going to make use of 'WindDirDegrees' in my analysis, it will be renamed 'WindDirDegrees< br />' to 'WindDirDegrees'."
   ]
  },
  {
   "cell_type": "code",
   "execution_count": 2,
   "id": "3daee1a8",
   "metadata": {},
   "outputs": [],
   "source": [
    "moscow = moscow.rename(columns={'WindDirDegrees<br />' : 'WindDirDegrees'})"
   ]
  },
  {
   "cell_type": "markdown",
   "id": "68543626",
   "metadata": {},
   "source": [
    "Remove the < br /> html line breaks from the values in the 'WindDirDegrees' column."
   ]
  },
  {
   "cell_type": "code",
   "execution_count": 3,
   "id": "baeb729c",
   "metadata": {},
   "outputs": [],
   "source": [
    "moscow['WindDirDegrees'] = moscow['WindDirDegrees'].str.rstrip('<br />')"
   ]
  },
  {
   "cell_type": "markdown",
   "id": "1de51ab1",
   "metadata": {},
   "source": [
    "All the values in the 'WindDirDegrees' column will be changed to float64:"
   ]
  },
  {
   "cell_type": "code",
   "execution_count": 4,
   "id": "1d203c8c",
   "metadata": {},
   "outputs": [],
   "source": [
    "moscow['WindDirDegrees'] = moscow['WindDirDegrees'].astype('float64')   "
   ]
  },
  {
   "cell_type": "markdown",
   "id": "05d84ca6",
   "metadata": {},
   "source": [
    "We definitely need to change the values in the 'Date' column into values of the datetime64 date type."
   ]
  },
  {
   "cell_type": "code",
   "execution_count": 5,
   "id": "53ec91f6",
   "metadata": {},
   "outputs": [],
   "source": [
    "moscow['Date'] = pd.to_datetime(moscow['Date'])"
   ]
  },
  {
   "cell_type": "markdown",
   "id": "f7d667e4",
   "metadata": {},
   "source": [
    "We also need to change the index from the default to the datetime64 values in the 'Date' column so that it is easier to pull out rows between particular dates and display more meaningful graphs:"
   ]
  },
  {
   "cell_type": "code",
   "execution_count": 6,
   "id": "78758054",
   "metadata": {},
   "outputs": [],
   "source": [
    "moscow.index = moscow['Date']"
   ]
  },
  {
   "cell_type": "markdown",
   "id": "8449980d",
   "metadata": {},
   "source": [
    "# Finding a summer break\n",
    "According to meteorologists, summer extends for the whole months of June, July, and August in the northern hemisphere and the whole months of December, January, and February in the southern hemisphere. So as I'm in the northern hemisphere I'm going to create a dataframe that holds just those months using the datetime index, like this:"
   ]
  },
  {
   "cell_type": "code",
   "execution_count": 7,
   "id": "b65a726f",
   "metadata": {},
   "outputs": [],
   "source": [
    "summer = moscow.loc[datetime(2014,6,1) : datetime(2014,8,31)]"
   ]
  },
  {
   "cell_type": "markdown",
   "id": "9eefe63c",
   "metadata": {},
   "source": [
    "I now look for the days with warm temperatures."
   ]
  },
  {
   "cell_type": "code",
   "execution_count": 8,
   "id": "3132e801",
   "metadata": {},
   "outputs": [
    {
     "data": {
      "text/html": [
       "<div>\n",
       "<style scoped>\n",
       "    .dataframe tbody tr th:only-of-type {\n",
       "        vertical-align: middle;\n",
       "    }\n",
       "\n",
       "    .dataframe tbody tr th {\n",
       "        vertical-align: top;\n",
       "    }\n",
       "\n",
       "    .dataframe thead th {\n",
       "        text-align: right;\n",
       "    }\n",
       "</style>\n",
       "<table border=\"1\" class=\"dataframe\">\n",
       "  <thead>\n",
       "    <tr style=\"text-align: right;\">\n",
       "      <th></th>\n",
       "      <th>Date</th>\n",
       "      <th>Max TemperatureC</th>\n",
       "      <th>Mean TemperatureC</th>\n",
       "      <th>Min TemperatureC</th>\n",
       "      <th>Dew PointC</th>\n",
       "      <th>MeanDew PointC</th>\n",
       "      <th>Min DewpointC</th>\n",
       "      <th>Max Humidity</th>\n",
       "      <th>Mean Humidity</th>\n",
       "      <th>Min Humidity</th>\n",
       "      <th>...</th>\n",
       "      <th>Max VisibilityKm</th>\n",
       "      <th>Mean VisibilityKm</th>\n",
       "      <th>Min VisibilitykM</th>\n",
       "      <th>Max Wind SpeedKm/h</th>\n",
       "      <th>Mean Wind SpeedKm/h</th>\n",
       "      <th>Max Gust SpeedKm/h</th>\n",
       "      <th>Precipitationmm</th>\n",
       "      <th>CloudCover</th>\n",
       "      <th>Events</th>\n",
       "      <th>WindDirDegrees</th>\n",
       "    </tr>\n",
       "    <tr>\n",
       "      <th>Date</th>\n",
       "      <th></th>\n",
       "      <th></th>\n",
       "      <th></th>\n",
       "      <th></th>\n",
       "      <th></th>\n",
       "      <th></th>\n",
       "      <th></th>\n",
       "      <th></th>\n",
       "      <th></th>\n",
       "      <th></th>\n",
       "      <th></th>\n",
       "      <th></th>\n",
       "      <th></th>\n",
       "      <th></th>\n",
       "      <th></th>\n",
       "      <th></th>\n",
       "      <th></th>\n",
       "      <th></th>\n",
       "      <th></th>\n",
       "      <th></th>\n",
       "      <th></th>\n",
       "    </tr>\n",
       "  </thead>\n",
       "  <tbody>\n",
       "    <tr>\n",
       "      <th>2014-06-01</th>\n",
       "      <td>2014-06-01</td>\n",
       "      <td>26</td>\n",
       "      <td>18</td>\n",
       "      <td>10</td>\n",
       "      <td>9</td>\n",
       "      <td>5</td>\n",
       "      <td>1</td>\n",
       "      <td>76</td>\n",
       "      <td>42</td>\n",
       "      <td>20</td>\n",
       "      <td>...</td>\n",
       "      <td>9.0</td>\n",
       "      <td>9.0</td>\n",
       "      <td>9.0</td>\n",
       "      <td>32</td>\n",
       "      <td>18</td>\n",
       "      <td>47.0</td>\n",
       "      <td>0.0</td>\n",
       "      <td>3.0</td>\n",
       "      <td>NaN</td>\n",
       "      <td>116.0</td>\n",
       "    </tr>\n",
       "    <tr>\n",
       "      <th>2014-06-02</th>\n",
       "      <td>2014-06-02</td>\n",
       "      <td>27</td>\n",
       "      <td>22</td>\n",
       "      <td>17</td>\n",
       "      <td>12</td>\n",
       "      <td>8</td>\n",
       "      <td>4</td>\n",
       "      <td>68</td>\n",
       "      <td>42</td>\n",
       "      <td>23</td>\n",
       "      <td>...</td>\n",
       "      <td>10.0</td>\n",
       "      <td>10.0</td>\n",
       "      <td>10.0</td>\n",
       "      <td>29</td>\n",
       "      <td>16</td>\n",
       "      <td>43.0</td>\n",
       "      <td>0.0</td>\n",
       "      <td>7.0</td>\n",
       "      <td>Rain</td>\n",
       "      <td>115.0</td>\n",
       "    </tr>\n",
       "    <tr>\n",
       "      <th>2014-06-03</th>\n",
       "      <td>2014-06-03</td>\n",
       "      <td>29</td>\n",
       "      <td>20</td>\n",
       "      <td>12</td>\n",
       "      <td>11</td>\n",
       "      <td>6</td>\n",
       "      <td>3</td>\n",
       "      <td>77</td>\n",
       "      <td>40</td>\n",
       "      <td>19</td>\n",
       "      <td>...</td>\n",
       "      <td>NaN</td>\n",
       "      <td>NaN</td>\n",
       "      <td>NaN</td>\n",
       "      <td>21</td>\n",
       "      <td>13</td>\n",
       "      <td>35.0</td>\n",
       "      <td>0.0</td>\n",
       "      <td>NaN</td>\n",
       "      <td>NaN</td>\n",
       "      <td>137.0</td>\n",
       "    </tr>\n",
       "    <tr>\n",
       "      <th>2014-06-04</th>\n",
       "      <td>2014-06-04</td>\n",
       "      <td>29</td>\n",
       "      <td>20</td>\n",
       "      <td>11</td>\n",
       "      <td>12</td>\n",
       "      <td>8</td>\n",
       "      <td>2</td>\n",
       "      <td>82</td>\n",
       "      <td>45</td>\n",
       "      <td>18</td>\n",
       "      <td>...</td>\n",
       "      <td>8.0</td>\n",
       "      <td>8.0</td>\n",
       "      <td>8.0</td>\n",
       "      <td>26</td>\n",
       "      <td>11</td>\n",
       "      <td>43.0</td>\n",
       "      <td>0.0</td>\n",
       "      <td>1.0</td>\n",
       "      <td>NaN</td>\n",
       "      <td>108.0</td>\n",
       "    </tr>\n",
       "    <tr>\n",
       "      <th>2014-06-05</th>\n",
       "      <td>2014-06-05</td>\n",
       "      <td>31</td>\n",
       "      <td>22</td>\n",
       "      <td>14</td>\n",
       "      <td>14</td>\n",
       "      <td>8</td>\n",
       "      <td>2</td>\n",
       "      <td>77</td>\n",
       "      <td>44</td>\n",
       "      <td>16</td>\n",
       "      <td>...</td>\n",
       "      <td>NaN</td>\n",
       "      <td>NaN</td>\n",
       "      <td>NaN</td>\n",
       "      <td>18</td>\n",
       "      <td>10</td>\n",
       "      <td>35.0</td>\n",
       "      <td>0.0</td>\n",
       "      <td>NaN</td>\n",
       "      <td>NaN</td>\n",
       "      <td>116.0</td>\n",
       "    </tr>\n",
       "  </tbody>\n",
       "</table>\n",
       "<p>5 rows × 23 columns</p>\n",
       "</div>"
      ],
      "text/plain": [
       "                 Date  Max TemperatureC  Mean TemperatureC  Min TemperatureC  \\\n",
       "Date                                                                           \n",
       "2014-06-01 2014-06-01                26                 18                10   \n",
       "2014-06-02 2014-06-02                27                 22                17   \n",
       "2014-06-03 2014-06-03                29                 20                12   \n",
       "2014-06-04 2014-06-04                29                 20                11   \n",
       "2014-06-05 2014-06-05                31                 22                14   \n",
       "\n",
       "            Dew PointC  MeanDew PointC  Min DewpointC  Max Humidity  \\\n",
       "Date                                                                  \n",
       "2014-06-01           9               5              1            76   \n",
       "2014-06-02          12               8              4            68   \n",
       "2014-06-03          11               6              3            77   \n",
       "2014-06-04          12               8              2            82   \n",
       "2014-06-05          14               8              2            77   \n",
       "\n",
       "            Mean Humidity  Min Humidity  ...  Max VisibilityKm  \\\n",
       "Date                                     ...                     \n",
       "2014-06-01             42            20  ...               9.0   \n",
       "2014-06-02             42            23  ...              10.0   \n",
       "2014-06-03             40            19  ...               NaN   \n",
       "2014-06-04             45            18  ...               8.0   \n",
       "2014-06-05             44            16  ...               NaN   \n",
       "\n",
       "            Mean VisibilityKm  Min VisibilitykM  Max Wind SpeedKm/h  \\\n",
       "Date                                                                  \n",
       "2014-06-01                9.0               9.0                  32   \n",
       "2014-06-02               10.0              10.0                  29   \n",
       "2014-06-03                NaN               NaN                  21   \n",
       "2014-06-04                8.0               8.0                  26   \n",
       "2014-06-05                NaN               NaN                  18   \n",
       "\n",
       "            Mean Wind SpeedKm/h  Max Gust SpeedKm/h  Precipitationmm  \\\n",
       "Date                                                                   \n",
       "2014-06-01                   18                47.0              0.0   \n",
       "2014-06-02                   16                43.0              0.0   \n",
       "2014-06-03                   13                35.0              0.0   \n",
       "2014-06-04                   11                43.0              0.0   \n",
       "2014-06-05                   10                35.0              0.0   \n",
       "\n",
       "            CloudCover  Events  WindDirDegrees  \n",
       "Date                                            \n",
       "2014-06-01         3.0     NaN           116.0  \n",
       "2014-06-02         7.0    Rain           115.0  \n",
       "2014-06-03         NaN     NaN           137.0  \n",
       "2014-06-04         1.0     NaN           108.0  \n",
       "2014-06-05         NaN     NaN           116.0  \n",
       "\n",
       "[5 rows x 23 columns]"
      ]
     },
     "execution_count": 8,
     "metadata": {},
     "output_type": "execute_result"
    }
   ],
   "source": [
    "summer[summer['Mean TemperatureC'] >= 25]\n",
    "summer.head()"
   ]
  },
  {
   "cell_type": "markdown",
   "id": "0d538b86",
   "metadata": {},
   "source": [
    "Summer 2014 was rather cool in moscow: there are no days with temperatures of 25 Celsius or higher. Best to see a graph of the temperature and look for the warmest period.\n",
    "\n",
    "So next we tell Jupyter to display any graph created inside this notebook:"
   ]
  },
  {
   "cell_type": "code",
   "execution_count": 9,
   "id": "ae28c5c2",
   "metadata": {},
   "outputs": [],
   "source": [
    "%matplotlib inline"
   ]
  },
  {
   "cell_type": "markdown",
   "id": "660fa95b",
   "metadata": {},
   "source": [
    "Now let's plot the 'Mean TemperatureC' for the summer:"
   ]
  },
  {
   "cell_type": "code",
   "execution_count": 10,
   "id": "4ce03932",
   "metadata": {},
   "outputs": [
    {
     "data": {
      "text/plain": [
       "<AxesSubplot:xlabel='Date'>"
      ]
     },
     "execution_count": 10,
     "metadata": {},
     "output_type": "execute_result"
    },
    {
     "data": {
      "image/png": "[encoded data removed]",
      "text/plain": [
       "<Figure size 720x360 with 1 Axes>"
      ]
     },
     "metadata": {
      "needs_background": "light"
     },
     "output_type": "display_data"
    }
   ],
   "source": [
    "summer['Mean TemperatureC'].plot(grid=True, figsize=(10,5))"
   ]
  },
  {
   "cell_type": "markdown",
   "id": "1290ec32",
   "metadata": {},
   "source": [
    "\n",
    "Well looking at the graph the second half of July looks good for mean temperatures over 20 degrees C so let's also put precipitation on the graph too:"
   ]
  },
  {
   "cell_type": "code",
   "execution_count": 11,
   "id": "f4db9397",
   "metadata": {},
   "outputs": [
    {
     "data": {
      "text/plain": [
       "<AxesSubplot:xlabel='Date'>"
      ]
     },
     "execution_count": 11,
     "metadata": {},
     "output_type": "execute_result"
    },
    {
     "data": {
      "image/png": "[encoded data removed]",
      "text/plain": [
       "<Figure size 720x360 with 1 Axes>"
      ]
     },
     "metadata": {
      "needs_background": "light"
     },
     "output_type": "display_data"
    }
   ],
   "source": [
    "summer[['Mean TemperatureC', 'Precipitationmm']].plot(grid=True, figsize=(10,5))"
   ]
  },
  {
   "cell_type": "markdown",
   "id": "1db6442e",
   "metadata": {},
   "source": [
    "The late half of july and first half of August is still looking good, with just a couple of peaks showing heavy rain. Let's have a closer look by just plotting mean temperature and precipitation for July and August."
   ]
  },
  {
   "cell_type": "code",
   "execution_count": 12,
   "id": "ccec3f54",
   "metadata": {},
   "outputs": [
    {
     "data": {
      "text/plain": [
       "<AxesSubplot:xlabel='Date'>"
      ]
     },
     "execution_count": 12,
     "metadata": {},
     "output_type": "execute_result"
    },
    {
     "data": {
      "image/png": "[encoded data removed]",
      "text/plain": [
       "<Figure size 720x360 with 1 Axes>"
      ]
     },
     "metadata": {
      "needs_background": "light"
     },
     "output_type": "display_data"
    }
   ],
   "source": [
    "july_aug = summer.loc[datetime(2014,7,24) : datetime(2014,8,7)]\n",
    "july_aug[['Mean TemperatureC', 'Precipitationmm']].plot(grid=True, figsize=(10,5))"
   ]
  },
  {
   "cell_type": "markdown",
   "id": "87ae5263",
   "metadata": {},
   "source": [
    "Yes,  last week of July and first week of August looks pretty good, no rain at all and temperature almost allways above 20\n",
    "\n",
    "# Conclusions\n",
    "The graphs have shown the volatility of a Russsian summer, but a couple of weeks were found when the weather wasn't too bad in 2014. Of course this is no guarantee that the weather pattern will repeat itself in future years. To make a sensible prediction we would need to analyse the summers for many more years. By the time you have finished this course you should be able to do that."
   ]
  },
  {
   "cell_type": "code",
   "execution_count": null,
   "id": "1b09a096",
   "metadata": {},
   "outputs": [],
   "source": []
  }
 ],
 "metadata": {
  "kernelspec": {
   "display_name": "Python 3",
   "language": "python",
   "name": "python3"
  },
  "language_info": {
   "codemirror_mode": {
    "name": "ipython",
    "version": 3
   },
   "file_extension": ".py",
   "mimetype": "text/x-python",
   "name": "python",
   "nbconvert_exporter": "python",
   "pygments_lexer": "ipython3",
   "version": "3.8.8"
  }
 },
 "nbformat": 4,
 "nbformat_minor": 5
}
