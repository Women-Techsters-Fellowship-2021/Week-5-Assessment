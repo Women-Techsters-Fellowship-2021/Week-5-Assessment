{
 "cells": [
  {
   "cell_type": "code",
   "execution_count": 2,
   "id": "818b7024",
   "metadata": {},
   "outputs": [],
   "source": [
    "import warnings\n",
    "warnings.simplefilter('ignore', FutureWarning)\n",
    "\n",
    "import pandas as pd"
   ]
  },
  {
   "cell_type": "code",
   "execution_count": 3,
   "id": "f206f607",
   "metadata": {},
   "outputs": [
    {
     "data": {
      "text/plain": [
       "[['Jordan', 33593843662],\n",
       " ['Kazakhstan', 231876000000.0],\n",
       " ['Kenya', 54930813988],\n",
       " ['Kiribati', 168951535],\n",
       " ['Kosovo', 7073021774]]"
      ]
     },
     "execution_count": 3,
     "metadata": {},
     "output_type": "execute_result"
    }
   ],
   "source": [
    "table = [\n",
    "  ['Jordan', 33593843662],    # 1st row\n",
    "  ['Kazakhstan', 2.31876E+11 ],  # 2nd row\n",
    "  ['Kenya', 54930813988 ], # and so on...\n",
    "  ['Kiribati', 168951535 ],\n",
    "  ['Kosovo', 7073021774]\n",
    "]\n",
    "table"
   ]
  },
  {
   "cell_type": "code",
   "execution_count": 4,
   "id": "68e13759",
   "metadata": {},
   "outputs": [],
   "source": [
    "headings = ['Country name', 'GDP (US$)']\n",
    "gdp = pd.DataFrame(columns=headings, data=table)\n"
   ]
  },
  {
   "cell_type": "code",
   "execution_count": 5,
   "id": "533444af",
   "metadata": {},
   "outputs": [
    {
     "data": {
      "text/plain": [
       "[['India', 67.66041463],\n",
       " ['Kenya', 60.95378049],\n",
       " ['Kosovo', 70.79756098],\n",
       " ['Angola', 51.86617073],\n",
       " ['Malawi', 61.466]]"
      ]
     },
     "execution_count": 5,
     "metadata": {},
     "output_type": "execute_result"
    }
   ],
   "source": [
    "headings = ['Country name', 'Life expectancy (years)']\n",
    "table = [\n",
    "  ['India', 67.66041463],\n",
    "  ['Kenya', 60.95378049],  \n",
    "  ['Kosovo', 70.79756098],\n",
    "  ['Angola', 51.86617073 ],\n",
    "  ['Malawi', 61.466]\n",
    "\n",
    "]\n",
    "life = pd.DataFrame(columns=headings, data=table)\n",
    "headings\n",
    "table"
   ]
  },
  {
   "cell_type": "code",
   "execution_count": 6,
   "id": "78d5404e",
   "metadata": {},
   "outputs": [],
   "source": [
    "def roundToMillions (value):\n",
    "    return round(value / 1000000)\n"
   ]
  },
  {
   "cell_type": "code",
   "execution_count": 7,
   "id": "535b3e9f",
   "metadata": {},
   "outputs": [],
   "source": [
    "def usdToGBP (usd):\n",
    "    return usd / 1.564768"
   ]
  },
  {
   "cell_type": "code",
   "execution_count": 8,
   "id": "ae3666a6",
   "metadata": {},
   "outputs": [
    {
     "data": {
      "text/html": [
       "<div>\n",
       "<style scoped>\n",
       "    .dataframe tbody tr th:only-of-type {\n",
       "        vertical-align: middle;\n",
       "    }\n",
       "\n",
       "    .dataframe tbody tr th {\n",
       "        vertical-align: top;\n",
       "    }\n",
       "\n",
       "    .dataframe thead th {\n",
       "        text-align: right;\n",
       "    }\n",
       "</style>\n",
       "<table border=\"1\" class=\"dataframe\">\n",
       "  <thead>\n",
       "    <tr style=\"text-align: right;\">\n",
       "      <th></th>\n",
       "      <th>Country name</th>\n",
       "      <th>GDP (US$)</th>\n",
       "    </tr>\n",
       "  </thead>\n",
       "  <tbody>\n",
       "    <tr>\n",
       "      <th>0</th>\n",
       "      <td>Jordan</td>\n",
       "      <td>3.359384e+10</td>\n",
       "    </tr>\n",
       "    <tr>\n",
       "      <th>1</th>\n",
       "      <td>Kazakhstan</td>\n",
       "      <td>2.318760e+11</td>\n",
       "    </tr>\n",
       "    <tr>\n",
       "      <th>2</th>\n",
       "      <td>Kenya</td>\n",
       "      <td>5.493081e+10</td>\n",
       "    </tr>\n",
       "    <tr>\n",
       "      <th>3</th>\n",
       "      <td>Kiribati</td>\n",
       "      <td>1.689515e+08</td>\n",
       "    </tr>\n",
       "    <tr>\n",
       "      <th>4</th>\n",
       "      <td>Kosovo</td>\n",
       "      <td>7.073022e+09</td>\n",
       "    </tr>\n",
       "  </tbody>\n",
       "</table>\n",
       "</div>"
      ],
      "text/plain": [
       "  Country name     GDP (US$)\n",
       "0       Jordan  3.359384e+10\n",
       "1   Kazakhstan  2.318760e+11\n",
       "2        Kenya  5.493081e+10\n",
       "3     Kiribati  1.689515e+08\n",
       "4       Kosovo  7.073022e+09"
      ]
     },
     "execution_count": 8,
     "metadata": {},
     "output_type": "execute_result"
    }
   ],
   "source": [
    "gdp"
   ]
  },
  {
   "cell_type": "markdown",
   "id": "22d1490a",
   "metadata": {},
   "source": [
    "# Merging using the left side, right side, inner, outer"
   ]
  },
  {
   "cell_type": "code",
   "execution_count": 9,
   "id": "b607753f",
   "metadata": {},
   "outputs": [
    {
     "data": {
      "text/html": [
       "<div>\n",
       "<style scoped>\n",
       "    .dataframe tbody tr th:only-of-type {\n",
       "        vertical-align: middle;\n",
       "    }\n",
       "\n",
       "    .dataframe tbody tr th {\n",
       "        vertical-align: top;\n",
       "    }\n",
       "\n",
       "    .dataframe thead th {\n",
       "        text-align: right;\n",
       "    }\n",
       "</style>\n",
       "<table border=\"1\" class=\"dataframe\">\n",
       "  <thead>\n",
       "    <tr style=\"text-align: right;\">\n",
       "      <th></th>\n",
       "      <th>Country name</th>\n",
       "      <th>GDP (US$)</th>\n",
       "      <th>Life expectancy (years)</th>\n",
       "    </tr>\n",
       "  </thead>\n",
       "  <tbody>\n",
       "    <tr>\n",
       "      <th>0</th>\n",
       "      <td>Jordan</td>\n",
       "      <td>3.359384e+10</td>\n",
       "      <td>NaN</td>\n",
       "    </tr>\n",
       "    <tr>\n",
       "      <th>1</th>\n",
       "      <td>Kazakhstan</td>\n",
       "      <td>2.318760e+11</td>\n",
       "      <td>NaN</td>\n",
       "    </tr>\n",
       "    <tr>\n",
       "      <th>2</th>\n",
       "      <td>Kenya</td>\n",
       "      <td>5.493081e+10</td>\n",
       "      <td>60.953780</td>\n",
       "    </tr>\n",
       "    <tr>\n",
       "      <th>3</th>\n",
       "      <td>Kiribati</td>\n",
       "      <td>1.689515e+08</td>\n",
       "      <td>NaN</td>\n",
       "    </tr>\n",
       "    <tr>\n",
       "      <th>4</th>\n",
       "      <td>Kosovo</td>\n",
       "      <td>7.073022e+09</td>\n",
       "      <td>70.797561</td>\n",
       "    </tr>\n",
       "  </tbody>\n",
       "</table>\n",
       "</div>"
      ],
      "text/plain": [
       "  Country name     GDP (US$)  Life expectancy (years)\n",
       "0       Jordan  3.359384e+10                      NaN\n",
       "1   Kazakhstan  2.318760e+11                      NaN\n",
       "2        Kenya  5.493081e+10                60.953780\n",
       "3     Kiribati  1.689515e+08                      NaN\n",
       "4       Kosovo  7.073022e+09                70.797561"
      ]
     },
     "execution_count": 9,
     "metadata": {},
     "output_type": "execute_result"
    }
   ],
   "source": [
    "pd.merge(gdp, life, on='Country name', how='left')"
   ]
  },
  {
   "cell_type": "code",
   "execution_count": 10,
   "id": "3d62a356",
   "metadata": {},
   "outputs": [
    {
     "data": {
      "text/html": [
       "<div>\n",
       "<style scoped>\n",
       "    .dataframe tbody tr th:only-of-type {\n",
       "        vertical-align: middle;\n",
       "    }\n",
       "\n",
       "    .dataframe tbody tr th {\n",
       "        vertical-align: top;\n",
       "    }\n",
       "\n",
       "    .dataframe thead th {\n",
       "        text-align: right;\n",
       "    }\n",
       "</style>\n",
       "<table border=\"1\" class=\"dataframe\">\n",
       "  <thead>\n",
       "    <tr style=\"text-align: right;\">\n",
       "      <th></th>\n",
       "      <th>Country name</th>\n",
       "      <th>GDP (US$)</th>\n",
       "      <th>Life expectancy (years)</th>\n",
       "    </tr>\n",
       "  </thead>\n",
       "  <tbody>\n",
       "    <tr>\n",
       "      <th>0</th>\n",
       "      <td>India</td>\n",
       "      <td>NaN</td>\n",
       "      <td>67.660415</td>\n",
       "    </tr>\n",
       "    <tr>\n",
       "      <th>1</th>\n",
       "      <td>Kenya</td>\n",
       "      <td>5.493081e+10</td>\n",
       "      <td>60.953780</td>\n",
       "    </tr>\n",
       "    <tr>\n",
       "      <th>2</th>\n",
       "      <td>Kosovo</td>\n",
       "      <td>7.073022e+09</td>\n",
       "      <td>70.797561</td>\n",
       "    </tr>\n",
       "    <tr>\n",
       "      <th>3</th>\n",
       "      <td>Angola</td>\n",
       "      <td>NaN</td>\n",
       "      <td>51.866171</td>\n",
       "    </tr>\n",
       "    <tr>\n",
       "      <th>4</th>\n",
       "      <td>Malawi</td>\n",
       "      <td>NaN</td>\n",
       "      <td>61.466000</td>\n",
       "    </tr>\n",
       "  </tbody>\n",
       "</table>\n",
       "</div>"
      ],
      "text/plain": [
       "  Country name     GDP (US$)  Life expectancy (years)\n",
       "0        India           NaN                67.660415\n",
       "1        Kenya  5.493081e+10                60.953780\n",
       "2       Kosovo  7.073022e+09                70.797561\n",
       "3       Angola           NaN                51.866171\n",
       "4       Malawi           NaN                61.466000"
      ]
     },
     "execution_count": 10,
     "metadata": {},
     "output_type": "execute_result"
    }
   ],
   "source": [
    "pd.merge(gdp, life, on='Country name', how='right')"
   ]
  },
  {
   "cell_type": "code",
   "execution_count": 11,
   "id": "ebc9e874",
   "metadata": {},
   "outputs": [
    {
     "data": {
      "text/html": [
       "<div>\n",
       "<style scoped>\n",
       "    .dataframe tbody tr th:only-of-type {\n",
       "        vertical-align: middle;\n",
       "    }\n",
       "\n",
       "    .dataframe tbody tr th {\n",
       "        vertical-align: top;\n",
       "    }\n",
       "\n",
       "    .dataframe thead th {\n",
       "        text-align: right;\n",
       "    }\n",
       "</style>\n",
       "<table border=\"1\" class=\"dataframe\">\n",
       "  <thead>\n",
       "    <tr style=\"text-align: right;\">\n",
       "      <th></th>\n",
       "      <th>Country name</th>\n",
       "      <th>GDP (US$)</th>\n",
       "      <th>Life expectancy (years)</th>\n",
       "    </tr>\n",
       "  </thead>\n",
       "  <tbody>\n",
       "    <tr>\n",
       "      <th>0</th>\n",
       "      <td>Kenya</td>\n",
       "      <td>5.493081e+10</td>\n",
       "      <td>60.953780</td>\n",
       "    </tr>\n",
       "    <tr>\n",
       "      <th>1</th>\n",
       "      <td>Kosovo</td>\n",
       "      <td>7.073022e+09</td>\n",
       "      <td>70.797561</td>\n",
       "    </tr>\n",
       "  </tbody>\n",
       "</table>\n",
       "</div>"
      ],
      "text/plain": [
       "  Country name     GDP (US$)  Life expectancy (years)\n",
       "0        Kenya  5.493081e+10                60.953780\n",
       "1       Kosovo  7.073022e+09                70.797561"
      ]
     },
     "execution_count": 11,
     "metadata": {},
     "output_type": "execute_result"
    }
   ],
   "source": [
    "pd.merge(gdp, life, on='Country name', how='inner')"
   ]
  },
  {
   "cell_type": "code",
   "execution_count": 12,
   "id": "e107565c",
   "metadata": {},
   "outputs": [
    {
     "data": {
      "text/html": [
       "<div>\n",
       "<style scoped>\n",
       "    .dataframe tbody tr th:only-of-type {\n",
       "        vertical-align: middle;\n",
       "    }\n",
       "\n",
       "    .dataframe tbody tr th {\n",
       "        vertical-align: top;\n",
       "    }\n",
       "\n",
       "    .dataframe thead th {\n",
       "        text-align: right;\n",
       "    }\n",
       "</style>\n",
       "<table border=\"1\" class=\"dataframe\">\n",
       "  <thead>\n",
       "    <tr style=\"text-align: right;\">\n",
       "      <th></th>\n",
       "      <th>Country name</th>\n",
       "      <th>GDP (US$)</th>\n",
       "      <th>Life expectancy (years)</th>\n",
       "    </tr>\n",
       "  </thead>\n",
       "  <tbody>\n",
       "    <tr>\n",
       "      <th>0</th>\n",
       "      <td>Jordan</td>\n",
       "      <td>3.359384e+10</td>\n",
       "      <td>NaN</td>\n",
       "    </tr>\n",
       "    <tr>\n",
       "      <th>1</th>\n",
       "      <td>Kazakhstan</td>\n",
       "      <td>2.318760e+11</td>\n",
       "      <td>NaN</td>\n",
       "    </tr>\n",
       "    <tr>\n",
       "      <th>2</th>\n",
       "      <td>Kenya</td>\n",
       "      <td>5.493081e+10</td>\n",
       "      <td>60.953780</td>\n",
       "    </tr>\n",
       "    <tr>\n",
       "      <th>3</th>\n",
       "      <td>Kiribati</td>\n",
       "      <td>1.689515e+08</td>\n",
       "      <td>NaN</td>\n",
       "    </tr>\n",
       "    <tr>\n",
       "      <th>4</th>\n",
       "      <td>Kosovo</td>\n",
       "      <td>7.073022e+09</td>\n",
       "      <td>70.797561</td>\n",
       "    </tr>\n",
       "    <tr>\n",
       "      <th>5</th>\n",
       "      <td>India</td>\n",
       "      <td>NaN</td>\n",
       "      <td>67.660415</td>\n",
       "    </tr>\n",
       "    <tr>\n",
       "      <th>6</th>\n",
       "      <td>Angola</td>\n",
       "      <td>NaN</td>\n",
       "      <td>51.866171</td>\n",
       "    </tr>\n",
       "    <tr>\n",
       "      <th>7</th>\n",
       "      <td>Malawi</td>\n",
       "      <td>NaN</td>\n",
       "      <td>61.466000</td>\n",
       "    </tr>\n",
       "  </tbody>\n",
       "</table>\n",
       "</div>"
      ],
      "text/plain": [
       "  Country name     GDP (US$)  Life expectancy (years)\n",
       "0       Jordan  3.359384e+10                      NaN\n",
       "1   Kazakhstan  2.318760e+11                      NaN\n",
       "2        Kenya  5.493081e+10                60.953780\n",
       "3     Kiribati  1.689515e+08                      NaN\n",
       "4       Kosovo  7.073022e+09                70.797561\n",
       "5        India           NaN                67.660415\n",
       "6       Angola           NaN                51.866171\n",
       "7       Malawi           NaN                61.466000"
      ]
     },
     "execution_count": 12,
     "metadata": {},
     "output_type": "execute_result"
    }
   ],
   "source": [
    "pd.merge(gdp, life, on='Country name', how='outer')"
   ]
  },
  {
   "cell_type": "markdown",
   "id": "08e8fab8",
   "metadata": {},
   "source": [
    "constant "
   ]
  },
  {
   "cell_type": "code",
   "execution_count": 14,
   "id": "0e469236",
   "metadata": {},
   "outputs": [
    {
     "name": "stdout",
     "output_type": "stream",
     "text": [
      "Initial dataframe\n",
      "Final dataframe\n"
     ]
    },
    {
     "data": {
      "text/html": [
       "<div>\n",
       "<style scoped>\n",
       "    .dataframe tbody tr th:only-of-type {\n",
       "        vertical-align: middle;\n",
       "    }\n",
       "\n",
       "    .dataframe tbody tr th {\n",
       "        vertical-align: top;\n",
       "    }\n",
       "\n",
       "    .dataframe thead th {\n",
       "        text-align: right;\n",
       "    }\n",
       "</style>\n",
       "<table border=\"1\" class=\"dataframe\">\n",
       "  <thead>\n",
       "    <tr style=\"text-align: right;\">\n",
       "      <th></th>\n",
       "      <th>Country name</th>\n",
       "      <th>Life expectancy</th>\n",
       "      <th>Year 2013</th>\n",
       "    </tr>\n",
       "  </thead>\n",
       "  <tbody>\n",
       "    <tr>\n",
       "      <th>0</th>\n",
       "      <td>Iraq</td>\n",
       "      <td>69</td>\n",
       "      <td>1</td>\n",
       "    </tr>\n",
       "    <tr>\n",
       "      <th>1</th>\n",
       "      <td>Ireland</td>\n",
       "      <td>81</td>\n",
       "      <td>1</td>\n",
       "    </tr>\n",
       "    <tr>\n",
       "      <th>2</th>\n",
       "      <td>Israel</td>\n",
       "      <td>82</td>\n",
       "      <td>1</td>\n",
       "    </tr>\n",
       "    <tr>\n",
       "      <th>3</th>\n",
       "      <td>Morocco</td>\n",
       "      <td>73</td>\n",
       "      <td>1</td>\n",
       "    </tr>\n",
       "  </tbody>\n",
       "</table>\n",
       "</div>"
      ],
      "text/plain": [
       "  Country name  Life expectancy  Year 2013\n",
       "0         Iraq               69          1\n",
       "1      Ireland               81          1\n",
       "2       Israel               82          1\n",
       "3      Morocco               73          1"
      ]
     },
     "metadata": {},
     "output_type": "display_data"
    }
   ],
   "source": [
    "df = pd.DataFrame({'Country name': {0: 'Iraq', 1: 'Ireland', 2: 'Israel', 3: 'Morocco'},\n",
    "                   'Life expectancy': {0: 69, 1: 81, 2: 82, 3: 73}})\n",
    "\n",
    "print(\"Initial dataframe\")\n",
    "\n",
    "\n",
    "df['Year 2013'] = pd.Series([1 for x in range(len(df.index))])\n",
    "\n",
    "print(\"Final dataframe\")\n",
    "display(df)\n",
    "          "
   ]
  },
  {
   "cell_type": "code",
   "execution_count": null,
   "id": "a81df2e8",
   "metadata": {},
   "outputs": [],
   "source": []
  },
  {
   "cell_type": "code",
   "execution_count": null,
   "id": "bacf469d",
   "metadata": {},
   "outputs": [],
   "source": []
  }
 ],
 "metadata": {
  "kernelspec": {
   "display_name": "Python 3",
   "language": "python",
   "name": "python3"
  },
  "language_info": {
   "codemirror_mode": {
    "name": "ipython",
    "version": 3
   },
   "file_extension": ".py",
   "mimetype": "text/x-python",
   "name": "python",
   "nbconvert_exporter": "python",
   "pygments_lexer": "ipython3",
   "version": "3.8.8"
  }
 },
 "nbformat": 4,
 "nbformat_minor": 5
}
