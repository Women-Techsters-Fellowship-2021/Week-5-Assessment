{
 "cells": [
  {
   "cell_type": "markdown",
   "metadata": {},
   "source": [
    "# Exercise notebook :"
   ]
  },
  {
   "cell_type": "code",
   "execution_count": null,
   "metadata": {},
   "outputs": [],
   "source": [
    "import warnings\n",
    "warnings.simplefilter('ignore', FutureWarning)\n",
    "\n",
    "import pandas pd\n",
    "from datetime import datetime"
   ]
  },
  {
   "cell_type": "code",
   "execution_count": null,
   "metadata": {},
   "outputs": [],
   "source": [
    "df = pd.read_csv('WHO POP TB all.csv')"
   ]
  },
  {
   "cell_type": "markdown",
   "metadata": {},
   "source": [
    "## Exercise 1: Applying methods to a dataframe column\n",
    "The `iloc` attribute and the <code>head()</code> and <code>tail()</code> methods discussed earlier can be used with single columns."
   ]
  },
  {
   "cell_type": "code",
   "execution_count": null,
   "metadata": {},
   "outputs": [],
   "source": [
    "df['TB deaths'].iloc[2] # third value of deaths column"
   ]
  },
  {
   "cell_type": "code",
   "execution_count": null,
   "metadata": {},
   "outputs": [],
   "source": [
    "df['Population (1000s)'].tail() # last five values of population column      "
   ]
  },
  {
   "cell_type": "markdown",
   "metadata": {},
   "source": [
    "### Tasks\n",
    "\n",
    "In the code cell below, write the code to get and display the 55th row in the dataframe <code>df</code>."
   ]
  },
  {
   "cell_type": "code",
   "execution_count": null,
   "metadata": {},
   "outputs": [],
   "source": []
  },
  {
   "cell_type": "markdown",
   "metadata": {},
   "source": [
    "In the code cell below write the code to display the first 10 rows of the dataframe <code>df</code>."
   ]
  },
  {
   "cell_type": "code",
   "execution_count": null,
   "metadata": {},
   "outputs": [],
   "source": []
  },
  {
   "cell_type": "markdown",
   "metadata": {},
   "source": [
    "In the code cell below, select and display the first eight rows from the <code>'Country'</code> and <code>'TB deaths'</code> columns."
   ]
  },
  {
   "cell_type": "code",
   "execution_count": null,
   "metadata": {},
   "outputs": [],
   "source": []
  },
  {
   "cell_type": "markdown",
   "metadata": {},
   "source": [
    "**Now go back to the course.**"
   ]
  },
  {
   "cell_type": "markdown",
   "metadata": {},
   "source": [
    "## Exercise 2: Comparison operators\n",
    "In Expressions, you learned that Python has arithmetic operators: +, /, - and * and that\n",
    "expressions such as 5 + 2 evaluate to a value (in this case the number 7)\n",
    "\n",
    "Python has the following comparison operators:\n",
    "\n",
    "    == (equals)\n",
    "    != (not equal)\n",
    "    < (less than)\n",
    "    > (greater than)\n",
    "    <= (less than or equal to)\n",
    "    >= (greater than or equal to)"
   ]
  },
  {
   "cell_type": "markdown",
   "metadata": {},
   "source": [
    "Expressions involving these operators always evaluate to a Boolean value, that\n",
    "is True or False. Here are some examples:\n",
    "    \n",
    "- 2 = = 2 evaluates to True\n",
    "\n",
    "- 2 + 2 = = 5 evaluates to False\n",
    "\n",
    "- 2 != 1 + 1 evaluates to False\n",
    "\n",
    "- 45 < 50 evaluates to True\n",
    "\n",
    "- 20 > 30 evaluates to False\n",
    "\n",
    "- 100 <= 100 evaluates to True\n",
    "\n",
    "- 101 >= 100 evaluates to True\n",
    "\n",
    "The comparison operators can be used with other types of data, not just numbers. Used\n",
    "with strings they compare using alphabetical order. For example:\n",
    "\n",
    "`'aardvark' < 'zebra' evaluates to True`\n",
    "\n",
    "In Calculating over columns you saw that when applied to whole columns, the arithmetic operators did the calculations row by row. Similarly, an expression like `df['Country']>= 'K'` will compare the country names, row by row, against the string 'K' and record whether the result is `True or False` in a series."
   ]
  },
  {
   "cell_type": "markdown",
   "metadata": {},
   "source": [
    "If such an expression is put within square brackets immediately after a dataframe’s name,\n",
    "a new dataframe is obtained with only those rows where the result is True. So:\n",
    "`df[df['Country'] >= 'K']`\n",
    "returns a new dataframe with all the columns of df but with only the rows corresponding\n",
    "to countries starting with K or a letter later in the alphabet.\n",
    "As another example, to see the data for countries with over 80 million inhabitants, the\n",
    "following code will return and display a new dataframe with all the columns of df but with\n",
    "only the rows where it is `True` that the value in the `'Population (1000s)'` column is\n",
    "greater than 80000"
   ]
  },
  {
   "cell_type": "markdown",
   "metadata": {},
   "source": [
    "The following code will get and display all the rows in `df` where it is `True` that the value in the `'Population (1000s)'` column is greater than `80000`."
   ]
  },
  {
   "cell_type": "code",
   "execution_count": null,
   "metadata": {},
   "outputs": [],
   "source": [
    "df[df['Population (1000s)'] > 80000]         "
   ]
  },
  {
   "cell_type": "markdown",
   "metadata": {},
   "source": [
    "### Task\n",
    "In the code cell below write code to find all the rows in <code>df</code> where TB deaths exceed 10000."
   ]
  },
  {
   "cell_type": "code",
   "execution_count": null,
   "metadata": {},
   "outputs": [],
   "source": [
    "       "
   ]
  },
  {
   "cell_type": "markdown",
   "metadata": {},
   "source": [
    "## Exercise 3: Bitwise operators\n",
    "To build more complicated expressions involving column comparisons, there are two\n",
    "bitwise operators.\n",
    "\n",
    "Pandas has two operators to make more complicated queries. Use the operator `&` (means 'and') to select rows where two conditions are both true. Use the operator `|` (means 'or') to select rows where at least one condition is true. Don't forget to put parentheses around _each_ comparison. For example, the following expression selects only countries with a population over 80 million inhabitants **and** with more that 10 thousand deaths."
   ]
  },
  {
   "cell_type": "markdown",
   "metadata": {},
   "source": [
    "The `& operator means ‘and’ and the | operator (vertical bar, not uppercase letter ‘i’) means\n",
    "‘or’`. \n",
    "\n",
    "So, for example the expression:\n",
    "    \n",
    "`(df['Country'] >= 'Latvia') & (df['Country'] <= 'Sweden')`\n",
    "\n",
    "will evaluate to a series containing Boolean values where the values areTrue only if the\n",
    "equivalent rows in the dataframe contain the countries `‘Latvia’ to ‘Sweden’`, inclusive.\n",
    "However, the following expression which uses `| (or) rather than & (and)`:\n",
    "    \n",
    "`(df['Country'] >= 'Latvia') | (df['Country'] <= 'Sweden')`\n",
    "\n",
    "will evaluate to `True` for all countries, because every country comes alphabetically after\n",
    "`‘Latvia’ (e.g. the ‘UK’) or before 'Sweden' (e.g. ‘Brazil’)`.\n",
    "\n",
    "Note the round brackets around each comparison. Without them you will get an error.\n",
    "The whole expression with multiple comparisons has to be put within `df[…]` to get a\n",
    "dataframe with only those rows that match the condition.\n",
    "\n",
    "As a further example, using different columns, it is relatively easy to find the rows\n",
    "in df where `'Population (1000s)' is greater than 80000 and where 'TB deaths' are\n",
    "greater than 10000`."
   ]
  },
  {
   "cell_type": "code",
   "execution_count": null,
   "metadata": {},
   "outputs": [],
   "source": [
    "df[(df['Population (1000s)'] > 80000) & (df['TB deaths'] > 10000)]"
   ]
  },
  {
   "cell_type": "markdown",
   "metadata": {},
   "source": [
    "If the same columns will be used repeatedly in the program, the code becomes more readable if written as follows:"
   ]
  },
  {
   "cell_type": "code",
   "execution_count": null,
   "metadata": {},
   "outputs": [],
   "source": [
    "population = df['Population (1000s)']\n",
    "deaths = df['TB deaths']\n",
    "df[(population > 80000) & (deaths > 10000)]  "
   ]
  },
  {
   "cell_type": "markdown",
   "metadata": {},
   "source": [
    "### Task\n",
    "In the code cell below find  all the countries where the Population (1000s) is **less than or equal to** 50000 **or** TB deaths are **greater than or equal to** 20000."
   ]
  },
  {
   "cell_type": "code",
   "execution_count": null,
   "metadata": {},
   "outputs": [],
   "source": []
  }
 ],
 "metadata": {
  "kernelspec": {
   "display_name": "Python 3",
   "language": "python",
   "name": "python3"
  },
  "language_info": {
   "codemirror_mode": {
    "name": "ipython",
    "version": 3
   },
   "file_extension": ".py",
   "mimetype": "text/x-python",
   "name": "python",
   "nbconvert_exporter": "python",
   "pygments_lexer": "ipython3",
   "version": "3.8.8"
  }
 },
 "nbformat": 4,
 "nbformat_minor": 1
}
