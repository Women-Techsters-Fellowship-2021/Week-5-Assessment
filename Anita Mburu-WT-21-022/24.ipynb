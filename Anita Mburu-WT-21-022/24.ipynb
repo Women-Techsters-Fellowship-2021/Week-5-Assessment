{
 "cells": [
  {
   "cell_type": "markdown",
   "metadata": {},
   "source": [
    "# Grouping your data\n"
   ]
  },
  {
   "cell_type": "code",
   "execution_count": null,
   "metadata": {
    "activity": false,
    "run_control": {
     "read_only": false
    }
   },
   "outputs": [],
   "source": [
    "import warnings\n",
    "warnings.simplefilter('ignore', FutureWarning)\n",
    "\n",
    "import matplotlib\n",
    "matplotlib.rcParams['axes.grid'] = True # show gridlines by default\n",
    "%matplotlib inline\n",
    "\n",
    "import pandas as pd"
   ]
  },
  {
   "cell_type": "markdown",
   "metadata": {},
   "source": [
    "In last week modules, you saw how to merge two datasets containing a common column to create a\n",
    "single, combined dataset. Combining datasets allows us to make comparisons across\n",
    "datasets, as you discovered when looking for correlations between GDP and life\n",
    "expectancy.\n",
    "In this week modules, you’ll learn how to go the other way, separating out distinct ‘subsets’ or groups\n",
    "of data, before summarising them individually.\n",
    "As well as splitting out different groups of data, row and column values can be rearranged\n",
    "to reshape a dataset and allow the creation of a wide range of pivot table style reports\n",
    "from a single data table.\n",
    "\n",
    "In this week’s tasks, you’ll learn how a single line of code can be used to generate a\n",
    "wide variety of pivot table style reports of your own."
   ]
  },
  {
   "cell_type": "markdown",
   "metadata": {},
   "source": [
    "One of the ways you are shown for loading World Bank data into the notebook in last Week,\n",
    "was to use the **download ()** function.\n",
    "One way to find out for yourself what sorts of argument a function expects is to ask it.\n",
    "Running a code cell containing a question mark (?) followed by a function name should\n",
    "pop up a help area in the bottom of the notebook window. (Close it using the x in the top\n",
    "right hand corner of the panel.)"
   ]
  },
  {
   "cell_type": "code",
   "execution_count": null,
   "metadata": {},
   "outputs": [],
   "source": [
    "if pd.__version__.startswith('0.23'):\n",
    "    # this solves an incompatibility between pandas 0.23 and datareader 0.6\n",
    "    # taken from https://stackoverflow.com/questions/50394873/\n",
    "    core.common.is_list_like = api.types.is_list_like\n",
    "\n",
    "from pandas_datareader.wb import download"
   ]
  },
  {
   "cell_type": "code",
   "execution_count": null,
   "metadata": {},
   "outputs": [],
   "source": [
    "?download"
   ]
  },
  {
   "cell_type": "markdown",
   "metadata": {},
   "source": [
    "The function documentation tells you that you can enter a list of one or more country\n",
    "names using standard country codes as well as a date range. You can also calculate a\n",
    "date range from a single date to show the **N** years of data leading up to a particular year."
   ]
  },
  {
   "cell_type": "code",
   "execution_count": null,
   "metadata": {},
   "outputs": [],
   "source": [
    "YEAR = 2013\n",
    "GDP_INDICATOR = 'NY.GDP.MKTP.CD'\n",
    "gdp = download(indicator=GDP_INDICATOR, country=['GB','CN'],\n",
    "start=YEAR-5, end=YEAR)\n",
    "gdp = gdp.reset_index()\n",
    "gdp"
   ]
  },
  {
   "cell_type": "markdown",
   "metadata": {},
   "source": [
    "Although many datasets that you are likely to work with are published in the form of a\n",
    "single data table, such as a single CSV file or spreadsheet worksheet, it is often possible\n",
    "to regard the dataset as being made up from several distinct subsets of data.\n",
    "In the above example, you will probably notice that each country name appears in several\n",
    "rows, as does each year. This suggests that we can make different sorts of comparisons\n",
    "between different groupings of data using just this dataset. For example, compare the\n",
    "total GDP of each country calculated over the six years 2008 to 2013 using just a single\n",
    "line of code:"
   ]
  },
  {
   "cell_type": "code",
   "execution_count": null,
   "metadata": {},
   "outputs": [],
   "source": [
    "gdp.groupby('country')['NY.GDP.MKTP.CD'].aggregate(sum)"
   ]
  },
  {
   "cell_type": "markdown",
   "metadata": {},
   "source": [
    "Essentially what this does is to say ‘for each country, find the total GDP’.\n",
    "The total combined GDP for those two countries in each year could be found by making\n",
    "just one slight tweak to our code (can you see below where I made the change?):"
   ]
  },
  {
   "cell_type": "code",
   "execution_count": null,
   "metadata": {},
   "outputs": [],
   "source": [
    "gdp.groupby('year')['NY.GDP.MKTP.CD'].aggregate(sum)"
   ]
  },
  {
   "cell_type": "markdown",
   "metadata": {},
   "source": [
    "That second calculation probably doesn’t make much sense in this particular case, but\n",
    "what if there was another column saying which region of the world each country was in?\n",
    "Then, by taking the data for all the countries in the world, the total GDP could be found for\n",
    "each region by grouping on both the year and the region.\n",
    "Next, you will consider ways of grouping data."
   ]
  },
  {
   "cell_type": "markdown",
   "metadata": {},
   "source": [
    "## Ways of grouping data\n",
    "\n",
    "Think back to the weather dataset you used in earlier week , how might you group that data\n",
    "into several distinct groups? What sorts of comparisons could you make by grouping just\n",
    "the elements of that dataset? Or how might you group and compare the GDP data?\n",
    "\n",
    "One thing the newspapers love to report are weather ‘records’, such as the ‘hottest June\n",
    "ever’ or the wettest location in a particular year as measured by total annual rainfall, or\n",
    "highest average monthly rainfall. How easy is it to find that information out from the data?\n",
    "Or with the GDP data, if countries were assigned to economic groupings such as the\n",
    "European Union, or regional groupings such as Africa, or South America, how would you\n",
    "generate information such as lowest GDP in the EU or highest GDP in South America?\n",
    "\n",
    "You will learn how to split data into groups based on particular features of the\n",
    "data, and then generate information about each separate group, across all of the groups,\n",
    "at the same time."
   ]
  },
  {
   "cell_type": "markdown",
   "metadata": {},
   "source": [
    "**Activity: Grouping data**\n",
    "    \n",
    "Based on the data you have seen so far, or some other datasets you may be aware of,\n",
    "what other ways of grouping data can you think of, and why might grouping data that\n",
    "way be useful?"
   ]
  },
  {
   "cell_type": "markdown",
   "metadata": {},
   "source": [
    "## Data that describes the world of trade\n",
    "\n",
    "Lets look at what sorts of thing different\n",
    "countries actually export to the UK.\n",
    "For example, it might surprise you that India was the world’s largest exporter by value of\n",
    "unset diamonds in 2014 (24 billion US dollars worth), or that Germany was the biggest\n",
    "importer of chocolate (over $2.5 billion worth) in that same year.\n",
    "National governments all tend to publish their own trade figures, but the UN also collect\n",
    "data from across the world. In particular, the UN’s global trade database, Comtrade,\n",
    "contains data about import and export trade flows between countries for a wide range of\n",
    "goods and services."
   ]
  },
  {
   "cell_type": "markdown",
   "metadata": {},
   "source": [
    "So if you’ve ever wondered where your country imports most of its T-shirts from, or\n",
    "exports most of its municipal waste to, **Comtrade** is likely to have the data.\n",
    "In the next section, you will find out about the Comtrade data."
   ]
  },
  {
   "cell_type": "markdown",
   "metadata": {},
   "source": [
    "## Getting Comtrade data into your notebook\n",
    "\n",
    "In this exercise, you will practice loading data from Comtrade into a pandas dataframe and getting it into a form where you can start to work with it. \n",
    "\n",
    "The following steps and code are an example. Your task for this exercise is stated at the end, after the example.\n",
    "\n",
    "The data is obtained from the [United Nations Comtrade](http://comtrade.un.org/data/) website, by selecting the following configuration:\n",
    "\n",
    "- Type of Product: goods\n",
    "- Frequency: monthly \n",
    "- Periods: all of 2014\n",
    "- Reporter: United Kingdom\n",
    "- Partners: all\n",
    "- Flows: imports and exports\n",
    "- HS (as reported) commodity codes: 0401 (Milk and cream, neither concentrated nor sweetened) and 0402 (Milk and cream, concentrated or sweetened)\n",
    "\n",
    "Clicking on 'Preview' results in a message that the data exceeds 500 rows. Data was downloaded using the *Download CSV* button and the download file renamed appropriately."
   ]
  },
  {
   "cell_type": "code",
   "execution_count": null,
   "metadata": {},
   "outputs": [],
   "source": [
    "LOCATION='comtrade_milk_uk_monthly_14.csv'"
   ]
  },
  {
   "cell_type": "markdown",
   "metadata": {},
   "source": [
    "A URL for downloading all the data as a CSV file can also be obtained via \"View API Link\".\n",
    "It must be modified so that it returns up to 5000 records (set `max=5000`) in the CSV format (`&fmt=csv`)."
   ]
  },
  {
   "cell_type": "code",
   "execution_count": null,
   "metadata": {},
   "outputs": [],
   "source": [
    "# LOCATION = 'http://comtrade.un.org/api/get?max=5000&type=C&freq=M&px=HS&ps=2014&r=826&p=all&rg=1%2C2&cc=0401%2C0402&fmt=csv'"
   ]
  },
  {
   "cell_type": "markdown",
   "metadata": {},
   "source": [
    "Load the data in from the specified location, ensuring that the various codes are read as strings. Preview the first few rows of the dataset."
   ]
  },
  {
   "cell_type": "code",
   "execution_count": null,
   "metadata": {
    "activity": false,
    "run_control": {
     "read_only": false
    }
   },
   "outputs": [],
   "source": [
    "milk = pd.read_csv(LOCATION, dtype={'Commodity Code':str, 'Reporter Code':str})\n",
    "milk.head(3)"
   ]
  },
  {
   "cell_type": "markdown",
   "metadata": {},
   "source": [
    "Limit the columns to make the dataframe easier to work with by selecting just a subset of them."
   ]
  },
  {
   "cell_type": "code",
   "execution_count": null,
   "metadata": {
    "activity": false,
    "run_control": {
     "read_only": false
    }
   },
   "outputs": [],
   "source": [
    "COLUMNS = ['Year', 'Period','Trade Flow','Reporter', 'Partner', 'Commodity','Commodity Code','Trade Value (US$)']\n",
    "milk = milk[COLUMNS]"
   ]
  },
  {
   "cell_type": "markdown",
   "metadata": {},
   "source": [
    "Derive two new dataframes that separate out the 'World' partner data and the data for individual partner countries."
   ]
  },
  {
   "cell_type": "code",
   "execution_count": null,
   "metadata": {
    "activity": false,
    "run_control": {
     "read_only": false
    }
   },
   "outputs": [],
   "source": [
    "milk_world = milk[milk['Partner'] == 'World']\n",
    "milk_countries = milk[milk['Partner'] != 'World']"
   ]
  },
  {
   "cell_type": "markdown",
   "metadata": {},
   "source": [
    "You may wish to store a local copy as a CSV file, for example:"
   ]
  },
  {
   "cell_type": "code",
   "execution_count": null,
   "metadata": {
    "activity": false,
    "run_control": {
     "read_only": false
    }
   },
   "outputs": [],
   "source": [
    "milk_countries.to_csv('countrymilk.csv', index=False)"
   ]
  },
  {
   "cell_type": "markdown",
   "metadata": {},
   "source": [
    "To load the data back in:"
   ]
  },
  {
   "cell_type": "code",
   "execution_count": null,
   "metadata": {
    "activity": false,
    "run_control": {
     "read_only": false
    }
   },
   "outputs": [],
   "source": [
    "load_test = pd.read_csv('countrymilk.csv', dtype={'Commodity Code':str, 'Reporter Code':str})\n",
    "load_test.head(2)"
   ]
  },
  {
   "cell_type": "markdown",
   "metadata": {},
   "source": [
    "If you are on a Windows computer, data files may sometimes be saved using a file encoding (*Latin-1*). Pandas may not recognise this by default, in which case you will see a `UnicodeDecodeError`.\n",
    "\n",
    "In such cases, opening files in `read_excel()` or `read_csv()` using the parameter  `encoding=\"ISO-8859-1\"` or  `encoding = \"Latin-1\"` should fix the problem. For example, edit the previous command to read:\n",
    "\n",
    "`load_test=read_csv('countrymilk.csv', dtype={'Commodity Code':str}, encoding = \"ISO-8859-1\")`\n",
    "\n",
    "### Subsetting Your Data\n",
    "For large or heterogenous datasets, it is often convenient to create subsets of the data. To further separate out the imports:\n"
   ]
  },
  {
   "cell_type": "code",
   "execution_count": null,
   "metadata": {
    "activity": false,
    "run_control": {
     "read_only": false
    }
   },
   "outputs": [],
   "source": [
    "milk_imports = milk[milk['Trade Flow'] == 'Imports']\n",
    "milk_countries_imports = milk_countries[milk_countries['Trade Flow'] == 'Imports']\n",
    "milk_world_imports=milk_world[milk_world['Trade Flow'] == 'Imports']"
   ]
  },
  {
   "cell_type": "markdown",
   "metadata": {},
   "source": [
    "### Sorting the data\n",
    "\n",
    "Having loaded in the data, find the most valuable partners in terms of import trade flow during a particular month by sorting the data by *decreasing* trade value and then selecting the top few rows."
   ]
  },
  {
   "cell_type": "code",
   "execution_count": null,
   "metadata": {
    "activity": false,
    "run_control": {
     "read_only": false
    }
   },
   "outputs": [],
   "source": [
    "milkImportsInJanuary2014 = milk_countries_imports[milk_countries_imports['Period'] == 201401]\n",
    "milkImportsInJanuary2014.sort_values('Trade Value (US$)',ascending=False).head(10)"
   ]
  },
  {
   "cell_type": "markdown",
   "metadata": {},
   "source": [
    "### Task\n",
    "\n",
    "To complete these tasks you could copy this notebook and amend the code or create a new notebook to do the analysis for your chosen data.\n",
    "\n",
    "Using the [Comtrade Data website](http://comtrade.un.org/data/), identify a dataset that describes the import and export trade flows for a particular service or form of goods between your country (as reporter) and all ('All') the other countries in the world. Get the monthly data for all months in 2014.\n",
    "\n",
    "Download the data as a CSV file and add the file to the same folder as the one containing this notebook. Load the data in from the file into a pandas dataframe. Create an easier to work with dataframe that excludes data associated with the 'World' partner. Sort this data to see which countries are the biggest partners in terms of import and export trade flow."
   ]
  }
 ],
 "metadata": {
  "kernelspec": {
   "display_name": "Python 3",
   "language": "python",
   "name": "python3"
  },
  "language_info": {
   "codemirror_mode": {
    "name": "ipython",
    "version": 3
   },
   "file_extension": ".py",
   "mimetype": "text/x-python",
   "name": "python",
   "nbconvert_exporter": "python",
   "pygments_lexer": "ipython3",
   "version": "3.8.5"
  }
 },
 "nbformat": 4,
 "nbformat_minor": 1
}
