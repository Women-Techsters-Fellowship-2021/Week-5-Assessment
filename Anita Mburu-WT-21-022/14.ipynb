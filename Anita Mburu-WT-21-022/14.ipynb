{
 "cells": [
  {
   "cell_type": "markdown",
   "metadata": {},
   "source": [
    "# Exercise notebook :"
   ]
  },
  {
   "cell_type": "code",
   "execution_count": null,
   "metadata": {},
   "outputs": [],
   "source": [
    "import warnings\n",
    "warnings.simplefilter('ignore', FutureWarning)\n",
    "\n",
    "import pandas as pd\n",
    "from datetime import datetime"
   ]
  },
  {
   "cell_type": "markdown",
   "metadata": {},
   "source": [
    "## Exercise 1: Dataframes and CSV files\n",
    "A CSV file is a plain text file that is used to hold tabular data. The acronym CSV is short for\n",
    "`‘comma-separated values’`.\n",
    "\n",
    "To read a CSV file into a dataframe you need to call the pandas function called <code>read_csv()</code>. The simplest usage of this function is with a single argument, a string that holds the name of the CSV file, for example."
   ]
  },
  {
   "cell_type": "code",
   "execution_count": null,
   "metadata": {},
   "outputs": [],
   "source": [
    "df = pd.read_csv('WHO POP TB all.csv')"
   ]
  },
  {
   "cell_type": "markdown",
   "metadata": {},
   "source": [
    "The above code creates a dataframe from the data in the file `WHO POP TB all.csv` and\n",
    "assigns it to the variable `df`. This is the simplest usage of the `read_csv()` function, just\n",
    "using a single argument, a string that holds the name of the CSV file.\n",
    "However the function can take many additional arguments (some of which you’ll use\n",
    "later), which determine how the file is to be read."
   ]
  },
  {
   "cell_type": "code",
   "execution_count": null,
   "metadata": {},
   "outputs": [],
   "source": []
  },
  {
   "cell_type": "markdown",
   "metadata": {},
   "source": [
    "### Dataframe attributes\n",
    "\n",
    "A dataframe attribute is like a variable that can only be accessed in the context of a dataframe. One such attribute is <code>columns</code> which holds a dataframe's column names.\n",
    "So the expression `df.columns` evaluates to the value of the columns attribute inside\n",
    "the dataframe `df`. The following code will get and display the names of the columns in the\n",
    "dataframe df:"
   ]
  },
  {
   "cell_type": "code",
   "execution_count": null,
   "metadata": {},
   "outputs": [],
   "source": [
    "df.columns"
   ]
  },
  {
   "cell_type": "markdown",
   "metadata": {},
   "source": [
    "## Getting and displaying dataframe rows\n",
    "\n",
    "Dataframes can have hundreds or thousands of rows, so it is not practical to display a\n",
    "whole dataframe.\n",
    "However, there are a number of dataframe attributes and methods that allow you to get\n",
    "and display either a single row or a number of rows at a time. Three of the most useful\n",
    "methods are: **iloc(), head() and tail()**. Note that to distinguish methods and\n",
    "attributes, we write () after a method’s name."
   ]
  },
  {
   "cell_type": "markdown",
   "metadata": {},
   "source": [
    "### Dataframe rows\n",
    "A dataframe has a default integer index for its rows, which starts at zero <code>0</code>. The `iloc` attribute can be used to obtain the row at the given index.\n",
    "\n",
    "**The iloc attribute**\n",
    "\n",
    "You can get and display any single row in a dataframe by using the `iloc` attribute with the index of the\n",
    "row you want to access as its argument. For example, the following code will get and\n",
    "display the first row of data in the dataframe df, which is at index 0:"
   ]
  },
  {
   "cell_type": "code",
   "execution_count": null,
   "metadata": {},
   "outputs": [],
   "source": [
    "df.iloc[0] # first row, index 0"
   ]
  },
  {
   "cell_type": "markdown",
   "metadata": {},
   "source": [
    "Similarly, the following code will get and display the third row of data in the dataframe df,\n",
    "which is at index 2:"
   ]
  },
  {
   "cell_type": "code",
   "execution_count": null,
   "metadata": {},
   "outputs": [],
   "source": [
    "df.iloc[2] # third row, index 2"
   ]
  },
  {
   "cell_type": "markdown",
   "metadata": {},
   "source": [
    "### The <code>head()</code> method\n",
    "\n",
    "The `head()` method returns a dataframe with the first rows, as many as given in the argument. By default, if the argument is missing, it returns the first five rows.\n",
    "\n",
    "The first few rows of a dataframe can be printed out with the head() method.\n",
    "You can tell `head()` is a method, rather than an attribute such as columns, because of\n",
    "the parentheses (round brackets) after the property name.\n",
    "If you don’t give any argument, i.e. don’t put any number within those parentheses, the\n",
    "default behaviour is to return the `first five rows of the dataframe`. If you give an argument,\n",
    "it will print that number of rows (starting from the row indexed by 0).\n",
    "\n",
    "For example, executing the following code will get and display the first five rows in the\n",
    "dataframe df."
   ]
  },
  {
   "cell_type": "code",
   "execution_count": null,
   "metadata": {},
   "outputs": [],
   "source": [
    "df.head() # first five rows"
   ]
  },
  {
   "cell_type": "markdown",
   "metadata": {},
   "source": [
    "And, executing the following code will get and display the first seven rows in the\n",
    "dataframe df."
   ]
  },
  {
   "cell_type": "code",
   "execution_count": null,
   "metadata": {},
   "outputs": [],
   "source": [
    "df.head(7) # first seven rows"
   ]
  },
  {
   "cell_type": "markdown",
   "metadata": {},
   "source": [
    "### The <code>tail()</code> method\n",
    "The <code>tail()</code> method is similar to the <code>head()</code> method. If no argument is used, the last five rows of the dataframe are returned, otherwise the number of rows returned is dependent on the argument."
   ]
  },
  {
   "cell_type": "code",
   "execution_count": null,
   "metadata": {},
   "outputs": [],
   "source": [
    "df.tail() # last five rows"
   ]
  },
  {
   "cell_type": "markdown",
   "metadata": {},
   "source": [
    "## Getting and displaying dataframe columns\n",
    "\n",
    "You learned that you can get and display a single column of a dataframe by\n",
    "putting the name of the column (in quotes) within square brackets immediately after the\n",
    "dataframe’s name.\n",
    "For example, like this:"
   ]
  },
  {
   "cell_type": "code",
   "execution_count": null,
   "metadata": {},
   "outputs": [],
   "source": [
    "df['TB deaths']"
   ]
  },
  {
   "cell_type": "markdown",
   "metadata": {},
   "source": [
    "Notice that although there is an index, there is no column heading. This is because what is\n",
    "returned is not a new dataframe with a single column but an example of the Series data\n",
    "type."
   ]
  },
  {
   "cell_type": "markdown",
   "metadata": {},
   "source": [
    "### Each column in a dataframe is an example of a series\n",
    "\n",
    "The Series data type is a collection of values with an integer index that starts from zero.\n",
    "In addition, the Series data type has many of the same methods and attributes as\n",
    "the DataFrame data type, so you can still execute code like:"
   ]
  },
  {
   "cell_type": "code",
   "execution_count": null,
   "metadata": {},
   "outputs": [],
   "source": [
    "df['TB deaths'].head()"
   ]
  },
  {
   "cell_type": "code",
   "execution_count": null,
   "metadata": {},
   "outputs": [],
   "source": [
    "df['TB deaths'].iloc[2]"
   ]
  },
  {
   "cell_type": "markdown",
   "metadata": {},
   "source": [
    "However, pandas does provide a mechanism for you to get and display one or more\n",
    "selected columns as a new dataframe in its own right. To do this you need to use a list. \n",
    "\n",
    "A list in Python consists of one or more items separated by commas and enclosed within\n",
    "square brackets, for example `['Country'] or ['Country', 'Population(1000s)']`. This list is then put within outer square brackets immediately after the\n",
    "dataframe’s name, like this:"
   ]
  },
  {
   "cell_type": "code",
   "execution_count": null,
   "metadata": {},
   "outputs": [],
   "source": [
    "df[['Country']].head()"
   ]
  },
  {
   "cell_type": "markdown",
   "metadata": {},
   "source": [
    "Note that the column is now named. The expression `df[['Country']]`(with two square\n",
    "brackets) evaluates to a new dataframe (which happens to have a single column) rather\n",
    "than a series.\n",
    "To get a new dataframe with multiple columns you just need to put more column names in\n",
    "the list, like this:"
   ]
  },
  {
   "cell_type": "code",
   "execution_count": null,
   "metadata": {},
   "outputs": [],
   "source": [
    "df[['Country', 'Population (1000s)']].head()"
   ]
  },
  {
   "cell_type": "markdown",
   "metadata": {},
   "source": [
    "The code has returned a new dataframe with just the `'Country' and 'Population\n",
    "(1000s)’ columns`."
   ]
  },
  {
   "cell_type": "code",
   "execution_count": null,
   "metadata": {},
   "outputs": [],
   "source": []
  }
 ],
 "metadata": {
  "kernelspec": {
   "display_name": "Python 3",
   "language": "python",
   "name": "python3"
  },
  "language_info": {
   "codemirror_mode": {
    "name": "ipython",
    "version": 3
   },
   "file_extension": ".py",
   "mimetype": "text/x-python",
   "name": "python",
   "nbconvert_exporter": "python",
   "pygments_lexer": "ipython3",
   "version": "3.8.8"
  }
 },
 "nbformat": 4,
 "nbformat_minor": 1
}
