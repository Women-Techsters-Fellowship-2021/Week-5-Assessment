{
 "cells": [
  {
   "cell_type": "markdown",
   "metadata": {},
   "source": [
    "# Transforming and Combining Data\n",
    "\n",
    "In the previous module you worked on a dataset that combined two different `World Health\n",
    "Organization datasets: population and the number of deaths due to tuberculosis`.\n",
    "They could be combined because they share a `common attribute: the countries`. This\n",
    "week you will learn the techniques behind the creation of such a combined dataset."
   ]
  },
  {
   "cell_type": "code",
   "execution_count": null,
   "metadata": {},
   "outputs": [],
   "source": [
    "import warnings\n",
    "warnings.simplefilter('ignore', FutureWarning)\n",
    "\n",
    "import pandas as pd"
   ]
  },
  {
   "cell_type": "code",
   "execution_count": null,
   "metadata": {},
   "outputs": [],
   "source": [
    "def roundToMillions (value):\n",
    "    return round(value / 1000000)"
   ]
  },
  {
   "cell_type": "code",
   "execution_count": null,
   "metadata": {},
   "outputs": [],
   "source": [
    "def usdToGBP (usd):\n",
    "    return usd / 1.564768 # average rate during 2013 "
   ]
  },
  {
   "cell_type": "code",
   "execution_count": null,
   "metadata": {},
   "outputs": [],
   "source": [
    "def expandCountry (name):\n",
    "    if name == 'UK':\n",
    "        return 'United Kingdom'\n",
    "    elif name == 'USA':\n",
    "        return 'United States'\n",
    "    else:\n",
    "        return name"
   ]
  },
  {
   "cell_type": "markdown",
   "metadata": {},
   "source": [
    "## Getting real\n",
    "\n",
    "Having tried out the data transformations and combination on small tables, I think we feel confident enough\n",
    "about using the full data from the World Bank, which I pointed you to in Life expectancy\n",
    "project.\n",
    "Open a new browser window and go to the World Bank’s data page. Type ‘GDP’ (without\n",
    "the quote marks) in the ‘Find an indicator’ box in the centre of the page and select ‘GDP\n",
    "current US$’. Click ‘Go’. This will take you to the data page you looked at earlier. Look at\n",
    "the top of your browser window. You will notice the URL is\n",
    "http://data.worldbank.org/indicator/NY.GDP.MKTP.CD. Every World Bank dataset is for an\n",
    "indicator (in this case GDP in current dollars) with a unique name (in this case NY.GDP.\n",
    "MKTP.CD).\n",
    "Knowing the indicator name, it’s a doddle to get the data directly into a dataframe, by\n",
    "using the download() function of the wb (World Bank) module, instead of first\n",
    "downloading a CSV or Excel file and then loading it into a dataframe. \n",
    "Here’s the code to get the 2013 GDP values for all countries. It may take a little while for\n",
    "the code to fetch the data.\n",
    "\n",
    "It is possible to directly download data from the World Bank, for a particular time period and indicator, like the GDP in current US dollars. The indicator name is given in the URL of the webpage about the dataset.\n",
    "\n",
    "Getting the data directly from the World Bank only works Anaconda and requires an Internet connection. It can take some time to download the data, depending on the speed of your connection and the load on the World Bank server. Moreover, the World Bank occasionally changes the layout of the data, which could break the code in the rest of this notebook. \n",
    "\n",
    "To avoid such problems I have saved the World Bank data into CSV files. The data is in a column with the same name as the indicator. Hence I declare the indicator names as constants, to be used later when processing the dataframe."
   ]
  },
  {
   "cell_type": "code",
   "execution_count": null,
   "metadata": {},
   "outputs": [],
   "source": [
    "gdpReset = pd.read_csv('WB GDP 2013.csv')\n",
    "\n",
    "lifeReset = pd.read_csv('WB LE 2013.csv')"
   ]
  },
  {
   "cell_type": "markdown",
   "metadata": {},
   "source": [
    "The CSV files were obtained in two steps, which are shown next in commented code because we already have the CSV files. \n",
    "\n",
    "First the data was obtained directly from the World Bank using a particular function in pandas, and indicating the desired indicator and time period. Note that you may have to install the `pandas_datareader` module, using Anaconda Navigator."
   ]
  },
  {
   "cell_type": "code",
   "execution_count": null,
   "metadata": {},
   "outputs": [],
   "source": [
    "GDP_INDICATOR = 'NY.GDP.MKTP.CD'\n",
    "LIFE_INDICATOR = 'SP.DYN.LE00.IN'"
   ]
  },
  {
   "cell_type": "code",
   "execution_count": null,
   "metadata": {},
   "outputs": [],
   "source": [
    "if pd.__version__.startswith('0.23'):\n",
    "    # this solves an incompatibility between pandas 0.23 and datareader 0.6\n",
    "    # taken from https://stackoverflow.com/questions/50394873/\n",
    "    core.common.is_list_like = api.types.is_list_like\n",
    "\n",
    "from pandas_datareader.wb import download\n",
    "\n",
    "YEAR = 2013\n",
    "gdpWB = download(indicator=GDP_INDICATOR, country='all', start=YEAR, end=YEAR)\n",
    "lifeWB = download(indicator=LIFE_INDICATOR, country='all', start=YEAR, end=YEAR)\n",
    "lifeWB.head()"
   ]
  },
  {
   "cell_type": "markdown",
   "metadata": {},
   "source": [
    "The downloaded dataframe has descriptive row names instead of the usual 0, 1, 2, etc. In other words, the dataframe's index is given by the country and year instead of integers. Hence the second step was to reset the index. "
   ]
  },
  {
   "cell_type": "code",
   "execution_count": null,
   "metadata": {},
   "outputs": [],
   "source": [
    "# gdpReset = gdpWB.reset_index()\n",
    "# lifeReset = lifeWB.reset_index()"
   ]
  },
  {
   "cell_type": "markdown",
   "metadata": {},
   "source": [
    "Resetting the index put the dataframes into the usual form, which was saved to CSV files. "
   ]
  },
  {
   "cell_type": "code",
   "execution_count": null,
   "metadata": {},
   "outputs": [],
   "source": [
    "lifeReset.head()"
   ]
  },
  {
   "cell_type": "markdown",
   "metadata": {},
   "source": [
    "### Tasks\n",
    "\n",
    "1. Create a data frame with the World Bank's data on population, using the CSV file provided. **This dataframe will be used in the remaining task.**\n",
    "- If you're using Anaconda, uncomment the code above and run it to check that you can get the GDP and life expectancy data directly from the World Bank if you dont want to use the data provided. **Don't forget to afterwards comment again the code.**\n",
    "- If you have extra time, you can alternatively obtain the population data directly from the World Bank which have been downloaded already: go to their [data page](http://data.worldbank.org/), search for population, select the total population indicator, note its name in the URL, copy the commented code above and adapt it to get the data and reset its index. Note that the World Bank may have changed its data format since this was written and therefore you may have to do extra steps to get a dataframe in the same shape as the CSV file we provide, with three columns for country name, year and population."
   ]
  },
  {
   "cell_type": "markdown",
   "metadata": {},
   "source": [
    "## Cleaning up\n",
    "\n",
    "You may have noticed that the initial rows are not about countries, but groups of countries.\n",
    "Such aggregated values need to be removed, because we’re only interested in individual\n",
    "countries.\n",
    "\n",
    "The expression **frame[m:n]**, with **n** an integer bigger than **m** , represents the ‘sub-table’\n",
    "from row m to row **n-1**. In other words, it is a slice of frame with exactly n minus m rows.\n",
    "The expression is equivalent to the more convoluted expression **frame.head(n).tail(n-m)**."
   ]
  },
  {
   "cell_type": "code",
   "execution_count": null,
   "metadata": {},
   "outputs": [],
   "source": [
    "lifeReset[0:3]"
   ]
  },
  {
   "cell_type": "markdown",
   "metadata": {},
   "source": [
    "To slice all rows from **m** onwards, you don’t have to count how many rows there are\n",
    "beforehand, just omit **n**."
   ]
  },
  {
   "cell_type": "code",
   "execution_count": null,
   "metadata": {},
   "outputs": [],
   "source": [
    "lifeReset[240:]"
   ]
  },
  {
   "cell_type": "markdown",
   "metadata": {},
   "source": [
    "By trying out **head(m)** for different values of **m** , we can see that the list of individual countries\n",
    "starts in row number 34, with Afghanistan. Hence, we slice from row 34 onwards, and that’s\n",
    "my new dataframe."
   ]
  },
  {
   "cell_type": "code",
   "execution_count": null,
   "metadata": {},
   "outputs": [],
   "source": [
    "gdpCountries = gdpReset[34:]\n",
    "lifeCountries = lifeReset[34:]\n",
    "gdpCountries.head()"
   ]
  },
  {
   "cell_type": "markdown",
   "metadata": {},
   "source": [
    "Rows with missing data are dropped."
   ]
  },
  {
   "cell_type": "code",
   "execution_count": null,
   "metadata": {},
   "outputs": [],
   "source": [
    "gdpData = gdpCountries.dropna()\n",
    "lifeData = lifeCountries.dropna()\n",
    "gdpData.head()"
   ]
  },
  {
   "cell_type": "markdown",
   "metadata": {},
   "source": [
    "The year column is discarded."
   ]
  },
  {
   "cell_type": "code",
   "execution_count": null,
   "metadata": {},
   "outputs": [],
   "source": [
    "COUNTRY = 'country'\n",
    "headings = [COUNTRY, GDP_INDICATOR]\n",
    "gdpClean = gdpData[headings]\n",
    "headings = [COUNTRY, LIFE_INDICATOR]\n",
    "lifeClean = lifeData[headings]\n",
    "lifeClean.head()"
   ]
  },
  {
   "cell_type": "markdown",
   "metadata": {},
   "source": [
    "### Task\n",
    "\n",
    "Clean the population dataframe you created in the previous task.\n",
    "\n",
    "If in the previous task you chose to directly get the population data from the World Bank instead of using the provided CSV file, you may need to remove more (or fewer) than 34 rows at the start of the dataframe due to changes done by the World Bank to its data reporting."
   ]
  },
  {
   "cell_type": "markdown",
   "metadata": {},
   "source": [
    "## Joining and transforming\n",
    "\n",
    "The two dataframes can now be merged with an inner join."
   ]
  },
  {
   "cell_type": "code",
   "execution_count": null,
   "metadata": {},
   "outputs": [],
   "source": [
    "gdpVsLifeAll = pd.merge(gdpClean, lifeClean, on=COUNTRY, how='inner')\n",
    "gdpVsLifeAll.head()"
   ]
  },
  {
   "cell_type": "markdown",
   "metadata": {},
   "source": [
    "The dollars are converted to million pounds."
   ]
  },
  {
   "cell_type": "code",
   "execution_count": null,
   "metadata": {},
   "outputs": [],
   "source": [
    "GDP = 'GDP (£m)'\n",
    "column = gdpVsLifeAll[GDP_INDICATOR]\n",
    "gdpVsLifeAll[GDP] = column.apply(usdToGBP).apply(roundToMillions)\n",
    "gdpVsLifeAll.head()"
   ]
  },
  {
   "cell_type": "markdown",
   "metadata": {},
   "source": [
    "The life expectancy is rounded, by applying the `round()` function."
   ]
  },
  {
   "cell_type": "code",
   "execution_count": null,
   "metadata": {},
   "outputs": [],
   "source": [
    "LIFE = 'Life expectancy (years)'\n",
    "gdpVsLifeAll[LIFE] = gdpVsLifeAll[LIFE_INDICATOR].apply(round)\n",
    "gdpVsLifeAll.head()"
   ]
  },
  {
   "cell_type": "markdown",
   "metadata": {},
   "source": [
    "The original GDP and life expectancy columns are dropped."
   ]
  },
  {
   "cell_type": "code",
   "execution_count": null,
   "metadata": {},
   "outputs": [],
   "source": [
    "headings = [COUNTRY, GDP, LIFE]\n",
    "gdpVsLifeClean = gdpVsLifeAll[headings]\n",
    "gdpVsLifeClean.head()"
   ]
  },
  {
   "cell_type": "markdown",
   "metadata": {},
   "source": [
    "### Tasks\n",
    "\n",
    "1. Merge `gdpVsLifeClean` with the population dataframe obtained in the previous exercise. \n",
    "- Round the population value to the nearest million.\n",
    "- Remove the original population column."
   ]
  },
  {
   "cell_type": "markdown",
   "metadata": {},
   "source": [
    "## Correlation\n",
    "\n",
    "The Spearman rank correlation coefficient between GDP and life expectancy, and the corresponding p-value."
   ]
  },
  {
   "cell_type": "markdown",
   "metadata": {},
   "source": [
    "It’s a number between -1 and 1 that describes how well two indicators correlate, in the\n",
    "following sense.\n",
    "- A value of 1 means that if I rank (sort) the data from smallest to largest value in one\n",
    "indicator, it will also be in ascending order according to the other indicator. In other\n",
    "words, if one indicator grows, so does the other.\n",
    "\n",
    "- A value of -1 means a perfect inverse rank relation: if I sort the data from smallest to\n",
    "largest according to one indicator, I will see it is sorted from largest to smallest in the\n",
    "other indicator. When one indicator goes up, the other goes down.\n",
    "\n",
    "- A value of 0 means there is no rank relation between the two indicators.\n",
    "\n",
    "A positive value smaller than 1 (or a negative value larger than -1) means there is some\n",
    "direct (or inverse) correlation, but it is not systematic across the whole dataset.\n",
    "The **p-value** indicates how significant the result is, in a particular technical sense. To say\n",
    "a correlation is statistically significant doesn’t necessarily mean it is important or strong in\n",
    "the real world, but only that there is reasonable statistical evidence that there is some kind\n",
    "of relationship. Typically, the obtained correlation coefficient is considered statistically\n",
    "significant if the p-value is below 0.05.\n",
    "\n",
    "The pandas module doesn’t calculate complex statistics. There are other modules in the\n",
    "Anaconda distribution for that. In particular, **scipy** (Scientific Python) has a stats module\n",
    "that provides the **spearmanr()** function. The function takes as arguments the two\n",
    "columns of data to correlate. Contrary to the functions you’ve seen so far, it returns two values instead of one: the correlation and the p-value. To store both values, simply use a\n",
    "pair of variables, written in parenthesis.\n",
    "To show the results in a nicer way, I will use the Python **print()** function, which displays\n",
    "its arguments in a single line."
   ]
  },
  {
   "cell_type": "code",
   "execution_count": null,
   "metadata": {},
   "outputs": [],
   "source": [
    "from scipy.stats import spearmanr\n",
    "\n",
    "gdpColumn = gdpVsLifeClean[GDP]\n",
    "lifeColumn = gdpVsLifeClean[LIFE]\n",
    "(correlation, pValue) = spearmanr(gdpColumn, lifeColumn)\n",
    "print('The correlation is', correlation)\n",
    "if pValue < 0.05:\n",
    "    print('It is statistically significant.')\n",
    "else:\n",
    "    print('It is not statistically significant.')"
   ]
  },
  {
   "cell_type": "markdown",
   "metadata": {},
   "source": [
    "Although there is a statistically significant direct correlation (life expectancy grows as GDP\n",
    "grows), it isn’t strong.\n",
    "A perfect (direct or inverse) correlation doesn’t mean there is any cause-effect between\n",
    "the two indicators. A perfect direct correlation between life expectancy and GDP would\n",
    "only state that the higher the GDP, the higher the life expectancy. It would not state that\n",
    "the higher expectancy is due to the GDP. Correlation is not causation."
   ]
  },
  {
   "cell_type": "markdown",
   "metadata": {},
   "source": [
    "### Task\n",
    "\n",
    "Calculate the correlation between GDP and population."
   ]
  },
  {
   "cell_type": "markdown",
   "metadata": {},
   "source": [
    "## Scatterplots"
   ]
  },
  {
   "cell_type": "markdown",
   "metadata": {},
   "source": [
    "Statistics can be misleading. A coefficient of zero only states there is no ranking relation\n",
    "between the indicators, but there might be some other relationship.\n",
    "In the next example, the correlation between x and y is zero, but they are clearly related (y\n",
    "is the square of x)."
   ]
  },
  {
   "cell_type": "code",
   "execution_count": null,
   "metadata": {},
   "outputs": [],
   "source": [
    "table = [ [-2,4], [-1,1], [0,0], [1,1], [2,4] ]\n",
    "data = DataFrame(columns=['x', 'y'], data=table)\n",
    "(correlation, pValue) = spearmanr(data['x'], data['y'])\n",
    "print('The correlation is', correlation)\n",
    "data"
   ]
  },
  {
   "cell_type": "markdown",
   "metadata": {},
   "source": [
    "It’s therefore best to complement the quantitative analysis with a more qualitative view\n",
    "provided by a chart. In the case of correlations, scatterplots will do very nicely. Each\n",
    "country is a dot plotted at the x and y coordinates corresponding to the GDP and life\n",
    "expectancy values."
   ]
  },
  {
   "cell_type": "markdown",
   "metadata": {},
   "source": [
    "The dataframe method `plot()` can also produce scatterplots. The `logx` and `logy` arguments  set a logarithmic scale on the corresponding axis."
   ]
  },
  {
   "cell_type": "code",
   "execution_count": null,
   "metadata": {},
   "outputs": [],
   "source": [
    "%matplotlib inline\n",
    "gdpVsLife.plot(x=GDP, y=LIFE, kind='scatter', grid=True)"
   ]
  },
  {
   "cell_type": "markdown",
   "metadata": {},
   "source": [
    "This graph is not very useful. The GDP difference between the poorest and richest\n",
    "countries is so vast that the whole chart is squashed to fit all GDP values on the x-axis. It\n",
    "is best to use a **logarithmic scale** , where the axis values don’t increase by a constant\n",
    "interval (10, 20, 30, for example), but by a multiplicative factor (10, 100, 1000, 10000,\n",
    "etc.). The parameter **logx** has to be set to **True** to get a logarithmic scale on the x-axis.\n",
    "Moreover, let’s make the chart a bit wider, by using the **figsize** parameter you saw last\n",
    "week."
   ]
  },
  {
   "cell_type": "code",
   "execution_count": null,
   "metadata": {},
   "outputs": [],
   "source": [
    "gdpVsLifeClean.plot(x=GDP, y=LIFE, kind='scatter', grid=True, logx=True, figsize = (10, 4))"
   ]
  },
  {
   "cell_type": "markdown",
   "metadata": {},
   "source": [
    "The major tick marks in the x-axis go from 10^2 (that’s a one followed by two zeros, hence\n",
    "100) to 10^8 (that’s a one followed by eight zeros, hence 100,000,000) million pounds, with\n",
    "the minor ticks marking the numbers in between. For example, the eight minor ticks\n",
    "between 10^2 and 10^3 represent the values 200 (2 × 10^2 ), 300 (3 × 10^2 ), and so on until\n",
    "900 (9 × 10^2 ). As a further example, the country with the lowest life expectancy is on the\n",
    "second minor tick to the right of 10^3 , which means its GDP is about 3 × 10^3 (three\n",
    "thousand) million pounds.\n",
    "Countries with a GDP around 10 thousand (10^4 ) millions of pounds have a wide range of\n",
    "life expectancies, from under 50 to over 80, but the range tends to shrink both for poorer\n",
    "and for richer countries. Countries with the lowest life expectancy are neither the poorest\n",
    "nor the richest, but those with highest expectancy are among the richer countries."
   ]
  },
  {
   "cell_type": "markdown",
   "metadata": {},
   "source": [
    "### Tasks\n",
    "\n",
    "- Swap the axes of the scatterplot, i.e. show the GDP in the y axis and the life expectancy in the x axis.\n",
    "- Display a scatterplot of the GDP and the population."
   ]
  },
  {
   "cell_type": "code",
   "execution_count": null,
   "metadata": {},
   "outputs": [],
   "source": []
  },
  {
   "cell_type": "markdown",
   "metadata": {},
   "source": [
    "I’ve written up my analysis of this week’s project in the notebook you can open this in your\n",
    "downloaded files.\n",
    "The structure is very simple: besides the introduction and the conclusions, there is one\n",
    "section for each step of the analysis – downloading, cleaning, transforming, and merging\n",
    "the data, then calculating and visualising the correlation.\n",
    "Open the Project Notebook: Life expectancy\n",
    "Extend project to answer different questions or create your own\n",
    "project in the activity below."
   ]
  },
  {
   "cell_type": "markdown",
   "metadata": {},
   "source": [
    "## Activity\n",
    "### Extend the project\n",
    "\n",
    "Make a copy of the Project Notebook: GDP and Life expectancy and change it to answer one or\n",
    "more of the following questions:\n",
    "- To what extent do the ten countries with the highest GDP coincide with the ten\n",
    "countries with the longest life expectancy?\n",
    "\n",
    "- Which are the two countries in the right half of the plot (higher GDP) with life\n",
    "expectancy below 60 years? \n",
    "\n",
    "- What factors could explain their lower life\n",
    "expectancy compared to countries with similar GDP?\n",
    "Hint: use the filtering techniques you learned in Week 2 to find the two countries.\n",
    "\n",
    "- Redo the analysis using the countries’ GDP per capita (i.e. per inhabitant) instead\n",
    "of their total GDP. If you’ve done the workbook task, you already have a\n",
    "column with the population data.\n",
    "\n",
    "Hint: write an expression involving the GDP and population columns, as you\n",
    "learned in Calculating over columns in previous modules. Think about the units in which you\n",
    "display GDP per capita.\n",
    "\n",
    "- Redo the analysis using the indicator suggested at the end of the project\n",
    "notebook.\n",
    "\n",
    "**Create your own project**\n",
    "Create a completely new project and choose another two of the\n",
    "hundreds of World Bank indicators and see if there is any correlation between them. If\n",
    "there is a choice of similar indicators, choose one that leads to meaningful\n",
    "comparisons between countries.\n",
    "\n",
    "Look at the results you obtained and take a few moments to assess how they differ\n",
    "from mine."
   ]
  },
  {
   "cell_type": "code",
   "execution_count": null,
   "metadata": {},
   "outputs": [],
   "source": []
  }
 ],
 "metadata": {
  "kernelspec": {
   "display_name": "Python 3",
   "language": "python",
   "name": "python3"
  },
  "language_info": {
   "codemirror_mode": {
    "name": "ipython",
    "version": 3
   },
   "file_extension": ".py",
   "mimetype": "text/x-python",
   "name": "python",
   "nbconvert_exporter": "python",
   "pygments_lexer": "ipython3",
   "version": "3.8.8"
  }
 },
 "nbformat": 4,
 "nbformat_minor": 1
}
