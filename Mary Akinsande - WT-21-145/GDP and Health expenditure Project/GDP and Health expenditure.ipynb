{
 "cells": [
  {
   "cell_type": "markdown",
   "id": "490c24b9",
   "metadata": {},
   "source": [
    "## GDP and Health expenditure\n",
    "Richer countries can afford to invest more on healthcare, on work and road safety, and other measures that reduce mortality. On the other hand, richer countries may have less health expenditures. Is there any relation between the wealth of a country and the health expenditure of its inhabitants?\n",
    "\n",
    "The following analysis checks whether there is any correlation between the total gross domestic product (GDP) of a country in 2018 and the health expenditure of people in that country in 2018."
   ]
  },
  {
   "cell_type": "markdown",
   "id": "a5d28416",
   "metadata": {},
   "source": [
    "## Getting the data\n",
    "Two datasets of the World Bank are considered. One dataset, available at https://data.worldbank.org/indicator/NY.GDP.PCAP.PP.CD, lists the GDP of the world's countries in current US dollars, for various years. The use of a common currency allows us to compare GDP values across countries. The other dataset, available at https://data.worldbank.org/indicator/SH.XPD.CHEX.GD.ZS, lists the life expectancy of the world's countries. The datasets were downloaded as CSV files in 2018."
   ]
  },
  {
   "cell_type": "code",
   "execution_count": 1,
   "id": "1636fa94",
   "metadata": {},
   "outputs": [
    {
     "data": {
      "text/html": [
       "<div>\n",
       "<style scoped>\n",
       "    .dataframe tbody tr th:only-of-type {\n",
       "        vertical-align: middle;\n",
       "    }\n",
       "\n",
       "    .dataframe tbody tr th {\n",
       "        vertical-align: top;\n",
       "    }\n",
       "\n",
       "    .dataframe thead th {\n",
       "        text-align: right;\n",
       "    }\n",
       "</style>\n",
       "<table border=\"1\" class=\"dataframe\">\n",
       "  <thead>\n",
       "    <tr style=\"text-align: right;\">\n",
       "      <th></th>\n",
       "      <th>country</th>\n",
       "      <th>year</th>\n",
       "      <th>SH.XPD.CHEX.GD.ZS</th>\n",
       "    </tr>\n",
       "  </thead>\n",
       "  <tbody>\n",
       "    <tr>\n",
       "      <th>0</th>\n",
       "      <td>Arab World</td>\n",
       "      <td>2018</td>\n",
       "      <td>5.225987</td>\n",
       "    </tr>\n",
       "    <tr>\n",
       "      <th>1</th>\n",
       "      <td>Caribbean small states</td>\n",
       "      <td>2018</td>\n",
       "      <td>6.363417</td>\n",
       "    </tr>\n",
       "    <tr>\n",
       "      <th>2</th>\n",
       "      <td>Central Europe and the Baltics</td>\n",
       "      <td>2018</td>\n",
       "      <td>6.610860</td>\n",
       "    </tr>\n",
       "    <tr>\n",
       "      <th>3</th>\n",
       "      <td>Early-demographic dividend</td>\n",
       "      <td>2018</td>\n",
       "      <td>5.042913</td>\n",
       "    </tr>\n",
       "    <tr>\n",
       "      <th>4</th>\n",
       "      <td>East Asia &amp; Pacific</td>\n",
       "      <td>2018</td>\n",
       "      <td>6.669777</td>\n",
       "    </tr>\n",
       "  </tbody>\n",
       "</table>\n",
       "</div>"
      ],
      "text/plain": [
       "                          country  year  SH.XPD.CHEX.GD.ZS\n",
       "0                      Arab World  2018           5.225987\n",
       "1          Caribbean small states  2018           6.363417\n",
       "2  Central Europe and the Baltics  2018           6.610860\n",
       "3      Early-demographic dividend  2018           5.042913\n",
       "4             East Asia & Pacific  2018           6.669777"
      ]
     },
     "execution_count": 1,
     "metadata": {},
     "output_type": "execute_result"
    }
   ],
   "source": [
    "import warnings\n",
    "warnings.simplefilter('ignore', FutureWarning)\n",
    "\n",
    "import pandas as pd\n",
    "\n",
    "YEAR = 2018\n",
    "GDP_INDICATOR = 'NY.GDP.PCAP.PP.CD'\n",
    "gdpReset = pd.read_csv('WB GDP 2018.csv')\n",
    "\n",
    "HEALTH_INDICATOR = 'SH.XPD.CHEX.GD.ZS'\n",
    "healthReset = pd.read_csv('WB HE 2018.csv')\n",
    "healthReset.head()"
   ]
  },
  {
   "cell_type": "markdown",
   "id": "184f2bbf",
   "metadata": {},
   "source": [
    "## Cleaning the data\n",
    "Inspecting the data with head() and tail() shows that:\n",
    "\n",
    "* the first 47 rows are aggregated data, for the Arab World, the Caribbean small states, and other country groups used by the World Bank;\n",
    "* GDP and life expectancy values are missing for some countries.\n",
    "\n",
    "The data is therefore cleaned by:\n",
    "\n",
    "* removing the first 47 rows;\n",
    "* removing rows with unavailable values."
   ]
  },
  {
   "cell_type": "code",
   "execution_count": 2,
   "id": "bbc0197b",
   "metadata": {},
   "outputs": [],
   "source": [
    "gdpCountries = gdpReset[47:].dropna()\n",
    "healthCountries = healthReset[47:].dropna()"
   ]
  },
  {
   "cell_type": "markdown",
   "id": "78709e80",
   "metadata": {},
   "source": [
    "## Transforming the data\n",
    "The World Bank reports GDP in US dollars and cents. To make the data easier to read, the GDP is converted to millions of British pounds (the author's local currency) with the following auxiliary functions, using the average 2018 dollar-to-pound conversion rate provided by http://www.ukforex.co.uk/forex-tools/historical-rate-tools/yearly-average-rates."
   ]
  },
  {
   "cell_type": "markdown",
   "id": "305c3844",
   "metadata": {},
   "source": [
    "###### GBP to USD 2018 is 1.334801¶"
   ]
  },
  {
   "cell_type": "code",
   "execution_count": 3,
   "id": "7d60ded3",
   "metadata": {},
   "outputs": [
    {
     "data": {
      "text/html": [
       "<div>\n",
       "<style scoped>\n",
       "    .dataframe tbody tr th:only-of-type {\n",
       "        vertical-align: middle;\n",
       "    }\n",
       "\n",
       "    .dataframe tbody tr th {\n",
       "        vertical-align: top;\n",
       "    }\n",
       "\n",
       "    .dataframe thead th {\n",
       "        text-align: right;\n",
       "    }\n",
       "</style>\n",
       "<table border=\"1\" class=\"dataframe\">\n",
       "  <thead>\n",
       "    <tr style=\"text-align: right;\">\n",
       "      <th></th>\n",
       "      <th>country</th>\n",
       "      <th>year</th>\n",
       "      <th>NY.GDP.PCAP.PP.CD</th>\n",
       "      <th>GDP (£)</th>\n",
       "    </tr>\n",
       "  </thead>\n",
       "  <tbody>\n",
       "    <tr>\n",
       "      <th>47</th>\n",
       "      <td>Afghanistan</td>\n",
       "      <td>2018</td>\n",
       "      <td>2083.321897</td>\n",
       "      <td>1561</td>\n",
       "    </tr>\n",
       "    <tr>\n",
       "      <th>48</th>\n",
       "      <td>Albania</td>\n",
       "      <td>2018</td>\n",
       "      <td>13546.473790</td>\n",
       "      <td>10149</td>\n",
       "    </tr>\n",
       "    <tr>\n",
       "      <th>49</th>\n",
       "      <td>Algeria</td>\n",
       "      <td>2018</td>\n",
       "      <td>11925.798560</td>\n",
       "      <td>8935</td>\n",
       "    </tr>\n",
       "    <tr>\n",
       "      <th>52</th>\n",
       "      <td>Angola</td>\n",
       "      <td>2018</td>\n",
       "      <td>7102.405887</td>\n",
       "      <td>5321</td>\n",
       "    </tr>\n",
       "    <tr>\n",
       "      <th>53</th>\n",
       "      <td>Antigua and Barbuda</td>\n",
       "      <td>2018</td>\n",
       "      <td>21630.179510</td>\n",
       "      <td>16205</td>\n",
       "    </tr>\n",
       "  </tbody>\n",
       "</table>\n",
       "</div>"
      ],
      "text/plain": [
       "                country  year  NY.GDP.PCAP.PP.CD  GDP (£)\n",
       "47          Afghanistan  2018        2083.321897     1561\n",
       "48              Albania  2018       13546.473790    10149\n",
       "49              Algeria  2018       11925.798560     8935\n",
       "52               Angola  2018        7102.405887     5321\n",
       "53  Antigua and Barbuda  2018       21630.179510    16205"
      ]
     },
     "execution_count": 3,
     "metadata": {},
     "output_type": "execute_result"
    }
   ],
   "source": [
    "def roundCurrency (value):\n",
    "    value = float(value)\n",
    "    return round(value)\n",
    "\n",
    "def usdToGBP (usd):\n",
    "    usd = float(usd)\n",
    "    convert_usd = usd/1.334801\n",
    "    return convert_usd\n",
    "\n",
    "GDP = 'GDP (£)'\n",
    "gdpCountries[GDP] = gdpCountries[GDP_INDICATOR].apply(usdToGBP).apply(roundCurrency)\n",
    "gdpCountries.head()"
   ]
  },
  {
   "cell_type": "markdown",
   "id": "2d9b2e13",
   "metadata": {},
   "source": [
    "The unnecessary columns can be dropped."
   ]
  },
  {
   "cell_type": "code",
   "execution_count": 4,
   "id": "aa28b5bb",
   "metadata": {},
   "outputs": [
    {
     "data": {
      "text/html": [
       "<div>\n",
       "<style scoped>\n",
       "    .dataframe tbody tr th:only-of-type {\n",
       "        vertical-align: middle;\n",
       "    }\n",
       "\n",
       "    .dataframe tbody tr th {\n",
       "        vertical-align: top;\n",
       "    }\n",
       "\n",
       "    .dataframe thead th {\n",
       "        text-align: right;\n",
       "    }\n",
       "</style>\n",
       "<table border=\"1\" class=\"dataframe\">\n",
       "  <thead>\n",
       "    <tr style=\"text-align: right;\">\n",
       "      <th></th>\n",
       "      <th>country</th>\n",
       "      <th>GDP (£)</th>\n",
       "    </tr>\n",
       "  </thead>\n",
       "  <tbody>\n",
       "    <tr>\n",
       "      <th>47</th>\n",
       "      <td>Afghanistan</td>\n",
       "      <td>1561</td>\n",
       "    </tr>\n",
       "    <tr>\n",
       "      <th>48</th>\n",
       "      <td>Albania</td>\n",
       "      <td>10149</td>\n",
       "    </tr>\n",
       "    <tr>\n",
       "      <th>49</th>\n",
       "      <td>Algeria</td>\n",
       "      <td>8935</td>\n",
       "    </tr>\n",
       "    <tr>\n",
       "      <th>52</th>\n",
       "      <td>Angola</td>\n",
       "      <td>5321</td>\n",
       "    </tr>\n",
       "    <tr>\n",
       "      <th>53</th>\n",
       "      <td>Antigua and Barbuda</td>\n",
       "      <td>16205</td>\n",
       "    </tr>\n",
       "  </tbody>\n",
       "</table>\n",
       "</div>"
      ],
      "text/plain": [
       "                country  GDP (£)\n",
       "47          Afghanistan     1561\n",
       "48              Albania    10149\n",
       "49              Algeria     8935\n",
       "52               Angola     5321\n",
       "53  Antigua and Barbuda    16205"
      ]
     },
     "execution_count": 4,
     "metadata": {},
     "output_type": "execute_result"
    }
   ],
   "source": [
    "COUNTRY = 'country'\n",
    "headings = [COUNTRY, GDP]\n",
    "gdpClean = gdpCountries[headings]\n",
    "gdpClean.head()"
   ]
  },
  {
   "cell_type": "markdown",
   "id": "6a15b557",
   "metadata": {},
   "source": [
    "The World Bank reports the Health Expenditure with several decimal places. After rounding, the original column is discarded."
   ]
  },
  {
   "cell_type": "code",
   "execution_count": 5,
   "id": "ca2420d7",
   "metadata": {},
   "outputs": [
    {
     "data": {
      "text/html": [
       "<div>\n",
       "<style scoped>\n",
       "    .dataframe tbody tr th:only-of-type {\n",
       "        vertical-align: middle;\n",
       "    }\n",
       "\n",
       "    .dataframe tbody tr th {\n",
       "        vertical-align: top;\n",
       "    }\n",
       "\n",
       "    .dataframe thead th {\n",
       "        text-align: right;\n",
       "    }\n",
       "</style>\n",
       "<table border=\"1\" class=\"dataframe\">\n",
       "  <thead>\n",
       "    <tr style=\"text-align: right;\">\n",
       "      <th></th>\n",
       "      <th>country</th>\n",
       "      <th>Health_exp (Facilities)</th>\n",
       "    </tr>\n",
       "  </thead>\n",
       "  <tbody>\n",
       "    <tr>\n",
       "      <th>47</th>\n",
       "      <td>Afghanistan</td>\n",
       "      <td>9</td>\n",
       "    </tr>\n",
       "    <tr>\n",
       "      <th>48</th>\n",
       "      <td>Albania</td>\n",
       "      <td>5</td>\n",
       "    </tr>\n",
       "    <tr>\n",
       "      <th>49</th>\n",
       "      <td>Algeria</td>\n",
       "      <td>6</td>\n",
       "    </tr>\n",
       "    <tr>\n",
       "      <th>51</th>\n",
       "      <td>Andorra</td>\n",
       "      <td>7</td>\n",
       "    </tr>\n",
       "    <tr>\n",
       "      <th>52</th>\n",
       "      <td>Angola</td>\n",
       "      <td>3</td>\n",
       "    </tr>\n",
       "  </tbody>\n",
       "</table>\n",
       "</div>"
      ],
      "text/plain": [
       "        country  Health_exp (Facilities)\n",
       "47  Afghanistan                        9\n",
       "48      Albania                        5\n",
       "49      Algeria                        6\n",
       "51      Andorra                        7\n",
       "52       Angola                        3"
      ]
     },
     "execution_count": 5,
     "metadata": {},
     "output_type": "execute_result"
    }
   ],
   "source": [
    "HEALTH = 'Health_exp (Facilities)'\n",
    "healthCountries[HEALTH] = healthCountries[HEALTH_INDICATOR].apply(round)\n",
    "headings = [COUNTRY, HEALTH]\n",
    "healthClean = healthCountries[headings]\n",
    "healthClean.head()"
   ]
  },
  {
   "cell_type": "markdown",
   "id": "59163232",
   "metadata": {},
   "source": [
    "## Combining the data\n",
    "The tables are combined through an inner join on the common 'country' column."
   ]
  },
  {
   "cell_type": "code",
   "execution_count": 6,
   "id": "72012958",
   "metadata": {},
   "outputs": [
    {
     "data": {
      "text/html": [
       "<div>\n",
       "<style scoped>\n",
       "    .dataframe tbody tr th:only-of-type {\n",
       "        vertical-align: middle;\n",
       "    }\n",
       "\n",
       "    .dataframe tbody tr th {\n",
       "        vertical-align: top;\n",
       "    }\n",
       "\n",
       "    .dataframe thead th {\n",
       "        text-align: right;\n",
       "    }\n",
       "</style>\n",
       "<table border=\"1\" class=\"dataframe\">\n",
       "  <thead>\n",
       "    <tr style=\"text-align: right;\">\n",
       "      <th></th>\n",
       "      <th>country</th>\n",
       "      <th>GDP (£)</th>\n",
       "      <th>Health_exp (Facilities)</th>\n",
       "    </tr>\n",
       "  </thead>\n",
       "  <tbody>\n",
       "    <tr>\n",
       "      <th>0</th>\n",
       "      <td>Afghanistan</td>\n",
       "      <td>1561</td>\n",
       "      <td>9</td>\n",
       "    </tr>\n",
       "    <tr>\n",
       "      <th>1</th>\n",
       "      <td>Albania</td>\n",
       "      <td>10149</td>\n",
       "      <td>5</td>\n",
       "    </tr>\n",
       "    <tr>\n",
       "      <th>2</th>\n",
       "      <td>Algeria</td>\n",
       "      <td>8935</td>\n",
       "      <td>6</td>\n",
       "    </tr>\n",
       "    <tr>\n",
       "      <th>3</th>\n",
       "      <td>Angola</td>\n",
       "      <td>5321</td>\n",
       "      <td>3</td>\n",
       "    </tr>\n",
       "    <tr>\n",
       "      <th>4</th>\n",
       "      <td>Antigua and Barbuda</td>\n",
       "      <td>16205</td>\n",
       "      <td>5</td>\n",
       "    </tr>\n",
       "  </tbody>\n",
       "</table>\n",
       "</div>"
      ],
      "text/plain": [
       "               country  GDP (£)  Health_exp (Facilities)\n",
       "0          Afghanistan     1561                        9\n",
       "1              Albania    10149                        5\n",
       "2              Algeria     8935                        6\n",
       "3               Angola     5321                        3\n",
       "4  Antigua and Barbuda    16205                        5"
      ]
     },
     "execution_count": 6,
     "metadata": {},
     "output_type": "execute_result"
    }
   ],
   "source": [
    "gdpVsHealth = pd.merge(gdpClean, healthClean, on=COUNTRY, how='inner')\n",
    "gdpVsHealth.head()"
   ]
  },
  {
   "cell_type": "markdown",
   "id": "bbd62a84",
   "metadata": {},
   "source": [
    "## Calculating the correlation\n",
    "To measure if the life expectancy and the GDP grow together, the Spearman rank correlation coefficient is used. It is a number from -1 (perfect inverse rank correlation: if one indicator increases, the other decreases) to 1 (perfect direct rank correlation: if one indicator increases, so does the other), with 0 meaning there is no rank correlation. A perfect correlation doesn't imply any cause-effect relation between the two indicators. A p-value below 0.05 means the correlation is statistically significant."
   ]
  },
  {
   "cell_type": "code",
   "execution_count": 7,
   "id": "623a2522",
   "metadata": {},
   "outputs": [
    {
     "name": "stdout",
     "output_type": "stream",
     "text": [
      "The correlation is 0.2606301506061772\n",
      "It is statistically significant.\n"
     ]
    }
   ],
   "source": [
    "from scipy.stats import spearmanr\n",
    "\n",
    "gdpColumn = gdpVsHealth[GDP]\n",
    "healthColumn = gdpVsHealth[HEALTH]\n",
    "(correlation, pValue) = spearmanr(gdpColumn, healthColumn)\n",
    "print('The correlation is', correlation)\n",
    "if pValue < 0.05:\n",
    "    print('It is statistically significant.')\n",
    "else:\n",
    "    print('It is not statistically significant.')"
   ]
  },
  {
   "cell_type": "markdown",
   "id": "4e1267d6",
   "metadata": {},
   "source": [
    "The value shows a direct correlation, i.e. richer countries tend to have longer life expectancy, but it is not very strong."
   ]
  },
  {
   "cell_type": "markdown",
   "id": "cf3175b7",
   "metadata": {},
   "source": [
    "## Showing the data\n",
    "Measures of correlation can be misleading, so it is best to see the overall picture with a scatterplot. The GDP axis uses a logarithmic scale to better display the vast range of GDP values."
   ]
  },
  {
   "cell_type": "code",
   "execution_count": 8,
   "id": "4fd41374",
   "metadata": {},
   "outputs": [
    {
     "data": {
      "text/plain": [
       "<AxesSubplot:xlabel='GDP (£)', ylabel='Health_exp (Facilities)'>"
      ]
     },
     "execution_count": 8,
     "metadata": {},
     "output_type": "execute_result"
    },
    {
     "data": {
      "image/png": "[encoded data removed]",
      "text/plain": [
       "<Figure size 720x288 with 1 Axes>"
      ]
     },
     "metadata": {
      "needs_background": "light"
     },
     "output_type": "display_data"
    }
   ],
   "source": [
    "%matplotlib inline\n",
    "gdpVsHealth.plot(x=GDP, y=HEALTH, kind='scatter', grid=True, logx=True, figsize=(10, 4))"
   ]
  },
  {
   "cell_type": "markdown",
   "id": "b406b160",
   "metadata": {},
   "source": [
    "The plot shows there is no clear correlation: there are rich countries with low health expenditure, poor countries with a little more expenditure than the rich countries, and countries with around 10 thousand (10^4) pounds GDP have almost the full range of values, from below 2.5 to over 10 facilities. Towards the lower and higher end of GDP, the variation remains the same. Above 40 thousand pounds of GDP (2nd tick mark to the right of 10^4), most countries have an health expenditure of 10 facilities or less, whilst below that threshold most countries' health expenditure is below 10 facilities.\n",
    "\n",
    "Comparing the 10 poorest countries and the 10 countries with the lowest health expenditure shows that total GDP is a rather crude measure. The population size should be taken into account for a more precise definiton of what 'poor' and 'rich' means. Furthermore, looking at the countries below, droughts and internal conflicts may also play a role in health expenditure."
   ]
  },
  {
   "cell_type": "code",
   "execution_count": 9,
   "id": "26807ec1",
   "metadata": {},
   "outputs": [
    {
     "data": {
      "text/html": [
       "<div>\n",
       "<style scoped>\n",
       "    .dataframe tbody tr th:only-of-type {\n",
       "        vertical-align: middle;\n",
       "    }\n",
       "\n",
       "    .dataframe tbody tr th {\n",
       "        vertical-align: top;\n",
       "    }\n",
       "\n",
       "    .dataframe thead th {\n",
       "        text-align: right;\n",
       "    }\n",
       "</style>\n",
       "<table border=\"1\" class=\"dataframe\">\n",
       "  <thead>\n",
       "    <tr style=\"text-align: right;\">\n",
       "      <th></th>\n",
       "      <th>country</th>\n",
       "      <th>GDP (£)</th>\n",
       "      <th>Health_exp (Facilities)</th>\n",
       "    </tr>\n",
       "  </thead>\n",
       "  <tbody>\n",
       "    <tr>\n",
       "      <th>26</th>\n",
       "      <td>Burundi</td>\n",
       "      <td>584</td>\n",
       "      <td>8</td>\n",
       "    </tr>\n",
       "    <tr>\n",
       "      <th>31</th>\n",
       "      <td>Central African Republic</td>\n",
       "      <td>716</td>\n",
       "      <td>11</td>\n",
       "    </tr>\n",
       "    <tr>\n",
       "      <th>97</th>\n",
       "      <td>Malawi</td>\n",
       "      <td>800</td>\n",
       "      <td>9</td>\n",
       "    </tr>\n",
       "    <tr>\n",
       "      <th>37</th>\n",
       "      <td>Congo, Dem. Rep.</td>\n",
       "      <td>833</td>\n",
       "      <td>3</td>\n",
       "    </tr>\n",
       "    <tr>\n",
       "      <th>119</th>\n",
       "      <td>Niger</td>\n",
       "      <td>922</td>\n",
       "      <td>7</td>\n",
       "    </tr>\n",
       "    <tr>\n",
       "      <th>111</th>\n",
       "      <td>Mozambique</td>\n",
       "      <td>990</td>\n",
       "      <td>8</td>\n",
       "    </tr>\n",
       "    <tr>\n",
       "      <th>93</th>\n",
       "      <td>Liberia</td>\n",
       "      <td>1149</td>\n",
       "      <td>7</td>\n",
       "    </tr>\n",
       "    <tr>\n",
       "      <th>163</th>\n",
       "      <td>Togo</td>\n",
       "      <td>1192</td>\n",
       "      <td>6</td>\n",
       "    </tr>\n",
       "    <tr>\n",
       "      <th>32</th>\n",
       "      <td>Chad</td>\n",
       "      <td>1210</td>\n",
       "      <td>4</td>\n",
       "    </tr>\n",
       "    <tr>\n",
       "      <th>96</th>\n",
       "      <td>Madagascar</td>\n",
       "      <td>1238</td>\n",
       "      <td>5</td>\n",
       "    </tr>\n",
       "  </tbody>\n",
       "</table>\n",
       "</div>"
      ],
      "text/plain": [
       "                      country  GDP (£)  Health_exp (Facilities)\n",
       "26                    Burundi      584                        8\n",
       "31   Central African Republic      716                       11\n",
       "97                     Malawi      800                        9\n",
       "37           Congo, Dem. Rep.      833                        3\n",
       "119                     Niger      922                        7\n",
       "111                Mozambique      990                        8\n",
       "93                    Liberia     1149                        7\n",
       "163                      Togo     1192                        6\n",
       "32                       Chad     1210                        4\n",
       "96                 Madagascar     1238                        5"
      ]
     },
     "execution_count": 9,
     "metadata": {},
     "output_type": "execute_result"
    }
   ],
   "source": [
    "# the 10 countries with lowest GDP\n",
    "gdpVsHealth.sort_values(GDP).head(10)"
   ]
  },
  {
   "cell_type": "code",
   "execution_count": 10,
   "id": "3d9253e5",
   "metadata": {},
   "outputs": [
    {
     "data": {
      "text/html": [
       "<div>\n",
       "<style scoped>\n",
       "    .dataframe tbody tr th:only-of-type {\n",
       "        vertical-align: middle;\n",
       "    }\n",
       "\n",
       "    .dataframe tbody tr th {\n",
       "        vertical-align: top;\n",
       "    }\n",
       "\n",
       "    .dataframe thead th {\n",
       "        text-align: right;\n",
       "    }\n",
       "</style>\n",
       "<table border=\"1\" class=\"dataframe\">\n",
       "  <thead>\n",
       "    <tr style=\"text-align: right;\">\n",
       "      <th></th>\n",
       "      <th>country</th>\n",
       "      <th>GDP (£)</th>\n",
       "      <th>Health_exp (Facilities)</th>\n",
       "    </tr>\n",
       "  </thead>\n",
       "  <tbody>\n",
       "    <tr>\n",
       "      <th>23</th>\n",
       "      <td>Brunei Darussalam</td>\n",
       "      <td>46344</td>\n",
       "      <td>2</td>\n",
       "    </tr>\n",
       "    <tr>\n",
       "      <th>45</th>\n",
       "      <td>Djibouti</td>\n",
       "      <td>4001</td>\n",
       "      <td>2</td>\n",
       "    </tr>\n",
       "    <tr>\n",
       "      <th>133</th>\n",
       "      <td>Qatar</td>\n",
       "      <td>69813</td>\n",
       "      <td>2</td>\n",
       "    </tr>\n",
       "    <tr>\n",
       "      <th>38</th>\n",
       "      <td>Congo, Rep.</td>\n",
       "      <td>2998</td>\n",
       "      <td>2</td>\n",
       "    </tr>\n",
       "    <tr>\n",
       "      <th>17</th>\n",
       "      <td>Benin</td>\n",
       "      <td>2426</td>\n",
       "      <td>2</td>\n",
       "    </tr>\n",
       "    <tr>\n",
       "      <th>89</th>\n",
       "      <td>Lao PDR</td>\n",
       "      <td>5827</td>\n",
       "      <td>2</td>\n",
       "    </tr>\n",
       "    <tr>\n",
       "      <th>12</th>\n",
       "      <td>Bangladesh</td>\n",
       "      <td>3408</td>\n",
       "      <td>2</td>\n",
       "    </tr>\n",
       "    <tr>\n",
       "      <th>127</th>\n",
       "      <td>Papua New Guinea</td>\n",
       "      <td>3218</td>\n",
       "      <td>2</td>\n",
       "    </tr>\n",
       "    <tr>\n",
       "      <th>54</th>\n",
       "      <td>Ethiopia</td>\n",
       "      <td>1614</td>\n",
       "      <td>3</td>\n",
       "    </tr>\n",
       "    <tr>\n",
       "      <th>124</th>\n",
       "      <td>Pakistan</td>\n",
       "      <td>3637</td>\n",
       "      <td>3</td>\n",
       "    </tr>\n",
       "  </tbody>\n",
       "</table>\n",
       "</div>"
      ],
      "text/plain": [
       "               country  GDP (£)  Health_exp (Facilities)\n",
       "23   Brunei Darussalam    46344                        2\n",
       "45            Djibouti     4001                        2\n",
       "133              Qatar    69813                        2\n",
       "38         Congo, Rep.     2998                        2\n",
       "17               Benin     2426                        2\n",
       "89             Lao PDR     5827                        2\n",
       "12          Bangladesh     3408                        2\n",
       "127   Papua New Guinea     3218                        2\n",
       "54            Ethiopia     1614                        3\n",
       "124           Pakistan     3637                        3"
      ]
     },
     "execution_count": 10,
     "metadata": {},
     "output_type": "execute_result"
    }
   ],
   "source": [
    "# the 10 countries with lowest health expenditure\n",
    "gdpVsHealth.sort_values(HEALTH).head(10)"
   ]
  },
  {
   "cell_type": "markdown",
   "id": "bba9327b",
   "metadata": {},
   "source": [
    "## Conclusions\n",
    "To sum up, there is no strong correlation between a country's wealth and the health expenditure of its inhabitants: there is often a wide variation of health expenditure for countries with similar GDP, countries with the lowest health expenditure are not the poorest countries, and countries with the highest expenditure are not the richest countries. Nevertheless there is some relationship, because the vast majority of countries with a health expenditure below 10 facilities is on the left half of the scatterplot."
   ]
  },
  {
   "cell_type": "code",
   "execution_count": null,
   "id": "2e49520f",
   "metadata": {},
   "outputs": [],
   "source": []
  }
 ],
 "metadata": {
  "kernelspec": {
   "display_name": "Python 3",
   "language": "python",
   "name": "python3"
  },
  "language_info": {
   "codemirror_mode": {
    "name": "ipython",
    "version": 3
   },
   "file_extension": ".py",
   "mimetype": "text/x-python",
   "name": "python",
   "nbconvert_exporter": "python",
   "pygments_lexer": "ipython3",
   "version": "3.8.8"
  }
 },
 "nbformat": 4,
 "nbformat_minor": 5
}
