{
 "cells": [
  {
   "cell_type": "markdown",
   "metadata": {},
   "source": [
    "# Project: GDP Per Capita and Number of Infant Deaths\n",
    "\n",
    "GDP per capita in current 'international dollarsGDP per capita (PPP based) is gross domestic product converted to international dollars using purchasing power parity rates and divided by total population. In this project, my aim is to discover if GDP per capita income is related to number of infant mortality or if there is no relation between them.  "
   ]
  },
  {
   "cell_type": "markdown",
   "metadata": {},
   "source": [
    "## Getting the Data\n",
    "\n",
    "My two datasets were gotten from World bank's databank using the code indicator. The data for GDP per capita is available at <a>\"https://data.worldbank.org/indicator/NY.GDP.PCAP.PP.CD\"</a> and the data for number of infant death is available at  <a>\"https://data.worldbank.org/indicator/SH.DTH.IMRT?view=chart\"</a>"
   ]
  },
  {
   "cell_type": "code",
   "execution_count": 1,
   "metadata": {},
   "outputs": [],
   "source": [
    "import warnings\n",
    "warnings.simplefilter('ignore', FutureWarning)\n",
    "\n",
    "import pandas as pd"
   ]
  },
  {
   "cell_type": "code",
   "execution_count": 2,
   "metadata": {},
   "outputs": [],
   "source": [
    "GDP_IND = 'NY.GDP.PCAP.PP.CD'\n",
    "MORT_IND = 'SH.DTH.IMRT'"
   ]
  },
  {
   "cell_type": "code",
   "execution_count": 3,
   "metadata": {},
   "outputs": [],
   "source": [
    "if pd.__version__.startswith('0.23'):\n",
    "    # this solves an incompatibility between pandas 0.23 and datareader 0.6\n",
    "    # taken from https://stackoverflow.com/questions/50394873/\n",
    "    core.common.is_list_like = api.types.is_list_like\n",
    "\n",
    "from pandas_datareader.wb import download\n",
    "\n",
    "YEAR = 2019\n",
    "gdpWB = download(indicator=GDP_IND, country='all', start=YEAR, end=YEAR)\n",
    "mortWB = download(indicator=MORT_IND, country='all', start=YEAR, end=YEAR)"
   ]
  },
  {
   "cell_type": "code",
   "execution_count": 4,
   "metadata": {},
   "outputs": [
    {
     "data": {
      "text/html": [
       "<div>\n",
       "<style scoped>\n",
       "    .dataframe tbody tr th:only-of-type {\n",
       "        vertical-align: middle;\n",
       "    }\n",
       "\n",
       "    .dataframe tbody tr th {\n",
       "        vertical-align: top;\n",
       "    }\n",
       "\n",
       "    .dataframe thead th {\n",
       "        text-align: right;\n",
       "    }\n",
       "</style>\n",
       "<table border=\"1\" class=\"dataframe\">\n",
       "  <thead>\n",
       "    <tr style=\"text-align: right;\">\n",
       "      <th></th>\n",
       "      <th></th>\n",
       "      <th>NY.GDP.PCAP.PP.CD</th>\n",
       "    </tr>\n",
       "    <tr>\n",
       "      <th>country</th>\n",
       "      <th>year</th>\n",
       "      <th></th>\n",
       "    </tr>\n",
       "  </thead>\n",
       "  <tbody>\n",
       "    <tr>\n",
       "      <th>Arab World</th>\n",
       "      <th>2019</th>\n",
       "      <td>15256.338996</td>\n",
       "    </tr>\n",
       "    <tr>\n",
       "      <th>Caribbean small states</th>\n",
       "      <th>2019</th>\n",
       "      <td>16550.859093</td>\n",
       "    </tr>\n",
       "    <tr>\n",
       "      <th>Central Europe and the Baltics</th>\n",
       "      <th>2019</th>\n",
       "      <td>34113.571814</td>\n",
       "    </tr>\n",
       "    <tr>\n",
       "      <th>Early-demographic dividend</th>\n",
       "      <th>2019</th>\n",
       "      <td>9693.772411</td>\n",
       "    </tr>\n",
       "    <tr>\n",
       "      <th>East Asia &amp; Pacific</th>\n",
       "      <th>2019</th>\n",
       "      <td>18400.413124</td>\n",
       "    </tr>\n",
       "  </tbody>\n",
       "</table>\n",
       "</div>"
      ],
      "text/plain": [
       "                                     NY.GDP.PCAP.PP.CD\n",
       "country                        year                   \n",
       "Arab World                     2019       15256.338996\n",
       "Caribbean small states         2019       16550.859093\n",
       "Central Europe and the Baltics 2019       34113.571814\n",
       "Early-demographic dividend     2019        9693.772411\n",
       "East Asia & Pacific            2019       18400.413124"
      ]
     },
     "execution_count": 4,
     "metadata": {},
     "output_type": "execute_result"
    }
   ],
   "source": [
    "gdpWB.head()"
   ]
  },
  {
   "cell_type": "code",
   "execution_count": 5,
   "metadata": {},
   "outputs": [
    {
     "data": {
      "text/html": [
       "<div>\n",
       "<style scoped>\n",
       "    .dataframe tbody tr th:only-of-type {\n",
       "        vertical-align: middle;\n",
       "    }\n",
       "\n",
       "    .dataframe tbody tr th {\n",
       "        vertical-align: top;\n",
       "    }\n",
       "\n",
       "    .dataframe thead th {\n",
       "        text-align: right;\n",
       "    }\n",
       "</style>\n",
       "<table border=\"1\" class=\"dataframe\">\n",
       "  <thead>\n",
       "    <tr style=\"text-align: right;\">\n",
       "      <th></th>\n",
       "      <th></th>\n",
       "      <th>SH.DTH.IMRT</th>\n",
       "    </tr>\n",
       "    <tr>\n",
       "      <th>country</th>\n",
       "      <th>year</th>\n",
       "      <th></th>\n",
       "    </tr>\n",
       "  </thead>\n",
       "  <tbody>\n",
       "    <tr>\n",
       "      <th>Arab World</th>\n",
       "      <th>2019</th>\n",
       "      <td>273955.0</td>\n",
       "    </tr>\n",
       "    <tr>\n",
       "      <th>Caribbean small states</th>\n",
       "      <th>2019</th>\n",
       "      <td>1703.0</td>\n",
       "    </tr>\n",
       "    <tr>\n",
       "      <th>Central Europe and the Baltics</th>\n",
       "      <th>2019</th>\n",
       "      <td>3982.0</td>\n",
       "    </tr>\n",
       "    <tr>\n",
       "      <th>Early-demographic dividend</th>\n",
       "      <th>2019</th>\n",
       "      <td>1800833.0</td>\n",
       "    </tr>\n",
       "    <tr>\n",
       "      <th>East Asia &amp; Pacific</th>\n",
       "      <th>2019</th>\n",
       "      <td>360014.0</td>\n",
       "    </tr>\n",
       "  </tbody>\n",
       "</table>\n",
       "</div>"
      ],
      "text/plain": [
       "                                     SH.DTH.IMRT\n",
       "country                        year             \n",
       "Arab World                     2019     273955.0\n",
       "Caribbean small states         2019       1703.0\n",
       "Central Europe and the Baltics 2019       3982.0\n",
       "Early-demographic dividend     2019    1800833.0\n",
       "East Asia & Pacific            2019     360014.0"
      ]
     },
     "execution_count": 5,
     "metadata": {},
     "output_type": "execute_result"
    }
   ],
   "source": [
    "mortWB.head()"
   ]
  },
  {
   "cell_type": "code",
   "execution_count": 6,
   "metadata": {},
   "outputs": [],
   "source": [
    "gdp_ppp = gdpWB.reset_index()"
   ]
  },
  {
   "cell_type": "code",
   "execution_count": 7,
   "metadata": {},
   "outputs": [],
   "source": [
    "childmort = mortWB.reset_index()"
   ]
  },
  {
   "cell_type": "markdown",
   "metadata": {},
   "source": [
    "### Cleaning and Transforming The Data"
   ]
  },
  {
   "cell_type": "code",
   "execution_count": 8,
   "metadata": {},
   "outputs": [],
   "source": [
    "#removing unwanted and empty rows\n",
    "\n",
    "gdp_ppp = gdp_ppp[47:].dropna()\n",
    "childmort = childmort[47:].dropna()"
   ]
  },
  {
   "cell_type": "code",
   "execution_count": 9,
   "metadata": {},
   "outputs": [
    {
     "data": {
      "text/html": [
       "<div>\n",
       "<style scoped>\n",
       "    .dataframe tbody tr th:only-of-type {\n",
       "        vertical-align: middle;\n",
       "    }\n",
       "\n",
       "    .dataframe tbody tr th {\n",
       "        vertical-align: top;\n",
       "    }\n",
       "\n",
       "    .dataframe thead th {\n",
       "        text-align: right;\n",
       "    }\n",
       "</style>\n",
       "<table border=\"1\" class=\"dataframe\">\n",
       "  <thead>\n",
       "    <tr style=\"text-align: right;\">\n",
       "      <th></th>\n",
       "      <th>country</th>\n",
       "      <th>year</th>\n",
       "      <th>SH.DTH.IMRT</th>\n",
       "    </tr>\n",
       "  </thead>\n",
       "  <tbody>\n",
       "    <tr>\n",
       "      <th>47</th>\n",
       "      <td>Afghanistan</td>\n",
       "      <td>2019</td>\n",
       "      <td>55797.0</td>\n",
       "    </tr>\n",
       "    <tr>\n",
       "      <th>48</th>\n",
       "      <td>Albania</td>\n",
       "      <td>2019</td>\n",
       "      <td>290.0</td>\n",
       "    </tr>\n",
       "    <tr>\n",
       "      <th>49</th>\n",
       "      <td>Algeria</td>\n",
       "      <td>2019</td>\n",
       "      <td>20237.0</td>\n",
       "    </tr>\n",
       "    <tr>\n",
       "      <th>51</th>\n",
       "      <td>Andorra</td>\n",
       "      <td>2019</td>\n",
       "      <td>2.0</td>\n",
       "    </tr>\n",
       "    <tr>\n",
       "      <th>52</th>\n",
       "      <td>Angola</td>\n",
       "      <td>2019</td>\n",
       "      <td>63216.0</td>\n",
       "    </tr>\n",
       "  </tbody>\n",
       "</table>\n",
       "</div>"
      ],
      "text/plain": [
       "        country  year  SH.DTH.IMRT\n",
       "47  Afghanistan  2019      55797.0\n",
       "48      Albania  2019        290.0\n",
       "49      Algeria  2019      20237.0\n",
       "51      Andorra  2019          2.0\n",
       "52       Angola  2019      63216.0"
      ]
     },
     "execution_count": 9,
     "metadata": {},
     "output_type": "execute_result"
    }
   ],
   "source": [
    "childmort.head()"
   ]
  },
  {
   "cell_type": "code",
   "execution_count": 10,
   "metadata": {},
   "outputs": [
    {
     "data": {
      "text/html": [
       "<div>\n",
       "<style scoped>\n",
       "    .dataframe tbody tr th:only-of-type {\n",
       "        vertical-align: middle;\n",
       "    }\n",
       "\n",
       "    .dataframe tbody tr th {\n",
       "        vertical-align: top;\n",
       "    }\n",
       "\n",
       "    .dataframe thead th {\n",
       "        text-align: right;\n",
       "    }\n",
       "</style>\n",
       "<table border=\"1\" class=\"dataframe\">\n",
       "  <thead>\n",
       "    <tr style=\"text-align: right;\">\n",
       "      <th></th>\n",
       "      <th>country</th>\n",
       "      <th>year</th>\n",
       "      <th>NY.GDP.PCAP.PP.CD</th>\n",
       "    </tr>\n",
       "  </thead>\n",
       "  <tbody>\n",
       "    <tr>\n",
       "      <th>47</th>\n",
       "      <td>Afghanistan</td>\n",
       "      <td>2019</td>\n",
       "      <td>2156.419482</td>\n",
       "    </tr>\n",
       "    <tr>\n",
       "      <th>48</th>\n",
       "      <td>Albania</td>\n",
       "      <td>2019</td>\n",
       "      <td>14224.098074</td>\n",
       "    </tr>\n",
       "    <tr>\n",
       "      <th>49</th>\n",
       "      <td>Algeria</td>\n",
       "      <td>2019</td>\n",
       "      <td>12019.928356</td>\n",
       "    </tr>\n",
       "    <tr>\n",
       "      <th>52</th>\n",
       "      <td>Angola</td>\n",
       "      <td>2019</td>\n",
       "      <td>6965.511374</td>\n",
       "    </tr>\n",
       "    <tr>\n",
       "      <th>53</th>\n",
       "      <td>Antigua and Barbuda</td>\n",
       "      <td>2019</td>\n",
       "      <td>22879.766094</td>\n",
       "    </tr>\n",
       "  </tbody>\n",
       "</table>\n",
       "</div>"
      ],
      "text/plain": [
       "                country  year  NY.GDP.PCAP.PP.CD\n",
       "47          Afghanistan  2019        2156.419482\n",
       "48              Albania  2019       14224.098074\n",
       "49              Algeria  2019       12019.928356\n",
       "52               Angola  2019        6965.511374\n",
       "53  Antigua and Barbuda  2019       22879.766094"
      ]
     },
     "execution_count": 10,
     "metadata": {},
     "output_type": "execute_result"
    }
   ],
   "source": [
    "gdp_ppp.head()"
   ]
  },
  {
   "cell_type": "markdown",
   "metadata": {},
   "source": [
    "My data for GPD is already in international dollars which is a good thing but for easy readability, I will round up the data to the nearest whole numbers. Then format infant mortality number column to integers. "
   ]
  },
  {
   "cell_type": "code",
   "execution_count": 13,
   "metadata": {},
   "outputs": [
    {
     "data": {
      "text/html": [
       "<div>\n",
       "<style scoped>\n",
       "    .dataframe tbody tr th:only-of-type {\n",
       "        vertical-align: middle;\n",
       "    }\n",
       "\n",
       "    .dataframe tbody tr th {\n",
       "        vertical-align: top;\n",
       "    }\n",
       "\n",
       "    .dataframe thead th {\n",
       "        text-align: right;\n",
       "    }\n",
       "</style>\n",
       "<table border=\"1\" class=\"dataframe\">\n",
       "  <thead>\n",
       "    <tr style=\"text-align: right;\">\n",
       "      <th></th>\n",
       "      <th>country</th>\n",
       "      <th>year</th>\n",
       "      <th>NY.GDP.PCAP.PP.CD</th>\n",
       "      <th>GDP (Int $)</th>\n",
       "    </tr>\n",
       "  </thead>\n",
       "  <tbody>\n",
       "    <tr>\n",
       "      <th>47</th>\n",
       "      <td>Afghanistan</td>\n",
       "      <td>2019</td>\n",
       "      <td>2156.419482</td>\n",
       "      <td>2156</td>\n",
       "    </tr>\n",
       "    <tr>\n",
       "      <th>48</th>\n",
       "      <td>Albania</td>\n",
       "      <td>2019</td>\n",
       "      <td>14224.098074</td>\n",
       "      <td>14224</td>\n",
       "    </tr>\n",
       "    <tr>\n",
       "      <th>49</th>\n",
       "      <td>Algeria</td>\n",
       "      <td>2019</td>\n",
       "      <td>12019.928356</td>\n",
       "      <td>12020</td>\n",
       "    </tr>\n",
       "    <tr>\n",
       "      <th>52</th>\n",
       "      <td>Angola</td>\n",
       "      <td>2019</td>\n",
       "      <td>6965.511374</td>\n",
       "      <td>6966</td>\n",
       "    </tr>\n",
       "    <tr>\n",
       "      <th>53</th>\n",
       "      <td>Antigua and Barbuda</td>\n",
       "      <td>2019</td>\n",
       "      <td>22879.766094</td>\n",
       "      <td>22880</td>\n",
       "    </tr>\n",
       "  </tbody>\n",
       "</table>\n",
       "</div>"
      ],
      "text/plain": [
       "                country  year  NY.GDP.PCAP.PP.CD  GDP (Int $)\n",
       "47          Afghanistan  2019        2156.419482         2156\n",
       "48              Albania  2019       14224.098074        14224\n",
       "49              Algeria  2019       12019.928356        12020\n",
       "52               Angola  2019        6965.511374         6966\n",
       "53  Antigua and Barbuda  2019       22879.766094        22880"
      ]
     },
     "execution_count": 13,
     "metadata": {},
     "output_type": "execute_result"
    }
   ],
   "source": [
    "def roundToMillions(value):\n",
    "    return round(value)                 \n",
    "\n",
    "GDP = 'GDP (Int $)'            #International dollars\n",
    "gdp_ppp[GDP] = gdp_ppp[GDP_IND].apply(roundToMillions)\n",
    "gdp_ppp.head()"
   ]
  },
  {
   "cell_type": "code",
   "execution_count": 14,
   "metadata": {},
   "outputs": [
    {
     "data": {
      "text/html": [
       "<div>\n",
       "<style scoped>\n",
       "    .dataframe tbody tr th:only-of-type {\n",
       "        vertical-align: middle;\n",
       "    }\n",
       "\n",
       "    .dataframe tbody tr th {\n",
       "        vertical-align: top;\n",
       "    }\n",
       "\n",
       "    .dataframe thead th {\n",
       "        text-align: right;\n",
       "    }\n",
       "</style>\n",
       "<table border=\"1\" class=\"dataframe\">\n",
       "  <thead>\n",
       "    <tr style=\"text-align: right;\">\n",
       "      <th></th>\n",
       "      <th>country</th>\n",
       "      <th>GDP (Int $)</th>\n",
       "    </tr>\n",
       "  </thead>\n",
       "  <tbody>\n",
       "    <tr>\n",
       "      <th>47</th>\n",
       "      <td>Afghanistan</td>\n",
       "      <td>2156</td>\n",
       "    </tr>\n",
       "    <tr>\n",
       "      <th>48</th>\n",
       "      <td>Albania</td>\n",
       "      <td>14224</td>\n",
       "    </tr>\n",
       "    <tr>\n",
       "      <th>49</th>\n",
       "      <td>Algeria</td>\n",
       "      <td>12020</td>\n",
       "    </tr>\n",
       "    <tr>\n",
       "      <th>52</th>\n",
       "      <td>Angola</td>\n",
       "      <td>6966</td>\n",
       "    </tr>\n",
       "    <tr>\n",
       "      <th>53</th>\n",
       "      <td>Antigua and Barbuda</td>\n",
       "      <td>22880</td>\n",
       "    </tr>\n",
       "  </tbody>\n",
       "</table>\n",
       "</div>"
      ],
      "text/plain": [
       "                country  GDP (Int $)\n",
       "47          Afghanistan         2156\n",
       "48              Albania        14224\n",
       "49              Algeria        12020\n",
       "52               Angola         6966\n",
       "53  Antigua and Barbuda        22880"
      ]
     },
     "execution_count": 14,
     "metadata": {},
     "output_type": "execute_result"
    }
   ],
   "source": [
    "#To remove unwanted rows\n",
    "\n",
    "COUNTRY = 'country'\n",
    "headings = [COUNTRY, GDP]\n",
    "gdp_ppp = gdp_ppp[headings]\n",
    "gdp_ppp.head()"
   ]
  },
  {
   "cell_type": "code",
   "execution_count": 15,
   "metadata": {},
   "outputs": [
    {
     "data": {
      "text/html": [
       "<div>\n",
       "<style scoped>\n",
       "    .dataframe tbody tr th:only-of-type {\n",
       "        vertical-align: middle;\n",
       "    }\n",
       "\n",
       "    .dataframe tbody tr th {\n",
       "        vertical-align: top;\n",
       "    }\n",
       "\n",
       "    .dataframe thead th {\n",
       "        text-align: right;\n",
       "    }\n",
       "</style>\n",
       "<table border=\"1\" class=\"dataframe\">\n",
       "  <thead>\n",
       "    <tr style=\"text-align: right;\">\n",
       "      <th></th>\n",
       "      <th>country</th>\n",
       "      <th>Infant Mortality (Number)</th>\n",
       "    </tr>\n",
       "  </thead>\n",
       "  <tbody>\n",
       "    <tr>\n",
       "      <th>47</th>\n",
       "      <td>Afghanistan</td>\n",
       "      <td>55797</td>\n",
       "    </tr>\n",
       "    <tr>\n",
       "      <th>48</th>\n",
       "      <td>Albania</td>\n",
       "      <td>290</td>\n",
       "    </tr>\n",
       "    <tr>\n",
       "      <th>49</th>\n",
       "      <td>Algeria</td>\n",
       "      <td>20237</td>\n",
       "    </tr>\n",
       "    <tr>\n",
       "      <th>51</th>\n",
       "      <td>Andorra</td>\n",
       "      <td>2</td>\n",
       "    </tr>\n",
       "    <tr>\n",
       "      <th>52</th>\n",
       "      <td>Angola</td>\n",
       "      <td>63216</td>\n",
       "    </tr>\n",
       "  </tbody>\n",
       "</table>\n",
       "</div>"
      ],
      "text/plain": [
       "        country  Infant Mortality (Number)\n",
       "47  Afghanistan                      55797\n",
       "48      Albania                        290\n",
       "49      Algeria                      20237\n",
       "51      Andorra                          2\n",
       "52       Angola                      63216"
      ]
     },
     "execution_count": 15,
     "metadata": {},
     "output_type": "execute_result"
    }
   ],
   "source": [
    "Death_NUM = 'Infant Mortality (Number)'\n",
    "childmort[Death_NUM] = childmort[MORT_IND].apply(round)\n",
    "headings = [COUNTRY, Death_NUM]\n",
    "childmort = childmort[headings]\n",
    "childmort.head()"
   ]
  },
  {
   "cell_type": "markdown",
   "metadata": {},
   "source": [
    "### Joining The Data\n",
    "\n",
    "I will merge the tables through an inner join on the common 'country' column."
   ]
  },
  {
   "cell_type": "code",
   "execution_count": 16,
   "metadata": {},
   "outputs": [
    {
     "data": {
      "text/html": [
       "<div>\n",
       "<style scoped>\n",
       "    .dataframe tbody tr th:only-of-type {\n",
       "        vertical-align: middle;\n",
       "    }\n",
       "\n",
       "    .dataframe tbody tr th {\n",
       "        vertical-align: top;\n",
       "    }\n",
       "\n",
       "    .dataframe thead th {\n",
       "        text-align: right;\n",
       "    }\n",
       "</style>\n",
       "<table border=\"1\" class=\"dataframe\">\n",
       "  <thead>\n",
       "    <tr style=\"text-align: right;\">\n",
       "      <th></th>\n",
       "      <th>country</th>\n",
       "      <th>GDP (Int $)</th>\n",
       "      <th>Infant Mortality (Number)</th>\n",
       "    </tr>\n",
       "  </thead>\n",
       "  <tbody>\n",
       "    <tr>\n",
       "      <th>0</th>\n",
       "      <td>Afghanistan</td>\n",
       "      <td>2156</td>\n",
       "      <td>55797</td>\n",
       "    </tr>\n",
       "    <tr>\n",
       "      <th>1</th>\n",
       "      <td>Albania</td>\n",
       "      <td>14224</td>\n",
       "      <td>290</td>\n",
       "    </tr>\n",
       "    <tr>\n",
       "      <th>2</th>\n",
       "      <td>Algeria</td>\n",
       "      <td>12020</td>\n",
       "      <td>20237</td>\n",
       "    </tr>\n",
       "    <tr>\n",
       "      <th>3</th>\n",
       "      <td>Angola</td>\n",
       "      <td>6966</td>\n",
       "      <td>63216</td>\n",
       "    </tr>\n",
       "    <tr>\n",
       "      <th>4</th>\n",
       "      <td>Antigua and Barbuda</td>\n",
       "      <td>22880</td>\n",
       "      <td>9</td>\n",
       "    </tr>\n",
       "  </tbody>\n",
       "</table>\n",
       "</div>"
      ],
      "text/plain": [
       "               country  GDP (Int $)  Infant Mortality (Number)\n",
       "0          Afghanistan         2156                      55797\n",
       "1              Albania        14224                        290\n",
       "2              Algeria        12020                      20237\n",
       "3               Angola         6966                      63216\n",
       "4  Antigua and Barbuda        22880                          9"
      ]
     },
     "execution_count": 16,
     "metadata": {},
     "output_type": "execute_result"
    }
   ],
   "source": [
    "gdp_pppVschildmort = pd.merge(gdp_ppp, childmort, on=COUNTRY, how='inner')\n",
    "gdp_pppVschildmort.head()"
   ]
  },
  {
   "cell_type": "markdown",
   "metadata": {},
   "source": [
    "### Calculating The Correlation \n",
    "\n",
    "Using Spearman rank correlation, I will measure if the infant death number of a country correlate with the GDP per capita of that country. If there is a relationship btween these. Spearman rank correlation is a number from -1 (perfect inverse rank correlation: if one indicator increases, the other decreases) to 1 (perfect direct rank correlation: if one indicator increases, so does the other), with 0 meaning there is no rank correlation. A perfect correlation doesn't imply any cause-effect relation between the two indicators. A p-value below 0.05 means the correlation is statistically significant."
   ]
  },
  {
   "cell_type": "code",
   "execution_count": 17,
   "metadata": {},
   "outputs": [
    {
     "name": "stdout",
     "output_type": "stream",
     "text": [
      "The correlation is -0.5839401625701576\n",
      "It is statistically significant.\n"
     ]
    }
   ],
   "source": [
    "from scipy.stats import spearmanr\n",
    "\n",
    "gdpColumn = gdp_pppVschildmort[GDP]\n",
    "mortalityColumn = gdp_pppVschildmort[Death_NUM]\n",
    "(correlation, pValue) = spearmanr(gdpColumn, mortalityColumn)\n",
    "print('The correlation is', correlation)\n",
    "if pValue < 0.05:\n",
    "    print('It is statistically significant.')\n",
    "else:\n",
    "    print('It is not statistically significant.')"
   ]
  },
  {
   "cell_type": "markdown",
   "metadata": {},
   "source": [
    "From the above, the correlation is -0.5 and from the spearman rank correlation, it is statistically significant. Though a weak one but it signifies that as the Gross Domestice Product per Capita(ppp) of a country increases, the infant death number decreases. \n",
    "\n",
    "Just to shed more light on this, lets visualize the data to understand this better. "
   ]
  },
  {
   "cell_type": "markdown",
   "metadata": {},
   "source": [
    "### Visualizing The Data "
   ]
  },
  {
   "cell_type": "markdown",
   "metadata": {},
   "source": [
    "Measures of correlation can be misleading, so it is best to see the overall picture with a scatterplot. The GDP axis uses a logarithmic scale to better display the vast range of GDP values, from a few million to several billion (million of million) pounds."
   ]
  },
  {
   "cell_type": "code",
   "execution_count": 19,
   "metadata": {},
   "outputs": [
    {
     "data": {
      "text/plain": [
       "<AxesSubplot:xlabel='GDP (Int $)', ylabel='Infant Mortality (Number)'>"
      ]
     },
     "execution_count": 19,
     "metadata": {},
     "output_type": "execute_result"
    },
    {
     "data": {
      "image/png": "[encoded data removed]",
      "text/plain": [
       "<Figure size 720x288 with 1 Axes>"
      ]
     },
     "metadata": {
      "needs_background": "light"
     },
     "output_type": "display_data"
    }
   ],
   "source": [
    "%matplotlib inline\n",
    "gdp_pppVschildmort.plot(x=GDP, y=Death_NUM, kind='scatter', grid=True, logx=True, figsize=(10, 4))"
   ]
  },
  {
   "cell_type": "markdown",
   "metadata": {},
   "source": [
    "The above plot shows GDP per capita income has a little relation or correlation with child death number. Looking at the graph, countries with GDP lesser than 104 had more child infant deaths above 100000, also above the first line. Unlike countries with GDP per capita 104 and above, that seemed to have child death number of almost at the same line with few deaths above the line.\n",
    "\n",
    "Now, let's compare 10 countries with the lowest GDP per capita to 10 countries with the lowest infact death number:"
   ]
  },
  {
   "cell_type": "code",
   "execution_count": 21,
   "metadata": {},
   "outputs": [
    {
     "data": {
      "text/html": [
       "<div>\n",
       "<style scoped>\n",
       "    .dataframe tbody tr th:only-of-type {\n",
       "        vertical-align: middle;\n",
       "    }\n",
       "\n",
       "    .dataframe tbody tr th {\n",
       "        vertical-align: top;\n",
       "    }\n",
       "\n",
       "    .dataframe thead th {\n",
       "        text-align: right;\n",
       "    }\n",
       "</style>\n",
       "<table border=\"1\" class=\"dataframe\">\n",
       "  <thead>\n",
       "    <tr style=\"text-align: right;\">\n",
       "      <th></th>\n",
       "      <th>country</th>\n",
       "      <th>GDP (Int $)</th>\n",
       "      <th>Infant Mortality (Number)</th>\n",
       "    </tr>\n",
       "  </thead>\n",
       "  <tbody>\n",
       "    <tr>\n",
       "      <th>26</th>\n",
       "      <td>Burundi</td>\n",
       "      <td>785</td>\n",
       "      <td>17413</td>\n",
       "    </tr>\n",
       "    <tr>\n",
       "      <th>31</th>\n",
       "      <td>Central African Republic</td>\n",
       "      <td>987</td>\n",
       "      <td>13322</td>\n",
       "    </tr>\n",
       "    <tr>\n",
       "      <th>98</th>\n",
       "      <td>Malawi</td>\n",
       "      <td>1107</td>\n",
       "      <td>19238</td>\n",
       "    </tr>\n",
       "    <tr>\n",
       "      <th>37</th>\n",
       "      <td>Congo, Dem. Rep.</td>\n",
       "      <td>1147</td>\n",
       "      <td>228831</td>\n",
       "    </tr>\n",
       "    <tr>\n",
       "      <th>118</th>\n",
       "      <td>Niger</td>\n",
       "      <td>1279</td>\n",
       "      <td>48796</td>\n",
       "    </tr>\n",
       "    <tr>\n",
       "      <th>110</th>\n",
       "      <td>Mozambique</td>\n",
       "      <td>1338</td>\n",
       "      <td>60805</td>\n",
       "    </tr>\n",
       "    <tr>\n",
       "      <th>93</th>\n",
       "      <td>Liberia</td>\n",
       "      <td>1491</td>\n",
       "      <td>9886</td>\n",
       "    </tr>\n",
       "    <tr>\n",
       "      <th>32</th>\n",
       "      <td>Chad</td>\n",
       "      <td>1650</td>\n",
       "      <td>45065</td>\n",
       "    </tr>\n",
       "    <tr>\n",
       "      <th>161</th>\n",
       "      <td>Togo</td>\n",
       "      <td>1667</td>\n",
       "      <td>11947</td>\n",
       "    </tr>\n",
       "    <tr>\n",
       "      <th>97</th>\n",
       "      <td>Madagascar</td>\n",
       "      <td>1720</td>\n",
       "      <td>31456</td>\n",
       "    </tr>\n",
       "  </tbody>\n",
       "</table>\n",
       "</div>"
      ],
      "text/plain": [
       "                      country  GDP (Int $)  Infant Mortality (Number)\n",
       "26                    Burundi          785                      17413\n",
       "31   Central African Republic          987                      13322\n",
       "98                     Malawi         1107                      19238\n",
       "37           Congo, Dem. Rep.         1147                     228831\n",
       "118                     Niger         1279                      48796\n",
       "110                Mozambique         1338                      60805\n",
       "93                    Liberia         1491                       9886\n",
       "32                       Chad         1650                      45065\n",
       "161                      Togo         1667                      11947\n",
       "97                 Madagascar         1720                      31456"
      ]
     },
     "execution_count": 21,
     "metadata": {},
     "output_type": "execute_result"
    }
   ],
   "source": [
    "# the 10 countries with lowest GDP\n",
    "gdp_pppVschildmort.sort_values(GDP).head(10)"
   ]
  },
  {
   "cell_type": "markdown",
   "metadata": {},
   "source": [
    "This table above shows the countries with lowest GDP, and interestingly they have all high child death number and they all African country. This data somewhat supports my spearman rank correlation that tends towards a perfectly inverse rank correlation. Could it mean that African factors contribute to child mortality?. I'll say yes together with GDP per capita as indicated above.\n",
    "\n",
    "Lets take a look at the countries with lowest child death number"
   ]
  },
  {
   "cell_type": "code",
   "execution_count": 22,
   "metadata": {},
   "outputs": [
    {
     "data": {
      "text/html": [
       "<div>\n",
       "<style scoped>\n",
       "    .dataframe tbody tr th:only-of-type {\n",
       "        vertical-align: middle;\n",
       "    }\n",
       "\n",
       "    .dataframe tbody tr th {\n",
       "        vertical-align: top;\n",
       "    }\n",
       "\n",
       "    .dataframe thead th {\n",
       "        text-align: right;\n",
       "    }\n",
       "</style>\n",
       "<table border=\"1\" class=\"dataframe\">\n",
       "  <thead>\n",
       "    <tr style=\"text-align: right;\">\n",
       "      <th></th>\n",
       "      <th>country</th>\n",
       "      <th>GDP (Int $)</th>\n",
       "      <th>Infant Mortality (Number)</th>\n",
       "    </tr>\n",
       "  </thead>\n",
       "  <tbody>\n",
       "    <tr>\n",
       "      <th>124</th>\n",
       "      <td>Palau</td>\n",
       "      <td>18357</td>\n",
       "      <td>4</td>\n",
       "    </tr>\n",
       "    <tr>\n",
       "      <th>166</th>\n",
       "      <td>Tuvalu</td>\n",
       "      <td>4471</td>\n",
       "      <td>6</td>\n",
       "    </tr>\n",
       "    <tr>\n",
       "      <th>72</th>\n",
       "      <td>Iceland</td>\n",
       "      <td>58513</td>\n",
       "      <td>6</td>\n",
       "    </tr>\n",
       "    <tr>\n",
       "      <th>113</th>\n",
       "      <td>Nauru</td>\n",
       "      <td>12095</td>\n",
       "      <td>8</td>\n",
       "    </tr>\n",
       "    <tr>\n",
       "      <th>4</th>\n",
       "      <td>Antigua and Barbuda</td>\n",
       "      <td>22880</td>\n",
       "      <td>9</td>\n",
       "    </tr>\n",
       "    <tr>\n",
       "      <th>150</th>\n",
       "      <td>St. Kitts and Nevis</td>\n",
       "      <td>27608</td>\n",
       "      <td>9</td>\n",
       "    </tr>\n",
       "    <tr>\n",
       "      <th>96</th>\n",
       "      <td>Luxembourg</td>\n",
       "      <td>120962</td>\n",
       "      <td>14</td>\n",
       "    </tr>\n",
       "    <tr>\n",
       "      <th>108</th>\n",
       "      <td>Montenegro</td>\n",
       "      <td>23344</td>\n",
       "      <td>15</td>\n",
       "    </tr>\n",
       "    <tr>\n",
       "      <th>141</th>\n",
       "      <td>Seychelles</td>\n",
       "      <td>30517</td>\n",
       "      <td>20</td>\n",
       "    </tr>\n",
       "    <tr>\n",
       "      <th>152</th>\n",
       "      <td>St. Vincent and the Grenadines</td>\n",
       "      <td>13038</td>\n",
       "      <td>21</td>\n",
       "    </tr>\n",
       "  </tbody>\n",
       "</table>\n",
       "</div>"
      ],
      "text/plain": [
       "                            country  GDP (Int $)  Infant Mortality (Number)\n",
       "124                           Palau        18357                          4\n",
       "166                          Tuvalu         4471                          6\n",
       "72                          Iceland        58513                          6\n",
       "113                           Nauru        12095                          8\n",
       "4               Antigua and Barbuda        22880                          9\n",
       "150             St. Kitts and Nevis        27608                          9\n",
       "96                       Luxembourg       120962                         14\n",
       "108                      Montenegro        23344                         15\n",
       "141                      Seychelles        30517                         20\n",
       "152  St. Vincent and the Grenadines        13038                         21"
      ]
     },
     "execution_count": 22,
     "metadata": {},
     "output_type": "execute_result"
    }
   ],
   "source": [
    "gdp_pppVschildmort.sort_values(Death_NUM).head(10)"
   ]
  },
  {
   "cell_type": "markdown",
   "metadata": {},
   "source": [
    "From my table above, I can say that child death number is affected by a county's GDP per capita to a some extent. "
   ]
  },
  {
   "cell_type": "markdown",
   "metadata": {},
   "source": [
    "# Conclusion:\n",
    "\n",
    "GDP per capita  is one factor that affects child death number. There could be a whole lot of other factors, but from the analysis, GDP(PPP)- in one way or another affects citizens of a country and how they and the country are able to povide basic amentities for child care. \n",
    "\n",
    "To get more precise details other factors such as health care availability, security, etc can be put into consideratiion to measure the number of a country's child death number."
   ]
  },
  {
   "cell_type": "code",
   "execution_count": null,
   "metadata": {},
   "outputs": [],
   "source": []
  }
 ],
 "metadata": {
  "kernelspec": {
   "display_name": "Python 3",
   "language": "python",
   "name": "python3"
  },
  "language_info": {
   "codemirror_mode": {
    "name": "ipython",
    "version": 3
   },
   "file_extension": ".py",
   "mimetype": "text/x-python",
   "name": "python",
   "nbconvert_exporter": "python",
   "pygments_lexer": "ipython3",
   "version": "3.8.5"
  }
 },
 "nbformat": 4,
 "nbformat_minor": 4
}
