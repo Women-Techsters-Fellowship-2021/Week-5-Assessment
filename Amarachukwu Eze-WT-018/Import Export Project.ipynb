{
 "cells": [
  {
   "cell_type": "raw",
   "metadata": {},
   "source": [
    "A country's economy depends, sometimes heavily, on its exports and imports. The United Nations Comtrade database provides data on global trade. It will be used to analyse the UK's imports and exports of milk and cream in 2015:\n",
    "\n",
    "How much does the UK export and import and is the balance positive (more exports than imports)?\n",
    "Which are the main trading partners, i.e. from/to which countries does the UK import/export the most?\n",
    "Which are the regular customers, i.e. which countries buy milk from the UK every month?\n",
    "Which countries does the UK both import from and export to?"
   ]
  },
  {
   "cell_type": "code",
   "execution_count": 69,
   "metadata": {},
   "outputs": [],
   "source": [
    "import warnings\n",
    "warnings.simplefilter('ignore', FutureWarning)\n",
    "\n",
    "from pandas import *\n",
    "%matplotlib inline\n",
    "\n",
    "import matplotlib.pyplot as plt"
   ]
  },
  {
   "cell_type": "code",
   "execution_count": 70,
   "metadata": {},
   "outputs": [],
   "source": [
    "LOCATION = 'comtradee.csv'"
   ]
  },
  {
   "cell_type": "raw",
   "metadata": {},
   "source": [
    "Getting and preparing the data\n",
    "The data is obtained from the United Nations Comtrade website, by selecting the following configuration:\n",
    "\n",
    "Type of Product: goods\n",
    "Frequency: annual\n",
    "Periods: 2020\n",
    "Reporter: all\n",
    "Partners: World and USA\n",
    "Flows: imports, exports, re-imports and re-exports\n",
    "HS (as reported) commodity codes: TOTAL (All commodities, neither concentrated nor sweetened) and Not Total (Not All commodities, concentrated or sweetened)"
   ]
  },
  {
   "cell_type": "code",
   "execution_count": 71,
   "metadata": {},
   "outputs": [
    {
     "data": {
      "text/html": [
       "<div>\n",
       "<style scoped>\n",
       "    .dataframe tbody tr th:only-of-type {\n",
       "        vertical-align: middle;\n",
       "    }\n",
       "\n",
       "    .dataframe tbody tr th {\n",
       "        vertical-align: top;\n",
       "    }\n",
       "\n",
       "    .dataframe thead th {\n",
       "        text-align: right;\n",
       "    }\n",
       "</style>\n",
       "<table border=\"1\" class=\"dataframe\">\n",
       "  <thead>\n",
       "    <tr style=\"text-align: right;\">\n",
       "      <th></th>\n",
       "      <th>Classification</th>\n",
       "      <th>Year</th>\n",
       "      <th>Period</th>\n",
       "      <th>Period Desc.</th>\n",
       "      <th>Aggregate Level</th>\n",
       "      <th>Is Leaf Code</th>\n",
       "      <th>Trade Flow Code</th>\n",
       "      <th>Trade Flow</th>\n",
       "      <th>Reporter Code</th>\n",
       "      <th>Reporter</th>\n",
       "      <th>...</th>\n",
       "      <th>Qty</th>\n",
       "      <th>Alt Qty Unit Code</th>\n",
       "      <th>Alt Qty Unit</th>\n",
       "      <th>Alt Qty</th>\n",
       "      <th>Netweight (kg)</th>\n",
       "      <th>Gross weight (kg)</th>\n",
       "      <th>Trade Value (US$)</th>\n",
       "      <th>CIF Trade Value (US$)</th>\n",
       "      <th>FOB Trade Value (US$)</th>\n",
       "      <th>Flag</th>\n",
       "    </tr>\n",
       "  </thead>\n",
       "  <tbody>\n",
       "    <tr>\n",
       "      <th>202</th>\n",
       "      <td>H4</td>\n",
       "      <td>2020</td>\n",
       "      <td>2020</td>\n",
       "      <td>2020</td>\n",
       "      <td>0</td>\n",
       "      <td>0</td>\n",
       "      <td>1</td>\n",
       "      <td>Import</td>\n",
       "      <td>818</td>\n",
       "      <td>Egypt</td>\n",
       "      <td>...</td>\n",
       "      <td>0</td>\n",
       "      <td>NaN</td>\n",
       "      <td>NaN</td>\n",
       "      <td>NaN</td>\n",
       "      <td>NaN</td>\n",
       "      <td>NaN</td>\n",
       "      <td>6.027955e+10</td>\n",
       "      <td>NaN</td>\n",
       "      <td>NaN</td>\n",
       "      <td>4</td>\n",
       "    </tr>\n",
       "    <tr>\n",
       "      <th>203</th>\n",
       "      <td>H4</td>\n",
       "      <td>2020</td>\n",
       "      <td>2020</td>\n",
       "      <td>2020</td>\n",
       "      <td>0</td>\n",
       "      <td>0</td>\n",
       "      <td>2</td>\n",
       "      <td>Export</td>\n",
       "      <td>818</td>\n",
       "      <td>Egypt</td>\n",
       "      <td>...</td>\n",
       "      <td>0</td>\n",
       "      <td>NaN</td>\n",
       "      <td>NaN</td>\n",
       "      <td>NaN</td>\n",
       "      <td>NaN</td>\n",
       "      <td>NaN</td>\n",
       "      <td>2.681514e+10</td>\n",
       "      <td>NaN</td>\n",
       "      <td>NaN</td>\n",
       "      <td>4</td>\n",
       "    </tr>\n",
       "  </tbody>\n",
       "</table>\n",
       "<p>2 rows × 35 columns</p>\n",
       "</div>"
      ],
      "text/plain": [
       "    Classification  Year  Period  Period Desc.  Aggregate Level  Is Leaf Code  \\\n",
       "202             H4  2020    2020          2020                0             0   \n",
       "203             H4  2020    2020          2020                0             0   \n",
       "\n",
       "     Trade Flow Code Trade Flow  Reporter Code Reporter  ... Qty  \\\n",
       "202                1     Import            818    Egypt  ...   0   \n",
       "203                2     Export            818    Egypt  ...   0   \n",
       "\n",
       "     Alt Qty Unit Code Alt Qty Unit Alt Qty  Netweight (kg)  \\\n",
       "202                NaN          NaN     NaN             NaN   \n",
       "203                NaN          NaN     NaN             NaN   \n",
       "\n",
       "     Gross weight (kg)  Trade Value (US$)  CIF Trade Value (US$)  \\\n",
       "202                NaN       6.027955e+10                    NaN   \n",
       "203                NaN       2.681514e+10                    NaN   \n",
       "\n",
       "     FOB Trade Value (US$)  Flag  \n",
       "202                    NaN     4  \n",
       "203                    NaN     4  \n",
       "\n",
       "[2 rows x 35 columns]"
      ]
     },
     "execution_count": 71,
     "metadata": {},
     "output_type": "execute_result"
    }
   ],
   "source": [
    "transport = read_csv(LOCATION, dtype={'Commodity Code':str})\n",
    "transport.tail(2)"
   ]
  },
  {
   "cell_type": "code",
   "execution_count": 72,
   "metadata": {},
   "outputs": [
    {
     "data": {
      "text/html": [
       "<div>\n",
       "<style scoped>\n",
       "    .dataframe tbody tr th:only-of-type {\n",
       "        vertical-align: middle;\n",
       "    }\n",
       "\n",
       "    .dataframe tbody tr th {\n",
       "        vertical-align: top;\n",
       "    }\n",
       "\n",
       "    .dataframe thead th {\n",
       "        text-align: right;\n",
       "    }\n",
       "</style>\n",
       "<table border=\"1\" class=\"dataframe\">\n",
       "  <thead>\n",
       "    <tr style=\"text-align: right;\">\n",
       "      <th></th>\n",
       "      <th>Period</th>\n",
       "      <th>Reporter</th>\n",
       "      <th>Trade Flow</th>\n",
       "      <th>All Commodities</th>\n",
       "      <th>Trade Value (US$)</th>\n",
       "    </tr>\n",
       "  </thead>\n",
       "  <tbody>\n",
       "    <tr>\n",
       "      <th>0</th>\n",
       "      <td>2020</td>\n",
       "      <td>Albania</td>\n",
       "      <td>Import</td>\n",
       "      <td>All Commodities</td>\n",
       "      <td>5.602160e+09</td>\n",
       "    </tr>\n",
       "    <tr>\n",
       "      <th>1</th>\n",
       "      <td>2020</td>\n",
       "      <td>Albania</td>\n",
       "      <td>Export</td>\n",
       "      <td>All Commodities</td>\n",
       "      <td>2.514736e+09</td>\n",
       "    </tr>\n",
       "    <tr>\n",
       "      <th>2</th>\n",
       "      <td>2020</td>\n",
       "      <td>Azerbaijan</td>\n",
       "      <td>Import</td>\n",
       "      <td>All Commodities</td>\n",
       "      <td>1.072979e+10</td>\n",
       "    </tr>\n",
       "    <tr>\n",
       "      <th>3</th>\n",
       "      <td>2020</td>\n",
       "      <td>Azerbaijan</td>\n",
       "      <td>Export</td>\n",
       "      <td>All Commodities</td>\n",
       "      <td>1.374057e+10</td>\n",
       "    </tr>\n",
       "    <tr>\n",
       "      <th>4</th>\n",
       "      <td>2020</td>\n",
       "      <td>Argentina</td>\n",
       "      <td>Import</td>\n",
       "      <td>All Commodities</td>\n",
       "      <td>4.235551e+10</td>\n",
       "    </tr>\n",
       "  </tbody>\n",
       "</table>\n",
       "</div>"
      ],
      "text/plain": [
       "   Period    Reporter Trade Flow  All Commodities  Trade Value (US$)\n",
       "0    2020     Albania     Import  All Commodities       5.602160e+09\n",
       "1    2020     Albania     Export  All Commodities       2.514736e+09\n",
       "2    2020  Azerbaijan     Import  All Commodities       1.072979e+10\n",
       "3    2020  Azerbaijan     Export  All Commodities       1.374057e+10\n",
       "4    2020   Argentina     Import  All Commodities       4.235551e+10"
      ]
     },
     "execution_count": 72,
     "metadata": {},
     "output_type": "execute_result"
    }
   ],
   "source": [
    "def transportType(code):\n",
    "    if code == 'TOTAL': # total of all HS commodities\n",
    "        return 'All Commodities'\n",
    "    if code == 'Not Total': # concentrated or sweetened\n",
    "        return 'Not All commodities' \n",
    "    return 'All CPCs'\n",
    "\n",
    "COMMODITY = 'All Commodities'\n",
    "transport[COMMODITY] = transport['Commodity Code'].apply(transportType)\n",
    "MONTH = 'Period'\n",
    "REPORTER = 'Reporter'\n",
    "FLOW = 'Trade Flow'\n",
    "VALUE = 'Trade Value (US$)'\n",
    "headings = [MONTH, REPORTER, FLOW, COMMODITY, VALUE]\n",
    "transport = transport[headings]\n",
    "transport.head()"
   ]
  },
  {
   "cell_type": "code",
   "execution_count": 73,
   "metadata": {},
   "outputs": [
    {
     "data": {
      "text/html": [
       "<div>\n",
       "<style scoped>\n",
       "    .dataframe tbody tr th:only-of-type {\n",
       "        vertical-align: middle;\n",
       "    }\n",
       "\n",
       "    .dataframe tbody tr th {\n",
       "        vertical-align: top;\n",
       "    }\n",
       "\n",
       "    .dataframe thead th {\n",
       "        text-align: right;\n",
       "    }\n",
       "</style>\n",
       "<table border=\"1\" class=\"dataframe\">\n",
       "  <thead>\n",
       "    <tr style=\"text-align: right;\">\n",
       "      <th></th>\n",
       "      <th>Period</th>\n",
       "      <th>Reporter</th>\n",
       "      <th>Trade Flow</th>\n",
       "      <th>All Commodities</th>\n",
       "      <th>Trade Value (US$)</th>\n",
       "    </tr>\n",
       "  </thead>\n",
       "  <tbody>\n",
       "    <tr>\n",
       "      <th>0</th>\n",
       "      <td>2020</td>\n",
       "      <td>Albania</td>\n",
       "      <td>Import</td>\n",
       "      <td>All Commodities</td>\n",
       "      <td>5.602160e+09</td>\n",
       "    </tr>\n",
       "    <tr>\n",
       "      <th>1</th>\n",
       "      <td>2020</td>\n",
       "      <td>Albania</td>\n",
       "      <td>Export</td>\n",
       "      <td>All Commodities</td>\n",
       "      <td>2.514736e+09</td>\n",
       "    </tr>\n",
       "    <tr>\n",
       "      <th>2</th>\n",
       "      <td>2020</td>\n",
       "      <td>Azerbaijan</td>\n",
       "      <td>Import</td>\n",
       "      <td>All Commodities</td>\n",
       "      <td>1.072979e+10</td>\n",
       "    </tr>\n",
       "    <tr>\n",
       "      <th>3</th>\n",
       "      <td>2020</td>\n",
       "      <td>Azerbaijan</td>\n",
       "      <td>Export</td>\n",
       "      <td>All Commodities</td>\n",
       "      <td>1.374057e+10</td>\n",
       "    </tr>\n",
       "    <tr>\n",
       "      <th>4</th>\n",
       "      <td>2020</td>\n",
       "      <td>Argentina</td>\n",
       "      <td>Import</td>\n",
       "      <td>All Commodities</td>\n",
       "      <td>4.235551e+10</td>\n",
       "    </tr>\n",
       "  </tbody>\n",
       "</table>\n",
       "</div>"
      ],
      "text/plain": [
       "   Period    Reporter Trade Flow  All Commodities  Trade Value (US$)\n",
       "0    2020     Albania     Import  All Commodities       5.602160e+09\n",
       "1    2020     Albania     Export  All Commodities       2.514736e+09\n",
       "2    2020  Azerbaijan     Import  All Commodities       1.072979e+10\n",
       "3    2020  Azerbaijan     Export  All Commodities       1.374057e+10\n",
       "4    2020   Argentina     Import  All Commodities       4.235551e+10"
      ]
     },
     "execution_count": 73,
     "metadata": {},
     "output_type": "execute_result"
    }
   ],
   "source": [
    "transport = transport[transport[REPORTER] != 'World']\n",
    "transport.head()"
   ]
  },
  {
   "cell_type": "raw",
   "metadata": {},
   "source": [
    "Q1 How much does the UK export and import and is the balance positive (more exports than imports)?"
   ]
  },
  {
   "cell_type": "code",
   "execution_count": 77,
   "metadata": {},
   "outputs": [
    {
     "data": {
      "text/plain": [
       "Trade Flow\n",
       "Export       1.414710e+13\n",
       "Import       1.456575e+13\n",
       "Re-Export    2.933018e+11\n",
       "Re-Import    6.094678e+09\n",
       "Name: Trade Value (US$), dtype: float64"
      ]
     },
     "execution_count": 77,
     "metadata": {},
     "output_type": "execute_result"
    }
   ],
   "source": [
    "grouped = transport.groupby([FLOW])\n",
    "grouped[VALUE].aggregate(sum)"
   ]
  },
  {
   "cell_type": "raw",
   "metadata": {},
   "source": [
    "Q2 Which are the main trading partners, i.e. from/to which countries does the UK import/export the most? "
   ]
  },
  {
   "cell_type": "code",
   "execution_count": 81,
   "metadata": {},
   "outputs": [
    {
     "name": "stdout",
     "output_type": "stream",
     "text": [
      "The UK imports from 81 countries.\n",
      "The 5 biggest exporters to the UK are:\n"
     ]
    },
    {
     "data": {
      "text/plain": [
       "Reporter\n",
       "USA               2.405380e+12\n",
       "China             2.055590e+12\n",
       "Germany           1.171420e+12\n",
       "Japan             6.354020e+11\n",
       "United Kingdom    6.312210e+11\n",
       "Name: Trade Value (US$), dtype: float64"
      ]
     },
     "execution_count": 81,
     "metadata": {},
     "output_type": "execute_result"
    }
   ],
   "source": [
    "imports = transport[transport[FLOW] == 'Import']\n",
    "grouped = imports.groupby([REPORTER])\n",
    "print('The UK imports from', len(grouped), 'countries.')\n",
    "print('The 5 biggest exporters to the UK are:')\n",
    "totalImports = grouped[VALUE].aggregate(sum).sort_values(inplace=False,ascending=False)\n",
    "totalImports.head()"
   ]
  },
  {
   "cell_type": "code",
   "execution_count": 82,
   "metadata": {},
   "outputs": [
    {
     "data": {
      "text/plain": [
       "<matplotlib.axes._subplots.AxesSubplot at 0x1e2f0f9e340>"
      ]
     },
     "execution_count": 82,
     "metadata": {},
     "output_type": "execute_result"
    },
    {
     "data": {
      "image/png": "[encoded data removed]",
      "text/plain": [
       "<Figure size 432x288 with 1 Axes>"
      ]
     },
     "metadata": {
      "needs_background": "light"
     },
     "output_type": "display_data"
    }
   ],
   "source": [
    "totalImports.head(10).plot(kind='barh')"
   ]
  },
  {
   "cell_type": "code",
   "execution_count": 86,
   "metadata": {},
   "outputs": [
    {
     "name": "stdout",
     "output_type": "stream",
     "text": [
      "The UK exports to 81 countries.\n",
      "The 5 biggest importers from the UK are:\n"
     ]
    },
    {
     "data": {
      "text/plain": [
       "Reporter\n",
       "China          2.590600e+12\n",
       "USA            1.430250e+12\n",
       "Germany        1.382850e+12\n",
       "Japan          6.412830e+11\n",
       "Netherlands    5.515980e+11\n",
       "Name: Trade Value (US$), dtype: float64"
      ]
     },
     "execution_count": 86,
     "metadata": {},
     "output_type": "execute_result"
    }
   ],
   "source": [
    "exports = transport[transport[FLOW] == 'Export']\n",
    "grouped = exports.groupby([REPORTER])\n",
    "print('The UK exports to', len(grouped), 'countries.')\n",
    "print('The 5 biggest importers from the UK are:')\n",
    "grouped[VALUE].aggregate(sum).sort_values(ascending=False,inplace=False).head()"
   ]
  },
  {
   "cell_type": "raw",
   "metadata": {},
   "source": [
    "Q3 Which are the regular customers, i.e. which countries buy milk from the UK every month?"
   ]
  },
  {
   "cell_type": "code",
   "execution_count": 94,
   "metadata": {},
   "outputs": [
    {
     "data": {
      "text/html": [
       "<div>\n",
       "<style scoped>\n",
       "    .dataframe tbody tr th:only-of-type {\n",
       "        vertical-align: middle;\n",
       "    }\n",
       "\n",
       "    .dataframe tbody tr th {\n",
       "        vertical-align: top;\n",
       "    }\n",
       "\n",
       "    .dataframe thead th {\n",
       "        text-align: right;\n",
       "    }\n",
       "</style>\n",
       "<table border=\"1\" class=\"dataframe\">\n",
       "  <thead>\n",
       "    <tr style=\"text-align: right;\">\n",
       "      <th></th>\n",
       "      <th>Period</th>\n",
       "      <th>Reporter</th>\n",
       "      <th>Trade Flow</th>\n",
       "      <th>All Commodities</th>\n",
       "      <th>Trade Value (US$)</th>\n",
       "    </tr>\n",
       "  </thead>\n",
       "  <tbody>\n",
       "  </tbody>\n",
       "</table>\n",
       "</div>"
      ],
      "text/plain": [
       "Empty DataFrame\n",
       "Columns: [Period, Reporter, Trade Flow, All Commodities, Trade Value (US$)]\n",
       "Index: []"
      ]
     },
     "execution_count": 94,
     "metadata": {},
     "output_type": "execute_result"
    }
   ],
   "source": [
    "def buysEveryMonth(group):\n",
    "    return len(group) == 10\n",
    "\n",
    "grouped = exports.groupby([REPORTER])\n",
    "regular = grouped.filter(buysEveryMonth)\n",
    "regular[(regular[MONTH] == 2020) & (regular[COMMODITY] != 'All Commodities')]"
   ]
  },
  {
   "cell_type": "code",
   "execution_count": 88,
   "metadata": {},
   "outputs": [
    {
     "data": {
      "text/plain": [
       "0.0"
      ]
     },
     "execution_count": 88,
     "metadata": {},
     "output_type": "execute_result"
    }
   ],
   "source": [
    "regular[VALUE].sum() / exports[VALUE].sum()"
   ]
  },
  {
   "cell_type": "code",
   "execution_count": null,
   "metadata": {},
   "outputs": [],
   "source": [
    "Q4 Which countries does the UK both import from and export to?"
   ]
  },
  {
   "cell_type": "code",
   "execution_count": 92,
   "metadata": {},
   "outputs": [
    {
     "data": {
      "text/html": [
       "<div>\n",
       "<style scoped>\n",
       "    .dataframe tbody tr th:only-of-type {\n",
       "        vertical-align: middle;\n",
       "    }\n",
       "\n",
       "    .dataframe tbody tr th {\n",
       "        vertical-align: top;\n",
       "    }\n",
       "\n",
       "    .dataframe thead th {\n",
       "        text-align: right;\n",
       "    }\n",
       "</style>\n",
       "<table border=\"1\" class=\"dataframe\">\n",
       "  <thead>\n",
       "    <tr style=\"text-align: right;\">\n",
       "      <th>Trade Flow</th>\n",
       "      <th>Export</th>\n",
       "      <th>Import</th>\n",
       "      <th>Re-Export</th>\n",
       "      <th>Re-Import</th>\n",
       "    </tr>\n",
       "    <tr>\n",
       "      <th>Reporter</th>\n",
       "      <th></th>\n",
       "      <th></th>\n",
       "      <th></th>\n",
       "      <th></th>\n",
       "    </tr>\n",
       "  </thead>\n",
       "  <tbody>\n",
       "    <tr>\n",
       "      <th>Albania</th>\n",
       "      <td>2.514736e+09</td>\n",
       "      <td>5.602160e+09</td>\n",
       "      <td>NaN</td>\n",
       "      <td>NaN</td>\n",
       "    </tr>\n",
       "    <tr>\n",
       "      <th>Argentina</th>\n",
       "      <td>5.488382e+10</td>\n",
       "      <td>4.235551e+10</td>\n",
       "      <td>NaN</td>\n",
       "      <td>NaN</td>\n",
       "    </tr>\n",
       "    <tr>\n",
       "      <th>Armenia</th>\n",
       "      <td>2.519990e+09</td>\n",
       "      <td>4.541430e+09</td>\n",
       "      <td>164243137.0</td>\n",
       "      <td>2042209.0</td>\n",
       "    </tr>\n",
       "    <tr>\n",
       "      <th>Aruba</th>\n",
       "      <td>6.593090e+07</td>\n",
       "      <td>9.392862e+08</td>\n",
       "      <td>NaN</td>\n",
       "      <td>NaN</td>\n",
       "    </tr>\n",
       "    <tr>\n",
       "      <th>Australia</th>\n",
       "      <td>2.450460e+11</td>\n",
       "      <td>2.119730e+11</td>\n",
       "      <td>NaN</td>\n",
       "      <td>NaN</td>\n",
       "    </tr>\n",
       "  </tbody>\n",
       "</table>\n",
       "</div>"
      ],
      "text/plain": [
       "Trade Flow        Export        Import    Re-Export  Re-Import\n",
       "Reporter                                                      \n",
       "Albania     2.514736e+09  5.602160e+09          NaN        NaN\n",
       "Argentina   5.488382e+10  4.235551e+10          NaN        NaN\n",
       "Armenia     2.519990e+09  4.541430e+09  164243137.0  2042209.0\n",
       "Aruba       6.593090e+07  9.392862e+08          NaN        NaN\n",
       "Australia   2.450460e+11  2.119730e+11          NaN        NaN"
      ]
     },
     "execution_count": 92,
     "metadata": {},
     "output_type": "execute_result"
    }
   ],
   "source": [
    "countries = pivot_table(transport, index=[REPORTER], columns=[FLOW], \n",
    "                        values=VALUE, aggfunc=sum)\n",
    "countries.head()"
   ]
  },
  {
   "cell_type": "code",
   "execution_count": 93,
   "metadata": {},
   "outputs": [
    {
     "data": {
      "text/html": [
       "<div>\n",
       "<style scoped>\n",
       "    .dataframe tbody tr th:only-of-type {\n",
       "        vertical-align: middle;\n",
       "    }\n",
       "\n",
       "    .dataframe tbody tr th {\n",
       "        vertical-align: top;\n",
       "    }\n",
       "\n",
       "    .dataframe thead th {\n",
       "        text-align: right;\n",
       "    }\n",
       "</style>\n",
       "<table border=\"1\" class=\"dataframe\">\n",
       "  <thead>\n",
       "    <tr style=\"text-align: right;\">\n",
       "      <th>Trade Flow</th>\n",
       "      <th>Export</th>\n",
       "      <th>Import</th>\n",
       "      <th>Re-Export</th>\n",
       "      <th>Re-Import</th>\n",
       "    </tr>\n",
       "    <tr>\n",
       "      <th>Reporter</th>\n",
       "      <th></th>\n",
       "      <th></th>\n",
       "      <th></th>\n",
       "      <th></th>\n",
       "    </tr>\n",
       "  </thead>\n",
       "  <tbody>\n",
       "    <tr>\n",
       "      <th>Armenia</th>\n",
       "      <td>2.519990e+09</td>\n",
       "      <td>4.541430e+09</td>\n",
       "      <td>1.642431e+08</td>\n",
       "      <td>2.042209e+06</td>\n",
       "    </tr>\n",
       "    <tr>\n",
       "      <th>Canada</th>\n",
       "      <td>3.895130e+11</td>\n",
       "      <td>4.053910e+11</td>\n",
       "      <td>3.322761e+10</td>\n",
       "      <td>9.294206e+07</td>\n",
       "    </tr>\n",
       "    <tr>\n",
       "      <th>Georgia</th>\n",
       "      <td>3.342142e+09</td>\n",
       "      <td>8.031494e+09</td>\n",
       "      <td>9.343388e+08</td>\n",
       "      <td>4.995399e+06</td>\n",
       "    </tr>\n",
       "    <tr>\n",
       "      <th>Italy</th>\n",
       "      <td>4.959770e+11</td>\n",
       "      <td>4.226480e+11</td>\n",
       "      <td>1.467987e+10</td>\n",
       "      <td>3.840199e+09</td>\n",
       "    </tr>\n",
       "    <tr>\n",
       "      <th>Luxembourg</th>\n",
       "      <td>1.344229e+10</td>\n",
       "      <td>2.060962e+10</td>\n",
       "      <td>4.577969e+07</td>\n",
       "      <td>4.758020e+07</td>\n",
       "    </tr>\n",
       "    <tr>\n",
       "      <th>Myanmar</th>\n",
       "      <td>1.692925e+10</td>\n",
       "      <td>1.796420e+10</td>\n",
       "      <td>2.293715e+08</td>\n",
       "      <td>4.950500e+05</td>\n",
       "    </tr>\n",
       "    <tr>\n",
       "      <th>Namibia</th>\n",
       "      <td>5.600211e+09</td>\n",
       "      <td>6.823461e+09</td>\n",
       "      <td>2.610489e+09</td>\n",
       "      <td>9.264457e+06</td>\n",
       "    </tr>\n",
       "    <tr>\n",
       "      <th>Pakistan</th>\n",
       "      <td>2.223716e+10</td>\n",
       "      <td>4.577514e+10</td>\n",
       "      <td>2.899268e+08</td>\n",
       "      <td>3.375693e+07</td>\n",
       "    </tr>\n",
       "    <tr>\n",
       "      <th>Rep. of Moldova</th>\n",
       "      <td>2.485160e+09</td>\n",
       "      <td>5.415674e+09</td>\n",
       "      <td>5.798537e+08</td>\n",
       "      <td>8.169839e+06</td>\n",
       "    </tr>\n",
       "    <tr>\n",
       "      <th>Spain</th>\n",
       "      <td>3.120810e+11</td>\n",
       "      <td>3.297390e+11</td>\n",
       "      <td>5.344115e+09</td>\n",
       "      <td>1.829040e+09</td>\n",
       "    </tr>\n",
       "    <tr>\n",
       "      <th>United Kingdom</th>\n",
       "      <td>3.996220e+11</td>\n",
       "      <td>6.312210e+11</td>\n",
       "      <td>3.876273e+09</td>\n",
       "      <td>2.168926e+08</td>\n",
       "    </tr>\n",
       "    <tr>\n",
       "      <th>Uzbekistan</th>\n",
       "      <td>1.328056e+10</td>\n",
       "      <td>2.002014e+10</td>\n",
       "      <td>2.015835e+08</td>\n",
       "      <td>9.300419e+06</td>\n",
       "    </tr>\n",
       "  </tbody>\n",
       "</table>\n",
       "</div>"
      ],
      "text/plain": [
       "Trade Flow             Export        Import     Re-Export     Re-Import\n",
       "Reporter                                                               \n",
       "Armenia          2.519990e+09  4.541430e+09  1.642431e+08  2.042209e+06\n",
       "Canada           3.895130e+11  4.053910e+11  3.322761e+10  9.294206e+07\n",
       "Georgia          3.342142e+09  8.031494e+09  9.343388e+08  4.995399e+06\n",
       "Italy            4.959770e+11  4.226480e+11  1.467987e+10  3.840199e+09\n",
       "Luxembourg       1.344229e+10  2.060962e+10  4.577969e+07  4.758020e+07\n",
       "Myanmar          1.692925e+10  1.796420e+10  2.293715e+08  4.950500e+05\n",
       "Namibia          5.600211e+09  6.823461e+09  2.610489e+09  9.264457e+06\n",
       "Pakistan         2.223716e+10  4.577514e+10  2.899268e+08  3.375693e+07\n",
       "Rep. of Moldova  2.485160e+09  5.415674e+09  5.798537e+08  8.169839e+06\n",
       "Spain            3.120810e+11  3.297390e+11  5.344115e+09  1.829040e+09\n",
       "United Kingdom   3.996220e+11  6.312210e+11  3.876273e+09  2.168926e+08\n",
       "Uzbekistan       1.328056e+10  2.002014e+10  2.015835e+08  9.300419e+06"
      ]
     },
     "execution_count": 93,
     "metadata": {},
     "output_type": "execute_result"
    }
   ],
   "source": [
    "countries.dropna()"
   ]
  },
  {
   "cell_type": "code",
   "execution_count": null,
   "metadata": {},
   "outputs": [],
   "source": []
  }
 ],
 "metadata": {
  "kernelspec": {
   "display_name": "Python 3",
   "language": "python",
   "name": "python3"
  },
  "language_info": {
   "codemirror_mode": {
    "name": "ipython",
    "version": 3
   },
   "file_extension": ".py",
   "mimetype": "text/x-python",
   "name": "python",
   "nbconvert_exporter": "python",
   "pygments_lexer": "ipython3",
   "version": "3.8.3"
  }
 },
 "nbformat": 4,
 "nbformat_minor": 4
}
