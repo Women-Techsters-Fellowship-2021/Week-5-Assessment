{
 "cells": [
  {
   "cell_type": "markdown",
   "metadata": {},
   "source": [
    "## The project this week is to find out what would have been the best two weeks of weather for a 2014 vacation in a capital of a BRICS country.So I'll be using China with Beinjing as capital ##\n",
    "\n",
    "\n"
   ]
  },
  {
   "cell_type": "markdown",
   "metadata": {},
   "source": [
    "**The first thing to do is to import important libraries that will give us this objectives**"
   ]
  },
  {
   "cell_type": "markdown",
   "metadata": {},
   "source": [
    "import warnings\n",
    "warnings.simplefilter('ignore', FutureWarning)\n",
    "\n",
    "import pandas as pd\n",
    "from datetime import datetime \n",
    "beinjing = pd.read_csv('Beijing_PEK_2014.csv', skipinitialspace=True)\n",
    "beinjing.head()\n"
   ]
  },
  {
   "cell_type": "markdown",
   "metadata": {},
   "source": [
    "let us begin by seeing all the headings of the columns"
   ]
  },
  {
   "cell_type": "code",
   "execution_count": 2,
   "metadata": {},
   "outputs": [
    {
     "data": {
      "text/plain": [
       "Index(['Date', 'Max TemperatureC', 'Mean TemperatureC', 'Min TemperatureC',\n",
       "       'Dew PointC', 'MeanDew PointC', 'Min DewpointC', 'Max Humidity',\n",
       "       'Mean Humidity', 'Min Humidity', 'Max Sea Level PressurehPa',\n",
       "       'Mean Sea Level PressurehPa', 'Min Sea Level PressurehPa',\n",
       "       'Max VisibilityKm', 'Mean VisibilityKm', 'Min VisibilitykM',\n",
       "       'Max Wind SpeedKm/h', 'Mean Wind SpeedKm/h', 'Max Gust SpeedKm/h',\n",
       "       'Precipitationmm', 'CloudCover', 'Events', 'WindDirDegrees<br />'],\n",
       "      dtype='object')"
      ]
     },
     "execution_count": 2,
     "metadata": {},
     "output_type": "execute_result"
    }
   ],
   "source": [
    "beinjing.columns"
   ]
  },
  {
   "cell_type": "markdown",
   "metadata": {},
   "source": [
    "### Cleaning the data\n",
    "First we need to clean up the data. I'm not going to make use of 'WindDirDegrees' in my analysis, so we'll rename 'WindDirDegrees< br />' to 'WindDirDegrees'."
   ]
  },
  {
   "cell_type": "code",
   "execution_count": 3,
   "metadata": {},
   "outputs": [],
   "source": [
    "beinjing = beinjing.rename(columns={'WindDirDegrees<br />' : 'WindDirDegrees'})"
   ]
  },
  {
   "cell_type": "markdown",
   "metadata": {},
   "source": [
    "**We remove the redundant ('<br ') from the column also**"
   ]
  },
  {
   "cell_type": "code",
   "execution_count": 4,
   "metadata": {},
   "outputs": [],
   "source": [
    "beinjing['WindDirDegrees'] = beinjing['WindDirDegrees'].str.rstrip('<br />')"
   ]
  },
  {
   "cell_type": "markdown",
   "metadata": {},
   "source": [
    "**We also change the values to float**"
   ]
  },
  {
   "cell_type": "code",
   "execution_count": 5,
   "metadata": {},
   "outputs": [],
   "source": [
    "beinjing['WindDirDegrees'] = beinjing['WindDirDegrees'].astype('float64')  "
   ]
  },
  {
   "cell_type": "markdown",
   "metadata": {},
   "source": [
    "**We need to change the date into the correct format**"
   ]
  },
  {
   "cell_type": "code",
   "execution_count": 8,
   "metadata": {},
   "outputs": [],
   "source": [
    "beinjing['Date'] = pd.to_datetime(beinjing['Date'])"
   ]
  },
  {
   "cell_type": "markdown",
   "metadata": {},
   "source": [
    "**Let us cross check to be sure all the columns have the correct data type **"
   ]
  },
  {
   "cell_type": "code",
   "execution_count": 10,
   "metadata": {},
   "outputs": [
    {
     "data": {
      "text/plain": [
       "Date                          datetime64[ns]\n",
       "Max TemperatureC                       int64\n",
       "Mean TemperatureC                      int64\n",
       "Min TemperatureC                       int64\n",
       "Dew PointC                             int64\n",
       "MeanDew PointC                         int64\n",
       "Min DewpointC                          int64\n",
       "Max Humidity                           int64\n",
       "Mean Humidity                          int64\n",
       "Min Humidity                           int64\n",
       "Max Sea Level PressurehPa              int64\n",
       "Mean Sea Level PressurehPa             int64\n",
       "Min Sea Level PressurehPa              int64\n",
       "Max VisibilityKm                       int64\n",
       "Mean VisibilityKm                      int64\n",
       "Min VisibilitykM                       int64\n",
       "Max Wind SpeedKm/h                     int64\n",
       "Mean Wind SpeedKm/h                    int64\n",
       "Max Gust SpeedKm/h                   float64\n",
       "Precipitationmm                      float64\n",
       "CloudCover                           float64\n",
       "Events                                object\n",
       "WindDirDegrees                       float64\n",
       "dtype: object"
      ]
     },
     "execution_count": 10,
     "metadata": {},
     "output_type": "execute_result"
    }
   ],
   "source": [
    "beinjing['Date'] = pd.to_datetime(beinjing['Date'])\n",
    "beinjing.dtypes"
   ]
  },
  {
   "cell_type": "markdown",
   "metadata": {},
   "source": [
    "**We also need to change the index from the default to the `datetime64` values in the `'GMT'` column so that it is easier to pull out rows between particular dates and display more meaningful graphs:** "
   ]
  },
  {
   "cell_type": "code",
   "execution_count": 11,
   "metadata": {},
   "outputs": [],
   "source": [
    "beinjing.index = beinjing['Date']"
   ]
  },
  {
   "cell_type": "markdown",
   "metadata": {},
   "source": [
    "## Finding a summer break\n",
    "According to meteorologists, summer extends for the whole months of ,May 15th to Sept 15th . I'll then use the date.index like this:"
   ]
  },
  {
   "cell_type": "code",
   "execution_count": 12,
   "metadata": {},
   "outputs": [],
   "source": [
    "summer = beinjing.loc[datetime(2014,5,15) : datetime(2014,9,15)]"
   ]
  },
  {
   "cell_type": "markdown",
   "metadata": {},
   "source": [
    "**We now show only days with temperature above or equals to 25 C**"
   ]
  },
  {
   "cell_type": "code",
   "execution_count": 13,
   "metadata": {},
   "outputs": [
    {
     "data": {
      "text/html": [
       "<div>\n",
       "<style scoped>\n",
       "    .dataframe tbody tr th:only-of-type {\n",
       "        vertical-align: middle;\n",
       "    }\n",
       "\n",
       "    .dataframe tbody tr th {\n",
       "        vertical-align: top;\n",
       "    }\n",
       "\n",
       "    .dataframe thead th {\n",
       "        text-align: right;\n",
       "    }\n",
       "</style>\n",
       "<table border=\"1\" class=\"dataframe\">\n",
       "  <thead>\n",
       "    <tr style=\"text-align: right;\">\n",
       "      <th></th>\n",
       "      <th>Date</th>\n",
       "      <th>Max TemperatureC</th>\n",
       "      <th>Mean TemperatureC</th>\n",
       "      <th>Min TemperatureC</th>\n",
       "      <th>Dew PointC</th>\n",
       "      <th>MeanDew PointC</th>\n",
       "      <th>Min DewpointC</th>\n",
       "      <th>Max Humidity</th>\n",
       "      <th>Mean Humidity</th>\n",
       "      <th>Min Humidity</th>\n",
       "      <th>...</th>\n",
       "      <th>Max VisibilityKm</th>\n",
       "      <th>Mean VisibilityKm</th>\n",
       "      <th>Min VisibilitykM</th>\n",
       "      <th>Max Wind SpeedKm/h</th>\n",
       "      <th>Mean Wind SpeedKm/h</th>\n",
       "      <th>Max Gust SpeedKm/h</th>\n",
       "      <th>Precipitationmm</th>\n",
       "      <th>CloudCover</th>\n",
       "      <th>Events</th>\n",
       "      <th>WindDirDegrees</th>\n",
       "    </tr>\n",
       "    <tr>\n",
       "      <th>Date</th>\n",
       "      <th></th>\n",
       "      <th></th>\n",
       "      <th></th>\n",
       "      <th></th>\n",
       "      <th></th>\n",
       "      <th></th>\n",
       "      <th></th>\n",
       "      <th></th>\n",
       "      <th></th>\n",
       "      <th></th>\n",
       "      <th></th>\n",
       "      <th></th>\n",
       "      <th></th>\n",
       "      <th></th>\n",
       "      <th></th>\n",
       "      <th></th>\n",
       "      <th></th>\n",
       "      <th></th>\n",
       "      <th></th>\n",
       "      <th></th>\n",
       "      <th></th>\n",
       "    </tr>\n",
       "  </thead>\n",
       "  <tbody>\n",
       "    <tr>\n",
       "      <th>2014-05-22</th>\n",
       "      <td>2014-05-22</td>\n",
       "      <td>35</td>\n",
       "      <td>27</td>\n",
       "      <td>19</td>\n",
       "      <td>18</td>\n",
       "      <td>14</td>\n",
       "      <td>8</td>\n",
       "      <td>88</td>\n",
       "      <td>48</td>\n",
       "      <td>12</td>\n",
       "      <td>...</td>\n",
       "      <td>14</td>\n",
       "      <td>4</td>\n",
       "      <td>2</td>\n",
       "      <td>29</td>\n",
       "      <td>11</td>\n",
       "      <td>NaN</td>\n",
       "      <td>0.00</td>\n",
       "      <td>NaN</td>\n",
       "      <td>NaN</td>\n",
       "      <td>167.0</td>\n",
       "    </tr>\n",
       "    <tr>\n",
       "      <th>2014-05-23</th>\n",
       "      <td>2014-05-23</td>\n",
       "      <td>34</td>\n",
       "      <td>27</td>\n",
       "      <td>20</td>\n",
       "      <td>16</td>\n",
       "      <td>13</td>\n",
       "      <td>9</td>\n",
       "      <td>73</td>\n",
       "      <td>40</td>\n",
       "      <td>16</td>\n",
       "      <td>...</td>\n",
       "      <td>14</td>\n",
       "      <td>8</td>\n",
       "      <td>5</td>\n",
       "      <td>29</td>\n",
       "      <td>11</td>\n",
       "      <td>40.0</td>\n",
       "      <td>0.00</td>\n",
       "      <td>NaN</td>\n",
       "      <td>Rain</td>\n",
       "      <td>175.0</td>\n",
       "    </tr>\n",
       "    <tr>\n",
       "      <th>2014-05-28</th>\n",
       "      <td>2014-05-28</td>\n",
       "      <td>37</td>\n",
       "      <td>26</td>\n",
       "      <td>15</td>\n",
       "      <td>12</td>\n",
       "      <td>7</td>\n",
       "      <td>1</td>\n",
       "      <td>68</td>\n",
       "      <td>28</td>\n",
       "      <td>6</td>\n",
       "      <td>...</td>\n",
       "      <td>27</td>\n",
       "      <td>19</td>\n",
       "      <td>6</td>\n",
       "      <td>35</td>\n",
       "      <td>10</td>\n",
       "      <td>50.0</td>\n",
       "      <td>0.00</td>\n",
       "      <td>NaN</td>\n",
       "      <td>NaN</td>\n",
       "      <td>189.0</td>\n",
       "    </tr>\n",
       "    <tr>\n",
       "      <th>2014-05-29</th>\n",
       "      <td>2014-05-29</td>\n",
       "      <td>42</td>\n",
       "      <td>30</td>\n",
       "      <td>18</td>\n",
       "      <td>15</td>\n",
       "      <td>11</td>\n",
       "      <td>3</td>\n",
       "      <td>68</td>\n",
       "      <td>33</td>\n",
       "      <td>5</td>\n",
       "      <td>...</td>\n",
       "      <td>31</td>\n",
       "      <td>14</td>\n",
       "      <td>10</td>\n",
       "      <td>21</td>\n",
       "      <td>6</td>\n",
       "      <td>43.0</td>\n",
       "      <td>0.00</td>\n",
       "      <td>2.0</td>\n",
       "      <td>NaN</td>\n",
       "      <td>72.0</td>\n",
       "    </tr>\n",
       "    <tr>\n",
       "      <th>2014-05-30</th>\n",
       "      <td>2014-05-30</td>\n",
       "      <td>35</td>\n",
       "      <td>28</td>\n",
       "      <td>20</td>\n",
       "      <td>15</td>\n",
       "      <td>13</td>\n",
       "      <td>10</td>\n",
       "      <td>60</td>\n",
       "      <td>37</td>\n",
       "      <td>21</td>\n",
       "      <td>...</td>\n",
       "      <td>13</td>\n",
       "      <td>9</td>\n",
       "      <td>7</td>\n",
       "      <td>21</td>\n",
       "      <td>10</td>\n",
       "      <td>NaN</td>\n",
       "      <td>0.00</td>\n",
       "      <td>NaN</td>\n",
       "      <td>NaN</td>\n",
       "      <td>110.0</td>\n",
       "    </tr>\n",
       "    <tr>\n",
       "      <th>...</th>\n",
       "      <td>...</td>\n",
       "      <td>...</td>\n",
       "      <td>...</td>\n",
       "      <td>...</td>\n",
       "      <td>...</td>\n",
       "      <td>...</td>\n",
       "      <td>...</td>\n",
       "      <td>...</td>\n",
       "      <td>...</td>\n",
       "      <td>...</td>\n",
       "      <td>...</td>\n",
       "      <td>...</td>\n",
       "      <td>...</td>\n",
       "      <td>...</td>\n",
       "      <td>...</td>\n",
       "      <td>...</td>\n",
       "      <td>...</td>\n",
       "      <td>...</td>\n",
       "      <td>...</td>\n",
       "      <td>...</td>\n",
       "      <td>...</td>\n",
       "    </tr>\n",
       "    <tr>\n",
       "      <th>2014-08-23</th>\n",
       "      <td>2014-08-23</td>\n",
       "      <td>33</td>\n",
       "      <td>27</td>\n",
       "      <td>22</td>\n",
       "      <td>23</td>\n",
       "      <td>21</td>\n",
       "      <td>16</td>\n",
       "      <td>94</td>\n",
       "      <td>69</td>\n",
       "      <td>40</td>\n",
       "      <td>...</td>\n",
       "      <td>10</td>\n",
       "      <td>5</td>\n",
       "      <td>2</td>\n",
       "      <td>26</td>\n",
       "      <td>6</td>\n",
       "      <td>32.0</td>\n",
       "      <td>0.51</td>\n",
       "      <td>5.0</td>\n",
       "      <td>Rain-Thunderstorm</td>\n",
       "      <td>155.0</td>\n",
       "    </tr>\n",
       "    <tr>\n",
       "      <th>2014-08-24</th>\n",
       "      <td>2014-08-24</td>\n",
       "      <td>33</td>\n",
       "      <td>27</td>\n",
       "      <td>22</td>\n",
       "      <td>20</td>\n",
       "      <td>16</td>\n",
       "      <td>9</td>\n",
       "      <td>88</td>\n",
       "      <td>56</td>\n",
       "      <td>18</td>\n",
       "      <td>...</td>\n",
       "      <td>31</td>\n",
       "      <td>14</td>\n",
       "      <td>6</td>\n",
       "      <td>21</td>\n",
       "      <td>10</td>\n",
       "      <td>29.0</td>\n",
       "      <td>0.25</td>\n",
       "      <td>1.0</td>\n",
       "      <td>Rain</td>\n",
       "      <td>39.0</td>\n",
       "    </tr>\n",
       "    <tr>\n",
       "      <th>2014-08-26</th>\n",
       "      <td>2014-08-26</td>\n",
       "      <td>36</td>\n",
       "      <td>26</td>\n",
       "      <td>16</td>\n",
       "      <td>15</td>\n",
       "      <td>10</td>\n",
       "      <td>3</td>\n",
       "      <td>83</td>\n",
       "      <td>41</td>\n",
       "      <td>7</td>\n",
       "      <td>...</td>\n",
       "      <td>31</td>\n",
       "      <td>19</td>\n",
       "      <td>6</td>\n",
       "      <td>14</td>\n",
       "      <td>6</td>\n",
       "      <td>21.0</td>\n",
       "      <td>0.00</td>\n",
       "      <td>NaN</td>\n",
       "      <td>NaN</td>\n",
       "      <td>28.0</td>\n",
       "    </tr>\n",
       "    <tr>\n",
       "      <th>2014-08-27</th>\n",
       "      <td>2014-08-27</td>\n",
       "      <td>35</td>\n",
       "      <td>26</td>\n",
       "      <td>17</td>\n",
       "      <td>17</td>\n",
       "      <td>14</td>\n",
       "      <td>11</td>\n",
       "      <td>82</td>\n",
       "      <td>49</td>\n",
       "      <td>22</td>\n",
       "      <td>...</td>\n",
       "      <td>14</td>\n",
       "      <td>10</td>\n",
       "      <td>6</td>\n",
       "      <td>18</td>\n",
       "      <td>6</td>\n",
       "      <td>35.0</td>\n",
       "      <td>0.00</td>\n",
       "      <td>NaN</td>\n",
       "      <td>NaN</td>\n",
       "      <td>150.0</td>\n",
       "    </tr>\n",
       "    <tr>\n",
       "      <th>2014-09-07</th>\n",
       "      <td>2014-09-07</td>\n",
       "      <td>30</td>\n",
       "      <td>26</td>\n",
       "      <td>22</td>\n",
       "      <td>21</td>\n",
       "      <td>19</td>\n",
       "      <td>17</td>\n",
       "      <td>94</td>\n",
       "      <td>72</td>\n",
       "      <td>41</td>\n",
       "      <td>...</td>\n",
       "      <td>7</td>\n",
       "      <td>5</td>\n",
       "      <td>2</td>\n",
       "      <td>18</td>\n",
       "      <td>6</td>\n",
       "      <td>NaN</td>\n",
       "      <td>0.00</td>\n",
       "      <td>8.0</td>\n",
       "      <td>Rain</td>\n",
       "      <td>166.0</td>\n",
       "    </tr>\n",
       "  </tbody>\n",
       "</table>\n",
       "<p>71 rows × 23 columns</p>\n",
       "</div>"
      ],
      "text/plain": [
       "                 Date  Max TemperatureC  Mean TemperatureC  Min TemperatureC  \\\n",
       "Date                                                                           \n",
       "2014-05-22 2014-05-22                35                 27                19   \n",
       "2014-05-23 2014-05-23                34                 27                20   \n",
       "2014-05-28 2014-05-28                37                 26                15   \n",
       "2014-05-29 2014-05-29                42                 30                18   \n",
       "2014-05-30 2014-05-30                35                 28                20   \n",
       "...               ...               ...                ...               ...   \n",
       "2014-08-23 2014-08-23                33                 27                22   \n",
       "2014-08-24 2014-08-24                33                 27                22   \n",
       "2014-08-26 2014-08-26                36                 26                16   \n",
       "2014-08-27 2014-08-27                35                 26                17   \n",
       "2014-09-07 2014-09-07                30                 26                22   \n",
       "\n",
       "            Dew PointC  MeanDew PointC  Min DewpointC  Max Humidity  \\\n",
       "Date                                                                  \n",
       "2014-05-22          18              14              8            88   \n",
       "2014-05-23          16              13              9            73   \n",
       "2014-05-28          12               7              1            68   \n",
       "2014-05-29          15              11              3            68   \n",
       "2014-05-30          15              13             10            60   \n",
       "...                ...             ...            ...           ...   \n",
       "2014-08-23          23              21             16            94   \n",
       "2014-08-24          20              16              9            88   \n",
       "2014-08-26          15              10              3            83   \n",
       "2014-08-27          17              14             11            82   \n",
       "2014-09-07          21              19             17            94   \n",
       "\n",
       "            Mean Humidity  Min Humidity  ...  Max VisibilityKm  \\\n",
       "Date                                     ...                     \n",
       "2014-05-22             48            12  ...                14   \n",
       "2014-05-23             40            16  ...                14   \n",
       "2014-05-28             28             6  ...                27   \n",
       "2014-05-29             33             5  ...                31   \n",
       "2014-05-30             37            21  ...                13   \n",
       "...                   ...           ...  ...               ...   \n",
       "2014-08-23             69            40  ...                10   \n",
       "2014-08-24             56            18  ...                31   \n",
       "2014-08-26             41             7  ...                31   \n",
       "2014-08-27             49            22  ...                14   \n",
       "2014-09-07             72            41  ...                 7   \n",
       "\n",
       "            Mean VisibilityKm  Min VisibilitykM  Max Wind SpeedKm/h  \\\n",
       "Date                                                                  \n",
       "2014-05-22                  4                 2                  29   \n",
       "2014-05-23                  8                 5                  29   \n",
       "2014-05-28                 19                 6                  35   \n",
       "2014-05-29                 14                10                  21   \n",
       "2014-05-30                  9                 7                  21   \n",
       "...                       ...               ...                 ...   \n",
       "2014-08-23                  5                 2                  26   \n",
       "2014-08-24                 14                 6                  21   \n",
       "2014-08-26                 19                 6                  14   \n",
       "2014-08-27                 10                 6                  18   \n",
       "2014-09-07                  5                 2                  18   \n",
       "\n",
       "            Mean Wind SpeedKm/h  Max Gust SpeedKm/h  Precipitationmm  \\\n",
       "Date                                                                   \n",
       "2014-05-22                   11                 NaN             0.00   \n",
       "2014-05-23                   11                40.0             0.00   \n",
       "2014-05-28                   10                50.0             0.00   \n",
       "2014-05-29                    6                43.0             0.00   \n",
       "2014-05-30                   10                 NaN             0.00   \n",
       "...                         ...                 ...              ...   \n",
       "2014-08-23                    6                32.0             0.51   \n",
       "2014-08-24                   10                29.0             0.25   \n",
       "2014-08-26                    6                21.0             0.00   \n",
       "2014-08-27                    6                35.0             0.00   \n",
       "2014-09-07                    6                 NaN             0.00   \n",
       "\n",
       "            CloudCover             Events  WindDirDegrees  \n",
       "Date                                                       \n",
       "2014-05-22         NaN                NaN           167.0  \n",
       "2014-05-23         NaN               Rain           175.0  \n",
       "2014-05-28         NaN                NaN           189.0  \n",
       "2014-05-29         2.0                NaN            72.0  \n",
       "2014-05-30         NaN                NaN           110.0  \n",
       "...                ...                ...             ...  \n",
       "2014-08-23         5.0  Rain-Thunderstorm           155.0  \n",
       "2014-08-24         1.0               Rain            39.0  \n",
       "2014-08-26         NaN                NaN            28.0  \n",
       "2014-08-27         NaN                NaN           150.0  \n",
       "2014-09-07         8.0               Rain           166.0  \n",
       "\n",
       "[71 rows x 23 columns]"
      ]
     },
     "execution_count": 13,
     "metadata": {},
     "output_type": "execute_result"
    }
   ],
   "source": [
    "summer[summer['Mean TemperatureC'] >= 25]"
   ]
  },
  {
   "cell_type": "code",
   "execution_count": 17,
   "metadata": {},
   "outputs": [
    {
     "data": {
      "text/plain": [
       "<AxesSubplot:xlabel='Date'>"
      ]
     },
     "execution_count": 17,
     "metadata": {},
     "output_type": "execute_result"
    },
    {
     "data": {
      "image/png": "[encoded data removed]",
      "text/plain": [
       "<Figure size 720x360 with 1 Axes>"
      ]
     },
     "metadata": {
      "needs_background": "light"
     },
     "output_type": "display_data"
    }
   ],
   "source": [
    "summer['Mean TemperatureC'].plot(grid=True, figsize=(10,5))"
   ]
  },
  {
   "cell_type": "markdown",
   "metadata": {},
   "source": [
    "**Let us now see the plot of temperature together with rainfall during this time period**"
   ]
  },
  {
   "cell_type": "code",
   "execution_count": 14,
   "metadata": {},
   "outputs": [
    {
     "data": {
      "text/plain": [
       "<AxesSubplot:xlabel='Date'>"
      ]
     },
     "execution_count": 14,
     "metadata": {},
     "output_type": "execute_result"
    },
    {
     "data": {
      "image/png": "[encoded data removed]",
      "text/plain": [
       "<Figure size 720x360 with 1 Axes>"
      ]
     },
     "metadata": {
      "needs_background": "light"
     },
     "output_type": "display_data"
    }
   ],
   "source": [
    "summer[['Mean TemperatureC', 'Precipitationmm']].plot(grid=True, figsize=(10,5))"
   ]
  },
  {
   "cell_type": "markdown",
   "metadata": {},
   "source": [
    "**The second half of August throughly gives an august occasion for vacation.Let's zoom in using a graph,to confirm our suspicion**"
   ]
  },
  {
   "cell_type": "code",
   "execution_count": 18,
   "metadata": {},
   "outputs": [
    {
     "data": {
      "text/plain": [
       "<AxesSubplot:xlabel='Date'>"
      ]
     },
     "execution_count": 18,
     "metadata": {},
     "output_type": "execute_result"
    },
    {
     "data": {
      "image/png": "[encoded data removed]",
      "text/plain": [
       "<Figure size 720x360 with 1 Axes>"
      ]
     },
     "metadata": {
      "needs_background": "light"
     },
     "output_type": "display_data"
    }
   ],
   "source": [
    "august = summer.loc[datetime(2014,8,1) : datetime(2014,8,31)]\n",
    "august[['Mean TemperatureC', 'Precipitationmm']].plot(grid=True, figsize=(10,5))"
   ]
  },
  {
   "cell_type": "markdown",
   "metadata": {},
   "source": [
    "**Yep!,August 14-28th is just perfect with only 4 days(21st - 23rd,27th-28th) with minimal rainfall.The temperature never falls below 23rd all through**"
   ]
  },
  {
   "cell_type": "markdown",
   "metadata": {},
   "source": [
    "## Conclusions\n",
    "The graphs have shown the stability of a Beinjing summer, with ample time for vacation ,the best of the better days were taken.To give better prediction we will need more data for more years."
   ]
  }
 ],
 "metadata": {
  "kernelspec": {
   "display_name": "Python 3",
   "language": "python",
   "name": "python3"
  },
  "language_info": {
   "codemirror_mode": {
    "name": "ipython",
    "version": 3
   },
   "file_extension": ".py",
   "mimetype": "text/x-python",
   "name": "python",
   "nbconvert_exporter": "python",
   "pygments_lexer": "ipython3",
   "version": "3.8.5"
  }
 },
 "nbformat": 4,
 "nbformat_minor": 4
}
