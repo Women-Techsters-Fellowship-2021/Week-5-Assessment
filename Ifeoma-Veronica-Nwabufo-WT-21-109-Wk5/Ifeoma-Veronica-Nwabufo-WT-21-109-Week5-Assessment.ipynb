{
 "cells": [
  {
   "cell_type": "markdown",
   "metadata": {},
   "source": [
    "## Analysis of UK's Tradings for 2014 Trading Year"
   ]
  },
  {
   "cell_type": "markdown",
   "metadata": {},
   "source": [
    "Task: \n",
    "A country's economy depends, sometimes heavily, on its exports and imports. The United Nations Comtrade database provides data on global trade. It will be used to analyse the UK's imports and exports of milk and cream in 2015:\n",
    "\n",
    "- How much does the UK export and import and is the balance positive (more exports than imports)? \n",
    "- Which are the main trading partners, i.e. from/to which countries does the UK import/export the most?\n",
    "- Which are the regular customers, i.e. which countries buy milk from the UK every month?\n",
    "- Which countries does the UK both import from and export to?"
   ]
  },
  {
   "cell_type": "code",
   "execution_count": 1,
   "metadata": {},
   "outputs": [],
   "source": [
    "import pandas as pd\n",
    "import numpy as np\n",
    "import matplotlib.pyplot as plt\n",
    "from pandas import *\n",
    "%matplotlib inline"
   ]
  },
  {
   "cell_type": "code",
   "execution_count": 2,
   "metadata": {},
   "outputs": [
    {
     "data": {
      "text/html": [
       "<div>\n",
       "<style scoped>\n",
       "    .dataframe tbody tr th:only-of-type {\n",
       "        vertical-align: middle;\n",
       "    }\n",
       "\n",
       "    .dataframe tbody tr th {\n",
       "        vertical-align: top;\n",
       "    }\n",
       "\n",
       "    .dataframe thead th {\n",
       "        text-align: right;\n",
       "    }\n",
       "</style>\n",
       "<table border=\"1\" class=\"dataframe\">\n",
       "  <thead>\n",
       "    <tr style=\"text-align: right;\">\n",
       "      <th></th>\n",
       "      <th>Classification</th>\n",
       "      <th>Year</th>\n",
       "      <th>Period</th>\n",
       "      <th>Period Desc.</th>\n",
       "      <th>Aggregate Level</th>\n",
       "      <th>Is Leaf Code</th>\n",
       "      <th>Trade Flow Code</th>\n",
       "      <th>Trade Flow</th>\n",
       "      <th>Reporter Code</th>\n",
       "      <th>Reporter</th>\n",
       "      <th>Reporter ISO</th>\n",
       "      <th>Partner Code</th>\n",
       "      <th>Partner</th>\n",
       "      <th>Partner ISO</th>\n",
       "      <th>2nd Partner Code</th>\n",
       "      <th>2nd Partner</th>\n",
       "      <th>2nd Partner ISO</th>\n",
       "      <th>Customs Proc. Code</th>\n",
       "      <th>Customs</th>\n",
       "      <th>Mode of Transport Code</th>\n",
       "      <th>Mode of Transport</th>\n",
       "      <th>Commodity Code</th>\n",
       "      <th>Commodity</th>\n",
       "      <th>Qty Unit Code</th>\n",
       "      <th>Qty Unit</th>\n",
       "      <th>Qty</th>\n",
       "      <th>Alt Qty Unit Code</th>\n",
       "      <th>Alt Qty Unit</th>\n",
       "      <th>Alt Qty</th>\n",
       "      <th>Netweight (kg)</th>\n",
       "      <th>Gross weight (kg)</th>\n",
       "      <th>Trade Value (US$)</th>\n",
       "      <th>CIF Trade Value (US$)</th>\n",
       "      <th>FOB Trade Value (US$)</th>\n",
       "      <th>Flag</th>\n",
       "    </tr>\n",
       "  </thead>\n",
       "  <tbody>\n",
       "    <tr>\n",
       "      <th>0</th>\n",
       "      <td>HS</td>\n",
       "      <td>2014</td>\n",
       "      <td>201401</td>\n",
       "      <td>January 2014</td>\n",
       "      <td>4</td>\n",
       "      <td>0</td>\n",
       "      <td>1</td>\n",
       "      <td>Imports</td>\n",
       "      <td>826</td>\n",
       "      <td>United Kingdom</td>\n",
       "      <td>NaN</td>\n",
       "      <td>0</td>\n",
       "      <td>World</td>\n",
       "      <td>NaN</td>\n",
       "      <td>NaN</td>\n",
       "      <td>NaN</td>\n",
       "      <td>NaN</td>\n",
       "      <td>NaN</td>\n",
       "      <td>NaN</td>\n",
       "      <td>NaN</td>\n",
       "      <td>NaN</td>\n",
       "      <td>0401</td>\n",
       "      <td>Milk and cream, neither concentrated nor sweet...</td>\n",
       "      <td>0</td>\n",
       "      <td>NaN</td>\n",
       "      <td>NaN</td>\n",
       "      <td>NaN</td>\n",
       "      <td>NaN</td>\n",
       "      <td>NaN</td>\n",
       "      <td>22404316</td>\n",
       "      <td>NaN</td>\n",
       "      <td>21950747</td>\n",
       "      <td>NaN</td>\n",
       "      <td>NaN</td>\n",
       "      <td>0</td>\n",
       "    </tr>\n",
       "    <tr>\n",
       "      <th>1</th>\n",
       "      <td>HS</td>\n",
       "      <td>2014</td>\n",
       "      <td>201401</td>\n",
       "      <td>January 2014</td>\n",
       "      <td>4</td>\n",
       "      <td>0</td>\n",
       "      <td>2</td>\n",
       "      <td>Exports</td>\n",
       "      <td>826</td>\n",
       "      <td>United Kingdom</td>\n",
       "      <td>NaN</td>\n",
       "      <td>0</td>\n",
       "      <td>World</td>\n",
       "      <td>NaN</td>\n",
       "      <td>NaN</td>\n",
       "      <td>NaN</td>\n",
       "      <td>NaN</td>\n",
       "      <td>NaN</td>\n",
       "      <td>NaN</td>\n",
       "      <td>NaN</td>\n",
       "      <td>NaN</td>\n",
       "      <td>0401</td>\n",
       "      <td>Milk and cream, neither concentrated nor sweet...</td>\n",
       "      <td>0</td>\n",
       "      <td>NaN</td>\n",
       "      <td>NaN</td>\n",
       "      <td>NaN</td>\n",
       "      <td>NaN</td>\n",
       "      <td>NaN</td>\n",
       "      <td>60497363</td>\n",
       "      <td>NaN</td>\n",
       "      <td>46923551</td>\n",
       "      <td>NaN</td>\n",
       "      <td>NaN</td>\n",
       "      <td>0</td>\n",
       "    </tr>\n",
       "  </tbody>\n",
       "</table>\n",
       "</div>"
      ],
      "text/plain": [
       "  Classification  Year  Period  Period Desc.  Aggregate Level  Is Leaf Code  \\\n",
       "0             HS  2014  201401  January 2014                4             0   \n",
       "1             HS  2014  201401  January 2014                4             0   \n",
       "\n",
       "   Trade Flow Code Trade Flow  Reporter Code        Reporter  Reporter ISO  \\\n",
       "0                1    Imports            826  United Kingdom           NaN   \n",
       "1                2    Exports            826  United Kingdom           NaN   \n",
       "\n",
       "   Partner Code Partner  Partner ISO  2nd Partner Code  2nd Partner  \\\n",
       "0             0   World          NaN               NaN          NaN   \n",
       "1             0   World          NaN               NaN          NaN   \n",
       "\n",
       "   2nd Partner ISO  Customs Proc. Code  Customs  Mode of Transport Code  \\\n",
       "0              NaN                 NaN      NaN                     NaN   \n",
       "1              NaN                 NaN      NaN                     NaN   \n",
       "\n",
       "   Mode of Transport Commodity Code  \\\n",
       "0                NaN           0401   \n",
       "1                NaN           0401   \n",
       "\n",
       "                                           Commodity  Qty Unit Code  Qty Unit  \\\n",
       "0  Milk and cream, neither concentrated nor sweet...              0       NaN   \n",
       "1  Milk and cream, neither concentrated nor sweet...              0       NaN   \n",
       "\n",
       "   Qty  Alt Qty Unit Code  Alt Qty Unit  Alt Qty  Netweight (kg)  \\\n",
       "0  NaN                NaN           NaN      NaN        22404316   \n",
       "1  NaN                NaN           NaN      NaN        60497363   \n",
       "\n",
       "   Gross weight (kg)  Trade Value (US$)  CIF Trade Value (US$)  \\\n",
       "0                NaN           21950747                    NaN   \n",
       "1                NaN           46923551                    NaN   \n",
       "\n",
       "   FOB Trade Value (US$)  Flag  \n",
       "0                    NaN     0  \n",
       "1                    NaN     0  "
      ]
     },
     "metadata": {},
     "output_type": "display_data"
    }
   ],
   "source": [
    "data=pd.read_csv('comtrade_milk_uk_monthly_14.csv',dtype={'Commodity Code':str})\n",
    "pd.options.display.max_columns=35\n",
    "display(data.head(2))"
   ]
  },
  {
   "cell_type": "code",
   "execution_count": 3,
   "metadata": {},
   "outputs": [
    {
     "data": {
      "text/plain": [
       "0402    872\n",
       "0401    605\n",
       "Name: Commodity Code, dtype: int64"
      ]
     },
     "execution_count": 3,
     "metadata": {},
     "output_type": "execute_result"
    }
   ],
   "source": [
    "data['Commodity Code'].value_counts()"
   ]
  },
  {
   "cell_type": "code",
   "execution_count": 4,
   "metadata": {},
   "outputs": [
    {
     "data": {
      "text/html": [
       "<div>\n",
       "<style scoped>\n",
       "    .dataframe tbody tr th:only-of-type {\n",
       "        vertical-align: middle;\n",
       "    }\n",
       "\n",
       "    .dataframe tbody tr th {\n",
       "        vertical-align: top;\n",
       "    }\n",
       "\n",
       "    .dataframe thead th {\n",
       "        text-align: right;\n",
       "    }\n",
       "</style>\n",
       "<table border=\"1\" class=\"dataframe\">\n",
       "  <thead>\n",
       "    <tr style=\"text-align: right;\">\n",
       "      <th></th>\n",
       "      <th>count</th>\n",
       "      <th>mean</th>\n",
       "      <th>std</th>\n",
       "      <th>min</th>\n",
       "      <th>25%</th>\n",
       "      <th>50%</th>\n",
       "      <th>75%</th>\n",
       "      <th>max</th>\n",
       "    </tr>\n",
       "  </thead>\n",
       "  <tbody>\n",
       "    <tr>\n",
       "      <th>Year</th>\n",
       "      <td>1477.0</td>\n",
       "      <td>2.014000e+03</td>\n",
       "      <td>0.000000e+00</td>\n",
       "      <td>2014.0</td>\n",
       "      <td>2014.0</td>\n",
       "      <td>2014.0</td>\n",
       "      <td>2014.0</td>\n",
       "      <td>2014.0</td>\n",
       "    </tr>\n",
       "    <tr>\n",
       "      <th>Period</th>\n",
       "      <td>1477.0</td>\n",
       "      <td>2.014066e+05</td>\n",
       "      <td>3.461807e+00</td>\n",
       "      <td>201401.0</td>\n",
       "      <td>201404.0</td>\n",
       "      <td>201407.0</td>\n",
       "      <td>201410.0</td>\n",
       "      <td>201412.0</td>\n",
       "    </tr>\n",
       "    <tr>\n",
       "      <th>Aggregate Level</th>\n",
       "      <td>1477.0</td>\n",
       "      <td>4.000000e+00</td>\n",
       "      <td>0.000000e+00</td>\n",
       "      <td>4.0</td>\n",
       "      <td>4.0</td>\n",
       "      <td>4.0</td>\n",
       "      <td>4.0</td>\n",
       "      <td>4.0</td>\n",
       "    </tr>\n",
       "    <tr>\n",
       "      <th>Is Leaf Code</th>\n",
       "      <td>1477.0</td>\n",
       "      <td>0.000000e+00</td>\n",
       "      <td>0.000000e+00</td>\n",
       "      <td>0.0</td>\n",
       "      <td>0.0</td>\n",
       "      <td>0.0</td>\n",
       "      <td>0.0</td>\n",
       "      <td>0.0</td>\n",
       "    </tr>\n",
       "    <tr>\n",
       "      <th>Trade Flow Code</th>\n",
       "      <td>1477.0</td>\n",
       "      <td>1.756940e+00</td>\n",
       "      <td>4.290765e-01</td>\n",
       "      <td>1.0</td>\n",
       "      <td>2.0</td>\n",
       "      <td>2.0</td>\n",
       "      <td>2.0</td>\n",
       "      <td>2.0</td>\n",
       "    </tr>\n",
       "    <tr>\n",
       "      <th>Reporter Code</th>\n",
       "      <td>1477.0</td>\n",
       "      <td>8.260000e+02</td>\n",
       "      <td>0.000000e+00</td>\n",
       "      <td>826.0</td>\n",
       "      <td>826.0</td>\n",
       "      <td>826.0</td>\n",
       "      <td>826.0</td>\n",
       "      <td>826.0</td>\n",
       "    </tr>\n",
       "    <tr>\n",
       "      <th>Reporter ISO</th>\n",
       "      <td>0.0</td>\n",
       "      <td>NaN</td>\n",
       "      <td>NaN</td>\n",
       "      <td>NaN</td>\n",
       "      <td>NaN</td>\n",
       "      <td>NaN</td>\n",
       "      <td>NaN</td>\n",
       "      <td>NaN</td>\n",
       "    </tr>\n",
       "    <tr>\n",
       "      <th>Partner Code</th>\n",
       "      <td>1477.0</td>\n",
       "      <td>4.039655e+02</td>\n",
       "      <td>2.418716e+02</td>\n",
       "      <td>0.0</td>\n",
       "      <td>208.0</td>\n",
       "      <td>381.0</td>\n",
       "      <td>620.0</td>\n",
       "      <td>887.0</td>\n",
       "    </tr>\n",
       "    <tr>\n",
       "      <th>Partner ISO</th>\n",
       "      <td>0.0</td>\n",
       "      <td>NaN</td>\n",
       "      <td>NaN</td>\n",
       "      <td>NaN</td>\n",
       "      <td>NaN</td>\n",
       "      <td>NaN</td>\n",
       "      <td>NaN</td>\n",
       "      <td>NaN</td>\n",
       "    </tr>\n",
       "    <tr>\n",
       "      <th>2nd Partner Code</th>\n",
       "      <td>0.0</td>\n",
       "      <td>NaN</td>\n",
       "      <td>NaN</td>\n",
       "      <td>NaN</td>\n",
       "      <td>NaN</td>\n",
       "      <td>NaN</td>\n",
       "      <td>NaN</td>\n",
       "      <td>NaN</td>\n",
       "    </tr>\n",
       "    <tr>\n",
       "      <th>2nd Partner</th>\n",
       "      <td>0.0</td>\n",
       "      <td>NaN</td>\n",
       "      <td>NaN</td>\n",
       "      <td>NaN</td>\n",
       "      <td>NaN</td>\n",
       "      <td>NaN</td>\n",
       "      <td>NaN</td>\n",
       "      <td>NaN</td>\n",
       "    </tr>\n",
       "    <tr>\n",
       "      <th>2nd Partner ISO</th>\n",
       "      <td>0.0</td>\n",
       "      <td>NaN</td>\n",
       "      <td>NaN</td>\n",
       "      <td>NaN</td>\n",
       "      <td>NaN</td>\n",
       "      <td>NaN</td>\n",
       "      <td>NaN</td>\n",
       "      <td>NaN</td>\n",
       "    </tr>\n",
       "    <tr>\n",
       "      <th>Customs Proc. Code</th>\n",
       "      <td>0.0</td>\n",
       "      <td>NaN</td>\n",
       "      <td>NaN</td>\n",
       "      <td>NaN</td>\n",
       "      <td>NaN</td>\n",
       "      <td>NaN</td>\n",
       "      <td>NaN</td>\n",
       "      <td>NaN</td>\n",
       "    </tr>\n",
       "    <tr>\n",
       "      <th>Customs</th>\n",
       "      <td>0.0</td>\n",
       "      <td>NaN</td>\n",
       "      <td>NaN</td>\n",
       "      <td>NaN</td>\n",
       "      <td>NaN</td>\n",
       "      <td>NaN</td>\n",
       "      <td>NaN</td>\n",
       "      <td>NaN</td>\n",
       "    </tr>\n",
       "    <tr>\n",
       "      <th>Mode of Transport Code</th>\n",
       "      <td>0.0</td>\n",
       "      <td>NaN</td>\n",
       "      <td>NaN</td>\n",
       "      <td>NaN</td>\n",
       "      <td>NaN</td>\n",
       "      <td>NaN</td>\n",
       "      <td>NaN</td>\n",
       "      <td>NaN</td>\n",
       "    </tr>\n",
       "    <tr>\n",
       "      <th>Mode of Transport</th>\n",
       "      <td>0.0</td>\n",
       "      <td>NaN</td>\n",
       "      <td>NaN</td>\n",
       "      <td>NaN</td>\n",
       "      <td>NaN</td>\n",
       "      <td>NaN</td>\n",
       "      <td>NaN</td>\n",
       "      <td>NaN</td>\n",
       "    </tr>\n",
       "    <tr>\n",
       "      <th>Qty Unit Code</th>\n",
       "      <td>1477.0</td>\n",
       "      <td>0.000000e+00</td>\n",
       "      <td>0.000000e+00</td>\n",
       "      <td>0.0</td>\n",
       "      <td>0.0</td>\n",
       "      <td>0.0</td>\n",
       "      <td>0.0</td>\n",
       "      <td>0.0</td>\n",
       "    </tr>\n",
       "    <tr>\n",
       "      <th>Qty Unit</th>\n",
       "      <td>0.0</td>\n",
       "      <td>NaN</td>\n",
       "      <td>NaN</td>\n",
       "      <td>NaN</td>\n",
       "      <td>NaN</td>\n",
       "      <td>NaN</td>\n",
       "      <td>NaN</td>\n",
       "      <td>NaN</td>\n",
       "    </tr>\n",
       "    <tr>\n",
       "      <th>Qty</th>\n",
       "      <td>0.0</td>\n",
       "      <td>NaN</td>\n",
       "      <td>NaN</td>\n",
       "      <td>NaN</td>\n",
       "      <td>NaN</td>\n",
       "      <td>NaN</td>\n",
       "      <td>NaN</td>\n",
       "      <td>NaN</td>\n",
       "    </tr>\n",
       "    <tr>\n",
       "      <th>Alt Qty Unit Code</th>\n",
       "      <td>0.0</td>\n",
       "      <td>NaN</td>\n",
       "      <td>NaN</td>\n",
       "      <td>NaN</td>\n",
       "      <td>NaN</td>\n",
       "      <td>NaN</td>\n",
       "      <td>NaN</td>\n",
       "      <td>NaN</td>\n",
       "    </tr>\n",
       "    <tr>\n",
       "      <th>Alt Qty Unit</th>\n",
       "      <td>0.0</td>\n",
       "      <td>NaN</td>\n",
       "      <td>NaN</td>\n",
       "      <td>NaN</td>\n",
       "      <td>NaN</td>\n",
       "      <td>NaN</td>\n",
       "      <td>NaN</td>\n",
       "      <td>NaN</td>\n",
       "    </tr>\n",
       "    <tr>\n",
       "      <th>Alt Qty</th>\n",
       "      <td>0.0</td>\n",
       "      <td>NaN</td>\n",
       "      <td>NaN</td>\n",
       "      <td>NaN</td>\n",
       "      <td>NaN</td>\n",
       "      <td>NaN</td>\n",
       "      <td>NaN</td>\n",
       "      <td>NaN</td>\n",
       "    </tr>\n",
       "    <tr>\n",
       "      <th>Netweight (kg)</th>\n",
       "      <td>1477.0</td>\n",
       "      <td>1.515720e+06</td>\n",
       "      <td>6.964355e+06</td>\n",
       "      <td>1.0</td>\n",
       "      <td>1691.0</td>\n",
       "      <td>25000.0</td>\n",
       "      <td>260098.0</td>\n",
       "      <td>62144559.0</td>\n",
       "    </tr>\n",
       "    <tr>\n",
       "      <th>Gross weight (kg)</th>\n",
       "      <td>0.0</td>\n",
       "      <td>NaN</td>\n",
       "      <td>NaN</td>\n",
       "      <td>NaN</td>\n",
       "      <td>NaN</td>\n",
       "      <td>NaN</td>\n",
       "      <td>NaN</td>\n",
       "      <td>NaN</td>\n",
       "    </tr>\n",
       "    <tr>\n",
       "      <th>Trade Value (US$)</th>\n",
       "      <td>1477.0</td>\n",
       "      <td>1.980416e+06</td>\n",
       "      <td>6.352015e+06</td>\n",
       "      <td>2.0</td>\n",
       "      <td>6572.0</td>\n",
       "      <td>93210.0</td>\n",
       "      <td>819095.0</td>\n",
       "      <td>59594101.0</td>\n",
       "    </tr>\n",
       "    <tr>\n",
       "      <th>CIF Trade Value (US$)</th>\n",
       "      <td>0.0</td>\n",
       "      <td>NaN</td>\n",
       "      <td>NaN</td>\n",
       "      <td>NaN</td>\n",
       "      <td>NaN</td>\n",
       "      <td>NaN</td>\n",
       "      <td>NaN</td>\n",
       "      <td>NaN</td>\n",
       "    </tr>\n",
       "    <tr>\n",
       "      <th>FOB Trade Value (US$)</th>\n",
       "      <td>0.0</td>\n",
       "      <td>NaN</td>\n",
       "      <td>NaN</td>\n",
       "      <td>NaN</td>\n",
       "      <td>NaN</td>\n",
       "      <td>NaN</td>\n",
       "      <td>NaN</td>\n",
       "      <td>NaN</td>\n",
       "    </tr>\n",
       "    <tr>\n",
       "      <th>Flag</th>\n",
       "      <td>1477.0</td>\n",
       "      <td>0.000000e+00</td>\n",
       "      <td>0.000000e+00</td>\n",
       "      <td>0.0</td>\n",
       "      <td>0.0</td>\n",
       "      <td>0.0</td>\n",
       "      <td>0.0</td>\n",
       "      <td>0.0</td>\n",
       "    </tr>\n",
       "  </tbody>\n",
       "</table>\n",
       "</div>"
      ],
      "text/plain": [
       "                         count          mean           std       min  \\\n",
       "Year                    1477.0  2.014000e+03  0.000000e+00    2014.0   \n",
       "Period                  1477.0  2.014066e+05  3.461807e+00  201401.0   \n",
       "Aggregate Level         1477.0  4.000000e+00  0.000000e+00       4.0   \n",
       "Is Leaf Code            1477.0  0.000000e+00  0.000000e+00       0.0   \n",
       "Trade Flow Code         1477.0  1.756940e+00  4.290765e-01       1.0   \n",
       "Reporter Code           1477.0  8.260000e+02  0.000000e+00     826.0   \n",
       "Reporter ISO               0.0           NaN           NaN       NaN   \n",
       "Partner Code            1477.0  4.039655e+02  2.418716e+02       0.0   \n",
       "Partner ISO                0.0           NaN           NaN       NaN   \n",
       "2nd Partner Code           0.0           NaN           NaN       NaN   \n",
       "2nd Partner                0.0           NaN           NaN       NaN   \n",
       "2nd Partner ISO            0.0           NaN           NaN       NaN   \n",
       "Customs Proc. Code         0.0           NaN           NaN       NaN   \n",
       "Customs                    0.0           NaN           NaN       NaN   \n",
       "Mode of Transport Code     0.0           NaN           NaN       NaN   \n",
       "Mode of Transport          0.0           NaN           NaN       NaN   \n",
       "Qty Unit Code           1477.0  0.000000e+00  0.000000e+00       0.0   \n",
       "Qty Unit                   0.0           NaN           NaN       NaN   \n",
       "Qty                        0.0           NaN           NaN       NaN   \n",
       "Alt Qty Unit Code          0.0           NaN           NaN       NaN   \n",
       "Alt Qty Unit               0.0           NaN           NaN       NaN   \n",
       "Alt Qty                    0.0           NaN           NaN       NaN   \n",
       "Netweight (kg)          1477.0  1.515720e+06  6.964355e+06       1.0   \n",
       "Gross weight (kg)          0.0           NaN           NaN       NaN   \n",
       "Trade Value (US$)       1477.0  1.980416e+06  6.352015e+06       2.0   \n",
       "CIF Trade Value (US$)      0.0           NaN           NaN       NaN   \n",
       "FOB Trade Value (US$)      0.0           NaN           NaN       NaN   \n",
       "Flag                    1477.0  0.000000e+00  0.000000e+00       0.0   \n",
       "\n",
       "                             25%       50%       75%         max  \n",
       "Year                      2014.0    2014.0    2014.0      2014.0  \n",
       "Period                  201404.0  201407.0  201410.0    201412.0  \n",
       "Aggregate Level              4.0       4.0       4.0         4.0  \n",
       "Is Leaf Code                 0.0       0.0       0.0         0.0  \n",
       "Trade Flow Code              2.0       2.0       2.0         2.0  \n",
       "Reporter Code              826.0     826.0     826.0       826.0  \n",
       "Reporter ISO                 NaN       NaN       NaN         NaN  \n",
       "Partner Code               208.0     381.0     620.0       887.0  \n",
       "Partner ISO                  NaN       NaN       NaN         NaN  \n",
       "2nd Partner Code             NaN       NaN       NaN         NaN  \n",
       "2nd Partner                  NaN       NaN       NaN         NaN  \n",
       "2nd Partner ISO              NaN       NaN       NaN         NaN  \n",
       "Customs Proc. Code           NaN       NaN       NaN         NaN  \n",
       "Customs                      NaN       NaN       NaN         NaN  \n",
       "Mode of Transport Code       NaN       NaN       NaN         NaN  \n",
       "Mode of Transport            NaN       NaN       NaN         NaN  \n",
       "Qty Unit Code                0.0       0.0       0.0         0.0  \n",
       "Qty Unit                     NaN       NaN       NaN         NaN  \n",
       "Qty                          NaN       NaN       NaN         NaN  \n",
       "Alt Qty Unit Code            NaN       NaN       NaN         NaN  \n",
       "Alt Qty Unit                 NaN       NaN       NaN         NaN  \n",
       "Alt Qty                      NaN       NaN       NaN         NaN  \n",
       "Netweight (kg)            1691.0   25000.0  260098.0  62144559.0  \n",
       "Gross weight (kg)            NaN       NaN       NaN         NaN  \n",
       "Trade Value (US$)         6572.0   93210.0  819095.0  59594101.0  \n",
       "CIF Trade Value (US$)        NaN       NaN       NaN         NaN  \n",
       "FOB Trade Value (US$)        NaN       NaN       NaN         NaN  \n",
       "Flag                         0.0       0.0       0.0         0.0  "
      ]
     },
     "execution_count": 4,
     "metadata": {},
     "output_type": "execute_result"
    }
   ],
   "source": [
    "data.describe().T"
   ]
  },
  {
   "cell_type": "code",
   "execution_count": 5,
   "metadata": {},
   "outputs": [],
   "source": [
    "def milk_type(code):\n",
    "    if code=='0401':\n",
    "        return 'unprocessed'\n",
    "    if code=='0402':\n",
    "        return 'processed'\n",
    "    return 'unknown'\n"
   ]
  },
  {
   "cell_type": "code",
   "execution_count": 6,
   "metadata": {},
   "outputs": [],
   "source": [
    "commodity= 'Milk and Cream'\n",
    "data[commodity]=data['Commodity Code'].apply(milk_type)"
   ]
  },
  {
   "cell_type": "code",
   "execution_count": 7,
   "metadata": {},
   "outputs": [
    {
     "data": {
      "text/plain": [
       "processed      872\n",
       "unprocessed    605\n",
       "Name: Milk and Cream, dtype: int64"
      ]
     },
     "execution_count": 7,
     "metadata": {},
     "output_type": "execute_result"
    }
   ],
   "source": [
    "data['Milk and Cream'].value_counts()"
   ]
  },
  {
   "cell_type": "code",
   "execution_count": 8,
   "metadata": {},
   "outputs": [
    {
     "data": {
      "text/html": [
       "<div>\n",
       "<style scoped>\n",
       "    .dataframe tbody tr th:only-of-type {\n",
       "        vertical-align: middle;\n",
       "    }\n",
       "\n",
       "    .dataframe tbody tr th {\n",
       "        vertical-align: top;\n",
       "    }\n",
       "\n",
       "    .dataframe thead th {\n",
       "        text-align: right;\n",
       "    }\n",
       "</style>\n",
       "<table border=\"1\" class=\"dataframe\">\n",
       "  <thead>\n",
       "    <tr style=\"text-align: right;\">\n",
       "      <th></th>\n",
       "      <th>Period</th>\n",
       "      <th>Partner</th>\n",
       "      <th>Milk and Cream</th>\n",
       "      <th>Trade Flow</th>\n",
       "      <th>Trade Value (US$)</th>\n",
       "    </tr>\n",
       "  </thead>\n",
       "  <tbody>\n",
       "    <tr>\n",
       "      <th>1472</th>\n",
       "      <td>201412</td>\n",
       "      <td>United Arab Emirates</td>\n",
       "      <td>processed</td>\n",
       "      <td>Exports</td>\n",
       "      <td>146102</td>\n",
       "    </tr>\n",
       "    <tr>\n",
       "      <th>1473</th>\n",
       "      <td>201412</td>\n",
       "      <td>Egypt</td>\n",
       "      <td>processed</td>\n",
       "      <td>Exports</td>\n",
       "      <td>965871</td>\n",
       "    </tr>\n",
       "    <tr>\n",
       "      <th>1474</th>\n",
       "      <td>201412</td>\n",
       "      <td>United States of America</td>\n",
       "      <td>processed</td>\n",
       "      <td>Exports</td>\n",
       "      <td>1757</td>\n",
       "    </tr>\n",
       "    <tr>\n",
       "      <th>1475</th>\n",
       "      <td>201412</td>\n",
       "      <td>Burkina Faso</td>\n",
       "      <td>processed</td>\n",
       "      <td>Exports</td>\n",
       "      <td>395844</td>\n",
       "    </tr>\n",
       "    <tr>\n",
       "      <th>1476</th>\n",
       "      <td>201412</td>\n",
       "      <td>Yemen</td>\n",
       "      <td>processed</td>\n",
       "      <td>Exports</td>\n",
       "      <td>261734</td>\n",
       "    </tr>\n",
       "  </tbody>\n",
       "</table>\n",
       "</div>"
      ],
      "text/plain": [
       "      Period                   Partner Milk and Cream Trade Flow  \\\n",
       "1472  201412      United Arab Emirates      processed    Exports   \n",
       "1473  201412                     Egypt      processed    Exports   \n",
       "1474  201412  United States of America      processed    Exports   \n",
       "1475  201412              Burkina Faso      processed    Exports   \n",
       "1476  201412                     Yemen      processed    Exports   \n",
       "\n",
       "      Trade Value (US$)  \n",
       "1472             146102  \n",
       "1473             965871  \n",
       "1474               1757  \n",
       "1475             395844  \n",
       "1476             261734  "
      ]
     },
     "execution_count": 8,
     "metadata": {},
     "output_type": "execute_result"
    }
   ],
   "source": [
    "data_new=pd.DataFrame(data,columns=['Period','Partner','Milk and Cream','Trade Flow','Trade Value (US$)'])\n",
    "data_new.tail(5)"
   ]
  },
  {
   "cell_type": "markdown",
   "metadata": {},
   "source": [
    "## Question 1"
   ]
  },
  {
   "cell_type": "markdown",
   "metadata": {},
   "source": [
    "### How much does the UK export and import and is the balance positive (more exports than imports)? \n"
   ]
  },
  {
   "cell_type": "code",
   "execution_count": 9,
   "metadata": {},
   "outputs": [
    {
     "data": {
      "text/plain": [
       "Exports    1118\n",
       "Imports     359\n",
       "Name: Trade Flow, dtype: int64"
      ]
     },
     "execution_count": 9,
     "metadata": {},
     "output_type": "execute_result"
    }
   ],
   "source": [
    "data_new['Trade Flow'].value_counts()"
   ]
  },
  {
   "cell_type": "code",
   "execution_count": 10,
   "metadata": {},
   "outputs": [
    {
     "name": "stdout",
     "output_type": "stream",
     "text": [
      "(1477, 5)\n"
     ]
    },
    {
     "data": {
      "text/html": [
       "<div>\n",
       "<style scoped>\n",
       "    .dataframe tbody tr th:only-of-type {\n",
       "        vertical-align: middle;\n",
       "    }\n",
       "\n",
       "    .dataframe tbody tr th {\n",
       "        vertical-align: top;\n",
       "    }\n",
       "\n",
       "    .dataframe thead th {\n",
       "        text-align: right;\n",
       "    }\n",
       "</style>\n",
       "<table border=\"1\" class=\"dataframe\">\n",
       "  <thead>\n",
       "    <tr style=\"text-align: right;\">\n",
       "      <th></th>\n",
       "      <th>Period</th>\n",
       "      <th>Partner</th>\n",
       "      <th>Milk and Cream</th>\n",
       "      <th>Trade Flow</th>\n",
       "      <th>Trade Value (US$)</th>\n",
       "    </tr>\n",
       "  </thead>\n",
       "  <tbody>\n",
       "    <tr>\n",
       "      <th>0</th>\n",
       "      <td>201401</td>\n",
       "      <td>World</td>\n",
       "      <td>unprocessed</td>\n",
       "      <td>Imports</td>\n",
       "      <td>21950747</td>\n",
       "    </tr>\n",
       "    <tr>\n",
       "      <th>1</th>\n",
       "      <td>201401</td>\n",
       "      <td>World</td>\n",
       "      <td>unprocessed</td>\n",
       "      <td>Exports</td>\n",
       "      <td>46923551</td>\n",
       "    </tr>\n",
       "    <tr>\n",
       "      <th>2</th>\n",
       "      <td>201401</td>\n",
       "      <td>Afghanistan</td>\n",
       "      <td>unprocessed</td>\n",
       "      <td>Exports</td>\n",
       "      <td>3410</td>\n",
       "    </tr>\n",
       "    <tr>\n",
       "      <th>3</th>\n",
       "      <td>201401</td>\n",
       "      <td>Austria</td>\n",
       "      <td>unprocessed</td>\n",
       "      <td>Exports</td>\n",
       "      <td>316</td>\n",
       "    </tr>\n",
       "    <tr>\n",
       "      <th>4</th>\n",
       "      <td>201401</td>\n",
       "      <td>Belgium</td>\n",
       "      <td>unprocessed</td>\n",
       "      <td>Imports</td>\n",
       "      <td>4472349</td>\n",
       "    </tr>\n",
       "  </tbody>\n",
       "</table>\n",
       "</div>"
      ],
      "text/plain": [
       "   Period      Partner Milk and Cream Trade Flow  Trade Value (US$)\n",
       "0  201401        World    unprocessed    Imports           21950747\n",
       "1  201401        World    unprocessed    Exports           46923551\n",
       "2  201401  Afghanistan    unprocessed    Exports               3410\n",
       "3  201401      Austria    unprocessed    Exports                316\n",
       "4  201401      Belgium    unprocessed    Imports            4472349"
      ]
     },
     "execution_count": 10,
     "metadata": {},
     "output_type": "execute_result"
    }
   ],
   "source": [
    "print(data_new.shape)\n",
    "data_new.head()"
   ]
  },
  {
   "cell_type": "code",
   "execution_count": 11,
   "metadata": {},
   "outputs": [],
   "source": [
    "# data_new.Partner.value_counts()"
   ]
  },
  {
   "cell_type": "code",
   "execution_count": 12,
   "metadata": {},
   "outputs": [
    {
     "data": {
      "text/plain": [
       "(1429, 5)"
      ]
     },
     "execution_count": 12,
     "metadata": {},
     "output_type": "execute_result"
    }
   ],
   "source": [
    "data_new=data_new[data_new['Partner']!='World']\n",
    "data_new.shape"
   ]
  },
  {
   "cell_type": "code",
   "execution_count": 13,
   "metadata": {},
   "outputs": [
    {
     "data": {
      "text/html": [
       "<div>\n",
       "<style scoped>\n",
       "    .dataframe tbody tr th:only-of-type {\n",
       "        vertical-align: middle;\n",
       "    }\n",
       "\n",
       "    .dataframe tbody tr th {\n",
       "        vertical-align: top;\n",
       "    }\n",
       "\n",
       "    .dataframe thead th {\n",
       "        text-align: right;\n",
       "    }\n",
       "</style>\n",
       "<table border=\"1\" class=\"dataframe\">\n",
       "  <thead>\n",
       "    <tr style=\"text-align: right;\">\n",
       "      <th></th>\n",
       "      <th>Trade Value (US$)</th>\n",
       "    </tr>\n",
       "    <tr>\n",
       "      <th>Trade Flow</th>\n",
       "      <th></th>\n",
       "    </tr>\n",
       "  </thead>\n",
       "  <tbody>\n",
       "    <tr>\n",
       "      <th>Exports</th>\n",
       "      <td>898651935</td>\n",
       "    </tr>\n",
       "    <tr>\n",
       "      <th>Imports</th>\n",
       "      <td>563884942</td>\n",
       "    </tr>\n",
       "  </tbody>\n",
       "</table>\n",
       "</div>"
      ],
      "text/plain": [
       "            Trade Value (US$)\n",
       "Trade Flow                   \n",
       "Exports             898651935\n",
       "Imports             563884942"
      ]
     },
     "execution_count": 13,
     "metadata": {},
     "output_type": "execute_result"
    }
   ],
   "source": [
    "grouped_data=data_new.groupby(\"Trade Flow\")\n",
    "export_import=pd.DataFrame(grouped_data['Trade Value (US$)'].aggregate(sum))\n",
    "export_import"
   ]
  },
  {
   "cell_type": "code",
   "execution_count": 14,
   "metadata": {},
   "outputs": [
    {
     "name": "stdout",
     "output_type": "stream",
     "text": [
      "The difference between exports and imports is $334766993\n"
     ]
    }
   ],
   "source": [
    "difference=export_import['Trade Value (US$)'][0]-export_import['Trade Value (US$)'][1]\n",
    "print(f'The difference between exports and imports is ${difference}')"
   ]
  },
  {
   "cell_type": "markdown",
   "metadata": {},
   "source": [
    "We see here that there are more exports than imports worth $334766993"
   ]
  },
  {
   "cell_type": "markdown",
   "metadata": {},
   "source": [
    "<b><i>Answer to question 1:</i><br>\n",
    "\n",
    "Hence, the UK exports <i>$898651935 and imports $563884942</i> with a positive differnce of $334766993</b>"
   ]
  },
  {
   "cell_type": "markdown",
   "metadata": {},
   "source": [
    "## Question 2"
   ]
  },
  {
   "cell_type": "markdown",
   "metadata": {},
   "source": [
    "#### Which are the main trading partners, i.e. from/to which countries does the UK import/export the most?\n"
   ]
  },
  {
   "cell_type": "markdown",
   "metadata": {},
   "source": [
    "##### Imports"
   ]
  },
  {
   "cell_type": "code",
   "execution_count": 15,
   "metadata": {
    "scrolled": true
   },
   "outputs": [
    {
     "name": "stdout",
     "output_type": "stream",
     "text": [
      "(335, 5)\n"
     ]
    },
    {
     "data": {
      "text/html": [
       "<div>\n",
       "<style scoped>\n",
       "    .dataframe tbody tr th:only-of-type {\n",
       "        vertical-align: middle;\n",
       "    }\n",
       "\n",
       "    .dataframe tbody tr th {\n",
       "        vertical-align: top;\n",
       "    }\n",
       "\n",
       "    .dataframe thead th {\n",
       "        text-align: right;\n",
       "    }\n",
       "</style>\n",
       "<table border=\"1\" class=\"dataframe\">\n",
       "  <thead>\n",
       "    <tr style=\"text-align: right;\">\n",
       "      <th></th>\n",
       "      <th>Period</th>\n",
       "      <th>Partner</th>\n",
       "      <th>Milk and Cream</th>\n",
       "      <th>Trade Flow</th>\n",
       "      <th>Trade Value (US$)</th>\n",
       "    </tr>\n",
       "  </thead>\n",
       "  <tbody>\n",
       "    <tr>\n",
       "      <th>4</th>\n",
       "      <td>201401</td>\n",
       "      <td>Belgium</td>\n",
       "      <td>unprocessed</td>\n",
       "      <td>Imports</td>\n",
       "      <td>4472349</td>\n",
       "    </tr>\n",
       "    <tr>\n",
       "      <th>10</th>\n",
       "      <td>201401</td>\n",
       "      <td>Denmark</td>\n",
       "      <td>unprocessed</td>\n",
       "      <td>Imports</td>\n",
       "      <td>2233438</td>\n",
       "    </tr>\n",
       "    <tr>\n",
       "      <th>15</th>\n",
       "      <td>201401</td>\n",
       "      <td>France</td>\n",
       "      <td>unprocessed</td>\n",
       "      <td>Imports</td>\n",
       "      <td>1522872</td>\n",
       "    </tr>\n",
       "    <tr>\n",
       "      <th>17</th>\n",
       "      <td>201401</td>\n",
       "      <td>Germany</td>\n",
       "      <td>unprocessed</td>\n",
       "      <td>Imports</td>\n",
       "      <td>1028700</td>\n",
       "    </tr>\n",
       "    <tr>\n",
       "      <th>23</th>\n",
       "      <td>201401</td>\n",
       "      <td>Ireland</td>\n",
       "      <td>unprocessed</td>\n",
       "      <td>Imports</td>\n",
       "      <td>10676138</td>\n",
       "    </tr>\n",
       "  </tbody>\n",
       "</table>\n",
       "</div>"
      ],
      "text/plain": [
       "    Period  Partner Milk and Cream Trade Flow  Trade Value (US$)\n",
       "4   201401  Belgium    unprocessed    Imports            4472349\n",
       "10  201401  Denmark    unprocessed    Imports            2233438\n",
       "15  201401   France    unprocessed    Imports            1522872\n",
       "17  201401  Germany    unprocessed    Imports            1028700\n",
       "23  201401  Ireland    unprocessed    Imports           10676138"
      ]
     },
     "execution_count": 15,
     "metadata": {},
     "output_type": "execute_result"
    }
   ],
   "source": [
    "imports=data_new[data_new['Trade Flow']=='Imports']\n",
    "print(imports.shape)\n",
    "imports.head()"
   ]
  },
  {
   "cell_type": "code",
   "execution_count": 16,
   "metadata": {},
   "outputs": [
    {
     "data": {
      "text/html": [
       "<div>\n",
       "<style scoped>\n",
       "    .dataframe tbody tr th:only-of-type {\n",
       "        vertical-align: middle;\n",
       "    }\n",
       "\n",
       "    .dataframe tbody tr th {\n",
       "        vertical-align: top;\n",
       "    }\n",
       "\n",
       "    .dataframe thead th {\n",
       "        text-align: right;\n",
       "    }\n",
       "</style>\n",
       "<table border=\"1\" class=\"dataframe\">\n",
       "  <thead>\n",
       "    <tr style=\"text-align: right;\">\n",
       "      <th></th>\n",
       "      <th>Period</th>\n",
       "      <th>Partner</th>\n",
       "      <th>Milk and Cream</th>\n",
       "      <th>Trade Flow</th>\n",
       "      <th>Trade Value (US$)</th>\n",
       "    </tr>\n",
       "  </thead>\n",
       "  <tbody>\n",
       "    <tr>\n",
       "      <th>4</th>\n",
       "      <td>201401</td>\n",
       "      <td>Belgium</td>\n",
       "      <td>unprocessed</td>\n",
       "      <td>Imports</td>\n",
       "      <td>4472349</td>\n",
       "    </tr>\n",
       "    <tr>\n",
       "      <th>10</th>\n",
       "      <td>201401</td>\n",
       "      <td>Denmark</td>\n",
       "      <td>unprocessed</td>\n",
       "      <td>Imports</td>\n",
       "      <td>2233438</td>\n",
       "    </tr>\n",
       "    <tr>\n",
       "      <th>15</th>\n",
       "      <td>201401</td>\n",
       "      <td>France</td>\n",
       "      <td>unprocessed</td>\n",
       "      <td>Imports</td>\n",
       "      <td>1522872</td>\n",
       "    </tr>\n",
       "    <tr>\n",
       "      <th>17</th>\n",
       "      <td>201401</td>\n",
       "      <td>Germany</td>\n",
       "      <td>unprocessed</td>\n",
       "      <td>Imports</td>\n",
       "      <td>1028700</td>\n",
       "    </tr>\n",
       "    <tr>\n",
       "      <th>23</th>\n",
       "      <td>201401</td>\n",
       "      <td>Ireland</td>\n",
       "      <td>unprocessed</td>\n",
       "      <td>Imports</td>\n",
       "      <td>10676138</td>\n",
       "    </tr>\n",
       "    <tr>\n",
       "      <th>...</th>\n",
       "      <td>...</td>\n",
       "      <td>...</td>\n",
       "      <td>...</td>\n",
       "      <td>...</td>\n",
       "      <td>...</td>\n",
       "    </tr>\n",
       "    <tr>\n",
       "      <th>1175</th>\n",
       "      <td>201409</td>\n",
       "      <td>Austria</td>\n",
       "      <td>processed</td>\n",
       "      <td>Imports</td>\n",
       "      <td>230809</td>\n",
       "    </tr>\n",
       "    <tr>\n",
       "      <th>1201</th>\n",
       "      <td>201409</td>\n",
       "      <td>Hungary</td>\n",
       "      <td>processed</td>\n",
       "      <td>Imports</td>\n",
       "      <td>284</td>\n",
       "    </tr>\n",
       "    <tr>\n",
       "      <th>1251</th>\n",
       "      <td>201410</td>\n",
       "      <td>Austria</td>\n",
       "      <td>processed</td>\n",
       "      <td>Imports</td>\n",
       "      <td>423018</td>\n",
       "    </tr>\n",
       "    <tr>\n",
       "      <th>1291</th>\n",
       "      <td>201410</td>\n",
       "      <td>Latvia</td>\n",
       "      <td>processed</td>\n",
       "      <td>Imports</td>\n",
       "      <td>432</td>\n",
       "    </tr>\n",
       "    <tr>\n",
       "      <th>1336</th>\n",
       "      <td>201411</td>\n",
       "      <td>Austria</td>\n",
       "      <td>processed</td>\n",
       "      <td>Imports</td>\n",
       "      <td>144989</td>\n",
       "    </tr>\n",
       "  </tbody>\n",
       "</table>\n",
       "<p>101 rows × 5 columns</p>\n",
       "</div>"
      ],
      "text/plain": [
       "      Period  Partner Milk and Cream Trade Flow  Trade Value (US$)\n",
       "4     201401  Belgium    unprocessed    Imports            4472349\n",
       "10    201401  Denmark    unprocessed    Imports            2233438\n",
       "15    201401   France    unprocessed    Imports            1522872\n",
       "17    201401  Germany    unprocessed    Imports            1028700\n",
       "23    201401  Ireland    unprocessed    Imports           10676138\n",
       "...      ...      ...            ...        ...                ...\n",
       "1175  201409  Austria      processed    Imports             230809\n",
       "1201  201409  Hungary      processed    Imports                284\n",
       "1251  201410  Austria      processed    Imports             423018\n",
       "1291  201410   Latvia      processed    Imports                432\n",
       "1336  201411  Austria      processed    Imports             144989\n",
       "\n",
       "[101 rows x 5 columns]"
      ]
     },
     "execution_count": 16,
     "metadata": {},
     "output_type": "execute_result"
    }
   ],
   "source": [
    "grouped_import=imports.groupby('Partner')\n",
    "grouped_import.head()"
   ]
  },
  {
   "cell_type": "code",
   "execution_count": 17,
   "metadata": {},
   "outputs": [
    {
     "data": {
      "text/plain": [
       "Partner\n",
       "Ireland        174315886\n",
       "France         105008176\n",
       "Germany         76612700\n",
       "Netherlands     72209235\n",
       "Belgium         58338745\n",
       "Name: Trade Value (US$), dtype: int64"
      ]
     },
     "execution_count": 17,
     "metadata": {},
     "output_type": "execute_result"
    }
   ],
   "source": [
    "total_imports=grouped_import['Trade Value (US$)'].aggregate(sum).sort_values(inplace=False,ascending=False)\n",
    "total_imports.head()"
   ]
  },
  {
   "cell_type": "code",
   "execution_count": 19,
   "metadata": {},
   "outputs": [
    {
     "data": {
      "image/png": "[encoded data removed]",
      "text/plain": [
       "<Figure size 432x288 with 1 Axes>"
      ]
     },
     "metadata": {
      "needs_background": "light"
     },
     "output_type": "display_data"
    }
   ],
   "source": [
    "total_imports.head(8).plot(kind='barh')\n",
    "plt.title(\"Top Countries Importing from the UK\")\n",
    "plt.xlabel(\"Amount in Billion Dollars\")\n",
    "plt.savefig(\"Top Countries Importing from the UK\")\n",
    "plt.show()"
   ]
  },
  {
   "cell_type": "markdown",
   "metadata": {},
   "source": [
    "We see here that Ireland, France and Germany are the top three countries that import from the UK."
   ]
  },
  {
   "cell_type": "markdown",
   "metadata": {},
   "source": [
    "##### Exports"
   ]
  },
  {
   "cell_type": "code",
   "execution_count": 21,
   "metadata": {},
   "outputs": [
    {
     "name": "stdout",
     "output_type": "stream",
     "text": [
      "(1094, 5)\n"
     ]
    },
    {
     "data": {
      "text/html": [
       "<div>\n",
       "<style scoped>\n",
       "    .dataframe tbody tr th:only-of-type {\n",
       "        vertical-align: middle;\n",
       "    }\n",
       "\n",
       "    .dataframe tbody tr th {\n",
       "        vertical-align: top;\n",
       "    }\n",
       "\n",
       "    .dataframe thead th {\n",
       "        text-align: right;\n",
       "    }\n",
       "</style>\n",
       "<table border=\"1\" class=\"dataframe\">\n",
       "  <thead>\n",
       "    <tr style=\"text-align: right;\">\n",
       "      <th></th>\n",
       "      <th>Period</th>\n",
       "      <th>Partner</th>\n",
       "      <th>Milk and Cream</th>\n",
       "      <th>Trade Flow</th>\n",
       "      <th>Trade Value (US$)</th>\n",
       "    </tr>\n",
       "  </thead>\n",
       "  <tbody>\n",
       "    <tr>\n",
       "      <th>2</th>\n",
       "      <td>201401</td>\n",
       "      <td>Afghanistan</td>\n",
       "      <td>unprocessed</td>\n",
       "      <td>Exports</td>\n",
       "      <td>3410</td>\n",
       "    </tr>\n",
       "    <tr>\n",
       "      <th>3</th>\n",
       "      <td>201401</td>\n",
       "      <td>Austria</td>\n",
       "      <td>unprocessed</td>\n",
       "      <td>Exports</td>\n",
       "      <td>316</td>\n",
       "    </tr>\n",
       "    <tr>\n",
       "      <th>5</th>\n",
       "      <td>201401</td>\n",
       "      <td>Belgium</td>\n",
       "      <td>unprocessed</td>\n",
       "      <td>Exports</td>\n",
       "      <td>5663128</td>\n",
       "    </tr>\n",
       "    <tr>\n",
       "      <th>6</th>\n",
       "      <td>201401</td>\n",
       "      <td>Br. Virgin Isds</td>\n",
       "      <td>unprocessed</td>\n",
       "      <td>Exports</td>\n",
       "      <td>34566</td>\n",
       "    </tr>\n",
       "    <tr>\n",
       "      <th>7</th>\n",
       "      <td>201401</td>\n",
       "      <td>Canada</td>\n",
       "      <td>unprocessed</td>\n",
       "      <td>Exports</td>\n",
       "      <td>51017</td>\n",
       "    </tr>\n",
       "  </tbody>\n",
       "</table>\n",
       "</div>"
      ],
      "text/plain": [
       "   Period          Partner Milk and Cream Trade Flow  Trade Value (US$)\n",
       "2  201401      Afghanistan    unprocessed    Exports               3410\n",
       "3  201401          Austria    unprocessed    Exports                316\n",
       "5  201401          Belgium    unprocessed    Exports            5663128\n",
       "6  201401  Br. Virgin Isds    unprocessed    Exports              34566\n",
       "7  201401           Canada    unprocessed    Exports              51017"
      ]
     },
     "execution_count": 21,
     "metadata": {},
     "output_type": "execute_result"
    }
   ],
   "source": [
    "exports_data=data_new[data_new['Trade Flow']==\"Exports\"]\n",
    "print(exports_data.shape)\n",
    "exports_data.head()"
   ]
  },
  {
   "cell_type": "code",
   "execution_count": 22,
   "metadata": {},
   "outputs": [
    {
     "data": {
      "text/plain": [
       "Partner\n",
       "Ireland        421228441\n",
       "Algeria         93753841\n",
       "Netherlands     68649082\n",
       "Germany         36096633\n",
       "France          34622982\n",
       "Name: Trade Value (US$), dtype: int64"
      ]
     },
     "execution_count": 22,
     "metadata": {},
     "output_type": "execute_result"
    }
   ],
   "source": [
    "grouped_export=exports_data.groupby(\"Partner\")\n",
    "total_exports=grouped_export['Trade Value (US$)'].aggregate(sum).sort_values(inplace=False,ascending=False)\n",
    "total_exports.head()"
   ]
  },
  {
   "cell_type": "code",
   "execution_count": 23,
   "metadata": {},
   "outputs": [
    {
     "data": {
      "image/png": "[encoded data removed]",
      "text/plain": [
       "<Figure size 432x288 with 1 Axes>"
      ]
     },
     "metadata": {
      "needs_background": "light"
     },
     "output_type": "display_data"
    }
   ],
   "source": [
    "total_exports.head(8).plot(kind='barh')\n",
    "plt.title(\"UK's Exporting Destinations\")\n",
    "plt.xlabel(\"Amount in Billion Dollars\")\n",
    "plt.savefig(\"UK's Exporting Destinations\")\n",
    "plt.show()"
   ]
  },
  {
   "cell_type": "markdown",
   "metadata": {},
   "source": [
    "Here, we see that UK's top three export destinations are Ireland, Algeria and The Netherlands."
   ]
  },
  {
   "cell_type": "markdown",
   "metadata": {},
   "source": [
    "## Question 3"
   ]
  },
  {
   "cell_type": "markdown",
   "metadata": {},
   "source": [
    "### Which are the regular customers, i.e. which countries buy milk from the UK every month?\n"
   ]
  },
  {
   "cell_type": "code",
   "execution_count": 87,
   "metadata": {},
   "outputs": [
    {
     "data": {
      "text/plain": [
       "October 2014      131\n",
       "December 2014     128\n",
       "September 2014    126\n",
       "November 2014     125\n",
       "May 2014          124\n",
       "April 2014        124\n",
       "June 2014         124\n",
       "January 2014      123\n",
       "July 2014         123\n",
       "March 2014        119\n",
       "February 2014     116\n",
       "August 2014       114\n",
       "Name: Period Desc., dtype: int64"
      ]
     },
     "execution_count": 87,
     "metadata": {},
     "output_type": "execute_result"
    }
   ],
   "source": [
    "data['Period Desc.'].value_counts()"
   ]
  },
  {
   "cell_type": "markdown",
   "metadata": {},
   "source": [
    "We see that there are 12 months listed in this data. So a regular customer buys the both products throughout the months. "
   ]
  },
  {
   "cell_type": "code",
   "execution_count": 100,
   "metadata": {},
   "outputs": [],
   "source": [
    "def regular_customer(group):\n",
    "    return len(group)==24"
   ]
  },
  {
   "cell_type": "code",
   "execution_count": 109,
   "metadata": {},
   "outputs": [
    {
     "data": {
      "text/html": [
       "<div>\n",
       "<style scoped>\n",
       "    .dataframe tbody tr th:only-of-type {\n",
       "        vertical-align: middle;\n",
       "    }\n",
       "\n",
       "    .dataframe tbody tr th {\n",
       "        vertical-align: top;\n",
       "    }\n",
       "\n",
       "    .dataframe thead th {\n",
       "        text-align: right;\n",
       "    }\n",
       "</style>\n",
       "<table border=\"1\" class=\"dataframe\">\n",
       "  <thead>\n",
       "    <tr style=\"text-align: right;\">\n",
       "      <th></th>\n",
       "      <th>Period</th>\n",
       "      <th>Partner</th>\n",
       "      <th>Milk and Cream</th>\n",
       "      <th>Trade Flow</th>\n",
       "      <th>Trade Value (US$)</th>\n",
       "    </tr>\n",
       "  </thead>\n",
       "  <tbody>\n",
       "    <tr>\n",
       "      <th>214</th>\n",
       "      <td>201405</td>\n",
       "      <td>Belgium</td>\n",
       "      <td>unprocessed</td>\n",
       "      <td>Exports</td>\n",
       "      <td>2120867</td>\n",
       "    </tr>\n",
       "    <tr>\n",
       "      <th>217</th>\n",
       "      <td>201405</td>\n",
       "      <td>China</td>\n",
       "      <td>unprocessed</td>\n",
       "      <td>Exports</td>\n",
       "      <td>928514</td>\n",
       "    </tr>\n",
       "    <tr>\n",
       "      <th>218</th>\n",
       "      <td>201405</td>\n",
       "      <td>Cyprus</td>\n",
       "      <td>unprocessed</td>\n",
       "      <td>Exports</td>\n",
       "      <td>38786</td>\n",
       "    </tr>\n",
       "    <tr>\n",
       "      <th>220</th>\n",
       "      <td>201405</td>\n",
       "      <td>Denmark</td>\n",
       "      <td>unprocessed</td>\n",
       "      <td>Exports</td>\n",
       "      <td>156394</td>\n",
       "    </tr>\n",
       "    <tr>\n",
       "      <th>224</th>\n",
       "      <td>201405</td>\n",
       "      <td>France</td>\n",
       "      <td>unprocessed</td>\n",
       "      <td>Exports</td>\n",
       "      <td>2266465</td>\n",
       "    </tr>\n",
       "    <tr>\n",
       "      <th>226</th>\n",
       "      <td>201405</td>\n",
       "      <td>Germany</td>\n",
       "      <td>unprocessed</td>\n",
       "      <td>Exports</td>\n",
       "      <td>1394273</td>\n",
       "    </tr>\n",
       "    <tr>\n",
       "      <th>229</th>\n",
       "      <td>201405</td>\n",
       "      <td>China, Hong Kong SAR</td>\n",
       "      <td>unprocessed</td>\n",
       "      <td>Exports</td>\n",
       "      <td>509750</td>\n",
       "    </tr>\n",
       "    <tr>\n",
       "      <th>230</th>\n",
       "      <td>201405</td>\n",
       "      <td>Hungary</td>\n",
       "      <td>unprocessed</td>\n",
       "      <td>Exports</td>\n",
       "      <td>1579</td>\n",
       "    </tr>\n",
       "    <tr>\n",
       "      <th>232</th>\n",
       "      <td>201405</td>\n",
       "      <td>Ireland</td>\n",
       "      <td>unprocessed</td>\n",
       "      <td>Exports</td>\n",
       "      <td>30436121</td>\n",
       "    </tr>\n",
       "    <tr>\n",
       "      <th>234</th>\n",
       "      <td>201405</td>\n",
       "      <td>Italy</td>\n",
       "      <td>unprocessed</td>\n",
       "      <td>Exports</td>\n",
       "      <td>2748</td>\n",
       "    </tr>\n",
       "    <tr>\n",
       "      <th>240</th>\n",
       "      <td>201405</td>\n",
       "      <td>Malta</td>\n",
       "      <td>unprocessed</td>\n",
       "      <td>Exports</td>\n",
       "      <td>5830</td>\n",
       "    </tr>\n",
       "    <tr>\n",
       "      <th>243</th>\n",
       "      <td>201405</td>\n",
       "      <td>Netherlands</td>\n",
       "      <td>unprocessed</td>\n",
       "      <td>Exports</td>\n",
       "      <td>1626702</td>\n",
       "    </tr>\n",
       "    <tr>\n",
       "      <th>248</th>\n",
       "      <td>201405</td>\n",
       "      <td>Portugal</td>\n",
       "      <td>unprocessed</td>\n",
       "      <td>Exports</td>\n",
       "      <td>2388</td>\n",
       "    </tr>\n",
       "    <tr>\n",
       "      <th>254</th>\n",
       "      <td>201405</td>\n",
       "      <td>Spain</td>\n",
       "      <td>unprocessed</td>\n",
       "      <td>Exports</td>\n",
       "      <td>258554</td>\n",
       "    </tr>\n",
       "  </tbody>\n",
       "</table>\n",
       "</div>"
      ],
      "text/plain": [
       "     Period               Partner Milk and Cream Trade Flow  Trade Value (US$)\n",
       "214  201405               Belgium    unprocessed    Exports            2120867\n",
       "217  201405                 China    unprocessed    Exports             928514\n",
       "218  201405                Cyprus    unprocessed    Exports              38786\n",
       "220  201405               Denmark    unprocessed    Exports             156394\n",
       "224  201405                France    unprocessed    Exports            2266465\n",
       "226  201405               Germany    unprocessed    Exports            1394273\n",
       "229  201405  China, Hong Kong SAR    unprocessed    Exports             509750\n",
       "230  201405               Hungary    unprocessed    Exports               1579\n",
       "232  201405               Ireland    unprocessed    Exports           30436121\n",
       "234  201405                 Italy    unprocessed    Exports               2748\n",
       "240  201405                 Malta    unprocessed    Exports               5830\n",
       "243  201405           Netherlands    unprocessed    Exports            1626702\n",
       "248  201405              Portugal    unprocessed    Exports               2388\n",
       "254  201405                 Spain    unprocessed    Exports             258554"
      ]
     },
     "execution_count": 109,
     "metadata": {},
     "output_type": "execute_result"
    }
   ],
   "source": [
    "grouped=exports_data.groupby('Partner')\n",
    "regular=grouped.filter(regular_customer)\n",
    "regular[(regular['Period']==201405)&(regular['Milk and Cream']=='unprocessed')]"
   ]
  },
  {
   "cell_type": "code",
   "execution_count": 114,
   "metadata": {},
   "outputs": [
    {
     "name": "stdout",
     "output_type": "stream",
     "text": [
      "The volume of trade that Uk gets from her exports is worth 72.0%\n"
     ]
    }
   ],
   "source": [
    "percentage_volume=np.round((regular['Trade Value (US$)'].sum() / exports_data['Trade Value (US$)'].sum())*100)\n",
    "print(f'The volume of trade that Uk gets from her exports is worth {percentage_volume}%')"
   ]
  },
  {
   "cell_type": "markdown",
   "metadata": {},
   "source": [
    "We see here that any month and any commodity we take gives the same volume of trade.<br>\n",
    "Also, we see that this trading volume is about 72%."
   ]
  },
  {
   "cell_type": "markdown",
   "metadata": {},
   "source": [
    "## Question 4"
   ]
  },
  {
   "cell_type": "markdown",
   "metadata": {},
   "source": [
    "### Which countries does the UK both import from and export to?"
   ]
  },
  {
   "cell_type": "markdown",
   "metadata": {},
   "source": [
    "We check here for where both countries exchange goods by using a pivot table"
   ]
  },
  {
   "cell_type": "code",
   "execution_count": 125,
   "metadata": {},
   "outputs": [],
   "source": [
    "trading_countries=pivot_table(data_new, index=['Partner'],columns=['Trade Flow'],values='Trade Value (US$)',\n",
    "                             aggfunc=sum)"
   ]
  },
  {
   "cell_type": "code",
   "execution_count": 126,
   "metadata": {},
   "outputs": [
    {
     "name": "stdout",
     "output_type": "stream",
     "text": [
      "(120, 2)\n"
     ]
    },
    {
     "data": {
      "text/html": [
       "<div>\n",
       "<style scoped>\n",
       "    .dataframe tbody tr th:only-of-type {\n",
       "        vertical-align: middle;\n",
       "    }\n",
       "\n",
       "    .dataframe tbody tr th {\n",
       "        vertical-align: top;\n",
       "    }\n",
       "\n",
       "    .dataframe thead th {\n",
       "        text-align: right;\n",
       "    }\n",
       "</style>\n",
       "<table border=\"1\" class=\"dataframe\">\n",
       "  <thead>\n",
       "    <tr style=\"text-align: right;\">\n",
       "      <th>Trade Flow</th>\n",
       "      <th>Exports</th>\n",
       "      <th>Imports</th>\n",
       "    </tr>\n",
       "    <tr>\n",
       "      <th>Partner</th>\n",
       "      <th></th>\n",
       "      <th></th>\n",
       "    </tr>\n",
       "  </thead>\n",
       "  <tbody>\n",
       "    <tr>\n",
       "      <th>Afghanistan</th>\n",
       "      <td>54524.0</td>\n",
       "      <td>NaN</td>\n",
       "    </tr>\n",
       "    <tr>\n",
       "      <th>Algeria</th>\n",
       "      <td>93753841.0</td>\n",
       "      <td>NaN</td>\n",
       "    </tr>\n",
       "    <tr>\n",
       "      <th>Angola</th>\n",
       "      <td>13305815.0</td>\n",
       "      <td>NaN</td>\n",
       "    </tr>\n",
       "    <tr>\n",
       "      <th>Antigua and Barbuda</th>\n",
       "      <td>78006.0</td>\n",
       "      <td>NaN</td>\n",
       "    </tr>\n",
       "    <tr>\n",
       "      <th>Australia</th>\n",
       "      <td>102971.0</td>\n",
       "      <td>NaN</td>\n",
       "    </tr>\n",
       "  </tbody>\n",
       "</table>\n",
       "</div>"
      ],
      "text/plain": [
       "Trade Flow              Exports  Imports\n",
       "Partner                                 \n",
       "Afghanistan             54524.0      NaN\n",
       "Algeria              93753841.0      NaN\n",
       "Angola               13305815.0      NaN\n",
       "Antigua and Barbuda     78006.0      NaN\n",
       "Australia              102971.0      NaN"
      ]
     },
     "execution_count": 126,
     "metadata": {},
     "output_type": "execute_result"
    }
   ],
   "source": [
    "print(trading_countries.shape)\n",
    "trading_countries.head()"
   ]
  },
  {
   "cell_type": "code",
   "execution_count": 122,
   "metadata": {},
   "outputs": [
    {
     "data": {
      "text/plain": [
       "Trade Flow\n",
       "Exports     0\n",
       "Imports    95\n",
       "dtype: int64"
      ]
     },
     "execution_count": 122,
     "metadata": {},
     "output_type": "execute_result"
    }
   ],
   "source": [
    "trading_countries.isnull().sum()"
   ]
  },
  {
   "cell_type": "code",
   "execution_count": 127,
   "metadata": {},
   "outputs": [
    {
     "name": "stdout",
     "output_type": "stream",
     "text": [
      "(25, 2)\n"
     ]
    },
    {
     "data": {
      "text/html": [
       "<div>\n",
       "<style scoped>\n",
       "    .dataframe tbody tr th:only-of-type {\n",
       "        vertical-align: middle;\n",
       "    }\n",
       "\n",
       "    .dataframe tbody tr th {\n",
       "        vertical-align: top;\n",
       "    }\n",
       "\n",
       "    .dataframe thead th {\n",
       "        text-align: right;\n",
       "    }\n",
       "</style>\n",
       "<table border=\"1\" class=\"dataframe\">\n",
       "  <thead>\n",
       "    <tr style=\"text-align: right;\">\n",
       "      <th>Trade Flow</th>\n",
       "      <th>Exports</th>\n",
       "      <th>Imports</th>\n",
       "    </tr>\n",
       "    <tr>\n",
       "      <th>Partner</th>\n",
       "      <th></th>\n",
       "      <th></th>\n",
       "    </tr>\n",
       "  </thead>\n",
       "  <tbody>\n",
       "    <tr>\n",
       "      <th>Austria</th>\n",
       "      <td>136191.0</td>\n",
       "      <td>798816.0</td>\n",
       "    </tr>\n",
       "    <tr>\n",
       "      <th>Belgium</th>\n",
       "      <td>29343007.0</td>\n",
       "      <td>58338745.0</td>\n",
       "    </tr>\n",
       "    <tr>\n",
       "      <th>Czech Rep.</th>\n",
       "      <td>147573.0</td>\n",
       "      <td>1254989.0</td>\n",
       "    </tr>\n",
       "    <tr>\n",
       "      <th>Denmark</th>\n",
       "      <td>2908457.0</td>\n",
       "      <td>30534642.0</td>\n",
       "    </tr>\n",
       "    <tr>\n",
       "      <th>Finland</th>\n",
       "      <td>1761424.0</td>\n",
       "      <td>12.0</td>\n",
       "    </tr>\n",
       "  </tbody>\n",
       "</table>\n",
       "</div>"
      ],
      "text/plain": [
       "Trade Flow     Exports     Imports\n",
       "Partner                           \n",
       "Austria       136191.0    798816.0\n",
       "Belgium     29343007.0  58338745.0\n",
       "Czech Rep.    147573.0   1254989.0\n",
       "Denmark      2908457.0  30534642.0\n",
       "Finland      1761424.0        12.0"
      ]
     },
     "execution_count": 127,
     "metadata": {},
     "output_type": "execute_result"
    }
   ],
   "source": [
    "trading_countries.dropna(inplace=True)\n",
    "print(trading_countries.shape)\n",
    "trading_countries.head()"
   ]
  },
  {
   "cell_type": "markdown",
   "metadata": {},
   "source": [
    "Here, we see that there are 25 countries where UK share mutual trading relationships."
   ]
  },
  {
   "cell_type": "markdown",
   "metadata": {},
   "source": [
    "## CONCLUSION"
   ]
  },
  {
   "cell_type": "markdown",
   "metadata": {},
   "source": [
    "After analysing the data, we come to the following conclusions about 2014 of UK's trading year.\n",
    "- The UK does well in her tradings as she records a positive difference of over $334 billion dollars.\n",
    "- Ireland, France and Germany are the top three countries that import from the UK.\n",
    "- UK's top three export destinations are Ireland, Algeria and The Netherlands.\n",
    "- UK's trading volume is about 72%.\n",
    "- UK shared mutual trading relationships with 25 countries in 2014 trading year.\n",
    "    "
   ]
  },
  {
   "cell_type": "code",
   "execution_count": null,
   "metadata": {},
   "outputs": [],
   "source": []
  }
 ],
 "metadata": {
  "kernelspec": {
   "display_name": "Python 3",
   "language": "python",
   "name": "python3"
  },
  "language_info": {
   "codemirror_mode": {
    "name": "ipython",
    "version": 3
   },
   "file_extension": ".py",
   "mimetype": "text/x-python",
   "name": "python",
   "nbconvert_exporter": "python",
   "pygments_lexer": "ipython3",
   "version": "3.7.3"
  }
 },
 "nbformat": 4,
 "nbformat_minor": 2
}
