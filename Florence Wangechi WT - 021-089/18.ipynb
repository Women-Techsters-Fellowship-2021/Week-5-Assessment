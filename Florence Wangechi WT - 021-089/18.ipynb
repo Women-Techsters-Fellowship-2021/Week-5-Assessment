{
 "cells": [
  {
   "cell_type": "markdown",
   "metadata": {},
   "source": [
    "# Transforming and Combining Data\n",
    "\n",
    "In the previous module you worked on a dataset that combined two different `World Health\n",
    "Organization datasets: population and the number of deaths due to tuberculosis`.\n",
    "They could be combined because they share a `common attribute: the countries`. This\n",
    "week you will learn the techniques behind the creation of such a combined dataset."
   ]
  },
  {
   "cell_type": "code",
   "execution_count": 1,
   "metadata": {},
   "outputs": [],
   "source": [
    "import warnings\n",
    "warnings.simplefilter('ignore', FutureWarning)\n",
    "\n",
    "import pandas as pd"
   ]
  },
  {
   "cell_type": "markdown",
   "metadata": {},
   "source": [
    "## Life expectancy project\n",
    "In this module we will see (literally, via a chart) if the life expectancy in richer countries tends\n",
    "to be longer.\n",
    "\n",
    "Richer countries can afford to spend more on healthcare and on road safety, for example,\n",
    "to reduce mortality. On the other hand, richer countries may have less healthy lifestyles.\n",
    "The World Bank provides loans and grants to governments of middle and low-income\n",
    "countries to help reduce poverty. As part of their work, the World Bank has put together\n",
    "hundreds of datasets on a range of issues, such as health, education, economy, energy\n",
    "and the effectiveness of aid in different countries. We will use two of their datasets, which\n",
    "you can see online by following the links below. You do not need to download the\n",
    "datasets.\n",
    "\n",
    "One dataset lists the `gross domestic product (GDP)` for each country, in United States\n",
    "dollars and cents; the other lists the `life expectancy`, in years, for each country. The latest\n",
    "life expectancy data I can access is for 2013, so that will be the year we will take for the `GDP`.\n",
    "The disadvantage of using the `GDP` and the `life expectancy` values for the same year is\n",
    "that they do not account for the time it takes for a country’s wealth to have an effect on\n",
    "lifestyle, healthcare and other factors influencing life expectancy.\n",
    "\n",
    "While it is useful to have all `GDPs` in a common currency to compare different countries, it\n",
    "doesn’t make much sense to report the `GDP` of a whole country to a supposed precision\n",
    "of a US cent. I noted that the value for the `USA` is a round number, but it is not for other\n",
    "countries. This is likely due in part to the conversion of local currencies to `US dollars`. It\n",
    "makes more sense to report the `GDP` values in a larger unit, e.g. millions of dollars.\n",
    "Moreover, for those who don’t live in a country using the `US dollar` as the official currency,\n",
    "it’s probably easier to understand `GDP` values in their own local currency.\n",
    "\n",
    "To sum up, the project for this module will transform currency values and combine GDP and life\n",
    "expectancy data.\n",
    "\n",
    "Note that the combination is made simple by the common country names in the two\n",
    "datasets, but in general care has to be taken that the common attribute really means the\n",
    "same thing. For example, if you were combining two datasets on a common\n",
    "unemployment attribute, you must be sure that it was obtained in the same way as there\n",
    "are various ways of measuring unemployment.\n",
    "\n",
    "I’m aware that the GDP is a crude way of comparing wealth across nations. For example,\n",
    "it doesn’t take population or the cost of living into account. Some of this modules’s tasks\n",
    "will ask you to add the population data. Think of other ways to improve the analysis\n",
    "method, of other conversions that might be needed, and of other ways to investigate life\n",
    "expectancy factors."
   ]
  },
  {
   "cell_type": "markdown",
   "metadata": {},
   "source": [
    "**Links:**\n",
    "\n",
    "- [GDP in current US dollars](http://data.worldbank.org/indicator/NY.GDP.MKTP.CD)\n",
    "\n",
    "- [Life expectancy at birth](http://data.worldbank.org/indicator/SP.DYN.LE00.IN)\n",
    "\n",
    "`Note that the dataset can be found in the folder`"
   ]
  },
  {
   "cell_type": "markdown",
   "metadata": {},
   "source": [
    "## Creating the data\n",
    "\n",
    "We won’t yet work with the full data. Instead I will create small tables, to better illustrate this\n",
    "module’s concepts and techniques.\n",
    "Small tables make it easier to see what is going on and to create specific data\n",
    "combination and transformation scenarios that test the code.\n",
    "There are many ways of creating tables in pandas. One of the simplest is to define the\n",
    "rows as a `list`, with the first element of the list being the first row, the second element being\n",
    "the second row, etc.\n",
    "Each row of a table has multiple cells, one for each column. The obvious way is to\n",
    "represent each row as a list too, the first element of the list being the cell in the first\n",
    "column, the second element corresponding to the second column, etc. To sum up, the\n",
    "table is represented as a list of lists.\n",
    "\n",
    "Here is a table of the 2013 GDP of some countries, in US dollars:"
   ]
  },
  {
   "cell_type": "code",
   "execution_count": 2,
   "metadata": {},
   "outputs": [],
   "source": [
    "table = [\n",
    "  ['UK', 2678454886796.7],    # 1st row\n",
    "  ['USA', 16768100000000.0],  # 2nd row\n",
    "  ['China', 9240270452047.0], # and so on...\n",
    "  ['Brazil', 2245673032353.8],\n",
    "  ['South Africa', 366057913367.1]\n",
    "]"
   ]
  },
  {
   "cell_type": "code",
   "execution_count": 3,
   "metadata": {},
   "outputs": [
    {
     "data": {
      "text/html": [
       "<div>\n",
       "<style scoped>\n",
       "    .dataframe tbody tr th:only-of-type {\n",
       "        vertical-align: middle;\n",
       "    }\n",
       "\n",
       "    .dataframe tbody tr th {\n",
       "        vertical-align: top;\n",
       "    }\n",
       "\n",
       "    .dataframe thead th {\n",
       "        text-align: right;\n",
       "    }\n",
       "</style>\n",
       "<table border=\"1\" class=\"dataframe\">\n",
       "  <thead>\n",
       "    <tr style=\"text-align: right;\">\n",
       "      <th></th>\n",
       "      <th>Country</th>\n",
       "      <th>GDP (US$)</th>\n",
       "    </tr>\n",
       "  </thead>\n",
       "  <tbody>\n",
       "    <tr>\n",
       "      <th>0</th>\n",
       "      <td>UK</td>\n",
       "      <td>2.678455e+12</td>\n",
       "    </tr>\n",
       "    <tr>\n",
       "      <th>1</th>\n",
       "      <td>USA</td>\n",
       "      <td>1.676810e+13</td>\n",
       "    </tr>\n",
       "    <tr>\n",
       "      <th>2</th>\n",
       "      <td>China</td>\n",
       "      <td>9.240270e+12</td>\n",
       "    </tr>\n",
       "    <tr>\n",
       "      <th>3</th>\n",
       "      <td>Brazil</td>\n",
       "      <td>2.245673e+12</td>\n",
       "    </tr>\n",
       "    <tr>\n",
       "      <th>4</th>\n",
       "      <td>South Africa</td>\n",
       "      <td>3.660579e+11</td>\n",
       "    </tr>\n",
       "  </tbody>\n",
       "</table>\n",
       "</div>"
      ],
      "text/plain": [
       "        Country     GDP (US$)\n",
       "0            UK  2.678455e+12\n",
       "1           USA  1.676810e+13\n",
       "2         China  9.240270e+12\n",
       "3        Brazil  2.245673e+12\n",
       "4  South Africa  3.660579e+11"
      ]
     },
     "execution_count": 3,
     "metadata": {},
     "output_type": "execute_result"
    }
   ],
   "source": [
    "headings = ['Country', 'GDP (US$)']\n",
    "gdp = pd.DataFrame(columns=headings, data=table)\n",
    "gdp"
   ]
  },
  {
   "cell_type": "markdown",
   "metadata": {},
   "source": [
    "To create a dataframe, I use a pandas function appropriately called `DataFrame()`. I have\n",
    "to give it two arguments: the names of the columns and the data itself. The column names\n",
    "are given as a list of strings, the first string being the first column name, etc."
   ]
  },
  {
   "cell_type": "markdown",
   "metadata": {},
   "source": [
    "Note that pandas shows large numbers in scientific notation, where, for example, 3e+12\n",
    "means 3×10^12 , i.e. a 3 followed by 12 zeros.\n",
    "I define a similar table for the life expectancy, based on the 2013 World Bank data.\n",
    "\n",
    "And similarly for the life expectancy of those born in 2013..."
   ]
  },
  {
   "cell_type": "code",
   "execution_count": 4,
   "metadata": {},
   "outputs": [
    {
     "data": {
      "text/html": [
       "<div>\n",
       "<style scoped>\n",
       "    .dataframe tbody tr th:only-of-type {\n",
       "        vertical-align: middle;\n",
       "    }\n",
       "\n",
       "    .dataframe tbody tr th {\n",
       "        vertical-align: top;\n",
       "    }\n",
       "\n",
       "    .dataframe thead th {\n",
       "        text-align: right;\n",
       "    }\n",
       "</style>\n",
       "<table border=\"1\" class=\"dataframe\">\n",
       "  <thead>\n",
       "    <tr style=\"text-align: right;\">\n",
       "      <th></th>\n",
       "      <th>Country name</th>\n",
       "      <th>Life expectancy (years)</th>\n",
       "    </tr>\n",
       "  </thead>\n",
       "  <tbody>\n",
       "    <tr>\n",
       "      <th>0</th>\n",
       "      <td>China</td>\n",
       "      <td>75</td>\n",
       "    </tr>\n",
       "    <tr>\n",
       "      <th>1</th>\n",
       "      <td>Russia</td>\n",
       "      <td>71</td>\n",
       "    </tr>\n",
       "    <tr>\n",
       "      <th>2</th>\n",
       "      <td>United States</td>\n",
       "      <td>79</td>\n",
       "    </tr>\n",
       "    <tr>\n",
       "      <th>3</th>\n",
       "      <td>India</td>\n",
       "      <td>66</td>\n",
       "    </tr>\n",
       "    <tr>\n",
       "      <th>4</th>\n",
       "      <td>United Kingdom</td>\n",
       "      <td>81</td>\n",
       "    </tr>\n",
       "  </tbody>\n",
       "</table>\n",
       "</div>"
      ],
      "text/plain": [
       "     Country name  Life expectancy (years)\n",
       "0           China                       75\n",
       "1          Russia                       71\n",
       "2   United States                       79\n",
       "3           India                       66\n",
       "4  United Kingdom                       81"
      ]
     },
     "execution_count": 4,
     "metadata": {},
     "output_type": "execute_result"
    }
   ],
   "source": [
    "headings = ['Country name', 'Life expectancy (years)']\n",
    "table = [\n",
    "  ['China', 75],\n",
    "  ['Russia', 71],  \n",
    "  ['United States', 79],\n",
    "  ['India', 66],\n",
    "  ['United Kingdom', 81]\n",
    "]\n",
    "life = pd.DataFrame(columns=headings, data=table)\n",
    "life"
   ]
  },
  {
   "cell_type": "markdown",
   "metadata": {},
   "source": [
    "### Task\n",
    "\n",
    "Create a dataframe with all five BRICS countries and their population, in thousands of inhabitants, in 2013. The values (given in the first module notebook) are: Brazil 200362, Russian Federation 142834, India 1252140, China 1393337, South Africa 52776."
   ]
  },
  {
   "cell_type": "code",
   "execution_count": 5,
   "metadata": {},
   "outputs": [
    {
     "data": {
      "text/html": [
       "<div>\n",
       "<style scoped>\n",
       "    .dataframe tbody tr th:only-of-type {\n",
       "        vertical-align: middle;\n",
       "    }\n",
       "\n",
       "    .dataframe tbody tr th {\n",
       "        vertical-align: top;\n",
       "    }\n",
       "\n",
       "    .dataframe thead th {\n",
       "        text-align: right;\n",
       "    }\n",
       "</style>\n",
       "<table border=\"1\" class=\"dataframe\">\n",
       "  <thead>\n",
       "    <tr style=\"text-align: right;\">\n",
       "      <th></th>\n",
       "      <th>Country name</th>\n",
       "      <th>Population (1,000)</th>\n",
       "    </tr>\n",
       "  </thead>\n",
       "  <tbody>\n",
       "    <tr>\n",
       "      <th>0</th>\n",
       "      <td>Brazil</td>\n",
       "      <td>200362</td>\n",
       "    </tr>\n",
       "    <tr>\n",
       "      <th>1</th>\n",
       "      <td>Russian Federation</td>\n",
       "      <td>142834</td>\n",
       "    </tr>\n",
       "    <tr>\n",
       "      <th>2</th>\n",
       "      <td>India</td>\n",
       "      <td>1252140</td>\n",
       "    </tr>\n",
       "    <tr>\n",
       "      <th>3</th>\n",
       "      <td>China</td>\n",
       "      <td>1393337</td>\n",
       "    </tr>\n",
       "    <tr>\n",
       "      <th>4</th>\n",
       "      <td>South Africa</td>\n",
       "      <td>52776</td>\n",
       "    </tr>\n",
       "  </tbody>\n",
       "</table>\n",
       "</div>"
      ],
      "text/plain": [
       "         Country name  Population (1,000)\n",
       "0              Brazil              200362\n",
       "1  Russian Federation              142834\n",
       "2               India             1252140\n",
       "3               China             1393337\n",
       "4        South Africa               52776"
      ]
     },
     "execution_count": 5,
     "metadata": {},
     "output_type": "execute_result"
    }
   ],
   "source": [
    "headings = ['Country name', 'Population (1,000)']\n",
    "table = [\n",
    "  ['Brazil', 200362],\n",
    "  ['Russian Federation', 142834],  \n",
    "  ['India', 1252140],\n",
    "  ['China', 1393337],\n",
    "  ['South Africa', 52776]\n",
    "]\n",
    "population = pd.DataFrame(columns=headings, data=table)\n",
    "population"
   ]
  },
  {
   "cell_type": "code",
   "execution_count": null,
   "metadata": {},
   "outputs": [],
   "source": []
  }
 ],
 "metadata": {
  "kernelspec": {
   "display_name": "Python 3",
   "language": "python",
   "name": "python3"
  },
  "language_info": {
   "codemirror_mode": {
    "name": "ipython",
    "version": 3
   },
   "file_extension": ".py",
   "mimetype": "text/x-python",
   "name": "python",
   "nbconvert_exporter": "python",
   "pygments_lexer": "ipython3",
   "version": "3.8.8"
  }
 },
 "nbformat": 4,
 "nbformat_minor": 1
}
