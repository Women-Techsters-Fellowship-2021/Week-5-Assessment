{
 "cells": [
  {
   "cell_type": "markdown",
   "metadata": {},
   "source": [
    "# Transforming and Combining Data\n",
    "\n",
    "In the previous module you worked on a dataset that combined two different `World Health\n",
    "Organization datasets: population and the number of deaths due to tuberculosis`.\n",
    "They could be combined because they share a `common attribute: the countries`. This\n",
    "week you will learn the techniques behind the creation of such a combined dataset."
   ]
  },
  {
   "cell_type": "code",
   "execution_count": 1,
   "metadata": {},
   "outputs": [],
   "source": [
    "import warnings\n",
    "warnings.simplefilter('ignore', FutureWarning)\n",
    "\n",
    "import pandas as pd"
   ]
  },
  {
   "cell_type": "code",
   "execution_count": 2,
   "metadata": {},
   "outputs": [],
   "source": [
    "table = [\n",
    "  ['UK', 2678454886796.7],    # 1st row\n",
    "  ['USA', 16768100000000.0],  # 2nd row\n",
    "  ['China', 9240270452047.0], # and so on...\n",
    "  ['Brazil', 2245673032353.8],\n",
    "  ['South Africa', 366057913367.1]\n",
    "]"
   ]
  },
  {
   "cell_type": "code",
   "execution_count": 3,
   "metadata": {},
   "outputs": [],
   "source": [
    "headings = ['Country', 'GDP (US$)']\n",
    "gdp = pd.DataFrame(columns=headings, data=table)"
   ]
  },
  {
   "cell_type": "code",
   "execution_count": 4,
   "metadata": {},
   "outputs": [],
   "source": [
    "headings = ['Country name', 'Life expectancy (years)']\n",
    "table = [\n",
    "  ['China', 75],\n",
    "  ['Russia', 71],  \n",
    "  ['United States', 79],\n",
    "  ['India', 66],\n",
    "  ['United Kingdom', 81]\n",
    "]\n",
    "life = pd.DataFrame(columns=headings, data=table)"
   ]
  },
  {
   "cell_type": "code",
   "execution_count": 5,
   "metadata": {},
   "outputs": [],
   "source": [
    "def roundToMillions (value):\n",
    "    return round(value / 1000000)"
   ]
  },
  {
   "cell_type": "code",
   "execution_count": 6,
   "metadata": {},
   "outputs": [],
   "source": [
    "def usdToGBP (usd):\n",
    "    return usd / 1.564768 # average rate during 2013"
   ]
  },
  {
   "cell_type": "code",
   "execution_count": 7,
   "metadata": {},
   "outputs": [],
   "source": [
    "def expandCountry (name):\n",
    "    if name == 'UK':\n",
    "        return 'United Kingdom'\n",
    "    elif name == 'USA':\n",
    "        return 'United States'\n",
    "    else:\n",
    "        return name"
   ]
  },
  {
   "cell_type": "markdown",
   "metadata": {},
   "source": [
    "## Applying functions\n",
    "\n",
    "We have coded the three data conversion functions, they can be applied to the GDP table.\n",
    "We first select the relevant column:"
   ]
  },
  {
   "cell_type": "code",
   "execution_count": 8,
   "metadata": {},
   "outputs": [
    {
     "data": {
      "text/plain": [
       "0              UK\n",
       "1             USA\n",
       "2           China\n",
       "3          Brazil\n",
       "4    South Africa\n",
       "Name: Country, dtype: object"
      ]
     },
     "execution_count": 8,
     "metadata": {},
     "output_type": "execute_result"
    }
   ],
   "source": [
    "column = gdp['Country']\n",
    "column"
   ]
  },
  {
   "cell_type": "markdown",
   "metadata": {},
   "source": [
    "Next, we can use the column method `apply()` , which applies a given function to each cell in\n",
    "the column, returning a new column, in which each cell is the conversion of the\n",
    "corresponding original cell:"
   ]
  },
  {
   "cell_type": "code",
   "execution_count": 9,
   "metadata": {},
   "outputs": [
    {
     "data": {
      "text/plain": [
       "0    United Kingdom\n",
       "1     United States\n",
       "2             China\n",
       "3            Brazil\n",
       "4      South Africa\n",
       "Name: Country, dtype: object"
      ]
     },
     "execution_count": 9,
     "metadata": {},
     "output_type": "execute_result"
    }
   ],
   "source": [
    "column.apply(expandCountry)"
   ]
  },
  {
   "cell_type": "markdown",
   "metadata": {},
   "source": [
    "Finally, we can add that new column to the dataframe, using a new column heading\n",
    "A one-argument function can be applied to each cell in a column, in order to obtain a new column with the converted values."
   ]
  },
  {
   "cell_type": "code",
   "execution_count": 10,
   "metadata": {},
   "outputs": [
    {
     "data": {
      "text/html": [
       "<div>\n",
       "<style scoped>\n",
       "    .dataframe tbody tr th:only-of-type {\n",
       "        vertical-align: middle;\n",
       "    }\n",
       "\n",
       "    .dataframe tbody tr th {\n",
       "        vertical-align: top;\n",
       "    }\n",
       "\n",
       "    .dataframe thead th {\n",
       "        text-align: right;\n",
       "    }\n",
       "</style>\n",
       "<table border=\"1\" class=\"dataframe\">\n",
       "  <thead>\n",
       "    <tr style=\"text-align: right;\">\n",
       "      <th></th>\n",
       "      <th>Country</th>\n",
       "      <th>GDP (US$)</th>\n",
       "      <th>Country name</th>\n",
       "    </tr>\n",
       "  </thead>\n",
       "  <tbody>\n",
       "    <tr>\n",
       "      <th>0</th>\n",
       "      <td>UK</td>\n",
       "      <td>2.678455e+12</td>\n",
       "      <td>United Kingdom</td>\n",
       "    </tr>\n",
       "    <tr>\n",
       "      <th>1</th>\n",
       "      <td>USA</td>\n",
       "      <td>1.676810e+13</td>\n",
       "      <td>United States</td>\n",
       "    </tr>\n",
       "    <tr>\n",
       "      <th>2</th>\n",
       "      <td>China</td>\n",
       "      <td>9.240270e+12</td>\n",
       "      <td>China</td>\n",
       "    </tr>\n",
       "    <tr>\n",
       "      <th>3</th>\n",
       "      <td>Brazil</td>\n",
       "      <td>2.245673e+12</td>\n",
       "      <td>Brazil</td>\n",
       "    </tr>\n",
       "    <tr>\n",
       "      <th>4</th>\n",
       "      <td>South Africa</td>\n",
       "      <td>3.660579e+11</td>\n",
       "      <td>South Africa</td>\n",
       "    </tr>\n",
       "  </tbody>\n",
       "</table>\n",
       "</div>"
      ],
      "text/plain": [
       "        Country     GDP (US$)    Country name\n",
       "0            UK  2.678455e+12  United Kingdom\n",
       "1           USA  1.676810e+13   United States\n",
       "2         China  9.240270e+12           China\n",
       "3        Brazil  2.245673e+12          Brazil\n",
       "4  South Africa  3.660579e+11    South Africa"
      ]
     },
     "execution_count": 10,
     "metadata": {},
     "output_type": "execute_result"
    }
   ],
   "source": [
    "gdp['Country name'] = gdp['Country'].apply(expandCountry)\n",
    "gdp"
   ]
  },
  {
   "cell_type": "markdown",
   "metadata": {},
   "source": [
    "In a similar way, we can convert the US dollars to British pounds, then round to the nearest\n",
    "million, and store the result in a new column. We could apply the conversion and rounding\n",
    "functions in two separate statements, but using method chaining , we can apply both\n",
    "functions in a single line of code. This is possible because the column returned by the first\n",
    "call of `apply()` is the context for the second call of `apply()`."
   ]
  },
  {
   "cell_type": "markdown",
   "metadata": {},
   "source": [
    "Given that `apply()` is a column method that returns a column, it can be **chained**, to apply several conversions in one go."
   ]
  },
  {
   "cell_type": "code",
   "execution_count": 11,
   "metadata": {},
   "outputs": [
    {
     "data": {
      "text/html": [
       "<div>\n",
       "<style scoped>\n",
       "    .dataframe tbody tr th:only-of-type {\n",
       "        vertical-align: middle;\n",
       "    }\n",
       "\n",
       "    .dataframe tbody tr th {\n",
       "        vertical-align: top;\n",
       "    }\n",
       "\n",
       "    .dataframe thead th {\n",
       "        text-align: right;\n",
       "    }\n",
       "</style>\n",
       "<table border=\"1\" class=\"dataframe\">\n",
       "  <thead>\n",
       "    <tr style=\"text-align: right;\">\n",
       "      <th></th>\n",
       "      <th>Country</th>\n",
       "      <th>GDP (US$)</th>\n",
       "      <th>Country name</th>\n",
       "      <th>GDP (£m)</th>\n",
       "    </tr>\n",
       "  </thead>\n",
       "  <tbody>\n",
       "    <tr>\n",
       "      <th>0</th>\n",
       "      <td>UK</td>\n",
       "      <td>2.678455e+12</td>\n",
       "      <td>United Kingdom</td>\n",
       "      <td>1711727</td>\n",
       "    </tr>\n",
       "    <tr>\n",
       "      <th>1</th>\n",
       "      <td>USA</td>\n",
       "      <td>1.676810e+13</td>\n",
       "      <td>United States</td>\n",
       "      <td>10716029</td>\n",
       "    </tr>\n",
       "    <tr>\n",
       "      <th>2</th>\n",
       "      <td>China</td>\n",
       "      <td>9.240270e+12</td>\n",
       "      <td>China</td>\n",
       "      <td>5905202</td>\n",
       "    </tr>\n",
       "    <tr>\n",
       "      <th>3</th>\n",
       "      <td>Brazil</td>\n",
       "      <td>2.245673e+12</td>\n",
       "      <td>Brazil</td>\n",
       "      <td>1435148</td>\n",
       "    </tr>\n",
       "    <tr>\n",
       "      <th>4</th>\n",
       "      <td>South Africa</td>\n",
       "      <td>3.660579e+11</td>\n",
       "      <td>South Africa</td>\n",
       "      <td>233937</td>\n",
       "    </tr>\n",
       "  </tbody>\n",
       "</table>\n",
       "</div>"
      ],
      "text/plain": [
       "        Country     GDP (US$)    Country name  GDP (£m)\n",
       "0            UK  2.678455e+12  United Kingdom   1711727\n",
       "1           USA  1.676810e+13   United States  10716029\n",
       "2         China  9.240270e+12           China   5905202\n",
       "3        Brazil  2.245673e+12          Brazil   1435148\n",
       "4  South Africa  3.660579e+11    South Africa    233937"
      ]
     },
     "execution_count": 11,
     "metadata": {},
     "output_type": "execute_result"
    }
   ],
   "source": [
    "gdp['GDP (£m)'] = gdp['GDP (US$)'].apply(usdToGBP).apply(roundToMillions)\n",
    "gdp"
   ]
  },
  {
   "cell_type": "markdown",
   "metadata": {},
   "source": [
    "Applying the conversion functions in a different order will lead to a different result."
   ]
  },
  {
   "cell_type": "code",
   "execution_count": 12,
   "metadata": {},
   "outputs": [
    {
     "data": {
      "text/plain": [
       "0     1711727\n",
       "1    10716029\n",
       "2     5905201\n",
       "3     1435148\n",
       "4      233938\n",
       "Name: GDP (US$), dtype: int64"
      ]
     },
     "execution_count": 12,
     "metadata": {},
     "output_type": "execute_result"
    }
   ],
   "source": [
    "gdp['GDP (US$)'].apply(roundToMillions).apply(usdToGBP).apply(round)"
   ]
  },
  {
   "cell_type": "markdown",
   "metadata": {},
   "source": [
    "Now it’s just a matter of selecting the two new columns, as the original ones are no longer\n",
    "needed."
   ]
  },
  {
   "cell_type": "code",
   "execution_count": 13,
   "metadata": {},
   "outputs": [
    {
     "data": {
      "text/html": [
       "<div>\n",
       "<style scoped>\n",
       "    .dataframe tbody tr th:only-of-type {\n",
       "        vertical-align: middle;\n",
       "    }\n",
       "\n",
       "    .dataframe tbody tr th {\n",
       "        vertical-align: top;\n",
       "    }\n",
       "\n",
       "    .dataframe thead th {\n",
       "        text-align: right;\n",
       "    }\n",
       "</style>\n",
       "<table border=\"1\" class=\"dataframe\">\n",
       "  <thead>\n",
       "    <tr style=\"text-align: right;\">\n",
       "      <th></th>\n",
       "      <th>Country name</th>\n",
       "      <th>GDP (£m)</th>\n",
       "    </tr>\n",
       "  </thead>\n",
       "  <tbody>\n",
       "    <tr>\n",
       "      <th>0</th>\n",
       "      <td>United Kingdom</td>\n",
       "      <td>1711727</td>\n",
       "    </tr>\n",
       "    <tr>\n",
       "      <th>1</th>\n",
       "      <td>United States</td>\n",
       "      <td>10716029</td>\n",
       "    </tr>\n",
       "    <tr>\n",
       "      <th>2</th>\n",
       "      <td>China</td>\n",
       "      <td>5905202</td>\n",
       "    </tr>\n",
       "    <tr>\n",
       "      <th>3</th>\n",
       "      <td>Brazil</td>\n",
       "      <td>1435148</td>\n",
       "    </tr>\n",
       "    <tr>\n",
       "      <th>4</th>\n",
       "      <td>South Africa</td>\n",
       "      <td>233937</td>\n",
       "    </tr>\n",
       "  </tbody>\n",
       "</table>\n",
       "</div>"
      ],
      "text/plain": [
       "     Country name  GDP (£m)\n",
       "0  United Kingdom   1711727\n",
       "1   United States  10716029\n",
       "2           China   5905202\n",
       "3          Brazil   1435148\n",
       "4    South Africa    233937"
      ]
     },
     "execution_count": 13,
     "metadata": {},
     "output_type": "execute_result"
    }
   ],
   "source": [
    "headings = ['Country name', 'GDP (£m)']\n",
    "gdp = gdp[headings]\n",
    "gdp"
   ]
  },
  {
   "cell_type": "markdown",
   "metadata": {},
   "source": [
    "Note that method chaining only works if the methods chained return the same type of\n",
    "value as their context, in the same way that you can chain multiple arithmetic operators\n",
    "(e.g. 3+4-5) because each one takes two numbers and returns a number that is used by\n",
    "the next operator in the chain. In this course, methods only have two possible contexts,\n",
    "columns and dataframes, so you can either chain column methods that return a single\n",
    "column (that is a Series ), like apply() , or dataframe methods that return dataframes.\n",
    "For example, gdp.head(4).tail(2) is a dataframe just with China and Brazil, i.e. the\n",
    "last two of the first four rows of the dataframe shown above. You’ll see further examples of\n",
    "chaining (and an easier way to select multiple rows) in later modules."
   ]
  },
  {
   "cell_type": "markdown",
   "metadata": {},
   "source": [
    "### Task\n",
    "\n",
    "Take the dataframe you created for earlier, and apply to its population column the rounding function you wrote."
   ]
  }
 ],
 "metadata": {
  "kernelspec": {
   "display_name": "Python 3",
   "language": "python",
   "name": "python3"
  },
  "language_info": {
   "codemirror_mode": {
    "name": "ipython",
    "version": 3
   },
   "file_extension": ".py",
   "mimetype": "text/x-python",
   "name": "python",
   "nbconvert_exporter": "python",
   "pygments_lexer": "ipython3",
   "version": "3.8.8"
  }
 },
 "nbformat": 4,
 "nbformat_minor": 1
}
